{
  "nbformat": 4,
  "nbformat_minor": 0,
  "metadata": {
    "colab": {
      "provenance": [],
      "gpuType": "T4",
      "mount_file_id": "15GRbgd_FyLux-2WUj5h08PcpxWTIGT4Y",
      "authorship_tag": "ABX9TyNvQAaPncH3BesbG0pj+kvJ",
      "include_colab_link": true
    },
    "kernelspec": {
      "name": "python3",
      "display_name": "Python 3"
    },
    "language_info": {
      "name": "python"
    },
    "accelerator": "GPU",
    "widgets": {
      "application/vnd.jupyter.widget-state+json": {
        "ccb663e92575473e9162c5b93c81adea": {
          "model_module": "@jupyter-widgets/controls",
          "model_name": "HBoxModel",
          "model_module_version": "1.5.0",
          "state": {
            "_dom_classes": [],
            "_model_module": "@jupyter-widgets/controls",
            "_model_module_version": "1.5.0",
            "_model_name": "HBoxModel",
            "_view_count": null,
            "_view_module": "@jupyter-widgets/controls",
            "_view_module_version": "1.5.0",
            "_view_name": "HBoxView",
            "box_style": "",
            "children": [
              "IPY_MODEL_b6732c3b1a0148fc94ca84426eafa11b",
              "IPY_MODEL_2b5869a2bfe540b3b3c54583f5b45509",
              "IPY_MODEL_3a96319d18e44a5ba8e3584c3da66950"
            ],
            "layout": "IPY_MODEL_ab825af34f1a4df2bfafc01b9d9c4c60"
          }
        },
        "b6732c3b1a0148fc94ca84426eafa11b": {
          "model_module": "@jupyter-widgets/controls",
          "model_name": "HTMLModel",
          "model_module_version": "1.5.0",
          "state": {
            "_dom_classes": [],
            "_model_module": "@jupyter-widgets/controls",
            "_model_module_version": "1.5.0",
            "_model_name": "HTMLModel",
            "_view_count": null,
            "_view_module": "@jupyter-widgets/controls",
            "_view_module_version": "1.5.0",
            "_view_name": "HTMLView",
            "description": "",
            "description_tooltip": null,
            "layout": "IPY_MODEL_bf5c79ada4174be18107b50ddeb5c4e4",
            "placeholder": "​",
            "style": "IPY_MODEL_b7e36b1527124c42a9a941ef46f6e2d7",
            "value": "100%"
          }
        },
        "2b5869a2bfe540b3b3c54583f5b45509": {
          "model_module": "@jupyter-widgets/controls",
          "model_name": "FloatProgressModel",
          "model_module_version": "1.5.0",
          "state": {
            "_dom_classes": [],
            "_model_module": "@jupyter-widgets/controls",
            "_model_module_version": "1.5.0",
            "_model_name": "FloatProgressModel",
            "_view_count": null,
            "_view_module": "@jupyter-widgets/controls",
            "_view_module_version": "1.5.0",
            "_view_name": "ProgressView",
            "bar_style": "success",
            "description": "",
            "description_tooltip": null,
            "layout": "IPY_MODEL_334ba32f6b134386be5812cbc2dacbc3",
            "max": 100000,
            "min": 0,
            "orientation": "horizontal",
            "style": "IPY_MODEL_93711cbc50064d84b77db079327e9ea7",
            "value": 100000
          }
        },
        "3a96319d18e44a5ba8e3584c3da66950": {
          "model_module": "@jupyter-widgets/controls",
          "model_name": "HTMLModel",
          "model_module_version": "1.5.0",
          "state": {
            "_dom_classes": [],
            "_model_module": "@jupyter-widgets/controls",
            "_model_module_version": "1.5.0",
            "_model_name": "HTMLModel",
            "_view_count": null,
            "_view_module": "@jupyter-widgets/controls",
            "_view_module_version": "1.5.0",
            "_view_name": "HTMLView",
            "description": "",
            "description_tooltip": null,
            "layout": "IPY_MODEL_ab784178f256486e968b41499303be0f",
            "placeholder": "​",
            "style": "IPY_MODEL_1932e00bd7b84a07b40c0700a49f6d67",
            "value": " 100000/100000 [59:55&lt;00:00, 28.48it/s]"
          }
        },
        "ab825af34f1a4df2bfafc01b9d9c4c60": {
          "model_module": "@jupyter-widgets/base",
          "model_name": "LayoutModel",
          "model_module_version": "1.2.0",
          "state": {
            "_model_module": "@jupyter-widgets/base",
            "_model_module_version": "1.2.0",
            "_model_name": "LayoutModel",
            "_view_count": null,
            "_view_module": "@jupyter-widgets/base",
            "_view_module_version": "1.2.0",
            "_view_name": "LayoutView",
            "align_content": null,
            "align_items": null,
            "align_self": null,
            "border": null,
            "bottom": null,
            "display": null,
            "flex": null,
            "flex_flow": null,
            "grid_area": null,
            "grid_auto_columns": null,
            "grid_auto_flow": null,
            "grid_auto_rows": null,
            "grid_column": null,
            "grid_gap": null,
            "grid_row": null,
            "grid_template_areas": null,
            "grid_template_columns": null,
            "grid_template_rows": null,
            "height": null,
            "justify_content": null,
            "justify_items": null,
            "left": null,
            "margin": null,
            "max_height": null,
            "max_width": null,
            "min_height": null,
            "min_width": null,
            "object_fit": null,
            "object_position": null,
            "order": null,
            "overflow": null,
            "overflow_x": null,
            "overflow_y": null,
            "padding": null,
            "right": null,
            "top": null,
            "visibility": null,
            "width": null
          }
        },
        "bf5c79ada4174be18107b50ddeb5c4e4": {
          "model_module": "@jupyter-widgets/base",
          "model_name": "LayoutModel",
          "model_module_version": "1.2.0",
          "state": {
            "_model_module": "@jupyter-widgets/base",
            "_model_module_version": "1.2.0",
            "_model_name": "LayoutModel",
            "_view_count": null,
            "_view_module": "@jupyter-widgets/base",
            "_view_module_version": "1.2.0",
            "_view_name": "LayoutView",
            "align_content": null,
            "align_items": null,
            "align_self": null,
            "border": null,
            "bottom": null,
            "display": null,
            "flex": null,
            "flex_flow": null,
            "grid_area": null,
            "grid_auto_columns": null,
            "grid_auto_flow": null,
            "grid_auto_rows": null,
            "grid_column": null,
            "grid_gap": null,
            "grid_row": null,
            "grid_template_areas": null,
            "grid_template_columns": null,
            "grid_template_rows": null,
            "height": null,
            "justify_content": null,
            "justify_items": null,
            "left": null,
            "margin": null,
            "max_height": null,
            "max_width": null,
            "min_height": null,
            "min_width": null,
            "object_fit": null,
            "object_position": null,
            "order": null,
            "overflow": null,
            "overflow_x": null,
            "overflow_y": null,
            "padding": null,
            "right": null,
            "top": null,
            "visibility": null,
            "width": null
          }
        },
        "b7e36b1527124c42a9a941ef46f6e2d7": {
          "model_module": "@jupyter-widgets/controls",
          "model_name": "DescriptionStyleModel",
          "model_module_version": "1.5.0",
          "state": {
            "_model_module": "@jupyter-widgets/controls",
            "_model_module_version": "1.5.0",
            "_model_name": "DescriptionStyleModel",
            "_view_count": null,
            "_view_module": "@jupyter-widgets/base",
            "_view_module_version": "1.2.0",
            "_view_name": "StyleView",
            "description_width": ""
          }
        },
        "334ba32f6b134386be5812cbc2dacbc3": {
          "model_module": "@jupyter-widgets/base",
          "model_name": "LayoutModel",
          "model_module_version": "1.2.0",
          "state": {
            "_model_module": "@jupyter-widgets/base",
            "_model_module_version": "1.2.0",
            "_model_name": "LayoutModel",
            "_view_count": null,
            "_view_module": "@jupyter-widgets/base",
            "_view_module_version": "1.2.0",
            "_view_name": "LayoutView",
            "align_content": null,
            "align_items": null,
            "align_self": null,
            "border": null,
            "bottom": null,
            "display": null,
            "flex": null,
            "flex_flow": null,
            "grid_area": null,
            "grid_auto_columns": null,
            "grid_auto_flow": null,
            "grid_auto_rows": null,
            "grid_column": null,
            "grid_gap": null,
            "grid_row": null,
            "grid_template_areas": null,
            "grid_template_columns": null,
            "grid_template_rows": null,
            "height": null,
            "justify_content": null,
            "justify_items": null,
            "left": null,
            "margin": null,
            "max_height": null,
            "max_width": null,
            "min_height": null,
            "min_width": null,
            "object_fit": null,
            "object_position": null,
            "order": null,
            "overflow": null,
            "overflow_x": null,
            "overflow_y": null,
            "padding": null,
            "right": null,
            "top": null,
            "visibility": null,
            "width": null
          }
        },
        "93711cbc50064d84b77db079327e9ea7": {
          "model_module": "@jupyter-widgets/controls",
          "model_name": "ProgressStyleModel",
          "model_module_version": "1.5.0",
          "state": {
            "_model_module": "@jupyter-widgets/controls",
            "_model_module_version": "1.5.0",
            "_model_name": "ProgressStyleModel",
            "_view_count": null,
            "_view_module": "@jupyter-widgets/base",
            "_view_module_version": "1.2.0",
            "_view_name": "StyleView",
            "bar_color": null,
            "description_width": ""
          }
        },
        "ab784178f256486e968b41499303be0f": {
          "model_module": "@jupyter-widgets/base",
          "model_name": "LayoutModel",
          "model_module_version": "1.2.0",
          "state": {
            "_model_module": "@jupyter-widgets/base",
            "_model_module_version": "1.2.0",
            "_model_name": "LayoutModel",
            "_view_count": null,
            "_view_module": "@jupyter-widgets/base",
            "_view_module_version": "1.2.0",
            "_view_name": "LayoutView",
            "align_content": null,
            "align_items": null,
            "align_self": null,
            "border": null,
            "bottom": null,
            "display": null,
            "flex": null,
            "flex_flow": null,
            "grid_area": null,
            "grid_auto_columns": null,
            "grid_auto_flow": null,
            "grid_auto_rows": null,
            "grid_column": null,
            "grid_gap": null,
            "grid_row": null,
            "grid_template_areas": null,
            "grid_template_columns": null,
            "grid_template_rows": null,
            "height": null,
            "justify_content": null,
            "justify_items": null,
            "left": null,
            "margin": null,
            "max_height": null,
            "max_width": null,
            "min_height": null,
            "min_width": null,
            "object_fit": null,
            "object_position": null,
            "order": null,
            "overflow": null,
            "overflow_x": null,
            "overflow_y": null,
            "padding": null,
            "right": null,
            "top": null,
            "visibility": null,
            "width": null
          }
        },
        "1932e00bd7b84a07b40c0700a49f6d67": {
          "model_module": "@jupyter-widgets/controls",
          "model_name": "DescriptionStyleModel",
          "model_module_version": "1.5.0",
          "state": {
            "_model_module": "@jupyter-widgets/controls",
            "_model_module_version": "1.5.0",
            "_model_name": "DescriptionStyleModel",
            "_view_count": null,
            "_view_module": "@jupyter-widgets/base",
            "_view_module_version": "1.2.0",
            "_view_name": "StyleView",
            "description_width": ""
          }
        }
      }
    }
  },
  "cells": [
    {
      "cell_type": "markdown",
      "metadata": {
        "id": "view-in-github",
        "colab_type": "text"
      },
      "source": [
        "<a href=\"https://colab.research.google.com/github/solobala/DLL30/blob/main/DLL30_DZ6_1.ipynb\" target=\"_parent\"><img src=\"https://colab.research.google.com/assets/colab-badge.svg\" alt=\"Open In Colab\"/></a>"
      ]
    },
    {
      "cell_type": "markdown",
      "source": [
        "# Домашнее задание по теме «Рекуррентные сети»"
      ],
      "metadata": {
        "id": "VQOOc06JRkiZ"
      }
    },
    {
      "cell_type": "markdown",
      "source": [
        "Преподаватель: Даниил Корбут, Алексей Миронов, Татьяна Булгакова, Светлана Медведева, Артём Качалкин, Никита Селин\n"
      ],
      "metadata": {
        "id": "Z9iudIOpRjPg"
      }
    },
    {
      "cell_type": "markdown",
      "source": [
        "# Задание 1. Обучите нейронную сеть решать шифр Цезаря"
      ],
      "metadata": {
        "id": "1iwPd4nNWkIj"
      }
    },
    {
      "cell_type": "markdown",
      "source": [
        "# Импорт библиотек и пользовательские функции"
      ],
      "metadata": {
        "id": "CbBr_ArETMS7"
      }
    },
    {
      "cell_type": "code",
      "source": [
        "import os\n",
        "os.environ['CUDA_LAUNCH_BLOCKING'] = '1'\n",
        "from sklearn.model_selection import train_test_split"
      ],
      "metadata": {
        "id": "upvRqICJjVOT"
      },
      "execution_count": 1,
      "outputs": []
    },
    {
      "cell_type": "code",
      "source": [
        "from google.colab import drive\n",
        "from google.colab import files"
      ],
      "metadata": {
        "id": "EvpZdrSmDqiu"
      },
      "execution_count": 2,
      "outputs": []
    },
    {
      "cell_type": "code",
      "source": [
        "from time import time\n",
        "import math\n",
        "import string\n",
        "import random\n",
        "from tqdm.notebook import tqdm\n",
        "from pathlib import Path\n",
        "import re"
      ],
      "metadata": {
        "id": "cfzlxbz4yrgF"
      },
      "execution_count": 3,
      "outputs": []
    },
    {
      "cell_type": "code",
      "source": [
        "import torch\n",
        "import torch.nn as nn\n",
        "import torch.optim as optim"
      ],
      "metadata": {
        "id": "0oas3SecTKXu"
      },
      "execution_count": 4,
      "outputs": []
    },
    {
      "cell_type": "code",
      "source": [
        "import warnings\n",
        "warnings.filterwarnings('ignore')"
      ],
      "metadata": {
        "id": "xkW6LPxmv3Nf"
      },
      "execution_count": 5,
      "outputs": []
    },
    {
      "cell_type": "code",
      "source": [
        "# Параметры обучения\n",
        "K = 10 # максимальный сдвиг. В этом случае accuracy не превышает 50%, даже если запихнуть сдвиг в параметры модели и подготовить большой обучающий датасет  спримерами с разными сдвигами\n",
        "\n",
        "SEED = 1234\n",
        "BATCH_SIZE = 50\n",
        "random.seed(SEED)\n",
        "MAX_LEN = 50  # мы хотим ограничить максимальную длину ввода"
      ],
      "metadata": {
        "id": "eqewQAlBUHBU"
      },
      "execution_count": 6,
      "outputs": []
    },
    {
      "cell_type": "code",
      "source": [
        "device = torch.device(\"cuda\" if torch.cuda.is_available() else \"cpu\")\n",
        "if device=='cpu':\n",
        "  torch.manual_seed(SEED)\n",
        "else:\n",
        "  torch.cuda.manual_seed(SEED)\n",
        "  torch.backends.cudnn.deterministic = True"
      ],
      "metadata": {
        "id": "L3hulc68tSJg"
      },
      "execution_count": 7,
      "outputs": []
    },
    {
      "cell_type": "code",
      "source": [
        "device"
      ],
      "metadata": {
        "colab": {
          "base_uri": "https://localhost:8080/"
        },
        "id": "yQlYqcruBK6t",
        "outputId": "c1b4e6b2-0876-45eb-9946-14100002437b"
      },
      "execution_count": 8,
      "outputs": [
        {
          "output_type": "execute_result",
          "data": {
            "text/plain": [
              "device(type='cuda')"
            ]
          },
          "metadata": {},
          "execution_count": 8
        }
      ]
    },
    {
      "cell_type": "code",
      "source": [
        "all_letters='абвгдежзийклмнопрстуфхцчшщъыьэюя '\n",
        "CHARS = list(all_letters)  # все символы, которые мы хотим использовать для кодировки = наш словарь\n",
        "INDEX_TO_CHAR =[w for w in CHARS]  # все неизвестные символы будут получать тег none\n",
        "CHAR_TO_INDEX = {w: i for i, w in enumerate(INDEX_TO_CHAR)}  # словарь токен-индекс\n"
      ],
      "metadata": {
        "id": "ShPE2Tuhsby8"
      },
      "execution_count": 9,
      "outputs": []
    },
    {
      "cell_type": "code",
      "source": [
        "INDEX_TO_CHAR"
      ],
      "metadata": {
        "colab": {
          "base_uri": "https://localhost:8080/"
        },
        "id": "CByt_n9PvVDS",
        "outputId": "89eb9994-34c8-4778-ae9d-ebfee93ab3ac"
      },
      "execution_count": 10,
      "outputs": [
        {
          "output_type": "execute_result",
          "data": {
            "text/plain": [
              "['а',\n",
              " 'б',\n",
              " 'в',\n",
              " 'г',\n",
              " 'д',\n",
              " 'е',\n",
              " 'ж',\n",
              " 'з',\n",
              " 'и',\n",
              " 'й',\n",
              " 'к',\n",
              " 'л',\n",
              " 'м',\n",
              " 'н',\n",
              " 'о',\n",
              " 'п',\n",
              " 'р',\n",
              " 'с',\n",
              " 'т',\n",
              " 'у',\n",
              " 'ф',\n",
              " 'х',\n",
              " 'ц',\n",
              " 'ч',\n",
              " 'ш',\n",
              " 'щ',\n",
              " 'ъ',\n",
              " 'ы',\n",
              " 'ь',\n",
              " 'э',\n",
              " 'ю',\n",
              " 'я',\n",
              " ' ']"
            ]
          },
          "metadata": {},
          "execution_count": 10
        }
      ]
    },
    {
      "cell_type": "code",
      "source": [
        "CHAR_TO_INDEX"
      ],
      "metadata": {
        "colab": {
          "base_uri": "https://localhost:8080/"
        },
        "id": "HCCpfoSPvbj2",
        "outputId": "7910f3c5-8201-480a-8c64-2eede0d4c666"
      },
      "execution_count": 11,
      "outputs": [
        {
          "output_type": "execute_result",
          "data": {
            "text/plain": [
              "{'а': 0,\n",
              " 'б': 1,\n",
              " 'в': 2,\n",
              " 'г': 3,\n",
              " 'д': 4,\n",
              " 'е': 5,\n",
              " 'ж': 6,\n",
              " 'з': 7,\n",
              " 'и': 8,\n",
              " 'й': 9,\n",
              " 'к': 10,\n",
              " 'л': 11,\n",
              " 'м': 12,\n",
              " 'н': 13,\n",
              " 'о': 14,\n",
              " 'п': 15,\n",
              " 'р': 16,\n",
              " 'с': 17,\n",
              " 'т': 18,\n",
              " 'у': 19,\n",
              " 'ф': 20,\n",
              " 'х': 21,\n",
              " 'ц': 22,\n",
              " 'ч': 23,\n",
              " 'ш': 24,\n",
              " 'щ': 25,\n",
              " 'ъ': 26,\n",
              " 'ы': 27,\n",
              " 'ь': 28,\n",
              " 'э': 29,\n",
              " 'ю': 30,\n",
              " 'я': 31,\n",
              " ' ': 32}"
            ]
          },
          "metadata": {},
          "execution_count": 11
        }
      ]
    },
    {
      "cell_type": "code",
      "source": [
        "n_letters = len(all_letters)\n",
        "n_letters"
      ],
      "metadata": {
        "colab": {
          "base_uri": "https://localhost:8080/"
        },
        "id": "vArtIVbNqx09",
        "outputId": "544cd1bd-bc22-4b52-acc5-637e67e29c4b"
      },
      "execution_count": 12,
      "outputs": [
        {
          "output_type": "execute_result",
          "data": {
            "text/plain": [
              "33"
            ]
          },
          "metadata": {},
          "execution_count": 12
        }
      ]
    },
    {
      "cell_type": "code",
      "source": [
        "len(CHARS)"
      ],
      "metadata": {
        "colab": {
          "base_uri": "https://localhost:8080/"
        },
        "id": "IKELvHwdJzBB",
        "outputId": "50b0ef37-7035-41ad-c9d2-ea512bc91352"
      },
      "execution_count": 13,
      "outputs": [
        {
          "output_type": "execute_result",
          "data": {
            "text/plain": [
              "33"
            ]
          },
          "metadata": {},
          "execution_count": 13
        }
      ]
    },
    {
      "cell_type": "markdown",
      "source": [
        "\n",
        "**Алгоритм шифра Цезаря для генерации выборки:**\n",
        "\n",
        "1\\. Создаем словарь, где ключами будут буквы алфавита, а значениями \\- их порядковые номера \\(например, \\{'А': 0, 'Б': 1, 'В': 2, \\.\\.\\.\\}\\)\n",
        "\n",
        "2\\. Создаем функцию для шифрования текста с помощью шифра Цезаря\\. Функция принимает на вход текст и параметр К \\(сдвиг\\), и возвращает зашифрованный текст\\. Для этого мы проходим по каждой букве в тексте и заменяем ее на букву, которая находится на К позиций правее в алфавите\\. Если при этом мы выходим за пределы алфавита, то начинаем заново с первой буквы \\(например, при К\\=2 буква “Я” заменяется на букву “А”\\)\\.\n",
        "\n",
        "3\\. Создаем функцию для генерации выборки\\. Функция принимает на вход количество примеров \\(N\\) и максимальный сдвиг \\(K\\)\\. Затем мы генерируем N случайных строк длиной от 5 до 20 символов, выбираем для каждой строки случайный сдвиг от 1 до K и шифруем ее с помощью функции из пункта 2\\. В качестве ответа сохраняем дешифрованную строку\\.\n",
        "\n",
        "\n",
        "\n"
      ],
      "metadata": {
        "id": "BuUV9pyBSo6Q"
      }
    },
    {
      "cell_type": "code",
      "source": [
        "# Функция шифрования текста с помощью шифра Цезаря\n",
        "def caesar_encrypt(text, k):\n",
        "    \"\"\"функция для шифрования текста с помощью шифра Цезаря.\n",
        "    Функция принимает на вход текст и параметр К (сдвиг), и возвращает зашифрованный текст\"\"\"\n",
        "    cipher_text = ''\n",
        "    for letter in text:\n",
        "        if letter in CHARS:\n",
        "            index = (CHARS.index(letter) + k) % len(CHARS)\n",
        "            cipher_text += CHARS[index]\n",
        "        else:\n",
        "            cipher_text += letter\n",
        "    return cipher_text"
      ],
      "metadata": {
        "id": "7F_EdcGgTlDb"
      },
      "execution_count": 14,
      "outputs": []
    },
    {
      "cell_type": "code",
      "source": [
        "caesar_encrypt('я', 3) # проверка"
      ],
      "metadata": {
        "colab": {
          "base_uri": "https://localhost:8080/",
          "height": 36
        },
        "id": "P2Yh0_IueVIU",
        "outputId": "9c71840d-d367-4ee8-cf5b-64e1107a4de9"
      },
      "execution_count": 15,
      "outputs": [
        {
          "output_type": "execute_result",
          "data": {
            "text/plain": [
              "'б'"
            ],
            "application/vnd.google.colaboratory.intrinsic+json": {
              "type": "string"
            }
          },
          "metadata": {},
          "execution_count": 15
        }
      ]
    },
    {
      "cell_type": "code",
      "source": [
        "def caesar_decrypt(ciphertext, shift):\n",
        "    \"\"\"\n",
        "    Функция  дешифровки - справочно.\n",
        "    \"\"\"\n",
        "    plaintext = \"\"\n",
        "    for char in ciphertext:\n",
        "      i = INDEX_TO_CHAR.index(char)\n",
        "      j = i - shift\n",
        "      if j < 0:\n",
        "        j +=33\n",
        "      decrypted_char = INDEX_TO_CHAR[j]\n",
        "      plaintext += decrypted_char\n",
        "    return plaintext"
      ],
      "metadata": {
        "id": "YgT8ArNEvs6m"
      },
      "execution_count": 16,
      "outputs": []
    },
    {
      "cell_type": "code",
      "source": [
        "caesar_decrypt('б', 3) # проверка"
      ],
      "metadata": {
        "colab": {
          "base_uri": "https://localhost:8080/",
          "height": 36
        },
        "id": "Cnhy2L54colJ",
        "outputId": "d5bdc698-1e45-46b8-810f-5fda057a121e"
      },
      "execution_count": 17,
      "outputs": [
        {
          "output_type": "execute_result",
          "data": {
            "text/plain": [
              "'я'"
            ],
            "application/vnd.google.colaboratory.intrinsic+json": {
              "type": "string"
            }
          },
          "metadata": {},
          "execution_count": 17
        }
      ]
    },
    {
      "cell_type": "markdown",
      "source": [
        "# Загрузка данных"
      ],
      "metadata": {
        "id": "4JPRGF10D-2z"
      }
    },
    {
      "cell_type": "code",
      "source": [
        "# для обучения модели используем  книгу Ольги Громыко \"Киборг и его лесник\"\n",
        "drive.mount('/content/drive')\n",
        "with open(Path('/content/drive/MyDrive/Gromyko_Kosmooluhi_6.txt'), 'r', encoding=\"utf-8\") as f1:\n",
        "    all_text = f1.read().lower()\n"
      ],
      "metadata": {
        "colab": {
          "base_uri": "https://localhost:8080/"
        },
        "id": "Axq4eKw6EDSW",
        "outputId": "380f2a99-ef98-4796-f5f9-2f2d36c0c54c"
      },
      "execution_count": 18,
      "outputs": [
        {
          "output_type": "stream",
          "name": "stdout",
          "text": [
            "Mounted at /content/drive\n"
          ]
        }
      ]
    },
    {
      "cell_type": "code",
      "source": [
        "all_text[:350]"
      ],
      "metadata": {
        "colab": {
          "base_uri": "https://localhost:8080/",
          "height": 54
        },
        "id": "K5bYdL1LGCkQ",
        "outputId": "f26fb479-8375-46a2-bdc5-951e1080243d"
      },
      "execution_count": 19,
      "outputs": [
        {
          "output_type": "execute_result",
          "data": {
            "text/plain": [
              "'ольга громыко\\n\\nкиборг и его лесник\\n\\n«уважаемый евгений николаевич!\\n\\nфинансовое управление североомлошского лесничества сообщает, что в настоящее время выделить денежные средства на покупку служебного киборга не представляется возможным в связи с отсутствием свободных денежных средств.\\n\\nзаместитель главы сол полещук григорий борисович».\\n\\nвнизу было '"
            ],
            "application/vnd.google.colaboratory.intrinsic+json": {
              "type": "string"
            }
          },
          "metadata": {},
          "execution_count": 19
        }
      ]
    },
    {
      "cell_type": "code",
      "source": [
        "# Делим текст на строки, удаляем пустые строки, обрезаем каждое предложение до MAX_LEN символов\n",
        "plain_sentences = all_text.split('\\n')\n"
      ],
      "metadata": {
        "id": "2N_tf8NIKuwP"
      },
      "execution_count": 20,
      "outputs": []
    },
    {
      "cell_type": "code",
      "source": [
        "# Удаляем все символы, кроме кириллицы и пробелов\n",
        "pattern = re.compile('[^а-я\\s]+')\n",
        "for i in range(len(plain_sentences)):\n",
        "    plain_sentences[i] = re.sub(pattern, '', plain_sentences[i])\n",
        "    plain_sentences[i].strip()"
      ],
      "metadata": {
        "id": "wzoleOktprOu"
      },
      "execution_count": 21,
      "outputs": []
    },
    {
      "cell_type": "code",
      "source": [
        "# Заеменяем несколько подряд стоящих пробелов на 1\n",
        "pattern = re.compile('[\\s\\s]+')\n",
        "for i in range(len(plain_sentences)):\n",
        "    plain_sentences[i] = re.sub(pattern, ' ', plain_sentences[i])\n",
        "    plain_sentences[i].strip()"
      ],
      "metadata": {
        "id": "wye8ycZWWpUa"
      },
      "execution_count": 22,
      "outputs": []
    },
    {
      "cell_type": "code",
      "source": [
        "plain_sentences = [x[:MAX_LEN] for x in plain_sentences if x != '']"
      ],
      "metadata": {
        "id": "VPsxKGD4d_cx"
      },
      "execution_count": 23,
      "outputs": []
    },
    {
      "cell_type": "code",
      "source": [
        "# # Добавляем в конец пробелы для достижения строкой длины MAX_LEN\n",
        "# plain_sentences = [x + ' ' * (MAX_LEN - len(x)) for x in plain_sentences if len(x) < MAX_LEN]"
      ],
      "metadata": {
        "id": "JfHMrQjC-e3A"
      },
      "execution_count": null,
      "outputs": []
    },
    {
      "cell_type": "code",
      "source": [
        "for i in range(len(plain_sentences)):\n",
        "    plain_sentences[i].strip()"
      ],
      "metadata": {
        "id": "icEFVaGTc424"
      },
      "execution_count": 24,
      "outputs": []
    },
    {
      "cell_type": "code",
      "source": [
        "plain_sentences[8:20]"
      ],
      "metadata": {
        "colab": {
          "base_uri": "https://localhost:8080/"
        },
        "id": "NWc68tQLK8MP",
        "outputId": "5af22d4d-9c8b-40d9-b948-ca913c46058b"
      },
      "execution_count": 25,
      "outputs": [
        {
          "output_type": "execute_result",
          "data": {
            "text/plain": [
              "['насквозь промокший с раскалывающейся башкой злой к',\n",
              " 'уволюсь злобно подумал женька уволюсь к чертовой м',\n",
              " 'башка до сих пор гудела в месте удара прощупывалос',\n",
              " 'поплескав в лицо холодной водой и немного очухавши',\n",
              " 'снаружи уже рассвело хотя ленивое эдемское солнце ',\n",
              " 'если конечно у них не было киборгов',\n",
              " 'пойду на обход может развеюсь решил женька вытаски',\n",
              " 'женька покосился на холодильник обход мог растянут',\n",
              " 'сунув в кобуру станнер а в ножны профессиональный ',\n",
              " 'женька напоследок окинул взглядом свое скромное хо',\n",
              " 'в десяти метрах от него стоял матерый двухсоткилог',\n",
              " 'несколько секунд зверь и лесник буравили друг друг']"
            ]
          },
          "metadata": {},
          "execution_count": 25
        }
      ]
    },
    {
      "cell_type": "code",
      "source": [
        "train_plain_sentences, test_plain_sentences = train_test_split(plain_sentences, test_size=0.2, random_state=random.seed(SEED))"
      ],
      "metadata": {
        "id": "1RCaU5hVHVn-"
      },
      "execution_count": 26,
      "outputs": []
    },
    {
      "cell_type": "code",
      "source": [
        "def make_cypher_dict(plain_sentences):\n",
        "  # Готовим датасет для обучения модели. Сдвиг - в границах от 1 до 9 включительно,\n",
        "  # поэтому словарь зашифрованных строк будет иметь ключи от 1 до 9\n",
        "  # и значения - строки, зашифрованные на этих ключах\n",
        "  cypher_sentences = dict()\n",
        "  v1, v2, v3, v4, v5, v6, v7, v8, v9 = [],[],[],[],[],[],[],[],[]\n",
        "  for item in plain_sentences:\n",
        "    # k = random.randint(1, K) # Закомментировано для проверки, измениться ли loss и accuracy для единственного значения сдвига\n",
        "    k = 2\n",
        "    cipher_item = caesar_encrypt(item, k)\n",
        "    if k == 1:\n",
        "        v1.append(cipher_item)\n",
        "    elif k == 2:\n",
        "        v2.append(cipher_item)\n",
        "    elif k == 3:\n",
        "        v3.append(cipher_item)\n",
        "    elif k == 4:\n",
        "        v4.append(cipher_item)\n",
        "    elif k == 5:\n",
        "        v5.append(cipher_item)\n",
        "    elif k == 6:\n",
        "        v6.append(cipher_item)\n",
        "    elif k == 7:\n",
        "        v7.append(cipher_item)\n",
        "    elif k == 8:\n",
        "        v8.append(cipher_item)\n",
        "    elif k == 9:\n",
        "        v9.append(cipher_item)\n",
        "  cypher_sentences[\"1\"] = v1\n",
        "  cypher_sentences[\"2\"] = v2\n",
        "  cypher_sentences[\"3\"] = v3\n",
        "  cypher_sentences[\"4\"] = v4\n",
        "  cypher_sentences[\"5\"] = v5\n",
        "  cypher_sentences[\"6\"] = v6\n",
        "  cypher_sentences[\"7\"] = v7\n",
        "  cypher_sentences[\"8\"] = v8\n",
        "  cypher_sentences[\"9\"] = v9\n",
        "  return cypher_sentences"
      ],
      "metadata": {
        "id": "vA4YBPvlH8qv"
      },
      "execution_count": 27,
      "outputs": []
    },
    {
      "cell_type": "code",
      "source": [
        "train_cypher_sentences = make_cypher_dict(train_plain_sentences)\n",
        "test_cypher_sentences = make_cypher_dict(test_plain_sentences)"
      ],
      "metadata": {
        "id": "WbGHUnN0UqEX"
      },
      "execution_count": 28,
      "outputs": []
    },
    {
      "cell_type": "code",
      "source": [
        "train_cypher_sentences[\"2\"][8:15]"
      ],
      "metadata": {
        "colab": {
          "base_uri": "https://localhost:8080/"
        },
        "id": "TjtyeMvcrBGl",
        "outputId": "200d0e4d-654c-41bb-cf97-3d0b006fecfc"
      },
      "execution_count": 29,
      "outputs": [
        {
          "output_type": "execute_result",
          "data": {
            "text/plain": [
              "['узержпабнзупкмбстрнрикнбовтътхфбсрбрсхъмвобджрнюбц',\n",
              " 'унзжх ыкобтэдмробнзупкмвбдйжзтпхнкбпвбпрекбфхфбизб',\n",
              " 'фрфбрмвйвнуабпвбсртажрмбунрипззбусхумвбтхмкбкбпрек',\n",
              " 'жвнюпзлъззбтвуунзжрдвпкзбсрмвйвнрбщфрбудрнрщюбстръ',\n",
              " 'сткънруюбутрщпрбргртвщкдвфюуабмбозпюъзохбйнхбкбжзн',\n",
              " 'бмхскбпрдх бумрдртржмхбхбяфрлбснрчрзбфзтортвустзжз',\n",
              " 'бфзгзбяфрбпкщзербпзбпвсрокпвзф']"
            ]
          },
          "metadata": {},
          "execution_count": 29
        }
      ]
    },
    {
      "cell_type": "code",
      "source": [
        "# Убедимся, что в датасете примерно равное к-во строк, зашифрованных на разных ключах\n",
        "for key, value in train_cypher_sentences.items():\n",
        "  print (key, len(value))"
      ],
      "metadata": {
        "colab": {
          "base_uri": "https://localhost:8080/"
        },
        "id": "X1yMG4B-aGFb",
        "outputId": "c0cfba02-73b3-4ec2-f039-af46c95b19b3"
      },
      "execution_count": 30,
      "outputs": [
        {
          "output_type": "stream",
          "name": "stdout",
          "text": [
            "1 0\n",
            "2 4124\n",
            "3 0\n",
            "4 0\n",
            "5 0\n",
            "6 0\n",
            "7 0\n",
            "8 0\n",
            "9 0\n"
          ]
        }
      ]
    },
    {
      "cell_type": "code",
      "source": [
        "len(plain_sentences)"
      ],
      "metadata": {
        "colab": {
          "base_uri": "https://localhost:8080/"
        },
        "id": "-plK0PccCGF2",
        "outputId": "3ae644db-0b70-4bc2-d6cf-806a07ea727f"
      },
      "execution_count": 31,
      "outputs": [
        {
          "output_type": "execute_result",
          "data": {
            "text/plain": [
              "5156"
            ]
          },
          "metadata": {},
          "execution_count": 31
        }
      ]
    },
    {
      "cell_type": "code",
      "source": [
        "# all_categories =[str(i) for i in range(1,10)]\n",
        "all_categories = ['2']\n",
        "all_categories"
      ],
      "metadata": {
        "colab": {
          "base_uri": "https://localhost:8080/"
        },
        "id": "ke49v4AxSwxI",
        "outputId": "7f47d906-bc8d-472c-b2a8-15623d49e6ac"
      },
      "execution_count": 33,
      "outputs": [
        {
          "output_type": "execute_result",
          "data": {
            "text/plain": [
              "['2']"
            ]
          },
          "metadata": {},
          "execution_count": 33
        }
      ]
    },
    {
      "cell_type": "code",
      "source": [
        "n_categories = len(all_categories)"
      ],
      "metadata": {
        "id": "AAHUWdlssOOX"
      },
      "execution_count": 34,
      "outputs": []
    },
    {
      "cell_type": "code",
      "source": [
        "# Особенность модели - и в скрытое состояние, и в output добавлен вектор категорий\n",
        "class NameGeneratorModule(nn.Module):\n",
        "    def __init__(self, inp_size, hid_size, op_size):\n",
        "        super(NameGeneratorModule, self).__init__()\n",
        "        self.hid_size = hid_size\n",
        "        self.inp_size = inp_size\n",
        "        self.op_size = op_size\n",
        "\n",
        "        self.i2h = nn.Linear(n_categories + inp_size + hid_size, hid_size)\n",
        "        self.i2o = nn.Linear(n_categories + inp_size + hid_size, op_size)\n",
        "        self.o2o = nn.Linear(hid_size + op_size, op_size)\n",
        "        self.dropout = nn.Dropout(0.1)\n",
        "        # self.softmax = nn.LogSoftmax(dim=1)\n",
        "\n",
        "    def forward(self, category, input, hidden):\n",
        "        inp_comb = torch.cat((category, input, hidden), 1)\n",
        "        hidden = self.i2h(inp_comb)\n",
        "        output = self.i2o(inp_comb)\n",
        "        op_comb = torch.cat((hidden, output), 1)\n",
        "        output = self.o2o(op_comb)\n",
        "        output = self.dropout(output)\n",
        "        # output = self.softmax(output)\n",
        "        return output, hidden\n",
        "\n",
        "    def initHidden(self):\n",
        "        return torch.zeros(1, self.hid_size)"
      ],
      "metadata": {
        "id": "K_8OsI2hr5H7"
      },
      "execution_count": 35,
      "outputs": []
    },
    {
      "cell_type": "code",
      "source": [
        "# Выюираем случайный элемент списка\n",
        "def randomChoice(l):\n",
        "    return l[random.randint(0, len(l) - 1)]"
      ],
      "metadata": {
        "id": "UTkFBBR62pUp"
      },
      "execution_count": 36,
      "outputs": []
    },
    {
      "cell_type": "code",
      "source": [
        "all_categories.index('2')"
      ],
      "metadata": {
        "colab": {
          "base_uri": "https://localhost:8080/"
        },
        "id": "5ZNxXmr8oFs0",
        "outputId": "ae621ee4-ec9c-4dae-ac44-8df9c62a4646"
      },
      "execution_count": 62,
      "outputs": [
        {
          "output_type": "execute_result",
          "data": {
            "text/plain": [
              "0"
            ]
          },
          "metadata": {},
          "execution_count": 62
        }
      ]
    },
    {
      "cell_type": "code",
      "source": [
        "# Выбираем случайную категорию ( сдвиг от 1 до 9 включительно)\n",
        "# случайную зашифрованную строку для этой категории\n",
        "# и получаем расшифровку\n",
        "def randomPair(data):\n",
        "    category = randomChoice(all_categories)\n",
        "    line = randomChoice(data[category])\n",
        "    plain = caesar_decrypt(line, int(category))\n",
        "    # plain = caesar_decrypt(line, all_categories.index(category)+1)\n",
        "    return category, line, plain"
      ],
      "metadata": {
        "id": "85BXENiVr-H5"
      },
      "execution_count": 65,
      "outputs": []
    },
    {
      "cell_type": "code",
      "source": [
        "category, line, plain = randomPair(train_cypher_sentences)\n",
        "category, line, plain"
      ],
      "metadata": {
        "colab": {
          "base_uri": "https://localhost:8080/"
        },
        "id": "Oej8N6VbyM78",
        "outputId": "33d7fa8c-bdce-4df0-8f30-5e3cee3cb240"
      },
      "execution_count": 66,
      "outputs": [
        {
          "output_type": "execute_result",
          "data": {
            "text/plain": [
              "('2',\n",
              " 'нзупкмбсрмрукнуабпвбпзербкбдпзйвспрбсржховнбвбдзжю',\n",
              " 'лесник покосился на него и внезапно подумал а ведь')"
            ]
          },
          "metadata": {},
          "execution_count": 66
        }
      ]
    },
    {
      "cell_type": "code",
      "source": [
        "# One-hot вектор длиной n_categories, состоящий из 0, 1 - на месте выбранной категории\n",
        "def categoryTensor(category):\n",
        "    li = all_categories.index(category)\n",
        "    tensor = torch.zeros(1, n_categories)\n",
        "    tensor[0][li] = 1\n",
        "    return tensor"
      ],
      "metadata": {
        "id": "ssbwUAX64GZU"
      },
      "execution_count": 84,
      "outputs": []
    },
    {
      "cell_type": "code",
      "source": [
        "categoryTensor(category), categoryTensor(category).shape"
      ],
      "metadata": {
        "colab": {
          "base_uri": "https://localhost:8080/"
        },
        "id": "jhLD9M-gyVHN",
        "outputId": "55ef3099-087a-4ecf-cdb7-70398a3b0d4e"
      },
      "execution_count": 85,
      "outputs": [
        {
          "output_type": "execute_result",
          "data": {
            "text/plain": [
              "(tensor([[1.]]), torch.Size([1, 1]))"
            ]
          },
          "metadata": {},
          "execution_count": 85
        }
      ]
    },
    {
      "cell_type": "code",
      "source": [
        "# One-hot матрица с 1 до предпоследней буквы строки для input\n",
        "def inputTensor(line):\n",
        "    tensor = torch.zeros(len(line), 1, n_letters)\n",
        "    for li in range(len(line)):\n",
        "        letter = line[li]\n",
        "        tensor[li][0][all_letters.find(letter)] = 1\n",
        "    return tensor"
      ],
      "metadata": {
        "id": "QpoDhuVx4JZD"
      },
      "execution_count": 86,
      "outputs": []
    },
    {
      "cell_type": "code",
      "source": [
        "inputTensor(line), inputTensor(line).shape"
      ],
      "metadata": {
        "colab": {
          "base_uri": "https://localhost:8080/"
        },
        "id": "RnEURrWsp9Sk",
        "outputId": "847bca3e-5d03-4879-a74d-50a2bd147723"
      },
      "execution_count": 87,
      "outputs": [
        {
          "output_type": "execute_result",
          "data": {
            "text/plain": [
              "(tensor([[[0., 0., 0.,  ..., 0., 0., 0.]],\n",
              " \n",
              "         [[0., 0., 0.,  ..., 0., 0., 0.]],\n",
              " \n",
              "         [[0., 0., 0.,  ..., 0., 0., 0.]],\n",
              " \n",
              "         ...,\n",
              " \n",
              "         [[0., 0., 0.,  ..., 0., 0., 0.]],\n",
              " \n",
              "         [[0., 0., 0.,  ..., 0., 0., 0.]],\n",
              " \n",
              "         [[0., 0., 0.,  ..., 1., 0., 0.]]]),\n",
              " torch.Size([50, 1, 33]))"
            ]
          },
          "metadata": {},
          "execution_count": 87
        }
      ]
    },
    {
      "cell_type": "code",
      "source": [
        "# target тензор - это расшифрованное слово\n",
        "plain = caesar_decrypt(line, int(category))\n",
        "plain, len(plain)"
      ],
      "metadata": {
        "colab": {
          "base_uri": "https://localhost:8080/"
        },
        "id": "NRo1qE6MBm35",
        "outputId": "327d961c-96c4-44c8-be26-dd7dc9b7d31e"
      },
      "execution_count": 88,
      "outputs": [
        {
          "output_type": "execute_result",
          "data": {
            "text/plain": [
              "('лесник покосился на него и внезапно подумал а ведь', 50)"
            ]
          },
          "metadata": {},
          "execution_count": 88
        }
      ]
    },
    {
      "cell_type": "code",
      "source": [
        "def targetTensor(plain):\n",
        "    letter_indexes = [CHAR_TO_INDEX[plain[li]] for li in range(len(plain))]\n",
        "    # letter_indexes.append(n_letters - 1) # EOS\n",
        "    return torch.LongTensor(letter_indexes)"
      ],
      "metadata": {
        "id": "9dA447XICi7S"
      },
      "execution_count": 89,
      "outputs": []
    },
    {
      "cell_type": "code",
      "source": [
        "target = targetTensor(plain)\n",
        "target, len(target)"
      ],
      "metadata": {
        "colab": {
          "base_uri": "https://localhost:8080/"
        },
        "id": "71ZVyiJ2C1kX",
        "outputId": "e135f4a0-caa0-406b-9ee5-912e8cbac3af"
      },
      "execution_count": 90,
      "outputs": [
        {
          "output_type": "execute_result",
          "data": {
            "text/plain": [
              "(tensor([11,  5, 17, 13,  8, 10, 32, 15, 14, 10, 14, 17,  8, 11, 17, 31, 32, 13,\n",
              "          0, 32, 13,  5,  3, 14, 32,  8, 32,  2, 13,  5,  7,  0, 15, 13, 14, 32,\n",
              "         15, 14,  4, 19, 12,  0, 11, 32,  0, 32,  2,  5,  4, 28]),\n",
              " 50)"
            ]
          },
          "metadata": {},
          "execution_count": 90
        }
      ]
    },
    {
      "cell_type": "code",
      "source": [
        "def timeSince(since):\n",
        "    now = time()\n",
        "    s = now - since\n",
        "    m = math.floor(s / 60)\n",
        "    s -= m * 60\n",
        "    return '%dm %ds' % (m, s)"
      ],
      "metadata": {
        "id": "P8QG3YVgtOxq"
      },
      "execution_count": 91,
      "outputs": []
    },
    {
      "cell_type": "code",
      "source": [
        "# Определяем колбэк ModelCheckpoint для сохранения параметров модели с наименьшей loss\n",
        "class ModelCheckpoint:\n",
        "    def __init__(self, filepath, save_top_k=1, monitor='loss', mode='min'):\n",
        "        self.filepath = filepath\n",
        "        self.save_top_k = save_top_k\n",
        "        self.monitor = monitor\n",
        "        self.mode = mode\n",
        "        self.best_score = None\n",
        "        self.best_model = None\n",
        "        self.top_k_models = []\n",
        "\n",
        "    def __call__(self, iter, model, loss):\n",
        "        if self.best_score is None or (loss < self.best_score and self.mode == 'min') or (loss > self.best_score and self.mode == 'max'):\n",
        "            self.best_score = loss\n",
        "            self.best_model = model.state_dict()\n",
        "            if len(self.top_k_models) < self.save_top_k:\n",
        "                self.top_k_models.append((self.best_score, self.best_model))\n",
        "            else:\n",
        "                self.top_k_models.sort(key=lambda x: x[0], reverse=self.mode == 'max')\n",
        "                worst_model_score, worst_model_state_dict = self.top_k_models[-1]\n",
        "                if (worst_model_score < loss and self.mode == 'min') or (worst_model_score > loss and self.mode == 'max'):\n",
        "                    self.top_k_models[-1] = (loss, model.state_dict())\n",
        "            torch.save(self.best_model, self.filepath)"
      ],
      "metadata": {
        "id": "t6OYTOJRAUto"
      },
      "execution_count": 92,
      "outputs": []
    },
    {
      "cell_type": "code",
      "source": [
        "# Обучаем модель с использованием колбэка ModelCheckpoint\n",
        "checkpoint_callback = ModelCheckpoint(filepath='best_model.pth', save_top_k=1, monitor='loss', mode='min')\n",
        "callbacks = [checkpoint_callback]"
      ],
      "metadata": {
        "id": "b_sWLgvZAjB-"
      },
      "execution_count": 93,
      "outputs": []
    },
    {
      "cell_type": "code",
      "source": [
        "learning_rate = 0.001\n",
        "num_epochs = 100000\n",
        "model = NameGeneratorModule(n_letters, 256, n_letters)\n",
        "optimizer = torch.optim.AdamW(model.parameters(), lr=learning_rate)\n",
        "# Loss\n",
        "criterion = torch.nn.CrossEntropyLoss()\n",
        "lr = 0.00005"
      ],
      "metadata": {
        "id": "YktMbA2KtEDQ"
      },
      "execution_count": 103,
      "outputs": []
    },
    {
      "cell_type": "code",
      "source": [
        "print(model)"
      ],
      "metadata": {
        "colab": {
          "base_uri": "https://localhost:8080/"
        },
        "id": "URy2gVS1tXgt",
        "outputId": "9cfb3f72-a719-4b59-bbbe-f0586e128e85"
      },
      "execution_count": 95,
      "outputs": [
        {
          "output_type": "stream",
          "name": "stdout",
          "text": [
            "NameGeneratorModule(\n",
            "  (i2h): Linear(in_features=290, out_features=256, bias=True)\n",
            "  (i2o): Linear(in_features=290, out_features=33, bias=True)\n",
            "  (o2o): Linear(in_features=289, out_features=33, bias=True)\n",
            "  (dropout): Dropout(p=0.1, inplace=False)\n",
            ")\n"
          ]
        }
      ]
    },
    {
      "cell_type": "code",
      "source": [
        "p = torch.tensor([[-0.0503,  0.0786, -0.0593, -0.0999,  0.0994, -0.0180,  0.0909, -0.0097,\n",
        "           0.0179, -0.0263, -0.0000, -0.0514, -0.0303,  0.0000, -0.0080, -0.0019,\n",
        "           0.0587,  0.0251, -0.0933,  0.1296,  0.1146, -0.0900, -0.0175, -0.0360,\n",
        "          -0.0742, -0.0209, -0.1497, -0.0000,  0.1171,  0.0708, -0.0310,  0.0269,\n",
        "          -0.0822]])\n",
        "values, indices =  p.topk(1)\n",
        "indices.flatten().numpy()[0]"
      ],
      "metadata": {
        "colab": {
          "base_uri": "https://localhost:8080/"
        },
        "id": "66XH0yJnVi0m",
        "outputId": "be2c3714-c9a9-4d78-8ebe-d8149200e35d"
      },
      "execution_count": null,
      "outputs": [
        {
          "output_type": "execute_result",
          "data": {
            "text/plain": [
              "19"
            ]
          },
          "metadata": {},
          "execution_count": 61
        }
      ]
    },
    {
      "cell_type": "code",
      "source": [
        "def count_matching_values(c, output):\n",
        "    matches = torch.eq(c, output)\n",
        "    count = torch.sum(matches).item()\n",
        "    return count"
      ],
      "metadata": {
        "id": "FFqeBtObSDPz"
      },
      "execution_count": 96,
      "outputs": []
    },
    {
      "cell_type": "code",
      "source": [
        "def eval(category, line, plain):\n",
        "    category_tensor = categoryTensor(category)\n",
        "    input_line_tensor = inputTensor(line)\n",
        "    target_line_tensor = targetTensor(plain)\n",
        "    target_line_tensor.unsqueeze_(-1)\n",
        "    hidden = model.initHidden()\n",
        "    model.eval()\n",
        "    val_loss = 0\n",
        "    output = None\n",
        "    with torch.no_grad():\n",
        "      # Инициируем сгенерированную расшифровку как тензор из 0 ( далее там будут индексы букв)\n",
        "      generated = torch.zeros(len(plain), 1, dtype=int)\n",
        "      if len(line) > 0:\n",
        "          for i in range(len(line)):\n",
        "              output, hidden = model(category_tensor, input_line_tensor[i], hidden)\n",
        "              values, indices = output.topk(1)\n",
        "              generated[i] = indices.flatten().numpy()[0]\n",
        "              l = criterion(output, target_line_tensor[i])\n",
        "              val_loss += l\n",
        "          val_loss = val_loss.item() / input_line_tensor.size(0)\n",
        "      else:\n",
        "          pass\n",
        "      test_acc = count_matching_values(target_line_tensor, generated)/len(line)\n",
        "    return output, val_loss, test_acc"
      ],
      "metadata": {
        "id": "2cEB3vx3lqR3"
      },
      "execution_count": 97,
      "outputs": []
    },
    {
      "cell_type": "code",
      "source": [
        "def train(category, line, plain):\n",
        "    category_tensor = categoryTensor(category)\n",
        "    input_line_tensor = inputTensor(line)\n",
        "    target_line_tensor = targetTensor(plain)\n",
        "    target_line_tensor.unsqueeze_(-1)\n",
        "    hidden = model.initHidden()\n",
        "    model.train()\n",
        "    optimizer.zero_grad()\n",
        "    loss = 0\n",
        "    output = None\n",
        "    # Инициируем сгенерированную расшифровку как тензор из 0 ( далее там будут индексы букв)\n",
        "    generated = torch.zeros(len(plain), 1, dtype=int)\n",
        "    if len(line) > 0:\n",
        "        for i in range(len(line)):\n",
        "            output, hidden = model(category_tensor, input_line_tensor[i], hidden)\n",
        "            values, indices = output.topk(1)\n",
        "            generated[i] = indices.flatten().numpy()[0]\n",
        "            l = criterion(output, target_line_tensor[i])\n",
        "            loss += l\n",
        "        if loss != 0:\n",
        "          loss.backward(retain_graph=True)\n",
        "          optimizer.step()\n",
        "        loss = loss.item() / input_line_tensor.size(0)\n",
        "        # for p in model.parameters():\n",
        "        #   p.data.add_(p.grad.data, alpha=-learning_rate)\n",
        "\n",
        "    else:\n",
        "        pass\n",
        "    train_acc = count_matching_values(target_line_tensor, generated)/len(line)\n",
        "    return output, loss, train_acc"
      ],
      "metadata": {
        "id": "7iKjhsCJs2tx"
      },
      "execution_count": 98,
      "outputs": []
    },
    {
      "cell_type": "code",
      "source": [
        "a,b,c = randomPair(train_cypher_sentences)"
      ],
      "metadata": {
        "id": "KfMA6MWrTsJT"
      },
      "execution_count": 99,
      "outputs": []
    },
    {
      "cell_type": "code",
      "source": [
        "train(a, b, c)"
      ],
      "metadata": {
        "id": "9Gb3he1OAAdk",
        "colab": {
          "base_uri": "https://localhost:8080/"
        },
        "outputId": "f0346918-f052-4bc5-b4f4-b4f71ce6b5a6"
      },
      "execution_count": 100,
      "outputs": [
        {
          "output_type": "execute_result",
          "data": {
            "text/plain": [
              "(tensor([[ 0.0003,  0.0696,  0.0324, -0.0840, -0.0407,  0.0574, -0.0328, -0.0177,\n",
              "           0.0000, -0.0393, -0.1190,  0.0271,  0.0205, -0.0834, -0.0750, -0.0630,\n",
              "           0.1288,  0.1067,  0.0144,  0.0089, -0.0132,  0.0204,  0.0607, -0.0378,\n",
              "          -0.0477, -0.0000, -0.1204, -0.0006, -0.1002,  0.0665,  0.0000,  0.0804,\n",
              "          -0.0137]], grad_fn=<MulBackward0>),\n",
              " 3.5126797485351564,\n",
              " 0.0)"
            ]
          },
          "metadata": {},
          "execution_count": 100
        }
      ]
    },
    {
      "cell_type": "code",
      "source": [
        "d,e,f = randomPair(test_cypher_sentences)"
      ],
      "metadata": {
        "id": "b0ISFUWNpofk"
      },
      "execution_count": 101,
      "outputs": []
    },
    {
      "cell_type": "code",
      "source": [
        "eval(d,e,f)"
      ],
      "metadata": {
        "colab": {
          "base_uri": "https://localhost:8080/"
        },
        "id": "qzmXI-Vfpspl",
        "outputId": "1f9faec0-f7f1-4a45-bb05-4bc3dd83fc50"
      },
      "execution_count": 102,
      "outputs": [
        {
          "output_type": "execute_result",
          "data": {
            "text/plain": [
              "(tensor([[ 0.0020,  0.0263, -0.0222, -0.0836, -0.1161,  0.0906, -0.0729,  0.0255,\n",
              "           0.0664, -0.0719, -0.0800, -0.0638, -0.0504,  0.0147, -0.0664, -0.0346,\n",
              "           0.0203,  0.1059,  0.0156,  0.0100, -0.0037,  0.0137,  0.0287,  0.0027,\n",
              "          -0.0600, -0.0424, -0.1243, -0.0624, -0.1090,  0.0565,  0.0207,  0.0121,\n",
              "           0.0444]]),\n",
              " 3.4647052001953127,\n",
              " 0.08)"
            ]
          },
          "metadata": {},
          "execution_count": 102
        }
      ]
    },
    {
      "cell_type": "code",
      "source": [
        "total_loss = 0 # Reset every plot_every iters\n",
        "total_val_loss = 0\n",
        "best_loss = 10.\n",
        "best_epoch = 0\n",
        "print_every = 5000\n",
        "train_acc, total_train_acc, total_val_acc = 0., 0., 0.\n",
        "start = time()\n",
        "for iter in tqdm(range(1, num_epochs + 1)):\n",
        "\n",
        "    # training loop\n",
        "    a, b, c = randomPair(train_cypher_sentences)\n",
        "    train_output, loss, train_acc = train(a, b, c)\n",
        "    total_train_acc += train_acc\n",
        "    if loss is not None:\n",
        "        if best_loss > loss:\n",
        "          best_loss = loss\n",
        "          best_epoch = iter\n",
        "        total_loss += loss\n",
        "\n",
        "    # evaluation loop\n",
        "    d,e,f = randomPair(test_cypher_sentences)\n",
        "    test_output, val_loss, val_acc = eval(d,e,f)\n",
        "    total_val_acc += val_acc\n",
        "    if val_loss is not None:\n",
        "      total_val_loss += val_loss\n",
        "\n",
        "    if iter % print_every == 0:\n",
        "      print('Time: %s, Epoch: (%d - Total Iterations: %d%%),  Loss: %.4f, Train Accuracy: %.4f, val Loss: %.4f, Val Accuracy: %.4f' % (timeSince(start), iter, iter / num_epochs * 100, total_loss / iter, total_train_acc/iter,  total_val_loss / iter, total_val_acc/iter))\n",
        "\n",
        "    # Вызов колбэков\n",
        "    for callback in callbacks:\n",
        "      callback(iter, model, loss)\n"
      ],
      "metadata": {
        "colab": {
          "base_uri": "https://localhost:8080/",
          "height": 414,
          "referenced_widgets": [
            "ccb663e92575473e9162c5b93c81adea",
            "b6732c3b1a0148fc94ca84426eafa11b",
            "2b5869a2bfe540b3b3c54583f5b45509",
            "3a96319d18e44a5ba8e3584c3da66950",
            "ab825af34f1a4df2bfafc01b9d9c4c60",
            "bf5c79ada4174be18107b50ddeb5c4e4",
            "b7e36b1527124c42a9a941ef46f6e2d7",
            "334ba32f6b134386be5812cbc2dacbc3",
            "93711cbc50064d84b77db079327e9ea7",
            "ab784178f256486e968b41499303be0f",
            "1932e00bd7b84a07b40c0700a49f6d67"
          ]
        },
        "id": "70S-aqwBB0Y5",
        "outputId": "12615c72-691d-4b1a-cb79-10dc3891276d"
      },
      "execution_count": 104,
      "outputs": [
        {
          "output_type": "display_data",
          "data": {
            "text/plain": [
              "  0%|          | 0/100000 [00:00<?, ?it/s]"
            ],
            "application/vnd.jupyter.widget-view+json": {
              "version_major": 2,
              "version_minor": 0,
              "model_id": "ccb663e92575473e9162c5b93c81adea"
            }
          },
          "metadata": {}
        },
        {
          "output_type": "stream",
          "name": "stdout",
          "text": [
            "Time: 3m 3s, Epoch: (5000 - Total Iterations: 5%),  Loss: 271919.8875, Train Accuracy: 0.8138, val Loss: 350943.4354, Val Accuracy: 0.8792\n",
            "Time: 6m 8s, Epoch: (10000 - Total Iterations: 10%),  Loss: 135998.6147, Train Accuracy: 0.6336, val Loss: 175504.6235, Val Accuracy: 0.6911\n",
            "Time: 9m 9s, Epoch: (15000 - Total Iterations: 15%),  Loss: 90666.2045, Train Accuracy: 0.7063, val Loss: 117003.2955, Val Accuracy: 0.7727\n",
            "Time: 12m 12s, Epoch: (20000 - Total Iterations: 20%),  Loss: 67999.7032, Train Accuracy: 0.7603, val Loss: 87752.4749, Val Accuracy: 0.8287\n",
            "Time: 15m 11s, Epoch: (25000 - Total Iterations: 25%),  Loss: 54399.7902, Train Accuracy: 0.7943, val Loss: 70201.9800, Val Accuracy: 0.8630\n",
            "Time: 18m 9s, Epoch: (30000 - Total Iterations: 30%),  Loss: 45333.1811, Train Accuracy: 0.8170, val Loss: 58501.6500, Val Accuracy: 0.8858\n",
            "Time: 21m 8s, Epoch: (35000 - Total Iterations: 35%),  Loss: 38857.0317, Train Accuracy: 0.8331, val Loss: 50144.2714, Val Accuracy: 0.9021\n",
            "Time: 24m 6s, Epoch: (40000 - Total Iterations: 40%),  Loss: 33999.9194, Train Accuracy: 0.8452, val Loss: 43876.2375, Val Accuracy: 0.9144\n",
            "Time: 27m 2s, Epoch: (45000 - Total Iterations: 45%),  Loss: 30222.1656, Train Accuracy: 0.8545, val Loss: 39001.1000, Val Accuracy: 0.9239\n",
            "Time: 30m 0s, Epoch: (50000 - Total Iterations: 50%),  Loss: 27199.9623, Train Accuracy: 0.8621, val Loss: 35100.9900, Val Accuracy: 0.9315\n",
            "Time: 33m 0s, Epoch: (55000 - Total Iterations: 55%),  Loss: 24727.2507, Train Accuracy: 0.8683, val Loss: 31909.9909, Val Accuracy: 0.9377\n",
            "Time: 36m 1s, Epoch: (60000 - Total Iterations: 60%),  Loss: 22666.6576, Train Accuracy: 0.8734, val Loss: 29250.8250, Val Accuracy: 0.9429\n",
            "Time: 39m 1s, Epoch: (65000 - Total Iterations: 65%),  Loss: 20923.0789, Train Accuracy: 0.8777, val Loss: 27000.7615, Val Accuracy: 0.9473\n",
            "Time: 41m 59s, Epoch: (70000 - Total Iterations: 70%),  Loss: 19428.5828, Train Accuracy: 0.8813, val Loss: 25072.1357, Val Accuracy: 0.9511\n",
            "Time: 44m 58s, Epoch: (75000 - Total Iterations: 75%),  Loss: 18133.3529, Train Accuracy: 0.8844, val Loss: 23400.6600, Val Accuracy: 0.9543\n",
            "Time: 47m 56s, Epoch: (80000 - Total Iterations: 80%),  Loss: 17011.8106, Train Accuracy: 0.8867, val Loss: 21951.7149, Val Accuracy: 0.9567\n",
            "Time: 50m 55s, Epoch: (85000 - Total Iterations: 85%),  Loss: 16011.1246, Train Accuracy: 0.8892, val Loss: 20660.4377, Val Accuracy: 0.9592\n",
            "Time: 53m 55s, Epoch: (90000 - Total Iterations: 90%),  Loss: 15121.6251, Train Accuracy: 0.8915, val Loss: 19512.6356, Val Accuracy: 0.9615\n",
            "Time: 56m 54s, Epoch: (95000 - Total Iterations: 95%),  Loss: 14325.7572, Train Accuracy: 0.8935, val Loss: 18485.6548, Val Accuracy: 0.9635\n",
            "Time: 59m 55s, Epoch: (100000 - Total Iterations: 100%),  Loss: 13609.4760, Train Accuracy: 0.8954, val Loss: 17561.3721, Val Accuracy: 0.9653\n"
          ]
        }
      ]
    },
    {
      "cell_type": "markdown",
      "source": [
        "! Проверить: Если взять только 1 цифру для сдвига и переделать трейновые  и тестовые данные, Accuracy существенно вырастает, а loss падает"
      ],
      "metadata": {
        "id": "_UggGmZv_WUH"
      }
    },
    {
      "cell_type": "code",
      "source": [
        "best_epoch, best_loss"
      ],
      "metadata": {
        "id": "COxOWUbD_9E6",
        "colab": {
          "base_uri": "https://localhost:8080/"
        },
        "outputId": "5990a0d6-519c-47ca-b94c-0c7213273c33"
      },
      "execution_count": 105,
      "outputs": [
        {
          "output_type": "execute_result",
          "data": {
            "text/plain": [
              "(3775, 0.0)"
            ]
          },
          "metadata": {},
          "execution_count": 105
        }
      ]
    },
    {
      "cell_type": "code",
      "source": [
        "best_model = NameGeneratorModule(n_letters, 256, n_letters)\n",
        "best_model.load_state_dict(torch.load('best_model.pth'))"
      ],
      "metadata": {
        "id": "14mqei1eJHQz",
        "outputId": "9323fb3d-a344-4d3d-e6bb-b7ed5e7d6da8",
        "colab": {
          "base_uri": "https://localhost:8080/"
        }
      },
      "execution_count": 106,
      "outputs": [
        {
          "output_type": "execute_result",
          "data": {
            "text/plain": [
              "<All keys matched successfully>"
            ]
          },
          "metadata": {},
          "execution_count": 106
        }
      ]
    },
    {
      "cell_type": "code",
      "source": [
        "best_model.eval()\n"
      ],
      "metadata": {
        "id": "-vEmZEj5BH_4",
        "outputId": "c919cf35-e6e3-4708-8466-e4ad918d1247",
        "colab": {
          "base_uri": "https://localhost:8080/"
        }
      },
      "execution_count": 107,
      "outputs": [
        {
          "output_type": "execute_result",
          "data": {
            "text/plain": [
              "NameGeneratorModule(\n",
              "  (i2h): Linear(in_features=290, out_features=256, bias=True)\n",
              "  (i2o): Linear(in_features=290, out_features=33, bias=True)\n",
              "  (o2o): Linear(in_features=289, out_features=33, bias=True)\n",
              "  (dropout): Dropout(p=0.1, inplace=False)\n",
              ")"
            ]
          },
          "metadata": {},
          "execution_count": 107
        }
      ]
    },
    {
      "cell_type": "code",
      "source": [
        "def generate_text(sentence):\n",
        "  all_indices = []\n",
        "  best_model.eval()\n",
        "\n",
        "  # Для каждой категории\n",
        "  for category in all_categories:\n",
        "    category_tensor = categoryTensor(category) # Тензор для текущей категории\n",
        "    hidden = model.initHidden() # Инициируем скрытое состояние\n",
        "\n",
        "    # для каждой буквы из шифровки\n",
        "    for i in range(len(sentence)):\n",
        "      s = sentence[i]\n",
        "      input_line_tensor = inputTensor(s)\n",
        "\n",
        "      # Передаем в модель тензор категорий, тензор для текущей буквы в шифровке и скрытое состояние\n",
        "      output, hidden = model(category_tensor, input_line_tensor[0], hidden)\n",
        "\n",
        "      # Получаем индекс наиболее вероятной буквы при расшифровке с использованием данного сдвига (категории)\n",
        "      probas, indices = output.topk(1)\n",
        "\n",
        "      # Собираем все индексы  -  по каждой букве - в один список\n",
        "      all_indices.append(indices.flatten().numpy()[0])\n",
        "  # преобразуем индексы букв в сами буквы и получаем расшифровку\n",
        "  result = ''.join(INDEX_TO_CHAR[i] for i in all_indices)\n",
        "  return result\n"
      ],
      "metadata": {
        "id": "DWSItyTSkomG"
      },
      "execution_count": 130,
      "outputs": []
    },
    {
      "cell_type": "code",
      "source": [
        "def count_matching_letters(s1, s2):\n",
        "    count = 0\n",
        "    for i in range(min(len(s1), len(s2))):\n",
        "        if s1[i] == s2[i]:\n",
        "            count += 1\n",
        "    return count"
      ],
      "metadata": {
        "id": "s35wonhkBDvL"
      },
      "execution_count": 127,
      "outputs": []
    },
    {
      "cell_type": "code",
      "source": [
        "lines, plains = [], []\n",
        "for _ in range(10):\n",
        "  _, line, plain = randomPair(test_cypher_sentences)\n",
        "  print(line, plain)\n",
        "  sentence = generate_text(line)\n",
        "  print(sentence)\n",
        "  print(count_matching_letters(plain, sentence)/len(plain)*100)"
      ],
      "metadata": {
        "colab": {
          "base_uri": "https://localhost:8080/"
        },
        "id": "KGkYe6ubkmAX",
        "outputId": "54d8cd2f-3bcb-4051-bdf6-7e52fbc56052"
      },
      "execution_count": 131,
      "outputs": [
        {
          "output_type": "stream",
          "name": "stdout",
          "text": [
            "бфэбумвйвнбдуфтзщвзоуабдрйнзбдрпбфрлбтвйждрзппрлбг  ты сказал встречаемся возле вон той раздвоенной б\n",
            " ты сказал встречаемся возле вон той раздвоенной б\n",
            "100.0\n",
            "кнкбохчрортрдбпвзнуабрузпкнрбнзупкмвбсткбдкжзбуеху или мухоморов наелся осенило лесника при виде сгус\n",
            "или мухоморов наелся осенило лесника при виде сгус\n",
            "100.0\n",
            "нзупкмбсрфтаузппрбпвгн жвнбмвмбмкгртебдэмнвжэдвзфб лесник потрясенно наблюдал как киборг выкладывает \n",
            "лесник потрясенно наблюдал как киборг выкладывает \n",
            "100.0\n",
            "срдфрткфюбяфрфбвмтргвфкщзумклбпрозтбнзупкмбпзбухоз повторить этот акробатический номер лесник не суме\n",
            "повторить этот акробатический номер лесник не суме\n",
            "100.0\n",
            "бвевбйвжхощкдрбстрфапхнбжизмбкбдпзйвспрбтвуснэнуаб  ага задумчиво протянул джек и внезапно расплылся \n",
            " ага задумчиво протянул джек и внезапно расплылся \n",
            "100.0\n",
            "бпвжрбгэнрбйвупафюбзербдзтпхфюуабкбурргыкфюбопзбщф  надо было заснять его вернуться и сообщить мне чт\n",
            " надо было заснять его вернуться и сообщить мне чт\n",
            "100.0\n",
            "бкбщфрбяфрфбфтхгрнвйбгхнюмвзф  и что этот труболаз булькает\n",
            " и что этот труболаз булькает\n",
            "100.0\n",
            "изпюмвбсрунзжрдвнбзербсткозтхбфрнюмрбстзжсрщзнбмхт женька последовал его примеру только предпочел кур\n",
            "женька последовал его примеру только предпочел кур\n",
            "100.0\n",
            "бвбмвмбизбдкфвокпэ  а как же витамины\n",
            " а как же витамины\n",
            "100.0\n",
            "бвбщфрборипрбрсзъкнбнзупкм  а что можно опешил лесник\n",
            " а что можно опешил лесник\n",
            "100.0\n"
          ]
        }
      ]
    },
    {
      "cell_type": "code",
      "source": [
        "def sample(preds):\n",
        "    softmaxed = torch.softmax(preds, 0)\n",
        "    probas = torch.distributions.multinomial.Multinomial(1, softmaxed).sample()\n",
        "    return probas.argmax()"
      ],
      "metadata": {
        "id": "eAcnWqFGg5Se"
      },
      "execution_count": 110,
      "outputs": []
    },
    {
      "cell_type": "code",
      "source": [
        "caesar_decrypt(sentence, 2)"
      ],
      "metadata": {
        "colab": {
          "base_uri": "https://localhost:8080/",
          "height": 36
        },
        "id": "aneu3adutn1m",
        "outputId": "c5078ebf-4e32-450a-fab8-32658c40e522"
      },
      "execution_count": 117,
      "outputs": [
        {
          "output_type": "execute_result",
          "data": {
            "text/plain": [
              "'женька категорически не понимал в чем кайф стрельб'"
            ],
            "application/vnd.google.colaboratory.intrinsic+json": {
              "type": "string"
            }
          },
          "metadata": {},
          "execution_count": 117
        }
      ]
    }
  ]
}