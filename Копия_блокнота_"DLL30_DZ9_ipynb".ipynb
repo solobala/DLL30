{
  "cells": [
    {
      "cell_type": "markdown",
      "metadata": {
        "id": "view-in-github",
        "colab_type": "text"
      },
      "source": [
        "<a href=\"https://colab.research.google.com/github/solobala/DLL30/blob/main/%D0%9A%D0%BE%D0%BF%D0%B8%D1%8F_%D0%B1%D0%BB%D0%BE%D0%BA%D0%BD%D0%BE%D1%82%D0%B0_%22DLL30_DZ9_ipynb%22.ipynb\" target=\"_parent\"><img src=\"https://colab.research.google.com/assets/colab-badge.svg\" alt=\"Open In Colab\"/></a>"
      ]
    },
    {
      "cell_type": "markdown",
      "metadata": {
        "id": "qfkpXPce_R9h"
      },
      "source": [
        "# Домашнее задание по теме «Рекуррентные сети 4 Механизм внимания»\n",
        "\n",
        "Преподаватель: Даниил Корбут, Алексей Миронов, Татьяна Булгакова, Светлана Медведева, Артём Качалкин, Никита Селин\n",
        "\n",
        "Возьмите англо-русскую пару фраз (www.manythings.org....org/anki/)\n",
        "\n",
        "1. Обучите на них seq2seq with attention:\n",
        "  *  на основе скалярного произведения\n",
        "  *  на основе mlp\n",
        "\n",
        "2. Оцените полученное качество\n"
      ]
    },
    {
      "cell_type": "markdown",
      "metadata": {
        "id": "9SWOgQ_jrDD_"
      },
      "source": [
        "# Импорт библиотек"
      ]
    },
    {
      "cell_type": "code",
      "execution_count": 1,
      "metadata": {
        "id": "-YlRH3mQM9tf"
      },
      "outputs": [],
      "source": [
        "import os\n",
        "os.environ['CUDA_LAUNCH_BLOCKING'] = '1'\n",
        "import torch\n",
        "import torch.nn as nn\n",
        "from torch import optim\n",
        "import torch.nn.functional as F\n"
      ]
    },
    {
      "cell_type": "code",
      "execution_count": 2,
      "metadata": {
        "id": "s2db9p5yBuVw"
      },
      "outputs": [],
      "source": [
        "from google.colab import drive\n",
        "from google.colab import files"
      ]
    },
    {
      "cell_type": "code",
      "execution_count": 3,
      "metadata": {
        "id": "MIEGXF8oM9tt"
      },
      "outputs": [],
      "source": [
        "from io import open\n",
        "import unicodedata\n",
        "import string\n",
        "import re\n",
        "import random\n",
        "import time\n",
        "import math\n",
        "import matplotlib.pyplot as plt\n",
        "import matplotlib.ticker as ticker\n",
        "import numpy as np\n",
        "import pandas as pd\n",
        "from tqdm.notebook import tqdm\n",
        "from itertools import product\n",
        "plt.switch_backend('agg')\n",
        "%matplotlib inline"
      ]
    },
    {
      "cell_type": "code",
      "source": [
        "import warnings\n",
        "warnings.filterwarnings('ignore')"
      ],
      "metadata": {
        "id": "_ZTWW5FmBsQo"
      },
      "execution_count": 4,
      "outputs": []
    },
    {
      "cell_type": "markdown",
      "metadata": {
        "id": "dmOuVeajrKoD"
      },
      "source": [
        "# 1. Загрузка датасета"
      ]
    },
    {
      "cell_type": "code",
      "source": [
        "drive.mount('/content/drive')"
      ],
      "metadata": {
        "colab": {
          "base_uri": "https://localhost:8080/"
        },
        "id": "BI6UyT2yVtvW",
        "outputId": "661f9c86-7046-430c-b5ec-792612de8ccc"
      },
      "execution_count": 5,
      "outputs": [
        {
          "output_type": "stream",
          "name": "stdout",
          "text": [
            "Mounted at /content/drive\n"
          ]
        }
      ]
    },
    {
      "cell_type": "code",
      "source": [
        "!unzip '/content/drive/MyDrive/rus-eng.zip'"
      ],
      "metadata": {
        "colab": {
          "base_uri": "https://localhost:8080/"
        },
        "id": "azJAe8YlWDhk",
        "outputId": "a8d30be2-1e7d-4ffb-89a3-b6c2fabc6805"
      },
      "execution_count": 6,
      "outputs": [
        {
          "output_type": "stream",
          "name": "stdout",
          "text": [
            "Archive:  /content/drive/MyDrive/rus-eng.zip\n",
            "  inflating: rus.txt                 \n",
            "  inflating: _about.txt              \n"
          ]
        }
      ]
    },
    {
      "cell_type": "code",
      "execution_count": 7,
      "metadata": {
        "colab": {
          "base_uri": "https://localhost:8080/"
        },
        "id": "twIcAJnyRkW-",
        "outputId": "397f52f9-4c3b-4d91-c9cb-8651556964d5"
      },
      "outputs": [
        {
          "output_type": "stream",
          "name": "stdout",
          "text": [
            "We need to uphold laws against discrimination — in hiring, and in housing, and in education, and in the criminal justice system. That is what our Constitution and our highest ideals require.\tНам нужно отстаивать законы против дискриминации при найме на работу, в жилищной сфере, в сфере образования и правоохранительной системе. Этого требуют наша Конституция и высшие идеалы.\tCC-BY 2.0 (France) Attribution: tatoeba.org #5762728 (BHO) & #6390439 (odexed)\n",
            "I've heard that you should never date anyone who is less than half your age plus seven. Tom is now 30 years old and Mary is 17. How many years will Tom need to wait until he can start dating Mary?\tЯ слышал, что никогда не следует встречаться с кем-то вдвое младше вас плюс семь лет. Тому 30 лет, a Мэри 17. Сколько лет Тому нужно ждать до тех пор, пока он сможет начать встречаться с Мэри?\tCC-BY 2.0 (France) Attribution: tatoeba.org #10068197 (CK) & #10644473 (notenoughsun)\n",
            "I do have one final ask of you as your president, the same thing I asked when you took a chance on me eight years ago. I'm asking you to believe, not in my ability to bring about change but in yours.\tУ меня же, как у вашего президента, есть к вам последняя просьба. Та же самая, что и восемь лет назад, когда вы оказали мне своё доверие. Я прошу вас верить, но не в мои способности добиться перемен, а в ваши.\tCC-BY 2.0 (France) Attribution: tatoeba.org #5762723 (BHO) & #6390123 (odexed)\n",
            "In today's world, we have to equip all our kids with an education that prepares them for success, regardless of what they look like, or how much their parents make, or the zip code that they live in.\tВ современном мире перед нами стоит задача дать всем нашим детям такое образование, которое настроит их на успех вне зависимости от того, как они выглядят, сколько зарабатывают их родители или какой у них почтовый индекс.\tCC-BY 2.0 (France) Attribution: tatoeba.org #3924477 (BHO) & #5968115 (odexed)\n",
            "Death is something that we're often discouraged to talk about or even think about, but I've realized that preparing for death is one of the most empowering things you can do. Thinking about death clarifies your life.\tСмерть - это зачастую то, разговоры или даже мысли о чем приводят в уныние, но я осознал, что готовность умереть наделяет силой, как ничто другое. Мысль о смерти вносит ясность в твою жизнь.\tCC-BY 2.0 (France) Attribution: tatoeba.org #1969892 (davearms) & #3231553 (kukla)\n",
            "At a moment when our economy is growing, our businesses are creating jobs at the fastest pace since the 1990s, and wages are starting to rise again, we have to make some choices about the kind of country we want to be.\tВ тот момент, когда наша экономика растёт, наши предприятия создают рабочие места наибольшими темпами, начиная с 90-х годов, а зарплаты снова начинают расти, мы должны принять ряд решений относительно того, какой страной мы хотим быть.\tCC-BY 2.0 (France) Attribution: tatoeba.org #3924474 (BHO) & #4509418 (odexed)\n",
            "When I was younger, I hated going to weddings. My grandmothers and aunts would huddle around me, poke me in the side, and giggle \"You're next! You're next!\" They only stopped this nonsense when I began to do the same thing at funerals.\tКогда я была помоложе, я ненавидела ходить на свадьбы. Мои бабушки и тётки толпились вокруг, тыкали меня в бок и говорили, посмеиваясь: «Ты следующая! Ты следующая!». Они перестали нести этот вздор только тогда, когда я начала делать то же самое на похоронах.\tCC-BY 2.0 (France) Attribution: tatoeba.org #2776770 (AlanF_US) & #4311406 (odexed)\n",
            "Since there are usually multiple websites on any given topic, I usually just click the back button when I arrive on any webpage that has pop-up advertising. I just go to the next page found by Google and hope for something less irritating.\tПоскольку сайтов, посвящённых какой-либо теме, как правило, несколько, я обычно просто нажимаю на кнопку \"назад\", если попадаю на страницу со всплывающей рекламой. Я просто перехожу на следующую страницу, найденную гуглом, и надеюсь найти что-то менее раздражающее.\tCC-BY 2.0 (France) Attribution: tatoeba.org #954270 (CK) & #6383010 (odexed)\n",
            "If someone who doesn't know your background says that you sound like a native speaker, it means they probably noticed something about your speaking that made them realize you weren't a native speaker. In other words, you don't really sound like a native speaker.\tЕсли кто-то незнакомый говорит, что вы говорите как носитель языка, это значит, что он, вероятно, заметил что-то в вашей речи, что дало ему понять, что вы не носитель. Другими словами, вы не говорите как носитель.\tCC-BY 2.0 (France) Attribution: tatoeba.org #953936 (CK) & #10644468 (notenoughsun)\n",
            "Doubtless there exists in this world precisely the right woman for any given man to marry and vice versa; but when you consider that a human being has the opportunity of being acquainted with only a few hundred people, and out of the few hundred that there are but a dozen or less whom he knows intimately, and out of the dozen, one or two friends at most, it will easily be seen, when we remember the number of millions who inhabit this world, that probably, since the earth was created, the right man has never yet met the right woman.\tНесомненно, для каждого мужчины в этом мире где-то есть подходящая женщина, которая может стать ему женой, обратное верно и для женщин. Но если учесть, что у человека может быть максимум несколько сотен знакомых, из которых лишь дюжина, а то и меньше, тех, кого он знает близко, а из этой дюжины у него один или от силы два друга, то можно легко увидеть, что с учётом миллионов живущих на Земле людей, ни один подходящий мужчина, возможно, ещё не встретил подходящую женщину.\tCC-BY 2.0 (France) Attribution: tatoeba.org #7697649 (RM) & #7730831 (odexed)\n"
          ]
        }
      ],
      "source": [
        "!tail rus.txt"
      ]
    },
    {
      "cell_type": "markdown",
      "source": [
        "#2. Параметры"
      ],
      "metadata": {
        "id": "OPsxtqA5BKG5"
      }
    },
    {
      "cell_type": "code",
      "source": [
        "SEED = 1234\n",
        "random.seed(SEED)\n",
        "device = torch.device(\"cuda\" if torch.cuda.is_available() else \"cpu\")\n",
        "if device=='cpu':\n",
        "  torch.manual_seed(SEED)\n",
        "else:\n",
        "  torch.cuda.manual_seed(SEED)\n",
        "  torch.backends.cudnn.deterministic = True"
      ],
      "metadata": {
        "id": "SMPzAS0iBOFr"
      },
      "execution_count": 8,
      "outputs": []
    },
    {
      "cell_type": "markdown",
      "source": [
        "#3. Мета - параметры"
      ],
      "metadata": {
        "id": "ONmDlEHDnTgs"
      }
    },
    {
      "cell_type": "code",
      "source": [
        "SOS_token = 0\n",
        "EOS_token = 1\n",
        "lang1 = 'eng'\n",
        "lang2 = 'rus'\n",
        "MAX_LENGTH = 10 # Максимальное к-во токенов в предложении\n",
        "\n",
        "eng_prefixes = (\n",
        "    \"i am \", \"i m \",\n",
        "    \"he is\", \"he s \",\n",
        "    \"she is\", \"she s\",\n",
        "    \"you are\", \"you re \",\n",
        "    \"we are\", \"we re \",\n",
        "    \"they are\", \"they re \"\n",
        ")\n",
        "rnn_types           = [nn.LSTM, nn.GRU]\n",
        "attn_types          = ['lection', 'scalar', 'mlp']\n",
        "cols                = ['RNN_Type', 'attn_types', 'Loss', 'perplexity', 'learning_time']\n",
        "PATH               = '/content/drive/My Drive/dz9_'"
      ],
      "metadata": {
        "id": "12GojqCLnY5D"
      },
      "execution_count": 56,
      "outputs": []
    },
    {
      "cell_type": "markdown",
      "metadata": {
        "id": "IAUf9TmxrkTB"
      },
      "source": [
        "# 4. Пользовательские функции"
      ]
    },
    {
      "cell_type": "markdown",
      "metadata": {
        "id": "WIUDx9qpz5qO"
      },
      "source": [
        "## 4.1. Подготовка датасета"
      ]
    },
    {
      "cell_type": "code",
      "execution_count": 10,
      "metadata": {
        "id": "kyNnJyruM9t1"
      },
      "outputs": [],
      "source": [
        "class Lang:\n",
        "    \"\"\"Грануляция на уровне слов. name - название языка.\n",
        "    3 вида словарей в классе - Word2index ( слово-индекс), index2word (наоборот) и word2count (слово и кол-во его применений).\n",
        "    2 метода - добавить слово и добавить предложение.\n",
        "    При этом, если слово не встречалось ранее, оно добавляется во все словари.\n",
        "    Если встречалось - значение словаря word2count для данного слова увеличивается на 1\"\"\"\n",
        "    def __init__(self, name):\n",
        "        self.name = name\n",
        "        self.word2index = {}\n",
        "        self.word2count = {}\n",
        "        self.index2word = {0: \"SOS\", 1: \"EOS\"}\n",
        "        self.n_words = 2  # Count SOS and EOS\n",
        "\n",
        "    def addSentence(self, sentence):\n",
        "        for word in sentence.split(' '):\n",
        "            self.addWord(word)\n",
        "\n",
        "    def addWord(self, word):\n",
        "        if word not in self.word2index:\n",
        "            self.word2index[word] = self.n_words\n",
        "            self.word2count[word] = 1\n",
        "            self.index2word[self.n_words] = word\n",
        "            self.n_words += 1\n",
        "        else:\n",
        "            self.word2count[word] += 1"
      ]
    },
    {
      "cell_type": "code",
      "source": [
        "# Turn a Unicode string to plain ASCII, thanks to\n",
        "# http://stackoverflow.com/a/518232/2809427\n",
        "def unicodeToAscii(s):\n",
        "    \"\"\"Переводит символы Юникода в формат Ascii\"\"\"\n",
        "    return ''.join(\n",
        "        c for c in unicodedata.normalize('NFD', s)\n",
        "        if unicodedata.category(c) != 'Mn'\n",
        "    )"
      ],
      "metadata": {
        "id": "Wb0PZ-eonjSW"
      },
      "execution_count": 11,
      "outputs": []
    },
    {
      "cell_type": "code",
      "execution_count": 12,
      "metadata": {
        "id": "FXKs8j4bM9t6"
      },
      "outputs": [],
      "source": [
        "def normalizeString(s):\n",
        "    \"\"\"Переводит в нижний регистр, убирает пробелы слева и справа.\n",
        "    Добавляет пробел перед .!?, чтобы выделить знаки в отдельные токены.\n",
        "    Все симводы, помимо букв и .!?, заменяет на пробелы\"\"\"\n",
        "    s = unicodeToAscii(s.lower().strip())\n",
        "    s = re.sub(r\"([.!?])\", r\" \\1\", s)\n",
        "    s = re.sub(r\"[^a-zA-Zа-яА-ЯёЁ.!?]+\", r\" \", s)\n",
        "    # s = re.sub(r\"[^a-zA-Z.!?]+\", r\" \", s)\n",
        "    return s"
      ]
    },
    {
      "cell_type": "code",
      "execution_count": 57,
      "metadata": {
        "id": "D8T4VxZeM9t-"
      },
      "outputs": [],
      "source": [
        "def readLangs(lang1, lang2, reverse=False):\n",
        "    print(\"Reading lines...\")\n",
        "\n",
        "    # Открывает файл для чтения, испольхуя кодировку utf8,\n",
        "    # Убирает пробелы слева и справа,\n",
        "    # делит на строки по '\\n'\n",
        "    lines = open('rus.txt', encoding='utf-8').\\\n",
        "        read().strip().split('\\n')\n",
        "\n",
        "    # Каждую строку разделяет на части с использованием табуляции, в полученном списке использует 2 первых элемента\n",
        "    pairs = [[normalizeString(s) for s in l.split('\\t')][:2] for l in lines] #\n",
        "\n",
        "    # создает экземпляры класса Lang для обоих языков, при необходимости\n",
        "    # Можно использовать реверсирование, т.е поменять исходный язык и яык перевода местами\n",
        "    # подготавливает пары предложений\n",
        "    if reverse:\n",
        "        pairs = [list(reversed(p)) for p in pairs]\n",
        "        input_lang = Lang(lang2)\n",
        "        output_lang = Lang(lang1)\n",
        "    else:\n",
        "        input_lang = Lang(lang1)\n",
        "        output_lang = Lang(lang2)\n",
        "\n",
        "    return input_lang, output_lang, pairs"
      ]
    },
    {
      "cell_type": "code",
      "source": [
        "def filterPair(p, prefixes):\n",
        "    \"\"\"Вспомогательная функция: разбивает строку на токены, используя знак пробела,\n",
        "    Определяет число токенов  в строке для каждого предложения из пары.\n",
        "    Проверяет, что их число не первышает MAX_LENGTH.\n",
        "    Проверяет, что предложение на английском начинается с одного из eng_prefixes.\n",
        "    Возвращает результат всех проверок (True или False)\"\"\"\n",
        "    return len(p[1].split(' ')) < MAX_LENGTH and \\\n",
        "        len(p[0].split(' ')) < MAX_LENGTH and \\\n",
        "        p[0].startswith(prefixes)"
      ],
      "metadata": {
        "id": "rSBpnl58nut1"
      },
      "execution_count": 38,
      "outputs": []
    },
    {
      "cell_type": "code",
      "execution_count": 15,
      "metadata": {
        "id": "eBOwgEBdM9uB"
      },
      "outputs": [],
      "source": [
        "def filterPairs(pairs, prefixes):\n",
        "    \"\"\"Вспомогательная функция - оставляем только те предложения, где число текенов не более 10\"\"\"\n",
        "    return [pair for pair in pairs if filterPair(pair, prefixes)]"
      ]
    },
    {
      "cell_type": "code",
      "execution_count": 16,
      "metadata": {
        "id": "6dZOGjd5M9uE"
      },
      "outputs": [],
      "source": [
        "def prepareData(lang1, lang2, prefixes, reverse=False):\n",
        "    \"\"\"Функция для поготовки датасета\"\"\"\n",
        "    input_lang, output_lang, pairs = readLangs(lang1, lang2, reverse)\n",
        "    print(\"Read %s sentence pairs\" % len(pairs))\n",
        "    pairs = filterPairs(pairs, prefixes)\n",
        "    print(\"Trimmed to %s sentence pairs\" % len(pairs))\n",
        "    print(\"Counting words...\")\n",
        "    for pair in pairs:\n",
        "        input_lang.addSentence(pair[0])\n",
        "        output_lang.addSentence(pair[1])\n",
        "    print(\"Counted words:\")\n",
        "    print(input_lang.name, input_lang.n_words)\n",
        "    print(output_lang.name, output_lang.n_words)\n",
        "    return input_lang, output_lang, pairs"
      ]
    },
    {
      "cell_type": "code",
      "source": [
        "def indexesFromSentence(lang, sentence):\n",
        "    \"\"\"переводит преложение в последовательность индексов слов\"\"\"\n",
        "    return [lang.word2index[word] for word in sentence.split(' ')]"
      ],
      "metadata": {
        "id": "3FlatoPZnzXb"
      },
      "execution_count": 17,
      "outputs": []
    },
    {
      "cell_type": "code",
      "source": [
        "def tensorFromSentence(lang, sentence):\n",
        "    \"\"\"превращает последовательность индексов слов предложения в тензор\"\"\"\n",
        "    indexes = indexesFromSentence(lang, sentence)\n",
        "    indexes.append(EOS_token)\n",
        "    # добавляем еще одну размерность\n",
        "    return torch.tensor(indexes, dtype=torch.long, device=device).view(-1, 1)"
      ],
      "metadata": {
        "id": "F1qdqKhNn1LT"
      },
      "execution_count": 18,
      "outputs": []
    },
    {
      "cell_type": "code",
      "execution_count": 19,
      "metadata": {
        "id": "z6gGPtXFM9uQ"
      },
      "outputs": [],
      "source": [
        "def tensorsFromPair(pair, input_lang, output_lang):\n",
        "    \"\"\"Готовит тензоры из последовательностей токенов входного и выходного предложений\"\"\"\n",
        "    input_tensor = tensorFromSentence(input_lang, pair[0])\n",
        "    target_tensor = tensorFromSentence(output_lang, pair[1])\n",
        "    return (input_tensor, target_tensor)"
      ]
    },
    {
      "cell_type": "markdown",
      "source": [
        "## 4.2. Обучение модели"
      ],
      "metadata": {
        "id": "gC8X4t1PCDTi"
      }
    },
    {
      "cell_type": "code",
      "source": [
        "class EncoderRNN(nn.Module):\n",
        "    def __init__(self, input_size, hidden_size, rnn_type):\n",
        "        super(EncoderRNN, self).__init__()\n",
        "        self.hidden_size = hidden_size\n",
        "\n",
        "        self.embedding = nn.Embedding(input_size, hidden_size)\n",
        "        self.rnn = rnn_type(hidden_size, hidden_size)\n",
        "\n",
        "    def forward(self, input, hidden):\n",
        "        embedded = self.embedding(input).view(1, 1, -1)\n",
        "        output = embedded\n",
        "        output, hidden = self.rnn(output, hidden)\n",
        "        return output, hidden\n",
        "\n",
        "    def initHidden(self):\n",
        "        return torch.zeros(1, 1, self.hidden_size, device=device)"
      ],
      "metadata": {
        "id": "oSN27AuCSszW"
      },
      "execution_count": 20,
      "outputs": []
    },
    {
      "cell_type": "code",
      "source": [
        "# Изменим класс декодера. Доюбавим, помимо механизма внимания, еще и возможность выбора типа rnn ячейки\n",
        "class AttnDecoderRNN(nn.Module):\n",
        "    def __init__(self, hidden_size, output_size, rnn_type, dropout_p=0.1, max_length=MAX_LENGTH):\n",
        "        super(AttnDecoderRNN, self).__init__()\n",
        "        self.hidden_size = hidden_size\n",
        "        self.output_size = output_size\n",
        "        self.dropout_p = dropout_p\n",
        "        self.max_length = max_length\n",
        "\n",
        "        self.embedding = nn.Embedding(self.output_size, self.hidden_size)\n",
        "        self.attn = nn.Linear(self.hidden_size * 2, self.max_length)\n",
        "        self.attn_combine = nn.Linear(self.hidden_size * 2, self.hidden_size)\n",
        "        self.dropout = nn.Dropout(self.dropout_p)\n",
        "        self.rnn = rnn_type(hidden_size, hidden_size)\n",
        "        # self.gru = nn.GRU(self.hidden_size, self.hidden_size)\n",
        "        self.out = nn.Linear(self.hidden_size, self.output_size)\n",
        "        self.rnn_type_name = rnn_type.__name__\n",
        "\n",
        "    def forward(self, input, hidden, encoder_outputs):\n",
        "        embedded = self.embedding(input).view(1, 1, -1)\n",
        "        embedded = self.dropout(embedded)\n",
        "\n",
        "        # attn_weights = F.softmax(\n",
        "        #     self.attn(torch.cat((embedded[0], hidden[0]), 1)), dim=1)\n",
        "\n",
        "        # Механизм внимания изменяется здесь\n",
        "        if  self.rnn_type_name == 'LSTM':\n",
        "            attn_weights = F.softmax(self.attn(torch.cat((embedded[0], hidden[0][0]), 1)), dim=1)\n",
        "        else:\n",
        "             attn_weights = F.softmax(self.attn(torch.cat((embedded[0], hidden[0]), 1)), dim=1)\n",
        "\n",
        "        attn_applied = torch.bmm(attn_weights.unsqueeze(0),\n",
        "                                 encoder_outputs.unsqueeze(0))\n",
        "\n",
        "        output = torch.cat((embedded[0], attn_applied[0]), 1)\n",
        "        output = self.attn_combine(output).unsqueeze(0)\n",
        "\n",
        "        output = F.relu(output)\n",
        "        # output, hidden = self.gru(output, hidden)\n",
        "        output, hidden = self.rnn(output, hidden)\n",
        "\n",
        "        output = F.log_softmax(self.out(output[0]), dim=1)\n",
        "        return output, hidden, attn_weights\n",
        "\n",
        "    def initHidden(self):\n",
        "        return torch.zeros(1, 1, self.hidden_size, device=device)"
      ],
      "metadata": {
        "id": "haejvvBV3tPS"
      },
      "execution_count": 21,
      "outputs": []
    },
    {
      "cell_type": "code",
      "source": [
        "# Создадим новый класс декодера, в котором изменим механизм внимания на scalar\n",
        "class AttnDecoderRNN1(nn.Module):\n",
        "    def __init__(self, hidden_size, output_size, rnn_type, dropout_p=0.1, max_length=MAX_LENGTH):\n",
        "        super(AttnDecoderRNN1, self).__init__()\n",
        "        self.hidden_size = hidden_size\n",
        "        self.output_size = output_size\n",
        "        self.dropout_p = dropout_p\n",
        "        self.max_length = max_length\n",
        "\n",
        "        self.embedding = nn.Embedding(self.output_size, self.hidden_size)\n",
        "        self.attn = nn.Linear(self.hidden_size * 2, self.max_length)\n",
        "        self.attn_combine = nn.Linear(self.hidden_size * 2, self.hidden_size)\n",
        "        self.dropout = nn.Dropout(self.dropout_p)\n",
        "        self.rnn = rnn_type(hidden_size, hidden_size)\n",
        "        self.out = nn.Linear(self.hidden_size, self.output_size)\n",
        "\n",
        "    def forward(self, input, hidden, encoder_outputs):\n",
        "        embedded = self.embedding(input).view(1, 1, -1)\n",
        "        embedded = self.dropout(embedded)\n",
        "        # Механизм внимания изменяется здесь\n",
        "        attn_weights = F.softmax((embedded[0] @ encoder_outputs.T)/self.max_length**0.5, dim=1)\n",
        "        attn_applied = torch.bmm(attn_weights.unsqueeze(0),\n",
        "                                 encoder_outputs.unsqueeze(0))\n",
        "\n",
        "        output = torch.cat((embedded[0], attn_applied[0]), 1)\n",
        "        output = self.attn_combine(output).unsqueeze(0)\n",
        "\n",
        "        output = F.relu(output)\n",
        "        # output, hidden = self.gru(output, hidden)\n",
        "        output, hidden = self.rnn(output, hidden)\n",
        "\n",
        "        output = F.log_softmax(self.out(output[0]), dim=1)\n",
        "        return output, hidden, attn_weights\n",
        "\n",
        "    def initHidden(self):\n",
        "        return torch.zeros(1, 1, self.hidden_size, device=device)"
      ],
      "metadata": {
        "id": "PV8aOqooDgQy"
      },
      "execution_count": 22,
      "outputs": []
    },
    {
      "cell_type": "code",
      "source": [
        "# Создадим новый класс декодера, в котором изменим механизм внимания на mlp\n",
        "class AttnDecoderRNN2(nn.Module):\n",
        "    def __init__(self, hidden_size, output_size, rnn_type, dropout_p=0.1, max_length=MAX_LENGTH):\n",
        "        super(AttnDecoderRNN2, self).__init__()\n",
        "        self.hidden_size = hidden_size\n",
        "        self.output_size = output_size\n",
        "        self.dropout_p = dropout_p\n",
        "        self.max_length = max_length\n",
        "\n",
        "        self.embedding = nn.Embedding(self.output_size, self.hidden_size)\n",
        "        self.attn = nn.Linear(self.hidden_size * 2, self.max_length)\n",
        "        self.attn_combine = nn.Linear(self.hidden_size * 2, self.hidden_size)\n",
        "        self.dropout = nn.Dropout(self.dropout_p)\n",
        "        self.rnn = rnn_type(hidden_size, hidden_size)\n",
        "        self.out = nn.Linear(self.hidden_size, self.output_size)\n",
        "        self.rnn_type_name = rnn_type.__name__\n",
        "\n",
        "    def forward(self, input, hidden, encoder_outputs):\n",
        "        embedded = self.embedding(input).view(1, 1, -1)\n",
        "        embedded = self.dropout(embedded)\n",
        "        # Механизм внимания изменяется здесь\n",
        "        if  self.rnn_type_name == 'LSTM':\n",
        "            attn_weights = F.softmax(self.attn(torch.cat((embedded[0], hidden[0][0]), 1)), dim=1)\n",
        "        else:\n",
        "             attn_weights = F.softmax(self.attn(torch.cat((embedded[0], hidden[0]), 1)), dim=1)\n",
        "        attn_applied = torch.bmm(attn_weights.unsqueeze(0),\n",
        "                                 encoder_outputs.unsqueeze(0))\n",
        "\n",
        "        output = torch.cat((embedded[0], attn_applied[0]), 1)\n",
        "        output = self.attn_combine(output).unsqueeze(0)\n",
        "\n",
        "        output = F.tanh(output)\n",
        "        # output, hidden = self.gru(output, hidden)\n",
        "        output, hidden = self.rnn(output, hidden)\n",
        "\n",
        "        output = F.log_softmax(self.out(output[0]), dim=1)\n",
        "        return output, hidden, attn_weights\n",
        "\n",
        "    def initHidden(self):\n",
        "        return torch.zeros(1, 1, self.hidden_size, device=device)"
      ],
      "metadata": {
        "id": "OUNkyXlFFrZU"
      },
      "execution_count": 23,
      "outputs": []
    },
    {
      "cell_type": "code",
      "execution_count": 46,
      "metadata": {
        "id": "8Fn8VDv8M9uS"
      },
      "outputs": [],
      "source": [
        "def train(input_tensor, target_tensor,\n",
        "          encoder, decoder, encoder_optimizer, decoder_optimizer,\n",
        "          criterion, max_length, rnn_type, teacher_forcing_ratio):\n",
        "\n",
        "    \"\"\"Выполняет итерацию обучения модели\n",
        "    Args:\n",
        "    input_tensor,\n",
        "    target_tensor,\n",
        "    encoder,\n",
        "    decoder,\n",
        "    encoder_optimizer,\n",
        "    decoder_optimizer,\n",
        "    criterion,\n",
        "    max_length=MAX_LENGTH - максимальное кол-во токенов  каждом предложении,\n",
        "    rnn_type - тип RNN ячейки,\n",
        "    n_layers - число скрытых слоев,\n",
        "    teacher_forcing_ratio\"\"\"\n",
        "    if rnn_type.__name__ == 'LSTM':\n",
        "        encoder_hidden = (encoder.initHidden(), encoder.initHidden())\n",
        "    else:\n",
        "        encoder_hidden = encoder.initHidden()\n",
        "\n",
        "    encoder_optimizer.zero_grad()\n",
        "    decoder_optimizer.zero_grad()\n",
        "\n",
        "    input_length = input_tensor.size(0)\n",
        "    target_length = target_tensor.size(0)\n",
        "\n",
        "    encoder_outputs = torch.zeros(max_length, encoder.hidden_size, device=device)\n",
        "\n",
        "    loss = 0\n",
        "    total_words = 0\n",
        "    for ei in range(input_length):\n",
        "        encoder_output, encoder_hidden = encoder(\n",
        "            input_tensor[ei], encoder_hidden)\n",
        "        encoder_outputs[ei] = encoder_output[0, 0]\n",
        "\n",
        "    decoder_input = torch.tensor([[SOS_token]], device=device)\n",
        "\n",
        "    decoder_hidden = encoder_hidden\n",
        "\n",
        "    use_teacher_forcing = True if random.random() < teacher_forcing_ratio else False\n",
        "\n",
        "    if use_teacher_forcing:\n",
        "        # Teacher forcing: Feed the target as the next input\n",
        "\n",
        "        for di in range(target_length):\n",
        "            decoder_output, decoder_hidden, decoder_attention = decoder(\n",
        "                decoder_input, decoder_hidden, encoder_outputs)\n",
        "\n",
        "            loss += criterion(decoder_output, target_tensor[di])\n",
        "            decoder_input = target_tensor[di]  # Teacher forcing\n",
        "            total_words += target_tensor[di].numel()\n",
        "\n",
        "    else:\n",
        "        # Without teacher forcing: use its own predictions as the next input\n",
        "\n",
        "        for di in range(target_length):\n",
        "            decoder_output, decoder_hidden, decoder_attention = decoder(\n",
        "                decoder_input, decoder_hidden, encoder_outputs)\n",
        "            topv, topi = decoder_output.topk(1)\n",
        "            decoder_input = topi.squeeze().detach()  # detach from history as input\n",
        "\n",
        "            loss += criterion(decoder_output, target_tensor[di])\n",
        "            total_words += target_tensor[di].numel()\n",
        "            if decoder_input.item() == EOS_token:\n",
        "                break\n",
        "\n",
        "    loss.backward()\n",
        "\n",
        "    encoder_optimizer.step()\n",
        "    decoder_optimizer.step()\n",
        "    avg_loss = loss / total_words\n",
        "    perplexity = torch.exp(avg_loss)\n",
        "    return loss.item() / target_length, perplexity.item()"
      ]
    },
    {
      "cell_type": "code",
      "execution_count": 25,
      "metadata": {
        "id": "EKsdwPmSM9uU"
      },
      "outputs": [],
      "source": [
        "def asMinutes(s):\n",
        "    \"\"\"Вспомогательная функция перевода секунд  в минуты\"\"\"\n",
        "    m = math.floor(s / 60)\n",
        "    s -= m * 60\n",
        "    return '%dm %ds' % (m, s)\n",
        "\n",
        "\n",
        "def timeSince(since, percent):\n",
        "    \"\"\" длительность итерации обучения\"\"\"\n",
        "    now = time.time()\n",
        "    s = now - since\n",
        "    es = s / (percent)\n",
        "    rs = es - s\n",
        "    return '%s (- %s)' % (asMinutes(s), asMinutes(rs))"
      ]
    },
    {
      "cell_type": "code",
      "execution_count": 61,
      "metadata": {
        "id": "C_z_k5IiM9uX"
      },
      "outputs": [],
      "source": [
        "def trainIters(pair_sentenses, encoder, decoder, learning_rate, n_iters,\n",
        "               max_length, rnn_type, teacher_forcing_ratio, input_lan, output_lan,\n",
        "               print_every=5000, plot_every=500):\n",
        "    \"\"\"выполняет обучение модели\"\"\"\n",
        "    start               = time.time()\n",
        "    print_loss_total = 0\n",
        "    print_loss_avg = 0\n",
        "    print_perplexity = 0\n",
        "\n",
        "    encoder_optimizer = optim.Adam(encoder.parameters())\n",
        "    decoder_optimizer = optim.Adam(decoder.parameters())\n",
        "\n",
        "    training_pairs = [tensorsFromPair(random.choice(pair_sentenses),\n",
        "                                      input_lan, output_lan)\n",
        "                                      for i in range(n_iters)]\n",
        "    criterion = nn.NLLLoss()\n",
        "\n",
        "    for iter in tqdm(range(1, n_iters + 1)):\n",
        "        training_pair = training_pairs[iter - 1]\n",
        "        input_tensor = training_pair[0]\n",
        "        target_tensor = training_pair[1]\n",
        "\n",
        "        loss, perplexity = train(input_tensor, target_tensor, encoder, decoder,\n",
        "                     encoder_optimizer, decoder_optimizer, criterion,\n",
        "                     max_length, rnn_type, teacher_forcing_ratio)\n",
        "\n",
        "        print_loss_total += loss\n",
        "        print_perplexity += perplexity\n",
        "\n",
        "        if iter % print_every == 0:\n",
        "            print_loss_avg = print_loss_total / print_every\n",
        "            print_perplexity_avg = print_perplexity / print_every\n",
        "            print_loss_total = 0\n",
        "            print_perplexity = 0\n",
        "\n",
        "            print('%s (%d %d%%) %.4f %.4f'  % (timeSince(start, iter / n_iters),\n",
        "                                         iter, iter / n_iters * 100, print_loss_avg, print_perplexity_avg ))\n",
        "    return print_loss_avg, print_perplexity_avg, timeSince(start, iter / n_iters)\n"
      ]
    },
    {
      "cell_type": "code",
      "execution_count": 27,
      "metadata": {
        "id": "0JXG-RzCM9uZ"
      },
      "outputs": [],
      "source": [
        "def showPlot(points):\n",
        "    plt.figure()\n",
        "    fig, ax = plt.subplots()\n",
        "    # this locator puts ticks at regular intervals\n",
        "    loc = ticker.MultipleLocator(base=0.2)\n",
        "    ax.yaxis.set_major_locator(loc)\n",
        "    plt.plot(points)"
      ]
    },
    {
      "cell_type": "code",
      "source": [
        "def showAttention(input_sentence, output_words, attentions):\n",
        "    # Set up figure with colorbar\n",
        "    fig = plt.figure()\n",
        "    ax = fig.add_subplot(111)\n",
        "    cax = ax.matshow(attentions.numpy(), cmap='bone')\n",
        "    fig.colorbar(cax)\n",
        "\n",
        "    # Set up axes\n",
        "    ax.set_xticklabels([''] + input_sentence.split(' ') +\n",
        "                       ['<EOS>'], rotation=90)\n",
        "    ax.set_yticklabels([''] + output_words)\n",
        "\n",
        "    # Show label at every tick\n",
        "    ax.xaxis.set_major_locator(ticker.MultipleLocator(1))\n",
        "    ax.yaxis.set_major_locator(ticker.MultipleLocator(1))\n",
        "\n",
        "    plt.show()"
      ],
      "metadata": {
        "id": "dK8ABbTRLMa7"
      },
      "execution_count": 28,
      "outputs": []
    },
    {
      "cell_type": "code",
      "source": [
        "def evaluateAndShowAttention(encoder2, decoder2, max_length, input_sentence):\n",
        "    output_words, attentions = evaluate(\n",
        "        encoder2, decoder2, input_sentence, max_length,\n",
        "             rnn_type, input_lang, output_lang)\n",
        "    print('input =', input_sentence)\n",
        "    print('output =', ' '.join(output_words))\n",
        "    showAttention(input_sentence, output_words, attentions)"
      ],
      "metadata": {
        "id": "jc4YmbNiLJT9"
      },
      "execution_count": 44,
      "outputs": []
    },
    {
      "cell_type": "markdown",
      "source": [
        "## 4.3. Оценка модели"
      ],
      "metadata": {
        "id": "J5LU8C2nCSck"
      }
    },
    {
      "cell_type": "code",
      "execution_count": 43,
      "metadata": {
        "id": "3Bxf45h6M9ud"
      },
      "outputs": [],
      "source": [
        "def evaluate(encoder, decoder, sentence, max_length,\n",
        "             rnn_type, inp_lang, out_lang):\n",
        "    \"\"\"Оценка качества модели на паре предложений\"\"\"\n",
        "    with torch.no_grad():\n",
        "        input_tensor = tensorFromSentence(inp_lang, sentence)\n",
        "        input_length = input_tensor.size()[0]\n",
        "\n",
        "        if rnn_type.__name__ == 'LSTM':\n",
        "            encoder_hidden = (encoder.initHidden(), encoder.initHidden())\n",
        "        else:\n",
        "            encoder_hidden = encoder.initHidden()\n",
        "\n",
        "        encoder_outputs = torch.zeros(max_length, encoder.hidden_size, device=device)\n",
        "\n",
        "        for ei in range(input_length):\n",
        "            encoder_output, encoder_hidden = encoder(input_tensor[ei],\n",
        "                                                     encoder_hidden)\n",
        "            encoder_outputs[ei] += encoder_output[0, 0]\n",
        "\n",
        "        decoder_input = torch.tensor([[SOS_token]], device=device)  # SOS\n",
        "\n",
        "        decoder_hidden = encoder_hidden\n",
        "\n",
        "        decoded_words = []\n",
        "        decoder_attentions = torch.zeros(max_length, max_length)\n",
        "\n",
        "        for di in range(max_length):\n",
        "            decoder_output, decoder_hidden, decoder_attention = decoder(\n",
        "                decoder_input, decoder_hidden, encoder_outputs)\n",
        "            decoder_attentions[di] = decoder_attention.data\n",
        "            topv, topi = decoder_output.data.topk(1)\n",
        "            if topi.item() == EOS_token:\n",
        "                decoded_words.append('<EOS>')\n",
        "                break\n",
        "            else:\n",
        "                decoded_words.append(out_lang.index2word[topi.item()])\n",
        "\n",
        "            decoder_input = topi.squeeze().detach()\n",
        "        # Здесь изменения\n",
        "        return decoded_words, decoder_attentions[:di + 1]"
      ]
    },
    {
      "cell_type": "code",
      "execution_count": 66,
      "metadata": {
        "id": "1qUmQIGwM9uf"
      },
      "outputs": [],
      "source": [
        "def evaluateRandomly(pair_sen, encoder, decoder, max_length,\n",
        "                     rnn_, in_lang, o_lang,  n=10):\n",
        "    \"\"\"Оценка качества модели на случайно отобранных n парах предложений\"\"\"\n",
        "    for i in range(n):\n",
        "        pair = random.choice(pair_sen)\n",
        "        print('>', pair[0])\n",
        "        print('=', pair[1])\n",
        "        # здесь изменения\n",
        "        output_words, _ = evaluate(encoder, decoder, pair[0], MAX_LENGTH,\n",
        "                                rnn_, in_lang, o_lang)\n",
        "        output_sentence = ' '.join(output_words)\n",
        "        print('<', output_sentence)\n",
        "        print('')"
      ]
    },
    {
      "cell_type": "markdown",
      "source": [
        "Перплексия (perplexity) - это метрика, которая используется для оценки качества модели языковой модели. Она вычисляется как экспонента средней перекрестной энтропии (cross-entropy) на тестовом наборе данных."
      ],
      "metadata": {
        "id": "WhgRxL-COdHs"
      }
    },
    {
      "cell_type": "code",
      "source": [
        "def test_model(max_length, hidden_size = 256,\n",
        "               learn_rate = 0.006, prefixes=eng_prefixes, reverse=False,\n",
        "               teach_force_ratio = 0.5, attn_type = 'lection',\n",
        "               num_iters = 500, every = 100, num_file = 998):\n",
        "        \"\"\" Функция для обучения и оценки модели\"\"\"\n",
        "        # Инициируем энкодер и декодер\n",
        "        encoder2 = EncoderRNN(input_lang.n_words, hidden_size, rnn_type\n",
        "                               ).to(device)\n",
        "        if attn_type == 'lection':\n",
        "          decoder2 = AttnDecoderRNN(hidden_size, output_lang.n_words, rnn_type\n",
        "                                ).to(device)\n",
        "        elif attn_type == 'scalar':\n",
        "          decoder2 = AttnDecoderRNN1(hidden_size, output_lang.n_words, rnn_type\n",
        "                                ).to(device)\n",
        "        elif attn_type == 'mlp':\n",
        "          decoder2 = AttnDecoderRNN2(hidden_size, output_lang.n_words, rnn_type\n",
        "                                ).to(device)\n",
        "        print(f'{rnn_type.__name__}, {attn_type} \\n\\ntraining')\n",
        "        print('===========================')\n",
        "        # выполняем обучение модели, считаем ф-ю потерь\n",
        "        loss_, perplexity, learning_time = trainIters(pair_s, encoder2, decoder2, learn_rate, num_iters,\n",
        "                          max_length, rnn_type, teach_force_ratio,\n",
        "                          input_lang, output_lang, every)\n",
        "\n",
        "        print('\\nevaluation\\n')\n",
        "        # Выполняем оценку обученной модели\n",
        "        evaluateRandomly(pair_s, encoder2, decoder2, max_length,\n",
        "                         rnn_type, input_lang, output_lang)\n",
        "        print('----------------------------------------------------------------------')\n",
        "        string          = [rnn_type.__name__, attn_type, loss_, perplexity,  learning_time]\n",
        "        # string          = [rnn_type.__name__, attn_type, loss_, perplexity.detach().cpu().item(),  learning_time]\n",
        "        df.loc[len(df)] = string\n",
        "        file_name       = PATH + str(num_file) + '.csv'\n",
        "        df.to_csv(file_name)\n",
        "        evaluateAndShowAttention(encoder2, decoder2, max_length,'she stabbed him .')"
      ],
      "metadata": {
        "id": "mhBNAzfLXJMJ"
      },
      "execution_count": 41,
      "outputs": []
    },
    {
      "cell_type": "markdown",
      "source": [
        "# 5. Эксперименты"
      ],
      "metadata": {
        "id": "6Yg_Q8UuEj7e"
      }
    },
    {
      "cell_type": "code",
      "source": [
        "# Инициируем экземпляры классов для обоих языков, готовим датасет\n",
        "print('Подготовка датасета:')\n",
        "print('----------------------------------------------------------------------')\n",
        "input_lang, output_lang, pair_s = prepareData(lang1, lang2, prefixes=eng_prefixes, reverse=False)\n",
        "# Это пример пары предложений\n",
        "print(random.choice(pair_s))\n",
        "# датафрейм для сохранения результатов обучения разных моделей\n",
        "df = pd.DataFrame(columns=cols)"
      ],
      "metadata": {
        "colab": {
          "base_uri": "https://localhost:8080/"
        },
        "id": "4yyuk08Y-G6b",
        "outputId": "54bdb086-e79b-4a9e-8400-844b5f80bce0"
      },
      "execution_count": 58,
      "outputs": [
        {
          "output_type": "stream",
          "name": "stdout",
          "text": [
            "Подготовка датасета:\n",
            "----------------------------------------------------------------------\n",
            "Reading lines...\n",
            "Read 487600 sentence pairs\n",
            "Trimmed to 28240 sentence pairs\n",
            "Counting words...\n",
            "Counted words:\n",
            "eng 4289\n",
            "rus 10119\n",
            "['i m fairly sure it ll work .', 'я почти уверен что это сработает .']\n"
          ]
        }
      ]
    },
    {
      "cell_type": "code",
      "source": [
        "pair_s[0:2]"
      ],
      "metadata": {
        "colab": {
          "base_uri": "https://localhost:8080/"
        },
        "id": "BjVZXFk3V88-",
        "outputId": "2d925921-8161-44fc-bfb1-ca93fefe1cfc"
      },
      "execution_count": 59,
      "outputs": [
        {
          "output_type": "execute_result",
          "data": {
            "text/plain": [
              "[['i m .', 'мне девятнадцать лет .'], ['i m ok .', 'со мнои все в порядке .']]"
            ]
          },
          "metadata": {},
          "execution_count": 59
        }
      ]
    },
    {
      "cell_type": "markdown",
      "source": [
        "## 5.1. GRU, attention_type='lection'"
      ],
      "metadata": {
        "id": "C7NhhxE_CDxW"
      }
    },
    {
      "cell_type": "code",
      "source": [
        "# Эксперименты для моделей с разными типами RNN ячеек (RNN, GRU, LSTM) и кол-вом скрытых состояний\n",
        "print('Эксперименты с моделями:')\n",
        "print('----------------------------------------------------------------------')\n",
        "num_file = 11\n",
        "\n",
        "rnn_type = nn.GRU\n",
        "attn_type = 'lection'\n",
        "test_model(max_length = MAX_LENGTH,\n",
        "           learn_rate = 0.0001, prefixes=eng_prefixes, reverse=False, teach_force_ratio = 0.5,\n",
        "           attn_type=attn_type, num_iters = 20000, every = 2000,\n",
        "           num_file = num_file)\n",
        "\n"
      ],
      "metadata": {
        "colab": {
          "base_uri": "https://localhost:8080/",
          "height": 1000,
          "referenced_widgets": [
            "b042099d9a5940cdb659631e8fe627bc",
            "8782dce4fdeb44bc89e935fa61608da7",
            "2dfde39fe6614ad09695a3270300cb00",
            "9ba419f7ff9c421c8dc2a1dff04ee239",
            "c487c7fa33334ac7ae632b17c311e1c2",
            "b88f051afbcf4299a5dba6f99f96bd44",
            "30444fbb913f4f5ea566be82f882579e",
            "4056014615594ccab71c37e21d627626",
            "4a6f578ecd794b109348ab27245b037c",
            "bccd04d07d9b4b429007ae1c097ff973",
            "b8840ca5212f4dfb8ea540ef44ca8df0"
          ]
        },
        "id": "X40fX7GAGNA4",
        "outputId": "beed7df7-9452-4628-ed80-cfdd6e0c9751"
      },
      "execution_count": 69,
      "outputs": [
        {
          "output_type": "stream",
          "name": "stdout",
          "text": [
            "Эксперименты с моделями:\n",
            "----------------------------------------------------------------------\n",
            "GRU, lection \n",
            "\n",
            "training\n",
            "===========================\n"
          ]
        },
        {
          "output_type": "display_data",
          "data": {
            "text/plain": [
              "  0%|          | 0/20000 [00:00<?, ?it/s]"
            ],
            "application/vnd.jupyter.widget-view+json": {
              "version_major": 2,
              "version_minor": 0,
              "model_id": "b042099d9a5940cdb659631e8fe627bc"
            }
          },
          "metadata": {}
        },
        {
          "output_type": "stream",
          "name": "stdout",
          "text": [
            "6m 36s (- 59m 28s) (2000 10%) 4.1002 510.7512\n",
            "13m 30s (- 54m 1s) (4000 20%) 3.5889 234.7862\n",
            "20m 39s (- 48m 11s) (6000 30%) 3.2924 469.3238\n",
            "27m 40s (- 41m 30s) (8000 40%) 3.0952 539.5248\n",
            "34m 53s (- 34m 53s) (10000 50%) 2.9405 371.5744\n",
            "42m 3s (- 28m 2s) (12000 60%) 2.8252 126.3965\n",
            "49m 20s (- 21m 8s) (14000 70%) 2.7403 312.2789\n",
            "56m 34s (- 14m 8s) (16000 80%) 2.7311 196.6691\n",
            "63m 45s (- 7m 5s) (18000 90%) 2.6928 236.5963\n",
            "71m 13s (- 0m 0s) (20000 100%) 2.6702 310.2794\n",
            "\n",
            "evaluation\n",
            "\n",
            "> you re making me sick .\n",
            "= меня от тебя тошнит .\n",
            "< ты делаешь мне . <EOS>\n",
            "\n",
            "> i m flattered .\n",
            "= я польщен .\n",
            "< я туда . <EOS>\n",
            "\n",
            "> i m not like you and tom .\n",
            "= я не такая как вы с томом .\n",
            "< я не так как как том . <EOS>\n",
            "\n",
            "> i m bright .\n",
            "= я умна .\n",
            "< я умна . <EOS>\n",
            "\n",
            "> i m not a very good singer .\n",
            "= я не очень хорошо пою .\n",
            "< я не очень хорошо . <EOS>\n",
            "\n",
            "> i m getting married next month .\n",
            "= я выхожу замуж в следующем месяце .\n",
            "< я женюсь женюсь . <EOS>\n",
            "\n",
            "> we are going home .\n",
            "= мы домои .\n",
            "< мы домои домои домои <EOS>\n",
            "\n",
            "> i m puzzled .\n",
            "= я в замешательстве .\n",
            "< я сильная . <EOS>\n",
            "\n",
            "> she s already sleeping .\n",
            "= она уже спит .\n",
            "< она уже уже . <EOS>\n",
            "\n",
            "> you re so attentive .\n",
            "= вы такая внимательная .\n",
            "< вы так так . <EOS>\n",
            "\n",
            "----------------------------------------------------------------------\n",
            "input = she stabbed him .\n",
            "output = она его ему . <EOS>\n"
          ]
        },
        {
          "output_type": "display_data",
          "data": {
            "text/plain": [
              "<Figure size 640x480 with 2 Axes>"
            ],
            "image/png": "[encoded data removed]"
          },
          "metadata": {}
        }
      ]
    },
    {
      "cell_type": "markdown",
      "source": [
        "## 5.2. LSTM, attention_type='lection'"
      ],
      "metadata": {
        "id": "cN0LswOZ0i5t"
      }
    },
    {
      "cell_type": "code",
      "source": [
        "num_file = 12\n",
        "rnn_type = nn.LSTM\n",
        "attn_type = 'lection'\n",
        "test_model(max_length = MAX_LENGTH,\n",
        "           learn_rate = 0.0001, prefixes=eng_prefixes, reverse=False, teach_force_ratio = 0.5,\n",
        "           attn_type=attn_type, num_iters = 20000, every = 2000,\n",
        "           num_file = num_file)"
      ],
      "metadata": {
        "colab": {
          "base_uri": "https://localhost:8080/",
          "height": 1000,
          "referenced_widgets": [
            "683f214819d9474ebe69e9d20fd4ff47",
            "23c80ffb00e34c14b236d4e4badf9eaa",
            "403c7ee78f0b469eb9f79d457dfd2f93",
            "80b795b2a7de4f86b2c12deb35367278",
            "61573272189f4be1b537f4d05b720f6b",
            "7c1d8022e7424cec819a6d8f0ec02cf2",
            "f946b666950e4d92a31d1484adfcf61f",
            "c4ccc3dba8cf40faa6ac9e9a4c4aa6bf",
            "dd41ca26a56a4c6c82939b7a9ceef6ad",
            "caf423ff62cc48d39b9b04ca6d2d5c25",
            "2feaa8bc5ba04821ad8e68bd5d74e47d"
          ]
        },
        "id": "XCjck2u2zQC1",
        "outputId": "a6cd03f5-ae5b-47f5-d844-1ea8e6b02097"
      },
      "execution_count": 70,
      "outputs": [
        {
          "output_type": "stream",
          "name": "stdout",
          "text": [
            "LSTM, lection \n",
            "\n",
            "training\n",
            "===========================\n"
          ]
        },
        {
          "output_type": "display_data",
          "data": {
            "text/plain": [
              "  0%|          | 0/20000 [00:00<?, ?it/s]"
            ],
            "application/vnd.jupyter.widget-view+json": {
              "version_major": 2,
              "version_minor": 0,
              "model_id": "683f214819d9474ebe69e9d20fd4ff47"
            }
          },
          "metadata": {}
        },
        {
          "output_type": "stream",
          "name": "stdout",
          "text": [
            "6m 43s (- 60m 32s) (2000 10%) 4.1984 440.3006\n",
            "13m 37s (- 54m 31s) (4000 20%) 3.8068 236.7074\n",
            "20m 37s (- 48m 8s) (6000 30%) 3.6357 166.1970\n",
            "27m 38s (- 41m 27s) (8000 40%) 3.4891 179.6328\n",
            "34m 43s (- 34m 43s) (10000 50%) 3.3681 213.6508\n",
            "42m 5s (- 28m 3s) (12000 60%) 3.3314 501.8761\n",
            "49m 25s (- 21m 10s) (14000 70%) 3.2237 186.6684\n",
            "57m 1s (- 14m 15s) (16000 80%) 3.1924 178.9517\n",
            "64m 33s (- 7m 10s) (18000 90%) 3.0743 206.3582\n",
            "72m 6s (- 0m 0s) (20000 100%) 3.0912 195.2890\n",
            "\n",
            "evaluation\n",
            "\n",
            "> i m not afraid of terrorists .\n",
            "= я не боюсь террористов .\n",
            "< я не боюсь боюсь . <EOS>\n",
            "\n",
            "> i m beginning to lose patience with tom .\n",
            "= я начинаю терять с томом терпение .\n",
            "< я начинаю с с томом . . <EOS>\n",
            "\n",
            "> i m glad that we won .\n",
            "= я рад что мы выиграли .\n",
            "< я рад что мы в . <EOS>\n",
            "\n",
            "> i m not old enough to do that .\n",
            "= мне еще рано это делать .\n",
            "< я не молод чтобы это сделать . <EOS>\n",
            "\n",
            "> she s worked hard to save up money .\n",
            "= она упорно трудились чтобы откладывать деньги .\n",
            "< она привыкла к к говорить . <EOS>\n",
            "\n",
            "> i m not asking your permission .\n",
            "= я не спрашиваю вашего разрешения .\n",
            "< я не не не не . <EOS>\n",
            "\n",
            "> she is a genius at mathematics .\n",
            "= она математическии гении .\n",
            "< она пишет человек . <EOS>\n",
            "\n",
            "> we re glad to have you both here .\n",
            "= мы рады что вы обе здесь .\n",
            "< мы рады что здесь что наконец . <EOS>\n",
            "\n",
            "> you re not wrong .\n",
            "= вы не ошибаетесь .\n",
            "< вы не не . <EOS>\n",
            "\n",
            "> you re the one who told me that .\n",
            "= это вы мне это сказали .\n",
            "< это это вы это . . <EOS>\n",
            "\n",
            "----------------------------------------------------------------------\n",
            "input = she stabbed him .\n",
            "output = она его его . <EOS>\n"
          ]
        },
        {
          "output_type": "display_data",
          "data": {
            "text/plain": [
              "<Figure size 640x480 with 2 Axes>"
            ],
            "image/png": "[encoded data removed]"
          },
          "metadata": {}
        }
      ]
    },
    {
      "cell_type": "markdown",
      "source": [
        "## 5.3. GRU, attention_type='scalar'"
      ],
      "metadata": {
        "id": "DfMwdHOyCV8o"
      }
    },
    {
      "cell_type": "code",
      "source": [
        "num_file = 13\n",
        "rnn_type = nn.GRU\n",
        "attn_type = 'scalar'\n",
        "test_model(max_length = MAX_LENGTH,\n",
        "           learn_rate = 0.0001, prefixes=eng_prefixes, reverse=False, teach_force_ratio = 0.5,\n",
        "           attn_type=attn_type, num_iters = 20000, every = 2000,\n",
        "           num_file = num_file)"
      ],
      "metadata": {
        "colab": {
          "base_uri": "https://localhost:8080/",
          "height": 1000,
          "referenced_widgets": [
            "65361941e51f42eb8fbc6ec594ece510",
            "4cd7980ddda14480a337e59a3e0f7782",
            "c1f9c241f4784010954d999cc0325073",
            "99ee755c458a4f968b76cd65b051d154",
            "0a96e4b1ef094771bb295a28fe610089",
            "920636e912cd4e6f81fb073c3aeef74b",
            "965ac8a920154685bbb10f7fb52fced1",
            "4d2d5d33d8d54b32818531989d124860",
            "145ce84b615e4f69ac31d045a02342fb",
            "1c332d6f512e43369a617c8a5b50c989",
            "3f87c8985585437b83cf43ff9d0395e1"
          ]
        },
        "id": "G1uVO4iACaMY",
        "outputId": "a4008e55-1350-400d-d61a-4a5bfa97756e"
      },
      "execution_count": 71,
      "outputs": [
        {
          "output_type": "stream",
          "name": "stdout",
          "text": [
            "GRU, scalar \n",
            "\n",
            "training\n",
            "===========================\n"
          ]
        },
        {
          "output_type": "display_data",
          "data": {
            "text/plain": [
              "  0%|          | 0/20000 [00:00<?, ?it/s]"
            ],
            "application/vnd.jupyter.widget-view+json": {
              "version_major": 2,
              "version_minor": 0,
              "model_id": "65361941e51f42eb8fbc6ec594ece510"
            }
          },
          "metadata": {}
        },
        {
          "output_type": "stream",
          "name": "stdout",
          "text": [
            "6m 29s (- 58m 28s) (2000 10%) 4.1141 513.2529\n",
            "13m 39s (- 54m 38s) (4000 20%) 3.6401 218.6441\n",
            "20m 47s (- 48m 29s) (6000 30%) 3.2886 183.5440\n",
            "27m 58s (- 41m 58s) (8000 40%) 3.1034 213.3015\n",
            "35m 9s (- 35m 9s) (10000 50%) 2.8730 146.5617\n",
            "42m 22s (- 28m 15s) (12000 60%) 2.8363 482.4744\n",
            "49m 29s (- 21m 12s) (14000 70%) 2.7248 355.8290\n",
            "56m 43s (- 14m 10s) (16000 80%) 2.7001 204.8540\n",
            "63m 57s (- 7m 6s) (18000 90%) 2.6322 220.9382\n",
            "71m 11s (- 0m 0s) (20000 100%) 2.5745 1105.9857\n",
            "\n",
            "evaluation\n",
            "\n",
            "> i m sure tom is suffering .\n",
            "= я уверена что том страдает .\n",
            "< я уверен что том победит . <EOS>\n",
            "\n",
            "> i m so glad to see you .\n",
            "= я так рада вас видеть .\n",
            "< я так рад тебя видеть . <EOS>\n",
            "\n",
            "> they re willing to talk about the problem .\n",
            "= они готовы обсудить проблему .\n",
            "< они пытаются пытаются проблему . <EOS>\n",
            "\n",
            "> he s all right .\n",
            "= у него все в порядке .\n",
            "< он все . <EOS>\n",
            "\n",
            "> i m interested in a great many things .\n",
            "= меня интересует огромное множество вещеи .\n",
            "< я заинтересован себя чувствую . <EOS>\n",
            "\n",
            "> i m not done with you yet .\n",
            "= я с тобои еще не закончил .\n",
            "< я с с вами не не . . <EOS>\n",
            "\n",
            "> you re a better shot than me .\n",
            "= ты стрелок получше меня .\n",
            "< вы меня меня меня . <EOS>\n",
            "\n",
            "> i m good .\n",
            "= я хорошии .\n",
            "< я хорошие . <EOS>\n",
            "\n",
            "> she is a quiet woman .\n",
            "= она спокоиная женщина .\n",
            "< она женщина женщина . <EOS>\n",
            "\n",
            "> you re from another planet aren t you ?\n",
            "= так ты с другои планеты ?\n",
            "< вы ведь из да не так ли ? <EOS>\n",
            "\n",
            "----------------------------------------------------------------------\n",
            "input = she stabbed him .\n",
            "output = она его его . <EOS>\n"
          ]
        },
        {
          "output_type": "display_data",
          "data": {
            "text/plain": [
              "<Figure size 640x480 with 2 Axes>"
            ],
            "image/png": "[encoded data removed]"
          },
          "metadata": {}
        }
      ]
    },
    {
      "cell_type": "markdown",
      "source": [
        "## 5.4. LSTM, attention_type='scalar'"
      ],
      "metadata": {
        "id": "vZNXD5fbCmF7"
      }
    },
    {
      "cell_type": "code",
      "source": [
        "num_file = 14\n",
        "rnn_type = nn.LSTM\n",
        "attn_type = 'scalar'\n",
        "test_model(max_length = MAX_LENGTH,\n",
        "           learn_rate = 0.0001, prefixes=eng_prefixes, reverse=False, teach_force_ratio = 0.5,\n",
        "           attn_type=attn_type, num_iters = 20000, every = 2000,\n",
        "           num_file = num_file)"
      ],
      "metadata": {
        "colab": {
          "base_uri": "https://localhost:8080/",
          "height": 1000,
          "referenced_widgets": [
            "e3f6f69d61f4487fbbc1a437872c9454",
            "e003d365b156495e80f793d421932df5",
            "27ae983bd78c46018ae92227f61ffef8",
            "d79b5f09b411455aa25d910246ed6a2d",
            "26e540bb393c4c19929f573b1d3cab24",
            "c404d4f60b69435187d3abc57981b74b",
            "f099a5366928413c88aeb58831216c93",
            "d277b6db0e5f46ddbdae2c51b397cbe4",
            "0eb2a297f3b54c7c807eb49604aec416",
            "b53ea5a7ff8a4b0d838ebfd35036d9c3",
            "44bb7191e20140aa95b122810fb62c67"
          ]
        },
        "id": "d0UyfuJwCtDv",
        "outputId": "c3768dca-006c-4b28-e6cb-13ad91afa9b4"
      },
      "execution_count": 75,
      "outputs": [
        {
          "output_type": "stream",
          "name": "stdout",
          "text": [
            "LSTM, scalar \n",
            "\n",
            "training\n",
            "===========================\n"
          ]
        },
        {
          "output_type": "display_data",
          "data": {
            "text/plain": [
              "  0%|          | 0/20000 [00:00<?, ?it/s]"
            ],
            "application/vnd.jupyter.widget-view+json": {
              "version_major": 2,
              "version_minor": 0,
              "model_id": "e3f6f69d61f4487fbbc1a437872c9454"
            }
          },
          "metadata": {}
        },
        {
          "output_type": "stream",
          "name": "stdout",
          "text": [
            "7m 8s (- 64m 12s) (2000 10%) 4.1916 465.5778\n",
            "14m 18s (- 57m 12s) (4000 20%) 3.8824 187.3867\n",
            "21m 33s (- 50m 19s) (6000 30%) 3.7102 199.7975\n",
            "28m 45s (- 43m 8s) (8000 40%) 3.5852 167.3285\n",
            "36m 18s (- 36m 18s) (10000 50%) 3.5112 610.4797\n",
            "43m 42s (- 29m 8s) (12000 60%) 3.4755 185.4626\n",
            "50m 54s (- 21m 48s) (14000 70%) 3.3193 174.7194\n",
            "58m 16s (- 14m 34s) (16000 80%) 3.3404 358.4291\n",
            "65m 48s (- 7m 18s) (18000 90%) 3.3088 252.4419\n",
            "73m 18s (- 0m 0s) (20000 100%) 3.3033 584.4112\n",
            "\n",
            "evaluation\n",
            "\n",
            "> you re just making things worse .\n",
            "= вы все только портите .\n",
            "< ты просто как как и . . <EOS>\n",
            "\n",
            "> i m going to be a father .\n",
            "= я буду папои .\n",
            "< я собираюсь в . . <EOS>\n",
            "\n",
            "> we re partners .\n",
            "= мы партнеры .\n",
            "< мы идем . <EOS>\n",
            "\n",
            "> you re not invited .\n",
            "= вы не приглашены .\n",
            "< ты не не . <EOS>\n",
            "\n",
            "> she suggested that i cancel the meeting .\n",
            "= она предложила мне отменить совещание .\n",
            "< она только на сделать . <EOS>\n",
            "\n",
            "> i m glad you invited us .\n",
            "= я рад что вы нас пригласили .\n",
            "< я рада что ты тебя . . <EOS>\n",
            "\n",
            "> i m waiting for a call from tom .\n",
            "= я жду звонка от тома .\n",
            "< я жду жду тома тома . <EOS>\n",
            "\n",
            "> she suffers from low blood pressure .\n",
            "= она страдает от низкого кровяного давления .\n",
            "< она гордится от от от . <EOS>\n",
            "\n",
            "> i am truly sorry .\n",
            "= мне искренне жаль .\n",
            "< я в . . <EOS>\n",
            "\n",
            "> i m energetic .\n",
            "= я энергична .\n",
            "< я все . <EOS>\n",
            "\n",
            "----------------------------------------------------------------------\n",
            "input = she stabbed him .\n",
            "output = она очень она . <EOS>\n"
          ]
        },
        {
          "output_type": "display_data",
          "data": {
            "text/plain": [
              "<Figure size 640x480 with 2 Axes>"
            ],
            "image/png": "[encoded data removed]"
          },
          "metadata": {}
        }
      ]
    },
    {
      "cell_type": "markdown",
      "source": [
        "## 5.5. GRU, attention_type='mlp'"
      ],
      "metadata": {
        "id": "h17asyV6C0pz"
      }
    },
    {
      "cell_type": "code",
      "source": [
        "num_file = 15\n",
        "rnn_type = nn.GRU\n",
        "attn_type = 'mlp'\n",
        "test_model(max_length = MAX_LENGTH,\n",
        "           learn_rate = 0.0001, prefixes=eng_prefixes, reverse=False, teach_force_ratio = 0.5,\n",
        "           attn_type=attn_type, num_iters = 20000, every = 2000,\n",
        "           num_file = num_file)"
      ],
      "metadata": {
        "colab": {
          "base_uri": "https://localhost:8080/",
          "height": 1000,
          "referenced_widgets": [
            "c2e97225cfc4463a9afbbc07bd4fbe89",
            "4325a86165514197bfebb20c74822b9d",
            "0a50957e57e64975b5de91ed28cbb67c",
            "284a834fd46c495798feed3e77c4bd44",
            "21fd76f6168b4998bdff6e89fb6486bf",
            "9333b614256e4e7ebd7be02dc8f979bb",
            "25c32c6bfc42497cb1a014f8c7261462",
            "a2c6037662dd4e8eabec550f46abc005",
            "5ede423daba74a0fa204cecce99a5f8a",
            "14c729885cd74256a2d9ee7bc5313622",
            "24e0034772c040249a1c92a4c2688574"
          ]
        },
        "id": "ddNSToPgC8rY",
        "outputId": "70148b7a-7859-4c73-be38-96acbb695278"
      },
      "execution_count": 72,
      "outputs": [
        {
          "output_type": "stream",
          "name": "stdout",
          "text": [
            "GRU, mlp \n",
            "\n",
            "training\n",
            "===========================\n"
          ]
        },
        {
          "output_type": "display_data",
          "data": {
            "text/plain": [
              "  0%|          | 0/20000 [00:00<?, ?it/s]"
            ],
            "application/vnd.jupyter.widget-view+json": {
              "version_major": 2,
              "version_minor": 0,
              "model_id": "c2e97225cfc4463a9afbbc07bd4fbe89"
            }
          },
          "metadata": {}
        },
        {
          "output_type": "stream",
          "name": "stdout",
          "text": [
            "5m 42s (- 51m 21s) (2000 10%) 4.2579 597.9459\n",
            "11m 25s (- 45m 43s) (4000 20%) 3.6162 284.5159\n",
            "17m 16s (- 40m 19s) (6000 30%) 3.3778 239.7215\n",
            "23m 13s (- 34m 49s) (8000 40%) 3.2063 300.3588\n",
            "29m 22s (- 29m 22s) (10000 50%) 3.0276 302.0487\n",
            "35m 35s (- 23m 43s) (12000 60%) 2.9880 1269.1882\n",
            "41m 50s (- 17m 56s) (14000 70%) 2.8778 310.6420\n",
            "48m 8s (- 12m 2s) (16000 80%) 2.8355 403.6900\n",
            "54m 26s (- 6m 2s) (18000 90%) 2.7873 436.3272\n",
            "60m 49s (- 0m 0s) (20000 100%) 2.7696 924.4072\n",
            "\n",
            "evaluation\n",
            "\n",
            "> you aren t my friend .\n",
            "= ты мне не друг .\n",
            "< ты мои не подруга . <EOS>\n",
            "\n",
            "> i m accustomed to this .\n",
            "= я к этому привычна .\n",
            "< я привык к . <EOS>\n",
            "\n",
            "> i m not old .\n",
            "= я не старыи .\n",
            "< мне не старыи . <EOS>\n",
            "\n",
            "> i m sorry i didn t recognize you .\n",
            "= простите я вас не узнала .\n",
            "< прости я не не . <EOS>\n",
            "\n",
            "> you aren t canadian are you ?\n",
            "= вы же не канадка ?\n",
            "< ты же же не канадец ? <EOS>\n",
            "\n",
            "> i m waiting for you to apologize .\n",
            "= я жду чтобы вы извинились .\n",
            "< я жду когда жду . <EOS>\n",
            "\n",
            "> i m adventurous .\n",
            "= я отважна .\n",
            "< я страшно . <EOS>\n",
            "\n",
            "> i m the only one who understands you .\n",
            "= я один вас понимаю .\n",
            "< я я кто вас . <EOS>\n",
            "\n",
            "> i m sure tom won t win .\n",
            "= я уверен что том не победит .\n",
            "< я уверен что том не . . <EOS>\n",
            "\n",
            "> you re too tall .\n",
            "= вы слишком высокии .\n",
            "< ты слишком высокая . <EOS>\n",
            "\n",
            "----------------------------------------------------------------------\n",
            "input = she stabbed him .\n",
            "output = она его его . <EOS>\n"
          ]
        },
        {
          "output_type": "display_data",
          "data": {
            "text/plain": [
              "<Figure size 640x480 with 2 Axes>"
            ],
            "image/png": "[encoded data removed]"
          },
          "metadata": {}
        }
      ]
    },
    {
      "cell_type": "markdown",
      "source": [
        "## 5.6. LSTM, attention_type='mlp'"
      ],
      "metadata": {
        "id": "IUy51IFiC_6W"
      }
    },
    {
      "cell_type": "code",
      "source": [
        "num_file = 16\n",
        "rnn_type = nn.LSTM\n",
        "attn_type = 'mlp'\n",
        "test_model(max_length = MAX_LENGTH,\n",
        "           learn_rate = 0.0001, prefixes=eng_prefixes, reverse=False, teach_force_ratio = 0.5,\n",
        "           attn_type=attn_type, num_iters = 20000, every = 2000,\n",
        "           num_file = num_file)"
      ],
      "metadata": {
        "colab": {
          "base_uri": "https://localhost:8080/",
          "height": 1000,
          "referenced_widgets": [
            "0cd6c66ec454427782f52eff15075e07",
            "cca6637f516647a981829bbdb26ddce0",
            "dc665e9aa56f46089f77c4e67680d52f",
            "6548c02c55334327a45e5868384901dd",
            "0ca66fe1382f4335a5a12b1dac5edaaf",
            "62c13745eb964b7f86d711836fbf265e",
            "4c110604378549a5821deb9ac88e4dcb",
            "8125f9a18bbe474886eb580b4b5c7377",
            "aa29a663b96441ac81a8154936396c54",
            "f126094c56ff454f85790453bc8ddc22",
            "bac9f659b4c94eb38646877136fc0277"
          ]
        },
        "id": "E9QmOVHUDHj9",
        "outputId": "55b54f3b-1a6a-403a-d414-8abbb5e2d3a8"
      },
      "execution_count": 73,
      "outputs": [
        {
          "output_type": "stream",
          "name": "stdout",
          "text": [
            "LSTM, mlp \n",
            "\n",
            "training\n",
            "===========================\n"
          ]
        },
        {
          "output_type": "display_data",
          "data": {
            "text/plain": [
              "  0%|          | 0/20000 [00:00<?, ?it/s]"
            ],
            "application/vnd.jupyter.widget-view+json": {
              "version_major": 2,
              "version_minor": 0,
              "model_id": "0cd6c66ec454427782f52eff15075e07"
            }
          },
          "metadata": {}
        },
        {
          "output_type": "stream",
          "name": "stdout",
          "text": [
            "6m 41s (- 60m 14s) (2000 10%) 4.2331 479.6904\n",
            "13m 30s (- 54m 1s) (4000 20%) 3.7904 209.7034\n",
            "20m 28s (- 47m 46s) (6000 30%) 3.6451 189.9919\n",
            "27m 44s (- 41m 36s) (8000 40%) 3.4893 205.2258\n",
            "35m 11s (- 35m 11s) (10000 50%) 3.4119 157.3405\n",
            "42m 43s (- 28m 29s) (12000 60%) 3.3436 275.4843\n",
            "50m 16s (- 21m 32s) (14000 70%) 3.2711 233.1922\n",
            "57m 50s (- 14m 27s) (16000 80%) 3.1840 204.8611\n",
            "65m 13s (- 7m 14s) (18000 90%) 3.1558 449.1008\n",
            "72m 53s (- 0m 0s) (20000 100%) 3.1342 328.6764\n",
            "\n",
            "evaluation\n",
            "\n",
            "> i m suffering .\n",
            "= я страдаю .\n",
            "< я иду . <EOS>\n",
            "\n",
            "> you re almost as tall as tom is .\n",
            "= ты почти такои же высокии как том .\n",
            "< ты почти не такои же как том . <EOS>\n",
            "\n",
            "> i m waiting for everybody to leave .\n",
            "= я жду чтобы все ушли .\n",
            "< я жду жду . . <EOS>\n",
            "\n",
            "> i m disgusted with tom .\n",
            "= том мне отвратителен .\n",
            "< я с томом тома . <EOS>\n",
            "\n",
            "> he is pleased with his new shoes .\n",
            "= ему нравятся его новые ботинки .\n",
            "< он ним на на . . <EOS>\n",
            "\n",
            "> you re lying to me .\n",
            "= вы мне врете .\n",
            "< вы меня меня . <EOS>\n",
            "\n",
            "> we re buddies .\n",
            "= мы приятели .\n",
            "< мы закончили . <EOS>\n",
            "\n",
            "> i m going to visit boston next summer .\n",
            "= следующим летом я собираюсь посетить бостон .\n",
            "< я собираюсь буду буду буду . <EOS>\n",
            "\n",
            "> you re really getting prettier and prettier .\n",
            "= ты деиствительно все хорошеешь и хорошеешь .\n",
            "< ты еще и и . . . <EOS>\n",
            "\n",
            "> i m baking .\n",
            "= я пеку .\n",
            "< я ленивая . <EOS>\n",
            "\n",
            "----------------------------------------------------------------------\n",
            "input = she stabbed him .\n",
            "output = она сказала . <EOS>\n"
          ]
        },
        {
          "output_type": "display_data",
          "data": {
            "text/plain": [
              "<Figure size 640x480 with 2 Axes>"
            ],
            "image/png": "[encoded data removed]"
          },
          "metadata": {}
        }
      ]
    },
    {
      "cell_type": "markdown",
      "source": [
        "# 6. Выводы"
      ],
      "metadata": {
        "id": "6wVUZ3RHEp_A"
      }
    },
    {
      "cell_type": "code",
      "source": [
        "results = pd.DataFrame(columns=cols)\n",
        "for i in range(11,17):\n",
        "  df = pd.read_csv(f'{PATH}{str(i)}.csv', usecols=cols)\n",
        "  results = pd.concat([results, df], ignore_index=True)\n",
        "results.drop_duplicates(inplace=True)\n",
        "results.sort_values(by=['RNN_Type', 'attn_types', 'learning_time'])"
      ],
      "metadata": {
        "id": "lLQ48DVI3JqE",
        "colab": {
          "base_uri": "https://localhost:8080/",
          "height": 254
        },
        "outputId": "56903327-a1a6-4e40-bf61-9a2cb1a0da4d"
      },
      "execution_count": 1,
      "outputs": [
        {
          "output_type": "error",
          "ename": "NameError",
          "evalue": "name 'pd' is not defined",
          "traceback": [
            "\u001b[0;31m---------------------------------------------------------------------------\u001b[0m",
            "\u001b[0;31mNameError\u001b[0m                                 Traceback (most recent call last)",
            "\u001b[0;32m<ipython-input-1-fd7106ce9909>\u001b[0m in \u001b[0;36m<cell line: 1>\u001b[0;34m()\u001b[0m\n\u001b[0;32m----> 1\u001b[0;31m \u001b[0mresults\u001b[0m \u001b[0;34m=\u001b[0m \u001b[0mpd\u001b[0m\u001b[0;34m.\u001b[0m\u001b[0mDataFrame\u001b[0m\u001b[0;34m(\u001b[0m\u001b[0mcolumns\u001b[0m\u001b[0;34m=\u001b[0m\u001b[0mcols\u001b[0m\u001b[0;34m)\u001b[0m\u001b[0;34m\u001b[0m\u001b[0;34m\u001b[0m\u001b[0m\n\u001b[0m\u001b[1;32m      2\u001b[0m \u001b[0;32mfor\u001b[0m \u001b[0mi\u001b[0m \u001b[0;32min\u001b[0m \u001b[0mrange\u001b[0m\u001b[0;34m(\u001b[0m\u001b[0;36m11\u001b[0m\u001b[0;34m,\u001b[0m\u001b[0;36m17\u001b[0m\u001b[0;34m)\u001b[0m\u001b[0;34m:\u001b[0m\u001b[0;34m\u001b[0m\u001b[0;34m\u001b[0m\u001b[0m\n\u001b[1;32m      3\u001b[0m   \u001b[0mdf\u001b[0m \u001b[0;34m=\u001b[0m \u001b[0mpd\u001b[0m\u001b[0;34m.\u001b[0m\u001b[0mread_csv\u001b[0m\u001b[0;34m(\u001b[0m\u001b[0;34mf'{PATH}{str(i)}.csv'\u001b[0m\u001b[0;34m,\u001b[0m \u001b[0musecols\u001b[0m\u001b[0;34m=\u001b[0m\u001b[0mcols\u001b[0m\u001b[0;34m)\u001b[0m\u001b[0;34m\u001b[0m\u001b[0;34m\u001b[0m\u001b[0m\n\u001b[1;32m      4\u001b[0m   \u001b[0mresults\u001b[0m \u001b[0;34m=\u001b[0m \u001b[0mpd\u001b[0m\u001b[0;34m.\u001b[0m\u001b[0mconcat\u001b[0m\u001b[0;34m(\u001b[0m\u001b[0;34m[\u001b[0m\u001b[0mresults\u001b[0m\u001b[0;34m,\u001b[0m \u001b[0mdf\u001b[0m\u001b[0;34m]\u001b[0m\u001b[0;34m,\u001b[0m \u001b[0mignore_index\u001b[0m\u001b[0;34m=\u001b[0m\u001b[0;32mTrue\u001b[0m\u001b[0;34m)\u001b[0m\u001b[0;34m\u001b[0m\u001b[0;34m\u001b[0m\u001b[0m\n\u001b[1;32m      5\u001b[0m \u001b[0mresults\u001b[0m\u001b[0;34m.\u001b[0m\u001b[0mdrop_duplicates\u001b[0m\u001b[0;34m(\u001b[0m\u001b[0minplace\u001b[0m\u001b[0;34m=\u001b[0m\u001b[0;32mTrue\u001b[0m\u001b[0;34m)\u001b[0m\u001b[0;34m\u001b[0m\u001b[0;34m\u001b[0m\u001b[0m\n",
            "\u001b[0;31mNameError\u001b[0m: name 'pd' is not defined"
          ]
        }
      ]
    },
    {
      "cell_type": "code",
      "source": [
        "df = pd.read_csv('/content/drive/MyDrive/dz9_all_results.csv', sep=';')\n",
        "df"
      ],
      "metadata": {
        "colab": {
          "base_uri": "https://localhost:8080/",
          "height": 237
        },
        "id": "TDFLN4UM09wT",
        "outputId": "a6ff6020-6115-42fc-8845-ae14f423f681"
      },
      "execution_count": null,
      "outputs": [
        {
          "output_type": "execute_result",
          "data": {
            "text/plain": [
              "  RNN_Type attn_types      Loss  perplexity      learning_time\n",
              "0      GRU    lection  1.889575   58.424229  59m 11s (- 0m 0s)\n",
              "1     LSTM    lection  2.140252   25.965012  69m 29s (- 0m 0s)\n",
              "2      GRU     scalar  1.890593   20.567376  61m 10s (- 0m 0s)\n",
              "3     LSTM     scalar  2.197992   50.897851  71m 34s (- 0m 0s)\n",
              "4      GRU        mlp  1.916684   25.078073  60m 42s (- 0m 0s)\n",
              "5     LSTM        mlp  2.179458   40.906241  73m 41s (- 0m 0s)"
            ],
            "text/html": [
              "\n",
              "  <div id=\"df-1b231c2e-b6ba-4b23-94b4-cd48b24ad0cd\" class=\"colab-df-container\">\n",
              "    <div>\n",
              "<style scoped>\n",
              "    .dataframe tbody tr th:only-of-type {\n",
              "        vertical-align: middle;\n",
              "    }\n",
              "\n",
              "    .dataframe tbody tr th {\n",
              "        vertical-align: top;\n",
              "    }\n",
              "\n",
              "    .dataframe thead th {\n",
              "        text-align: right;\n",
              "    }\n",
              "</style>\n",
              "<table border=\"1\" class=\"dataframe\">\n",
              "  <thead>\n",
              "    <tr style=\"text-align: right;\">\n",
              "      <th></th>\n",
              "      <th>RNN_Type</th>\n",
              "      <th>attn_types</th>\n",
              "      <th>Loss</th>\n",
              "      <th>perplexity</th>\n",
              "      <th>learning_time</th>\n",
              "    </tr>\n",
              "  </thead>\n",
              "  <tbody>\n",
              "    <tr>\n",
              "      <th>0</th>\n",
              "      <td>GRU</td>\n",
              "      <td>lection</td>\n",
              "      <td>1.889575</td>\n",
              "      <td>58.424229</td>\n",
              "      <td>59m 11s (- 0m 0s)</td>\n",
              "    </tr>\n",
              "    <tr>\n",
              "      <th>1</th>\n",
              "      <td>LSTM</td>\n",
              "      <td>lection</td>\n",
              "      <td>2.140252</td>\n",
              "      <td>25.965012</td>\n",
              "      <td>69m 29s (- 0m 0s)</td>\n",
              "    </tr>\n",
              "    <tr>\n",
              "      <th>2</th>\n",
              "      <td>GRU</td>\n",
              "      <td>scalar</td>\n",
              "      <td>1.890593</td>\n",
              "      <td>20.567376</td>\n",
              "      <td>61m 10s (- 0m 0s)</td>\n",
              "    </tr>\n",
              "    <tr>\n",
              "      <th>3</th>\n",
              "      <td>LSTM</td>\n",
              "      <td>scalar</td>\n",
              "      <td>2.197992</td>\n",
              "      <td>50.897851</td>\n",
              "      <td>71m 34s (- 0m 0s)</td>\n",
              "    </tr>\n",
              "    <tr>\n",
              "      <th>4</th>\n",
              "      <td>GRU</td>\n",
              "      <td>mlp</td>\n",
              "      <td>1.916684</td>\n",
              "      <td>25.078073</td>\n",
              "      <td>60m 42s (- 0m 0s)</td>\n",
              "    </tr>\n",
              "    <tr>\n",
              "      <th>5</th>\n",
              "      <td>LSTM</td>\n",
              "      <td>mlp</td>\n",
              "      <td>2.179458</td>\n",
              "      <td>40.906241</td>\n",
              "      <td>73m 41s (- 0m 0s)</td>\n",
              "    </tr>\n",
              "  </tbody>\n",
              "</table>\n",
              "</div>\n",
              "    <div class=\"colab-df-buttons\">\n",
              "\n",
              "  <div class=\"colab-df-container\">\n",
              "    <button class=\"colab-df-convert\" onclick=\"convertToInteractive('df-1b231c2e-b6ba-4b23-94b4-cd48b24ad0cd')\"\n",
              "            title=\"Convert this dataframe to an interactive table.\"\n",
              "            style=\"display:none;\">\n",
              "\n",
              "  <svg xmlns=\"http://www.w3.org/2000/svg\" height=\"24px\" viewBox=\"0 -960 960 960\">\n",
              "    <path d=\"M120-120v-720h720v720H120Zm60-500h600v-160H180v160Zm220 220h160v-160H400v160Zm0 220h160v-160H400v160ZM180-400h160v-160H180v160Zm440 0h160v-160H620v160ZM180-180h160v-160H180v160Zm440 0h160v-160H620v160Z\"/>\n",
              "  </svg>\n",
              "    </button>\n",
              "\n",
              "  <style>\n",
              "    .colab-df-container {\n",
              "      display:flex;\n",
              "      gap: 12px;\n",
              "    }\n",
              "\n",
              "    .colab-df-convert {\n",
              "      background-color: #E8F0FE;\n",
              "      border: none;\n",
              "      border-radius: 50%;\n",
              "      cursor: pointer;\n",
              "      display: none;\n",
              "      fill: #1967D2;\n",
              "      height: 32px;\n",
              "      padding: 0 0 0 0;\n",
              "      width: 32px;\n",
              "    }\n",
              "\n",
              "    .colab-df-convert:hover {\n",
              "      background-color: #E2EBFA;\n",
              "      box-shadow: 0px 1px 2px rgba(60, 64, 67, 0.3), 0px 1px 3px 1px rgba(60, 64, 67, 0.15);\n",
              "      fill: #174EA6;\n",
              "    }\n",
              "\n",
              "    .colab-df-buttons div {\n",
              "      margin-bottom: 4px;\n",
              "    }\n",
              "\n",
              "    [theme=dark] .colab-df-convert {\n",
              "      background-color: #3B4455;\n",
              "      fill: #D2E3FC;\n",
              "    }\n",
              "\n",
              "    [theme=dark] .colab-df-convert:hover {\n",
              "      background-color: #434B5C;\n",
              "      box-shadow: 0px 1px 3px 1px rgba(0, 0, 0, 0.15);\n",
              "      filter: drop-shadow(0px 1px 2px rgba(0, 0, 0, 0.3));\n",
              "      fill: #FFFFFF;\n",
              "    }\n",
              "  </style>\n",
              "\n",
              "    <script>\n",
              "      const buttonEl =\n",
              "        document.querySelector('#df-1b231c2e-b6ba-4b23-94b4-cd48b24ad0cd button.colab-df-convert');\n",
              "      buttonEl.style.display =\n",
              "        google.colab.kernel.accessAllowed ? 'block' : 'none';\n",
              "\n",
              "      async function convertToInteractive(key) {\n",
              "        const element = document.querySelector('#df-1b231c2e-b6ba-4b23-94b4-cd48b24ad0cd');\n",
              "        const dataTable =\n",
              "          await google.colab.kernel.invokeFunction('convertToInteractive',\n",
              "                                                    [key], {});\n",
              "        if (!dataTable) return;\n",
              "\n",
              "        const docLinkHtml = 'Like what you see? Visit the ' +\n",
              "          '<a target=\"_blank\" href=https://colab.research.google.com/notebooks/data_table.ipynb>data table notebook</a>'\n",
              "          + ' to learn more about interactive tables.';\n",
              "        element.innerHTML = '';\n",
              "        dataTable['output_type'] = 'display_data';\n",
              "        await google.colab.output.renderOutput(dataTable, element);\n",
              "        const docLink = document.createElement('div');\n",
              "        docLink.innerHTML = docLinkHtml;\n",
              "        element.appendChild(docLink);\n",
              "      }\n",
              "    </script>\n",
              "  </div>\n",
              "\n",
              "\n",
              "<div id=\"df-e150c845-a19f-4e3b-8f35-2ee909f30358\">\n",
              "  <button class=\"colab-df-quickchart\" onclick=\"quickchart('df-e150c845-a19f-4e3b-8f35-2ee909f30358')\"\n",
              "            title=\"Suggest charts\"\n",
              "            style=\"display:none;\">\n",
              "\n",
              "<svg xmlns=\"http://www.w3.org/2000/svg\" height=\"24px\"viewBox=\"0 0 24 24\"\n",
              "     width=\"24px\">\n",
              "    <g>\n",
              "        <path d=\"M19 3H5c-1.1 0-2 .9-2 2v14c0 1.1.9 2 2 2h14c1.1 0 2-.9 2-2V5c0-1.1-.9-2-2-2zM9 17H7v-7h2v7zm4 0h-2V7h2v10zm4 0h-2v-4h2v4z\"/>\n",
              "    </g>\n",
              "</svg>\n",
              "  </button>\n",
              "\n",
              "<style>\n",
              "  .colab-df-quickchart {\n",
              "      --bg-color: #E8F0FE;\n",
              "      --fill-color: #1967D2;\n",
              "      --hover-bg-color: #E2EBFA;\n",
              "      --hover-fill-color: #174EA6;\n",
              "      --disabled-fill-color: #AAA;\n",
              "      --disabled-bg-color: #DDD;\n",
              "  }\n",
              "\n",
              "  [theme=dark] .colab-df-quickchart {\n",
              "      --bg-color: #3B4455;\n",
              "      --fill-color: #D2E3FC;\n",
              "      --hover-bg-color: #434B5C;\n",
              "      --hover-fill-color: #FFFFFF;\n",
              "      --disabled-bg-color: #3B4455;\n",
              "      --disabled-fill-color: #666;\n",
              "  }\n",
              "\n",
              "  .colab-df-quickchart {\n",
              "    background-color: var(--bg-color);\n",
              "    border: none;\n",
              "    border-radius: 50%;\n",
              "    cursor: pointer;\n",
              "    display: none;\n",
              "    fill: var(--fill-color);\n",
              "    height: 32px;\n",
              "    padding: 0;\n",
              "    width: 32px;\n",
              "  }\n",
              "\n",
              "  .colab-df-quickchart:hover {\n",
              "    background-color: var(--hover-bg-color);\n",
              "    box-shadow: 0 1px 2px rgba(60, 64, 67, 0.3), 0 1px 3px 1px rgba(60, 64, 67, 0.15);\n",
              "    fill: var(--button-hover-fill-color);\n",
              "  }\n",
              "\n",
              "  .colab-df-quickchart-complete:disabled,\n",
              "  .colab-df-quickchart-complete:disabled:hover {\n",
              "    background-color: var(--disabled-bg-color);\n",
              "    fill: var(--disabled-fill-color);\n",
              "    box-shadow: none;\n",
              "  }\n",
              "\n",
              "  .colab-df-spinner {\n",
              "    border: 2px solid var(--fill-color);\n",
              "    border-color: transparent;\n",
              "    border-bottom-color: var(--fill-color);\n",
              "    animation:\n",
              "      spin 1s steps(1) infinite;\n",
              "  }\n",
              "\n",
              "  @keyframes spin {\n",
              "    0% {\n",
              "      border-color: transparent;\n",
              "      border-bottom-color: var(--fill-color);\n",
              "      border-left-color: var(--fill-color);\n",
              "    }\n",
              "    20% {\n",
              "      border-color: transparent;\n",
              "      border-left-color: var(--fill-color);\n",
              "      border-top-color: var(--fill-color);\n",
              "    }\n",
              "    30% {\n",
              "      border-color: transparent;\n",
              "      border-left-color: var(--fill-color);\n",
              "      border-top-color: var(--fill-color);\n",
              "      border-right-color: var(--fill-color);\n",
              "    }\n",
              "    40% {\n",
              "      border-color: transparent;\n",
              "      border-right-color: var(--fill-color);\n",
              "      border-top-color: var(--fill-color);\n",
              "    }\n",
              "    60% {\n",
              "      border-color: transparent;\n",
              "      border-right-color: var(--fill-color);\n",
              "    }\n",
              "    80% {\n",
              "      border-color: transparent;\n",
              "      border-right-color: var(--fill-color);\n",
              "      border-bottom-color: var(--fill-color);\n",
              "    }\n",
              "    90% {\n",
              "      border-color: transparent;\n",
              "      border-bottom-color: var(--fill-color);\n",
              "    }\n",
              "  }\n",
              "</style>\n",
              "\n",
              "  <script>\n",
              "    async function quickchart(key) {\n",
              "      const quickchartButtonEl =\n",
              "        document.querySelector('#' + key + ' button');\n",
              "      quickchartButtonEl.disabled = true;  // To prevent multiple clicks.\n",
              "      quickchartButtonEl.classList.add('colab-df-spinner');\n",
              "      try {\n",
              "        const charts = await google.colab.kernel.invokeFunction(\n",
              "            'suggestCharts', [key], {});\n",
              "      } catch (error) {\n",
              "        console.error('Error during call to suggestCharts:', error);\n",
              "      }\n",
              "      quickchartButtonEl.classList.remove('colab-df-spinner');\n",
              "      quickchartButtonEl.classList.add('colab-df-quickchart-complete');\n",
              "    }\n",
              "    (() => {\n",
              "      let quickchartButtonEl =\n",
              "        document.querySelector('#df-e150c845-a19f-4e3b-8f35-2ee909f30358 button');\n",
              "      quickchartButtonEl.style.display =\n",
              "        google.colab.kernel.accessAllowed ? 'block' : 'none';\n",
              "    })();\n",
              "  </script>\n",
              "</div>\n",
              "    </div>\n",
              "  </div>\n"
            ]
          },
          "metadata": {},
          "execution_count": 42
        }
      ]
    },
    {
      "cell_type": "markdown",
      "source": [
        "В целом, за указанное количество итераций (20000) ни одна из моделей хорошо не обучилась, величина потерь достаточно значительна и перплексия далека от 1.\n",
        "Данные по обучению 5 первых моделей приведены по  [ссылке](https://github.com/solobala/DLL30/blob/main/DLL30_DZ9.ipynb)\n",
        "\n",
        "Если судить по величине Loss, то наилучшие результаты при обучении на выбранном датасете при прочих равных условиях показали модель с ячейкой RNN типа GRU. У них  лучшая перплексия, и время обучения меньше чем у lSTM.\n",
        "\n",
        "Если же сравнивать по типу функции внимания, то можно заметить, что ее выбор влияет на показатели качества модели.\n",
        "ДЛя LSTM ячеек лучшим выриантом оказалась функция внимания из лекции (минимальная перплексия, минимальные потери, наименьшее время обучения).\n",
        "\n",
        "Для GRU ячеек лучшие показатели оказались при использовании mlp (Loss 1.8831? перплексия 20.0260 - см файл из гитхаба), хотя за последние итерации они и ухудшились.\n"
      ],
      "metadata": {
        "id": "I5MjVJfb_hSs"
      }
    }
  ],
  "metadata": {
    "accelerator": "GPU",
    "colab": {
      "provenance": [],
      "gpuType": "T4",
      "include_colab_link": true
    },
    "kernelspec": {
      "display_name": "Python 3",
      "name": "python3"
    },
    "language_info": {
      "codemirror_mode": {
        "name": "ipython",
        "version": 3
      },
      "file_extension": ".py",
      "mimetype": "text/x-python",
      "name": "python",
      "nbconvert_exporter": "python",
      "pygments_lexer": "ipython3",
      "version": "3.6.6"
    },
    "widgets": {
      "application/vnd.jupyter.widget-state+json": {
        "b042099d9a5940cdb659631e8fe627bc": {
          "model_module": "@jupyter-widgets/controls",
          "model_name": "HBoxModel",
          "model_module_version": "1.5.0",
          "state": {
            "_dom_classes": [],
            "_model_module": "@jupyter-widgets/controls",
            "_model_module_version": "1.5.0",
            "_model_name": "HBoxModel",
            "_view_count": null,
            "_view_module": "@jupyter-widgets/controls",
            "_view_module_version": "1.5.0",
            "_view_name": "HBoxView",
            "box_style": "",
            "children": [
              "IPY_MODEL_8782dce4fdeb44bc89e935fa61608da7",
              "IPY_MODEL_2dfde39fe6614ad09695a3270300cb00",
              "IPY_MODEL_9ba419f7ff9c421c8dc2a1dff04ee239"
            ],
            "layout": "IPY_MODEL_c487c7fa33334ac7ae632b17c311e1c2"
          }
        },
        "8782dce4fdeb44bc89e935fa61608da7": {
          "model_module": "@jupyter-widgets/controls",
          "model_name": "HTMLModel",
          "model_module_version": "1.5.0",
          "state": {
            "_dom_classes": [],
            "_model_module": "@jupyter-widgets/controls",
            "_model_module_version": "1.5.0",
            "_model_name": "HTMLModel",
            "_view_count": null,
            "_view_module": "@jupyter-widgets/controls",
            "_view_module_version": "1.5.0",
            "_view_name": "HTMLView",
            "description": "",
            "description_tooltip": null,
            "layout": "IPY_MODEL_b88f051afbcf4299a5dba6f99f96bd44",
            "placeholder": "​",
            "style": "IPY_MODEL_30444fbb913f4f5ea566be82f882579e",
            "value": "100%"
          }
        },
        "2dfde39fe6614ad09695a3270300cb00": {
          "model_module": "@jupyter-widgets/controls",
          "model_name": "FloatProgressModel",
          "model_module_version": "1.5.0",
          "state": {
            "_dom_classes": [],
            "_model_module": "@jupyter-widgets/controls",
            "_model_module_version": "1.5.0",
            "_model_name": "FloatProgressModel",
            "_view_count": null,
            "_view_module": "@jupyter-widgets/controls",
            "_view_module_version": "1.5.0",
            "_view_name": "ProgressView",
            "bar_style": "success",
            "description": "",
            "description_tooltip": null,
            "layout": "IPY_MODEL_4056014615594ccab71c37e21d627626",
            "max": 20000,
            "min": 0,
            "orientation": "horizontal",
            "style": "IPY_MODEL_4a6f578ecd794b109348ab27245b037c",
            "value": 20000
          }
        },
        "9ba419f7ff9c421c8dc2a1dff04ee239": {
          "model_module": "@jupyter-widgets/controls",
          "model_name": "HTMLModel",
          "model_module_version": "1.5.0",
          "state": {
            "_dom_classes": [],
            "_model_module": "@jupyter-widgets/controls",
            "_model_module_version": "1.5.0",
            "_model_name": "HTMLModel",
            "_view_count": null,
            "_view_module": "@jupyter-widgets/controls",
            "_view_module_version": "1.5.0",
            "_view_name": "HTMLView",
            "description": "",
            "description_tooltip": null,
            "layout": "IPY_MODEL_bccd04d07d9b4b429007ae1c097ff973",
            "placeholder": "​",
            "style": "IPY_MODEL_b8840ca5212f4dfb8ea540ef44ca8df0",
            "value": " 20000/20000 [1:11:12&lt;00:00,  5.02it/s]"
          }
        },
        "c487c7fa33334ac7ae632b17c311e1c2": {
          "model_module": "@jupyter-widgets/base",
          "model_name": "LayoutModel",
          "model_module_version": "1.2.0",
          "state": {
            "_model_module": "@jupyter-widgets/base",
            "_model_module_version": "1.2.0",
            "_model_name": "LayoutModel",
            "_view_count": null,
            "_view_module": "@jupyter-widgets/base",
            "_view_module_version": "1.2.0",
            "_view_name": "LayoutView",
            "align_content": null,
            "align_items": null,
            "align_self": null,
            "border": null,
            "bottom": null,
            "display": null,
            "flex": null,
            "flex_flow": null,
            "grid_area": null,
            "grid_auto_columns": null,
            "grid_auto_flow": null,
            "grid_auto_rows": null,
            "grid_column": null,
            "grid_gap": null,
            "grid_row": null,
            "grid_template_areas": null,
            "grid_template_columns": null,
            "grid_template_rows": null,
            "height": null,
            "justify_content": null,
            "justify_items": null,
            "left": null,
            "margin": null,
            "max_height": null,
            "max_width": null,
            "min_height": null,
            "min_width": null,
            "object_fit": null,
            "object_position": null,
            "order": null,
            "overflow": null,
            "overflow_x": null,
            "overflow_y": null,
            "padding": null,
            "right": null,
            "top": null,
            "visibility": null,
            "width": null
          }
        },
        "b88f051afbcf4299a5dba6f99f96bd44": {
          "model_module": "@jupyter-widgets/base",
          "model_name": "LayoutModel",
          "model_module_version": "1.2.0",
          "state": {
            "_model_module": "@jupyter-widgets/base",
            "_model_module_version": "1.2.0",
            "_model_name": "LayoutModel",
            "_view_count": null,
            "_view_module": "@jupyter-widgets/base",
            "_view_module_version": "1.2.0",
            "_view_name": "LayoutView",
            "align_content": null,
            "align_items": null,
            "align_self": null,
            "border": null,
            "bottom": null,
            "display": null,
            "flex": null,
            "flex_flow": null,
            "grid_area": null,
            "grid_auto_columns": null,
            "grid_auto_flow": null,
            "grid_auto_rows": null,
            "grid_column": null,
            "grid_gap": null,
            "grid_row": null,
            "grid_template_areas": null,
            "grid_template_columns": null,
            "grid_template_rows": null,
            "height": null,
            "justify_content": null,
            "justify_items": null,
            "left": null,
            "margin": null,
            "max_height": null,
            "max_width": null,
            "min_height": null,
            "min_width": null,
            "object_fit": null,
            "object_position": null,
            "order": null,
            "overflow": null,
            "overflow_x": null,
            "overflow_y": null,
            "padding": null,
            "right": null,
            "top": null,
            "visibility": null,
            "width": null
          }
        },
        "30444fbb913f4f5ea566be82f882579e": {
          "model_module": "@jupyter-widgets/controls",
          "model_name": "DescriptionStyleModel",
          "model_module_version": "1.5.0",
          "state": {
            "_model_module": "@jupyter-widgets/controls",
            "_model_module_version": "1.5.0",
            "_model_name": "DescriptionStyleModel",
            "_view_count": null,
            "_view_module": "@jupyter-widgets/base",
            "_view_module_version": "1.2.0",
            "_view_name": "StyleView",
            "description_width": ""
          }
        },
        "4056014615594ccab71c37e21d627626": {
          "model_module": "@jupyter-widgets/base",
          "model_name": "LayoutModel",
          "model_module_version": "1.2.0",
          "state": {
            "_model_module": "@jupyter-widgets/base",
            "_model_module_version": "1.2.0",
            "_model_name": "LayoutModel",
            "_view_count": null,
            "_view_module": "@jupyter-widgets/base",
            "_view_module_version": "1.2.0",
            "_view_name": "LayoutView",
            "align_content": null,
            "align_items": null,
            "align_self": null,
            "border": null,
            "bottom": null,
            "display": null,
            "flex": null,
            "flex_flow": null,
            "grid_area": null,
            "grid_auto_columns": null,
            "grid_auto_flow": null,
            "grid_auto_rows": null,
            "grid_column": null,
            "grid_gap": null,
            "grid_row": null,
            "grid_template_areas": null,
            "grid_template_columns": null,
            "grid_template_rows": null,
            "height": null,
            "justify_content": null,
            "justify_items": null,
            "left": null,
            "margin": null,
            "max_height": null,
            "max_width": null,
            "min_height": null,
            "min_width": null,
            "object_fit": null,
            "object_position": null,
            "order": null,
            "overflow": null,
            "overflow_x": null,
            "overflow_y": null,
            "padding": null,
            "right": null,
            "top": null,
            "visibility": null,
            "width": null
          }
        },
        "4a6f578ecd794b109348ab27245b037c": {
          "model_module": "@jupyter-widgets/controls",
          "model_name": "ProgressStyleModel",
          "model_module_version": "1.5.0",
          "state": {
            "_model_module": "@jupyter-widgets/controls",
            "_model_module_version": "1.5.0",
            "_model_name": "ProgressStyleModel",
            "_view_count": null,
            "_view_module": "@jupyter-widgets/base",
            "_view_module_version": "1.2.0",
            "_view_name": "StyleView",
            "bar_color": null,
            "description_width": ""
          }
        },
        "bccd04d07d9b4b429007ae1c097ff973": {
          "model_module": "@jupyter-widgets/base",
          "model_name": "LayoutModel",
          "model_module_version": "1.2.0",
          "state": {
            "_model_module": "@jupyter-widgets/base",
            "_model_module_version": "1.2.0",
            "_model_name": "LayoutModel",
            "_view_count": null,
            "_view_module": "@jupyter-widgets/base",
            "_view_module_version": "1.2.0",
            "_view_name": "LayoutView",
            "align_content": null,
            "align_items": null,
            "align_self": null,
            "border": null,
            "bottom": null,
            "display": null,
            "flex": null,
            "flex_flow": null,
            "grid_area": null,
            "grid_auto_columns": null,
            "grid_auto_flow": null,
            "grid_auto_rows": null,
            "grid_column": null,
            "grid_gap": null,
            "grid_row": null,
            "grid_template_areas": null,
            "grid_template_columns": null,
            "grid_template_rows": null,
            "height": null,
            "justify_content": null,
            "justify_items": null,
            "left": null,
            "margin": null,
            "max_height": null,
            "max_width": null,
            "min_height": null,
            "min_width": null,
            "object_fit": null,
            "object_position": null,
            "order": null,
            "overflow": null,
            "overflow_x": null,
            "overflow_y": null,
            "padding": null,
            "right": null,
            "top": null,
            "visibility": null,
            "width": null
          }
        },
        "b8840ca5212f4dfb8ea540ef44ca8df0": {
          "model_module": "@jupyter-widgets/controls",
          "model_name": "DescriptionStyleModel",
          "model_module_version": "1.5.0",
          "state": {
            "_model_module": "@jupyter-widgets/controls",
            "_model_module_version": "1.5.0",
            "_model_name": "DescriptionStyleModel",
            "_view_count": null,
            "_view_module": "@jupyter-widgets/base",
            "_view_module_version": "1.2.0",
            "_view_name": "StyleView",
            "description_width": ""
          }
        },
        "683f214819d9474ebe69e9d20fd4ff47": {
          "model_module": "@jupyter-widgets/controls",
          "model_name": "HBoxModel",
          "model_module_version": "1.5.0",
          "state": {
            "_dom_classes": [],
            "_model_module": "@jupyter-widgets/controls",
            "_model_module_version": "1.5.0",
            "_model_name": "HBoxModel",
            "_view_count": null,
            "_view_module": "@jupyter-widgets/controls",
            "_view_module_version": "1.5.0",
            "_view_name": "HBoxView",
            "box_style": "",
            "children": [
              "IPY_MODEL_23c80ffb00e34c14b236d4e4badf9eaa",
              "IPY_MODEL_403c7ee78f0b469eb9f79d457dfd2f93",
              "IPY_MODEL_80b795b2a7de4f86b2c12deb35367278"
            ],
            "layout": "IPY_MODEL_61573272189f4be1b537f4d05b720f6b"
          }
        },
        "23c80ffb00e34c14b236d4e4badf9eaa": {
          "model_module": "@jupyter-widgets/controls",
          "model_name": "HTMLModel",
          "model_module_version": "1.5.0",
          "state": {
            "_dom_classes": [],
            "_model_module": "@jupyter-widgets/controls",
            "_model_module_version": "1.5.0",
            "_model_name": "HTMLModel",
            "_view_count": null,
            "_view_module": "@jupyter-widgets/controls",
            "_view_module_version": "1.5.0",
            "_view_name": "HTMLView",
            "description": "",
            "description_tooltip": null,
            "layout": "IPY_MODEL_7c1d8022e7424cec819a6d8f0ec02cf2",
            "placeholder": "​",
            "style": "IPY_MODEL_f946b666950e4d92a31d1484adfcf61f",
            "value": "100%"
          }
        },
        "403c7ee78f0b469eb9f79d457dfd2f93": {
          "model_module": "@jupyter-widgets/controls",
          "model_name": "FloatProgressModel",
          "model_module_version": "1.5.0",
          "state": {
            "_dom_classes": [],
            "_model_module": "@jupyter-widgets/controls",
            "_model_module_version": "1.5.0",
            "_model_name": "FloatProgressModel",
            "_view_count": null,
            "_view_module": "@jupyter-widgets/controls",
            "_view_module_version": "1.5.0",
            "_view_name": "ProgressView",
            "bar_style": "success",
            "description": "",
            "description_tooltip": null,
            "layout": "IPY_MODEL_c4ccc3dba8cf40faa6ac9e9a4c4aa6bf",
            "max": 20000,
            "min": 0,
            "orientation": "horizontal",
            "style": "IPY_MODEL_dd41ca26a56a4c6c82939b7a9ceef6ad",
            "value": 20000
          }
        },
        "80b795b2a7de4f86b2c12deb35367278": {
          "model_module": "@jupyter-widgets/controls",
          "model_name": "HTMLModel",
          "model_module_version": "1.5.0",
          "state": {
            "_dom_classes": [],
            "_model_module": "@jupyter-widgets/controls",
            "_model_module_version": "1.5.0",
            "_model_name": "HTMLModel",
            "_view_count": null,
            "_view_module": "@jupyter-widgets/controls",
            "_view_module_version": "1.5.0",
            "_view_name": "HTMLView",
            "description": "",
            "description_tooltip": null,
            "layout": "IPY_MODEL_caf423ff62cc48d39b9b04ca6d2d5c25",
            "placeholder": "​",
            "style": "IPY_MODEL_2feaa8bc5ba04821ad8e68bd5d74e47d",
            "value": " 20000/20000 [1:12:05&lt;00:00,  3.58it/s]"
          }
        },
        "61573272189f4be1b537f4d05b720f6b": {
          "model_module": "@jupyter-widgets/base",
          "model_name": "LayoutModel",
          "model_module_version": "1.2.0",
          "state": {
            "_model_module": "@jupyter-widgets/base",
            "_model_module_version": "1.2.0",
            "_model_name": "LayoutModel",
            "_view_count": null,
            "_view_module": "@jupyter-widgets/base",
            "_view_module_version": "1.2.0",
            "_view_name": "LayoutView",
            "align_content": null,
            "align_items": null,
            "align_self": null,
            "border": null,
            "bottom": null,
            "display": null,
            "flex": null,
            "flex_flow": null,
            "grid_area": null,
            "grid_auto_columns": null,
            "grid_auto_flow": null,
            "grid_auto_rows": null,
            "grid_column": null,
            "grid_gap": null,
            "grid_row": null,
            "grid_template_areas": null,
            "grid_template_columns": null,
            "grid_template_rows": null,
            "height": null,
            "justify_content": null,
            "justify_items": null,
            "left": null,
            "margin": null,
            "max_height": null,
            "max_width": null,
            "min_height": null,
            "min_width": null,
            "object_fit": null,
            "object_position": null,
            "order": null,
            "overflow": null,
            "overflow_x": null,
            "overflow_y": null,
            "padding": null,
            "right": null,
            "top": null,
            "visibility": null,
            "width": null
          }
        },
        "7c1d8022e7424cec819a6d8f0ec02cf2": {
          "model_module": "@jupyter-widgets/base",
          "model_name": "LayoutModel",
          "model_module_version": "1.2.0",
          "state": {
            "_model_module": "@jupyter-widgets/base",
            "_model_module_version": "1.2.0",
            "_model_name": "LayoutModel",
            "_view_count": null,
            "_view_module": "@jupyter-widgets/base",
            "_view_module_version": "1.2.0",
            "_view_name": "LayoutView",
            "align_content": null,
            "align_items": null,
            "align_self": null,
            "border": null,
            "bottom": null,
            "display": null,
            "flex": null,
            "flex_flow": null,
            "grid_area": null,
            "grid_auto_columns": null,
            "grid_auto_flow": null,
            "grid_auto_rows": null,
            "grid_column": null,
            "grid_gap": null,
            "grid_row": null,
            "grid_template_areas": null,
            "grid_template_columns": null,
            "grid_template_rows": null,
            "height": null,
            "justify_content": null,
            "justify_items": null,
            "left": null,
            "margin": null,
            "max_height": null,
            "max_width": null,
            "min_height": null,
            "min_width": null,
            "object_fit": null,
            "object_position": null,
            "order": null,
            "overflow": null,
            "overflow_x": null,
            "overflow_y": null,
            "padding": null,
            "right": null,
            "top": null,
            "visibility": null,
            "width": null
          }
        },
        "f946b666950e4d92a31d1484adfcf61f": {
          "model_module": "@jupyter-widgets/controls",
          "model_name": "DescriptionStyleModel",
          "model_module_version": "1.5.0",
          "state": {
            "_model_module": "@jupyter-widgets/controls",
            "_model_module_version": "1.5.0",
            "_model_name": "DescriptionStyleModel",
            "_view_count": null,
            "_view_module": "@jupyter-widgets/base",
            "_view_module_version": "1.2.0",
            "_view_name": "StyleView",
            "description_width": ""
          }
        },
        "c4ccc3dba8cf40faa6ac9e9a4c4aa6bf": {
          "model_module": "@jupyter-widgets/base",
          "model_name": "LayoutModel",
          "model_module_version": "1.2.0",
          "state": {
            "_model_module": "@jupyter-widgets/base",
            "_model_module_version": "1.2.0",
            "_model_name": "LayoutModel",
            "_view_count": null,
            "_view_module": "@jupyter-widgets/base",
            "_view_module_version": "1.2.0",
            "_view_name": "LayoutView",
            "align_content": null,
            "align_items": null,
            "align_self": null,
            "border": null,
            "bottom": null,
            "display": null,
            "flex": null,
            "flex_flow": null,
            "grid_area": null,
            "grid_auto_columns": null,
            "grid_auto_flow": null,
            "grid_auto_rows": null,
            "grid_column": null,
            "grid_gap": null,
            "grid_row": null,
            "grid_template_areas": null,
            "grid_template_columns": null,
            "grid_template_rows": null,
            "height": null,
            "justify_content": null,
            "justify_items": null,
            "left": null,
            "margin": null,
            "max_height": null,
            "max_width": null,
            "min_height": null,
            "min_width": null,
            "object_fit": null,
            "object_position": null,
            "order": null,
            "overflow": null,
            "overflow_x": null,
            "overflow_y": null,
            "padding": null,
            "right": null,
            "top": null,
            "visibility": null,
            "width": null
          }
        },
        "dd41ca26a56a4c6c82939b7a9ceef6ad": {
          "model_module": "@jupyter-widgets/controls",
          "model_name": "ProgressStyleModel",
          "model_module_version": "1.5.0",
          "state": {
            "_model_module": "@jupyter-widgets/controls",
            "_model_module_version": "1.5.0",
            "_model_name": "ProgressStyleModel",
            "_view_count": null,
            "_view_module": "@jupyter-widgets/base",
            "_view_module_version": "1.2.0",
            "_view_name": "StyleView",
            "bar_color": null,
            "description_width": ""
          }
        },
        "caf423ff62cc48d39b9b04ca6d2d5c25": {
          "model_module": "@jupyter-widgets/base",
          "model_name": "LayoutModel",
          "model_module_version": "1.2.0",
          "state": {
            "_model_module": "@jupyter-widgets/base",
            "_model_module_version": "1.2.0",
            "_model_name": "LayoutModel",
            "_view_count": null,
            "_view_module": "@jupyter-widgets/base",
            "_view_module_version": "1.2.0",
            "_view_name": "LayoutView",
            "align_content": null,
            "align_items": null,
            "align_self": null,
            "border": null,
            "bottom": null,
            "display": null,
            "flex": null,
            "flex_flow": null,
            "grid_area": null,
            "grid_auto_columns": null,
            "grid_auto_flow": null,
            "grid_auto_rows": null,
            "grid_column": null,
            "grid_gap": null,
            "grid_row": null,
            "grid_template_areas": null,
            "grid_template_columns": null,
            "grid_template_rows": null,
            "height": null,
            "justify_content": null,
            "justify_items": null,
            "left": null,
            "margin": null,
            "max_height": null,
            "max_width": null,
            "min_height": null,
            "min_width": null,
            "object_fit": null,
            "object_position": null,
            "order": null,
            "overflow": null,
            "overflow_x": null,
            "overflow_y": null,
            "padding": null,
            "right": null,
            "top": null,
            "visibility": null,
            "width": null
          }
        },
        "2feaa8bc5ba04821ad8e68bd5d74e47d": {
          "model_module": "@jupyter-widgets/controls",
          "model_name": "DescriptionStyleModel",
          "model_module_version": "1.5.0",
          "state": {
            "_model_module": "@jupyter-widgets/controls",
            "_model_module_version": "1.5.0",
            "_model_name": "DescriptionStyleModel",
            "_view_count": null,
            "_view_module": "@jupyter-widgets/base",
            "_view_module_version": "1.2.0",
            "_view_name": "StyleView",
            "description_width": ""
          }
        },
        "65361941e51f42eb8fbc6ec594ece510": {
          "model_module": "@jupyter-widgets/controls",
          "model_name": "HBoxModel",
          "model_module_version": "1.5.0",
          "state": {
            "_dom_classes": [],
            "_model_module": "@jupyter-widgets/controls",
            "_model_module_version": "1.5.0",
            "_model_name": "HBoxModel",
            "_view_count": null,
            "_view_module": "@jupyter-widgets/controls",
            "_view_module_version": "1.5.0",
            "_view_name": "HBoxView",
            "box_style": "",
            "children": [
              "IPY_MODEL_4cd7980ddda14480a337e59a3e0f7782",
              "IPY_MODEL_c1f9c241f4784010954d999cc0325073",
              "IPY_MODEL_99ee755c458a4f968b76cd65b051d154"
            ],
            "layout": "IPY_MODEL_0a96e4b1ef094771bb295a28fe610089"
          }
        },
        "4cd7980ddda14480a337e59a3e0f7782": {
          "model_module": "@jupyter-widgets/controls",
          "model_name": "HTMLModel",
          "model_module_version": "1.5.0",
          "state": {
            "_dom_classes": [],
            "_model_module": "@jupyter-widgets/controls",
            "_model_module_version": "1.5.0",
            "_model_name": "HTMLModel",
            "_view_count": null,
            "_view_module": "@jupyter-widgets/controls",
            "_view_module_version": "1.5.0",
            "_view_name": "HTMLView",
            "description": "",
            "description_tooltip": null,
            "layout": "IPY_MODEL_920636e912cd4e6f81fb073c3aeef74b",
            "placeholder": "​",
            "style": "IPY_MODEL_965ac8a920154685bbb10f7fb52fced1",
            "value": "100%"
          }
        },
        "c1f9c241f4784010954d999cc0325073": {
          "model_module": "@jupyter-widgets/controls",
          "model_name": "FloatProgressModel",
          "model_module_version": "1.5.0",
          "state": {
            "_dom_classes": [],
            "_model_module": "@jupyter-widgets/controls",
            "_model_module_version": "1.5.0",
            "_model_name": "FloatProgressModel",
            "_view_count": null,
            "_view_module": "@jupyter-widgets/controls",
            "_view_module_version": "1.5.0",
            "_view_name": "ProgressView",
            "bar_style": "success",
            "description": "",
            "description_tooltip": null,
            "layout": "IPY_MODEL_4d2d5d33d8d54b32818531989d124860",
            "max": 20000,
            "min": 0,
            "orientation": "horizontal",
            "style": "IPY_MODEL_145ce84b615e4f69ac31d045a02342fb",
            "value": 20000
          }
        },
        "99ee755c458a4f968b76cd65b051d154": {
          "model_module": "@jupyter-widgets/controls",
          "model_name": "HTMLModel",
          "model_module_version": "1.5.0",
          "state": {
            "_dom_classes": [],
            "_model_module": "@jupyter-widgets/controls",
            "_model_module_version": "1.5.0",
            "_model_name": "HTMLModel",
            "_view_count": null,
            "_view_module": "@jupyter-widgets/controls",
            "_view_module_version": "1.5.0",
            "_view_name": "HTMLView",
            "description": "",
            "description_tooltip": null,
            "layout": "IPY_MODEL_1c332d6f512e43369a617c8a5b50c989",
            "placeholder": "​",
            "style": "IPY_MODEL_3f87c8985585437b83cf43ff9d0395e1",
            "value": " 20000/20000 [1:11:10&lt;00:00,  4.73it/s]"
          }
        },
        "0a96e4b1ef094771bb295a28fe610089": {
          "model_module": "@jupyter-widgets/base",
          "model_name": "LayoutModel",
          "model_module_version": "1.2.0",
          "state": {
            "_model_module": "@jupyter-widgets/base",
            "_model_module_version": "1.2.0",
            "_model_name": "LayoutModel",
            "_view_count": null,
            "_view_module": "@jupyter-widgets/base",
            "_view_module_version": "1.2.0",
            "_view_name": "LayoutView",
            "align_content": null,
            "align_items": null,
            "align_self": null,
            "border": null,
            "bottom": null,
            "display": null,
            "flex": null,
            "flex_flow": null,
            "grid_area": null,
            "grid_auto_columns": null,
            "grid_auto_flow": null,
            "grid_auto_rows": null,
            "grid_column": null,
            "grid_gap": null,
            "grid_row": null,
            "grid_template_areas": null,
            "grid_template_columns": null,
            "grid_template_rows": null,
            "height": null,
            "justify_content": null,
            "justify_items": null,
            "left": null,
            "margin": null,
            "max_height": null,
            "max_width": null,
            "min_height": null,
            "min_width": null,
            "object_fit": null,
            "object_position": null,
            "order": null,
            "overflow": null,
            "overflow_x": null,
            "overflow_y": null,
            "padding": null,
            "right": null,
            "top": null,
            "visibility": null,
            "width": null
          }
        },
        "920636e912cd4e6f81fb073c3aeef74b": {
          "model_module": "@jupyter-widgets/base",
          "model_name": "LayoutModel",
          "model_module_version": "1.2.0",
          "state": {
            "_model_module": "@jupyter-widgets/base",
            "_model_module_version": "1.2.0",
            "_model_name": "LayoutModel",
            "_view_count": null,
            "_view_module": "@jupyter-widgets/base",
            "_view_module_version": "1.2.0",
            "_view_name": "LayoutView",
            "align_content": null,
            "align_items": null,
            "align_self": null,
            "border": null,
            "bottom": null,
            "display": null,
            "flex": null,
            "flex_flow": null,
            "grid_area": null,
            "grid_auto_columns": null,
            "grid_auto_flow": null,
            "grid_auto_rows": null,
            "grid_column": null,
            "grid_gap": null,
            "grid_row": null,
            "grid_template_areas": null,
            "grid_template_columns": null,
            "grid_template_rows": null,
            "height": null,
            "justify_content": null,
            "justify_items": null,
            "left": null,
            "margin": null,
            "max_height": null,
            "max_width": null,
            "min_height": null,
            "min_width": null,
            "object_fit": null,
            "object_position": null,
            "order": null,
            "overflow": null,
            "overflow_x": null,
            "overflow_y": null,
            "padding": null,
            "right": null,
            "top": null,
            "visibility": null,
            "width": null
          }
        },
        "965ac8a920154685bbb10f7fb52fced1": {
          "model_module": "@jupyter-widgets/controls",
          "model_name": "DescriptionStyleModel",
          "model_module_version": "1.5.0",
          "state": {
            "_model_module": "@jupyter-widgets/controls",
            "_model_module_version": "1.5.0",
            "_model_name": "DescriptionStyleModel",
            "_view_count": null,
            "_view_module": "@jupyter-widgets/base",
            "_view_module_version": "1.2.0",
            "_view_name": "StyleView",
            "description_width": ""
          }
        },
        "4d2d5d33d8d54b32818531989d124860": {
          "model_module": "@jupyter-widgets/base",
          "model_name": "LayoutModel",
          "model_module_version": "1.2.0",
          "state": {
            "_model_module": "@jupyter-widgets/base",
            "_model_module_version": "1.2.0",
            "_model_name": "LayoutModel",
            "_view_count": null,
            "_view_module": "@jupyter-widgets/base",
            "_view_module_version": "1.2.0",
            "_view_name": "LayoutView",
            "align_content": null,
            "align_items": null,
            "align_self": null,
            "border": null,
            "bottom": null,
            "display": null,
            "flex": null,
            "flex_flow": null,
            "grid_area": null,
            "grid_auto_columns": null,
            "grid_auto_flow": null,
            "grid_auto_rows": null,
            "grid_column": null,
            "grid_gap": null,
            "grid_row": null,
            "grid_template_areas": null,
            "grid_template_columns": null,
            "grid_template_rows": null,
            "height": null,
            "justify_content": null,
            "justify_items": null,
            "left": null,
            "margin": null,
            "max_height": null,
            "max_width": null,
            "min_height": null,
            "min_width": null,
            "object_fit": null,
            "object_position": null,
            "order": null,
            "overflow": null,
            "overflow_x": null,
            "overflow_y": null,
            "padding": null,
            "right": null,
            "top": null,
            "visibility": null,
            "width": null
          }
        },
        "145ce84b615e4f69ac31d045a02342fb": {
          "model_module": "@jupyter-widgets/controls",
          "model_name": "ProgressStyleModel",
          "model_module_version": "1.5.0",
          "state": {
            "_model_module": "@jupyter-widgets/controls",
            "_model_module_version": "1.5.0",
            "_model_name": "ProgressStyleModel",
            "_view_count": null,
            "_view_module": "@jupyter-widgets/base",
            "_view_module_version": "1.2.0",
            "_view_name": "StyleView",
            "bar_color": null,
            "description_width": ""
          }
        },
        "1c332d6f512e43369a617c8a5b50c989": {
          "model_module": "@jupyter-widgets/base",
          "model_name": "LayoutModel",
          "model_module_version": "1.2.0",
          "state": {
            "_model_module": "@jupyter-widgets/base",
            "_model_module_version": "1.2.0",
            "_model_name": "LayoutModel",
            "_view_count": null,
            "_view_module": "@jupyter-widgets/base",
            "_view_module_version": "1.2.0",
            "_view_name": "LayoutView",
            "align_content": null,
            "align_items": null,
            "align_self": null,
            "border": null,
            "bottom": null,
            "display": null,
            "flex": null,
            "flex_flow": null,
            "grid_area": null,
            "grid_auto_columns": null,
            "grid_auto_flow": null,
            "grid_auto_rows": null,
            "grid_column": null,
            "grid_gap": null,
            "grid_row": null,
            "grid_template_areas": null,
            "grid_template_columns": null,
            "grid_template_rows": null,
            "height": null,
            "justify_content": null,
            "justify_items": null,
            "left": null,
            "margin": null,
            "max_height": null,
            "max_width": null,
            "min_height": null,
            "min_width": null,
            "object_fit": null,
            "object_position": null,
            "order": null,
            "overflow": null,
            "overflow_x": null,
            "overflow_y": null,
            "padding": null,
            "right": null,
            "top": null,
            "visibility": null,
            "width": null
          }
        },
        "3f87c8985585437b83cf43ff9d0395e1": {
          "model_module": "@jupyter-widgets/controls",
          "model_name": "DescriptionStyleModel",
          "model_module_version": "1.5.0",
          "state": {
            "_model_module": "@jupyter-widgets/controls",
            "_model_module_version": "1.5.0",
            "_model_name": "DescriptionStyleModel",
            "_view_count": null,
            "_view_module": "@jupyter-widgets/base",
            "_view_module_version": "1.2.0",
            "_view_name": "StyleView",
            "description_width": ""
          }
        },
        "e3f6f69d61f4487fbbc1a437872c9454": {
          "model_module": "@jupyter-widgets/controls",
          "model_name": "HBoxModel",
          "model_module_version": "1.5.0",
          "state": {
            "_dom_classes": [],
            "_model_module": "@jupyter-widgets/controls",
            "_model_module_version": "1.5.0",
            "_model_name": "HBoxModel",
            "_view_count": null,
            "_view_module": "@jupyter-widgets/controls",
            "_view_module_version": "1.5.0",
            "_view_name": "HBoxView",
            "box_style": "",
            "children": [
              "IPY_MODEL_e003d365b156495e80f793d421932df5",
              "IPY_MODEL_27ae983bd78c46018ae92227f61ffef8",
              "IPY_MODEL_d79b5f09b411455aa25d910246ed6a2d"
            ],
            "layout": "IPY_MODEL_26e540bb393c4c19929f573b1d3cab24"
          }
        },
        "e003d365b156495e80f793d421932df5": {
          "model_module": "@jupyter-widgets/controls",
          "model_name": "HTMLModel",
          "model_module_version": "1.5.0",
          "state": {
            "_dom_classes": [],
            "_model_module": "@jupyter-widgets/controls",
            "_model_module_version": "1.5.0",
            "_model_name": "HTMLModel",
            "_view_count": null,
            "_view_module": "@jupyter-widgets/controls",
            "_view_module_version": "1.5.0",
            "_view_name": "HTMLView",
            "description": "",
            "description_tooltip": null,
            "layout": "IPY_MODEL_c404d4f60b69435187d3abc57981b74b",
            "placeholder": "​",
            "style": "IPY_MODEL_f099a5366928413c88aeb58831216c93",
            "value": "100%"
          }
        },
        "27ae983bd78c46018ae92227f61ffef8": {
          "model_module": "@jupyter-widgets/controls",
          "model_name": "FloatProgressModel",
          "model_module_version": "1.5.0",
          "state": {
            "_dom_classes": [],
            "_model_module": "@jupyter-widgets/controls",
            "_model_module_version": "1.5.0",
            "_model_name": "FloatProgressModel",
            "_view_count": null,
            "_view_module": "@jupyter-widgets/controls",
            "_view_module_version": "1.5.0",
            "_view_name": "ProgressView",
            "bar_style": "success",
            "description": "",
            "description_tooltip": null,
            "layout": "IPY_MODEL_d277b6db0e5f46ddbdae2c51b397cbe4",
            "max": 20000,
            "min": 0,
            "orientation": "horizontal",
            "style": "IPY_MODEL_0eb2a297f3b54c7c807eb49604aec416",
            "value": 20000
          }
        },
        "d79b5f09b411455aa25d910246ed6a2d": {
          "model_module": "@jupyter-widgets/controls",
          "model_name": "HTMLModel",
          "model_module_version": "1.5.0",
          "state": {
            "_dom_classes": [],
            "_model_module": "@jupyter-widgets/controls",
            "_model_module_version": "1.5.0",
            "_model_name": "HTMLModel",
            "_view_count": null,
            "_view_module": "@jupyter-widgets/controls",
            "_view_module_version": "1.5.0",
            "_view_name": "HTMLView",
            "description": "",
            "description_tooltip": null,
            "layout": "IPY_MODEL_b53ea5a7ff8a4b0d838ebfd35036d9c3",
            "placeholder": "​",
            "style": "IPY_MODEL_44bb7191e20140aa95b122810fb62c67",
            "value": " 20000/20000 [1:13:17&lt;00:00,  4.98it/s]"
          }
        },
        "26e540bb393c4c19929f573b1d3cab24": {
          "model_module": "@jupyter-widgets/base",
          "model_name": "LayoutModel",
          "model_module_version": "1.2.0",
          "state": {
            "_model_module": "@jupyter-widgets/base",
            "_model_module_version": "1.2.0",
            "_model_name": "LayoutModel",
            "_view_count": null,
            "_view_module": "@jupyter-widgets/base",
            "_view_module_version": "1.2.0",
            "_view_name": "LayoutView",
            "align_content": null,
            "align_items": null,
            "align_self": null,
            "border": null,
            "bottom": null,
            "display": null,
            "flex": null,
            "flex_flow": null,
            "grid_area": null,
            "grid_auto_columns": null,
            "grid_auto_flow": null,
            "grid_auto_rows": null,
            "grid_column": null,
            "grid_gap": null,
            "grid_row": null,
            "grid_template_areas": null,
            "grid_template_columns": null,
            "grid_template_rows": null,
            "height": null,
            "justify_content": null,
            "justify_items": null,
            "left": null,
            "margin": null,
            "max_height": null,
            "max_width": null,
            "min_height": null,
            "min_width": null,
            "object_fit": null,
            "object_position": null,
            "order": null,
            "overflow": null,
            "overflow_x": null,
            "overflow_y": null,
            "padding": null,
            "right": null,
            "top": null,
            "visibility": null,
            "width": null
          }
        },
        "c404d4f60b69435187d3abc57981b74b": {
          "model_module": "@jupyter-widgets/base",
          "model_name": "LayoutModel",
          "model_module_version": "1.2.0",
          "state": {
            "_model_module": "@jupyter-widgets/base",
            "_model_module_version": "1.2.0",
            "_model_name": "LayoutModel",
            "_view_count": null,
            "_view_module": "@jupyter-widgets/base",
            "_view_module_version": "1.2.0",
            "_view_name": "LayoutView",
            "align_content": null,
            "align_items": null,
            "align_self": null,
            "border": null,
            "bottom": null,
            "display": null,
            "flex": null,
            "flex_flow": null,
            "grid_area": null,
            "grid_auto_columns": null,
            "grid_auto_flow": null,
            "grid_auto_rows": null,
            "grid_column": null,
            "grid_gap": null,
            "grid_row": null,
            "grid_template_areas": null,
            "grid_template_columns": null,
            "grid_template_rows": null,
            "height": null,
            "justify_content": null,
            "justify_items": null,
            "left": null,
            "margin": null,
            "max_height": null,
            "max_width": null,
            "min_height": null,
            "min_width": null,
            "object_fit": null,
            "object_position": null,
            "order": null,
            "overflow": null,
            "overflow_x": null,
            "overflow_y": null,
            "padding": null,
            "right": null,
            "top": null,
            "visibility": null,
            "width": null
          }
        },
        "f099a5366928413c88aeb58831216c93": {
          "model_module": "@jupyter-widgets/controls",
          "model_name": "DescriptionStyleModel",
          "model_module_version": "1.5.0",
          "state": {
            "_model_module": "@jupyter-widgets/controls",
            "_model_module_version": "1.5.0",
            "_model_name": "DescriptionStyleModel",
            "_view_count": null,
            "_view_module": "@jupyter-widgets/base",
            "_view_module_version": "1.2.0",
            "_view_name": "StyleView",
            "description_width": ""
          }
        },
        "d277b6db0e5f46ddbdae2c51b397cbe4": {
          "model_module": "@jupyter-widgets/base",
          "model_name": "LayoutModel",
          "model_module_version": "1.2.0",
          "state": {
            "_model_module": "@jupyter-widgets/base",
            "_model_module_version": "1.2.0",
            "_model_name": "LayoutModel",
            "_view_count": null,
            "_view_module": "@jupyter-widgets/base",
            "_view_module_version": "1.2.0",
            "_view_name": "LayoutView",
            "align_content": null,
            "align_items": null,
            "align_self": null,
            "border": null,
            "bottom": null,
            "display": null,
            "flex": null,
            "flex_flow": null,
            "grid_area": null,
            "grid_auto_columns": null,
            "grid_auto_flow": null,
            "grid_auto_rows": null,
            "grid_column": null,
            "grid_gap": null,
            "grid_row": null,
            "grid_template_areas": null,
            "grid_template_columns": null,
            "grid_template_rows": null,
            "height": null,
            "justify_content": null,
            "justify_items": null,
            "left": null,
            "margin": null,
            "max_height": null,
            "max_width": null,
            "min_height": null,
            "min_width": null,
            "object_fit": null,
            "object_position": null,
            "order": null,
            "overflow": null,
            "overflow_x": null,
            "overflow_y": null,
            "padding": null,
            "right": null,
            "top": null,
            "visibility": null,
            "width": null
          }
        },
        "0eb2a297f3b54c7c807eb49604aec416": {
          "model_module": "@jupyter-widgets/controls",
          "model_name": "ProgressStyleModel",
          "model_module_version": "1.5.0",
          "state": {
            "_model_module": "@jupyter-widgets/controls",
            "_model_module_version": "1.5.0",
            "_model_name": "ProgressStyleModel",
            "_view_count": null,
            "_view_module": "@jupyter-widgets/base",
            "_view_module_version": "1.2.0",
            "_view_name": "StyleView",
            "bar_color": null,
            "description_width": ""
          }
        },
        "b53ea5a7ff8a4b0d838ebfd35036d9c3": {
          "model_module": "@jupyter-widgets/base",
          "model_name": "LayoutModel",
          "model_module_version": "1.2.0",
          "state": {
            "_model_module": "@jupyter-widgets/base",
            "_model_module_version": "1.2.0",
            "_model_name": "LayoutModel",
            "_view_count": null,
            "_view_module": "@jupyter-widgets/base",
            "_view_module_version": "1.2.0",
            "_view_name": "LayoutView",
            "align_content": null,
            "align_items": null,
            "align_self": null,
            "border": null,
            "bottom": null,
            "display": null,
            "flex": null,
            "flex_flow": null,
            "grid_area": null,
            "grid_auto_columns": null,
            "grid_auto_flow": null,
            "grid_auto_rows": null,
            "grid_column": null,
            "grid_gap": null,
            "grid_row": null,
            "grid_template_areas": null,
            "grid_template_columns": null,
            "grid_template_rows": null,
            "height": null,
            "justify_content": null,
            "justify_items": null,
            "left": null,
            "margin": null,
            "max_height": null,
            "max_width": null,
            "min_height": null,
            "min_width": null,
            "object_fit": null,
            "object_position": null,
            "order": null,
            "overflow": null,
            "overflow_x": null,
            "overflow_y": null,
            "padding": null,
            "right": null,
            "top": null,
            "visibility": null,
            "width": null
          }
        },
        "44bb7191e20140aa95b122810fb62c67": {
          "model_module": "@jupyter-widgets/controls",
          "model_name": "DescriptionStyleModel",
          "model_module_version": "1.5.0",
          "state": {
            "_model_module": "@jupyter-widgets/controls",
            "_model_module_version": "1.5.0",
            "_model_name": "DescriptionStyleModel",
            "_view_count": null,
            "_view_module": "@jupyter-widgets/base",
            "_view_module_version": "1.2.0",
            "_view_name": "StyleView",
            "description_width": ""
          }
        },
        "c2e97225cfc4463a9afbbc07bd4fbe89": {
          "model_module": "@jupyter-widgets/controls",
          "model_name": "HBoxModel",
          "model_module_version": "1.5.0",
          "state": {
            "_dom_classes": [],
            "_model_module": "@jupyter-widgets/controls",
            "_model_module_version": "1.5.0",
            "_model_name": "HBoxModel",
            "_view_count": null,
            "_view_module": "@jupyter-widgets/controls",
            "_view_module_version": "1.5.0",
            "_view_name": "HBoxView",
            "box_style": "",
            "children": [
              "IPY_MODEL_4325a86165514197bfebb20c74822b9d",
              "IPY_MODEL_0a50957e57e64975b5de91ed28cbb67c",
              "IPY_MODEL_284a834fd46c495798feed3e77c4bd44"
            ],
            "layout": "IPY_MODEL_21fd76f6168b4998bdff6e89fb6486bf"
          }
        },
        "4325a86165514197bfebb20c74822b9d": {
          "model_module": "@jupyter-widgets/controls",
          "model_name": "HTMLModel",
          "model_module_version": "1.5.0",
          "state": {
            "_dom_classes": [],
            "_model_module": "@jupyter-widgets/controls",
            "_model_module_version": "1.5.0",
            "_model_name": "HTMLModel",
            "_view_count": null,
            "_view_module": "@jupyter-widgets/controls",
            "_view_module_version": "1.5.0",
            "_view_name": "HTMLView",
            "description": "",
            "description_tooltip": null,
            "layout": "IPY_MODEL_9333b614256e4e7ebd7be02dc8f979bb",
            "placeholder": "​",
            "style": "IPY_MODEL_25c32c6bfc42497cb1a014f8c7261462",
            "value": "100%"
          }
        },
        "0a50957e57e64975b5de91ed28cbb67c": {
          "model_module": "@jupyter-widgets/controls",
          "model_name": "FloatProgressModel",
          "model_module_version": "1.5.0",
          "state": {
            "_dom_classes": [],
            "_model_module": "@jupyter-widgets/controls",
            "_model_module_version": "1.5.0",
            "_model_name": "FloatProgressModel",
            "_view_count": null,
            "_view_module": "@jupyter-widgets/controls",
            "_view_module_version": "1.5.0",
            "_view_name": "ProgressView",
            "bar_style": "success",
            "description": "",
            "description_tooltip": null,
            "layout": "IPY_MODEL_a2c6037662dd4e8eabec550f46abc005",
            "max": 20000,
            "min": 0,
            "orientation": "horizontal",
            "style": "IPY_MODEL_5ede423daba74a0fa204cecce99a5f8a",
            "value": 20000
          }
        },
        "284a834fd46c495798feed3e77c4bd44": {
          "model_module": "@jupyter-widgets/controls",
          "model_name": "HTMLModel",
          "model_module_version": "1.5.0",
          "state": {
            "_dom_classes": [],
            "_model_module": "@jupyter-widgets/controls",
            "_model_module_version": "1.5.0",
            "_model_name": "HTMLModel",
            "_view_count": null,
            "_view_module": "@jupyter-widgets/controls",
            "_view_module_version": "1.5.0",
            "_view_name": "HTMLView",
            "description": "",
            "description_tooltip": null,
            "layout": "IPY_MODEL_14c729885cd74256a2d9ee7bc5313622",
            "placeholder": "​",
            "style": "IPY_MODEL_24e0034772c040249a1c92a4c2688574",
            "value": " 20000/20000 [1:00:47&lt;00:00,  5.06it/s]"
          }
        },
        "21fd76f6168b4998bdff6e89fb6486bf": {
          "model_module": "@jupyter-widgets/base",
          "model_name": "LayoutModel",
          "model_module_version": "1.2.0",
          "state": {
            "_model_module": "@jupyter-widgets/base",
            "_model_module_version": "1.2.0",
            "_model_name": "LayoutModel",
            "_view_count": null,
            "_view_module": "@jupyter-widgets/base",
            "_view_module_version": "1.2.0",
            "_view_name": "LayoutView",
            "align_content": null,
            "align_items": null,
            "align_self": null,
            "border": null,
            "bottom": null,
            "display": null,
            "flex": null,
            "flex_flow": null,
            "grid_area": null,
            "grid_auto_columns": null,
            "grid_auto_flow": null,
            "grid_auto_rows": null,
            "grid_column": null,
            "grid_gap": null,
            "grid_row": null,
            "grid_template_areas": null,
            "grid_template_columns": null,
            "grid_template_rows": null,
            "height": null,
            "justify_content": null,
            "justify_items": null,
            "left": null,
            "margin": null,
            "max_height": null,
            "max_width": null,
            "min_height": null,
            "min_width": null,
            "object_fit": null,
            "object_position": null,
            "order": null,
            "overflow": null,
            "overflow_x": null,
            "overflow_y": null,
            "padding": null,
            "right": null,
            "top": null,
            "visibility": null,
            "width": null
          }
        },
        "9333b614256e4e7ebd7be02dc8f979bb": {
          "model_module": "@jupyter-widgets/base",
          "model_name": "LayoutModel",
          "model_module_version": "1.2.0",
          "state": {
            "_model_module": "@jupyter-widgets/base",
            "_model_module_version": "1.2.0",
            "_model_name": "LayoutModel",
            "_view_count": null,
            "_view_module": "@jupyter-widgets/base",
            "_view_module_version": "1.2.0",
            "_view_name": "LayoutView",
            "align_content": null,
            "align_items": null,
            "align_self": null,
            "border": null,
            "bottom": null,
            "display": null,
            "flex": null,
            "flex_flow": null,
            "grid_area": null,
            "grid_auto_columns": null,
            "grid_auto_flow": null,
            "grid_auto_rows": null,
            "grid_column": null,
            "grid_gap": null,
            "grid_row": null,
            "grid_template_areas": null,
            "grid_template_columns": null,
            "grid_template_rows": null,
            "height": null,
            "justify_content": null,
            "justify_items": null,
            "left": null,
            "margin": null,
            "max_height": null,
            "max_width": null,
            "min_height": null,
            "min_width": null,
            "object_fit": null,
            "object_position": null,
            "order": null,
            "overflow": null,
            "overflow_x": null,
            "overflow_y": null,
            "padding": null,
            "right": null,
            "top": null,
            "visibility": null,
            "width": null
          }
        },
        "25c32c6bfc42497cb1a014f8c7261462": {
          "model_module": "@jupyter-widgets/controls",
          "model_name": "DescriptionStyleModel",
          "model_module_version": "1.5.0",
          "state": {
            "_model_module": "@jupyter-widgets/controls",
            "_model_module_version": "1.5.0",
            "_model_name": "DescriptionStyleModel",
            "_view_count": null,
            "_view_module": "@jupyter-widgets/base",
            "_view_module_version": "1.2.0",
            "_view_name": "StyleView",
            "description_width": ""
          }
        },
        "a2c6037662dd4e8eabec550f46abc005": {
          "model_module": "@jupyter-widgets/base",
          "model_name": "LayoutModel",
          "model_module_version": "1.2.0",
          "state": {
            "_model_module": "@jupyter-widgets/base",
            "_model_module_version": "1.2.0",
            "_model_name": "LayoutModel",
            "_view_count": null,
            "_view_module": "@jupyter-widgets/base",
            "_view_module_version": "1.2.0",
            "_view_name": "LayoutView",
            "align_content": null,
            "align_items": null,
            "align_self": null,
            "border": null,
            "bottom": null,
            "display": null,
            "flex": null,
            "flex_flow": null,
            "grid_area": null,
            "grid_auto_columns": null,
            "grid_auto_flow": null,
            "grid_auto_rows": null,
            "grid_column": null,
            "grid_gap": null,
            "grid_row": null,
            "grid_template_areas": null,
            "grid_template_columns": null,
            "grid_template_rows": null,
            "height": null,
            "justify_content": null,
            "justify_items": null,
            "left": null,
            "margin": null,
            "max_height": null,
            "max_width": null,
            "min_height": null,
            "min_width": null,
            "object_fit": null,
            "object_position": null,
            "order": null,
            "overflow": null,
            "overflow_x": null,
            "overflow_y": null,
            "padding": null,
            "right": null,
            "top": null,
            "visibility": null,
            "width": null
          }
        },
        "5ede423daba74a0fa204cecce99a5f8a": {
          "model_module": "@jupyter-widgets/controls",
          "model_name": "ProgressStyleModel",
          "model_module_version": "1.5.0",
          "state": {
            "_model_module": "@jupyter-widgets/controls",
            "_model_module_version": "1.5.0",
            "_model_name": "ProgressStyleModel",
            "_view_count": null,
            "_view_module": "@jupyter-widgets/base",
            "_view_module_version": "1.2.0",
            "_view_name": "StyleView",
            "bar_color": null,
            "description_width": ""
          }
        },
        "14c729885cd74256a2d9ee7bc5313622": {
          "model_module": "@jupyter-widgets/base",
          "model_name": "LayoutModel",
          "model_module_version": "1.2.0",
          "state": {
            "_model_module": "@jupyter-widgets/base",
            "_model_module_version": "1.2.0",
            "_model_name": "LayoutModel",
            "_view_count": null,
            "_view_module": "@jupyter-widgets/base",
            "_view_module_version": "1.2.0",
            "_view_name": "LayoutView",
            "align_content": null,
            "align_items": null,
            "align_self": null,
            "border": null,
            "bottom": null,
            "display": null,
            "flex": null,
            "flex_flow": null,
            "grid_area": null,
            "grid_auto_columns": null,
            "grid_auto_flow": null,
            "grid_auto_rows": null,
            "grid_column": null,
            "grid_gap": null,
            "grid_row": null,
            "grid_template_areas": null,
            "grid_template_columns": null,
            "grid_template_rows": null,
            "height": null,
            "justify_content": null,
            "justify_items": null,
            "left": null,
            "margin": null,
            "max_height": null,
            "max_width": null,
            "min_height": null,
            "min_width": null,
            "object_fit": null,
            "object_position": null,
            "order": null,
            "overflow": null,
            "overflow_x": null,
            "overflow_y": null,
            "padding": null,
            "right": null,
            "top": null,
            "visibility": null,
            "width": null
          }
        },
        "24e0034772c040249a1c92a4c2688574": {
          "model_module": "@jupyter-widgets/controls",
          "model_name": "DescriptionStyleModel",
          "model_module_version": "1.5.0",
          "state": {
            "_model_module": "@jupyter-widgets/controls",
            "_model_module_version": "1.5.0",
            "_model_name": "DescriptionStyleModel",
            "_view_count": null,
            "_view_module": "@jupyter-widgets/base",
            "_view_module_version": "1.2.0",
            "_view_name": "StyleView",
            "description_width": ""
          }
        },
        "0cd6c66ec454427782f52eff15075e07": {
          "model_module": "@jupyter-widgets/controls",
          "model_name": "HBoxModel",
          "model_module_version": "1.5.0",
          "state": {
            "_dom_classes": [],
            "_model_module": "@jupyter-widgets/controls",
            "_model_module_version": "1.5.0",
            "_model_name": "HBoxModel",
            "_view_count": null,
            "_view_module": "@jupyter-widgets/controls",
            "_view_module_version": "1.5.0",
            "_view_name": "HBoxView",
            "box_style": "",
            "children": [
              "IPY_MODEL_cca6637f516647a981829bbdb26ddce0",
              "IPY_MODEL_dc665e9aa56f46089f77c4e67680d52f",
              "IPY_MODEL_6548c02c55334327a45e5868384901dd"
            ],
            "layout": "IPY_MODEL_0ca66fe1382f4335a5a12b1dac5edaaf"
          }
        },
        "cca6637f516647a981829bbdb26ddce0": {
          "model_module": "@jupyter-widgets/controls",
          "model_name": "HTMLModel",
          "model_module_version": "1.5.0",
          "state": {
            "_dom_classes": [],
            "_model_module": "@jupyter-widgets/controls",
            "_model_module_version": "1.5.0",
            "_model_name": "HTMLModel",
            "_view_count": null,
            "_view_module": "@jupyter-widgets/controls",
            "_view_module_version": "1.5.0",
            "_view_name": "HTMLView",
            "description": "",
            "description_tooltip": null,
            "layout": "IPY_MODEL_62c13745eb964b7f86d711836fbf265e",
            "placeholder": "​",
            "style": "IPY_MODEL_4c110604378549a5821deb9ac88e4dcb",
            "value": "100%"
          }
        },
        "dc665e9aa56f46089f77c4e67680d52f": {
          "model_module": "@jupyter-widgets/controls",
          "model_name": "FloatProgressModel",
          "model_module_version": "1.5.0",
          "state": {
            "_dom_classes": [],
            "_model_module": "@jupyter-widgets/controls",
            "_model_module_version": "1.5.0",
            "_model_name": "FloatProgressModel",
            "_view_count": null,
            "_view_module": "@jupyter-widgets/controls",
            "_view_module_version": "1.5.0",
            "_view_name": "ProgressView",
            "bar_style": "success",
            "description": "",
            "description_tooltip": null,
            "layout": "IPY_MODEL_8125f9a18bbe474886eb580b4b5c7377",
            "max": 20000,
            "min": 0,
            "orientation": "horizontal",
            "style": "IPY_MODEL_aa29a663b96441ac81a8154936396c54",
            "value": 20000
          }
        },
        "6548c02c55334327a45e5868384901dd": {
          "model_module": "@jupyter-widgets/controls",
          "model_name": "HTMLModel",
          "model_module_version": "1.5.0",
          "state": {
            "_dom_classes": [],
            "_model_module": "@jupyter-widgets/controls",
            "_model_module_version": "1.5.0",
            "_model_name": "HTMLModel",
            "_view_count": null,
            "_view_module": "@jupyter-widgets/controls",
            "_view_module_version": "1.5.0",
            "_view_name": "HTMLView",
            "description": "",
            "description_tooltip": null,
            "layout": "IPY_MODEL_f126094c56ff454f85790453bc8ddc22",
            "placeholder": "​",
            "style": "IPY_MODEL_bac9f659b4c94eb38646877136fc0277",
            "value": " 20000/20000 [1:12:52&lt;00:00,  3.79it/s]"
          }
        },
        "0ca66fe1382f4335a5a12b1dac5edaaf": {
          "model_module": "@jupyter-widgets/base",
          "model_name": "LayoutModel",
          "model_module_version": "1.2.0",
          "state": {
            "_model_module": "@jupyter-widgets/base",
            "_model_module_version": "1.2.0",
            "_model_name": "LayoutModel",
            "_view_count": null,
            "_view_module": "@jupyter-widgets/base",
            "_view_module_version": "1.2.0",
            "_view_name": "LayoutView",
            "align_content": null,
            "align_items": null,
            "align_self": null,
            "border": null,
            "bottom": null,
            "display": null,
            "flex": null,
            "flex_flow": null,
            "grid_area": null,
            "grid_auto_columns": null,
            "grid_auto_flow": null,
            "grid_auto_rows": null,
            "grid_column": null,
            "grid_gap": null,
            "grid_row": null,
            "grid_template_areas": null,
            "grid_template_columns": null,
            "grid_template_rows": null,
            "height": null,
            "justify_content": null,
            "justify_items": null,
            "left": null,
            "margin": null,
            "max_height": null,
            "max_width": null,
            "min_height": null,
            "min_width": null,
            "object_fit": null,
            "object_position": null,
            "order": null,
            "overflow": null,
            "overflow_x": null,
            "overflow_y": null,
            "padding": null,
            "right": null,
            "top": null,
            "visibility": null,
            "width": null
          }
        },
        "62c13745eb964b7f86d711836fbf265e": {
          "model_module": "@jupyter-widgets/base",
          "model_name": "LayoutModel",
          "model_module_version": "1.2.0",
          "state": {
            "_model_module": "@jupyter-widgets/base",
            "_model_module_version": "1.2.0",
            "_model_name": "LayoutModel",
            "_view_count": null,
            "_view_module": "@jupyter-widgets/base",
            "_view_module_version": "1.2.0",
            "_view_name": "LayoutView",
            "align_content": null,
            "align_items": null,
            "align_self": null,
            "border": null,
            "bottom": null,
            "display": null,
            "flex": null,
            "flex_flow": null,
            "grid_area": null,
            "grid_auto_columns": null,
            "grid_auto_flow": null,
            "grid_auto_rows": null,
            "grid_column": null,
            "grid_gap": null,
            "grid_row": null,
            "grid_template_areas": null,
            "grid_template_columns": null,
            "grid_template_rows": null,
            "height": null,
            "justify_content": null,
            "justify_items": null,
            "left": null,
            "margin": null,
            "max_height": null,
            "max_width": null,
            "min_height": null,
            "min_width": null,
            "object_fit": null,
            "object_position": null,
            "order": null,
            "overflow": null,
            "overflow_x": null,
            "overflow_y": null,
            "padding": null,
            "right": null,
            "top": null,
            "visibility": null,
            "width": null
          }
        },
        "4c110604378549a5821deb9ac88e4dcb": {
          "model_module": "@jupyter-widgets/controls",
          "model_name": "DescriptionStyleModel",
          "model_module_version": "1.5.0",
          "state": {
            "_model_module": "@jupyter-widgets/controls",
            "_model_module_version": "1.5.0",
            "_model_name": "DescriptionStyleModel",
            "_view_count": null,
            "_view_module": "@jupyter-widgets/base",
            "_view_module_version": "1.2.0",
            "_view_name": "StyleView",
            "description_width": ""
          }
        },
        "8125f9a18bbe474886eb580b4b5c7377": {
          "model_module": "@jupyter-widgets/base",
          "model_name": "LayoutModel",
          "model_module_version": "1.2.0",
          "state": {
            "_model_module": "@jupyter-widgets/base",
            "_model_module_version": "1.2.0",
            "_model_name": "LayoutModel",
            "_view_count": null,
            "_view_module": "@jupyter-widgets/base",
            "_view_module_version": "1.2.0",
            "_view_name": "LayoutView",
            "align_content": null,
            "align_items": null,
            "align_self": null,
            "border": null,
            "bottom": null,
            "display": null,
            "flex": null,
            "flex_flow": null,
            "grid_area": null,
            "grid_auto_columns": null,
            "grid_auto_flow": null,
            "grid_auto_rows": null,
            "grid_column": null,
            "grid_gap": null,
            "grid_row": null,
            "grid_template_areas": null,
            "grid_template_columns": null,
            "grid_template_rows": null,
            "height": null,
            "justify_content": null,
            "justify_items": null,
            "left": null,
            "margin": null,
            "max_height": null,
            "max_width": null,
            "min_height": null,
            "min_width": null,
            "object_fit": null,
            "object_position": null,
            "order": null,
            "overflow": null,
            "overflow_x": null,
            "overflow_y": null,
            "padding": null,
            "right": null,
            "top": null,
            "visibility": null,
            "width": null
          }
        },
        "aa29a663b96441ac81a8154936396c54": {
          "model_module": "@jupyter-widgets/controls",
          "model_name": "ProgressStyleModel",
          "model_module_version": "1.5.0",
          "state": {
            "_model_module": "@jupyter-widgets/controls",
            "_model_module_version": "1.5.0",
            "_model_name": "ProgressStyleModel",
            "_view_count": null,
            "_view_module": "@jupyter-widgets/base",
            "_view_module_version": "1.2.0",
            "_view_name": "StyleView",
            "bar_color": null,
            "description_width": ""
          }
        },
        "f126094c56ff454f85790453bc8ddc22": {
          "model_module": "@jupyter-widgets/base",
          "model_name": "LayoutModel",
          "model_module_version": "1.2.0",
          "state": {
            "_model_module": "@jupyter-widgets/base",
            "_model_module_version": "1.2.0",
            "_model_name": "LayoutModel",
            "_view_count": null,
            "_view_module": "@jupyter-widgets/base",
            "_view_module_version": "1.2.0",
            "_view_name": "LayoutView",
            "align_content": null,
            "align_items": null,
            "align_self": null,
            "border": null,
            "bottom": null,
            "display": null,
            "flex": null,
            "flex_flow": null,
            "grid_area": null,
            "grid_auto_columns": null,
            "grid_auto_flow": null,
            "grid_auto_rows": null,
            "grid_column": null,
            "grid_gap": null,
            "grid_row": null,
            "grid_template_areas": null,
            "grid_template_columns": null,
            "grid_template_rows": null,
            "height": null,
            "justify_content": null,
            "justify_items": null,
            "left": null,
            "margin": null,
            "max_height": null,
            "max_width": null,
            "min_height": null,
            "min_width": null,
            "object_fit": null,
            "object_position": null,
            "order": null,
            "overflow": null,
            "overflow_x": null,
            "overflow_y": null,
            "padding": null,
            "right": null,
            "top": null,
            "visibility": null,
            "width": null
          }
        },
        "bac9f659b4c94eb38646877136fc0277": {
          "model_module": "@jupyter-widgets/controls",
          "model_name": "DescriptionStyleModel",
          "model_module_version": "1.5.0",
          "state": {
            "_model_module": "@jupyter-widgets/controls",
            "_model_module_version": "1.5.0",
            "_model_name": "DescriptionStyleModel",
            "_view_count": null,
            "_view_module": "@jupyter-widgets/base",
            "_view_module_version": "1.2.0",
            "_view_name": "StyleView",
            "description_width": ""
          }
        }
      }
    }
  },
  "nbformat": 4,
  "nbformat_minor": 0
}