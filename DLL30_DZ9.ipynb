{
  "cells": [
    {
      "cell_type": "markdown",
      "metadata": {
        "id": "view-in-github",
        "colab_type": "text"
      },
      "source": [
        "<a href=\"https://colab.research.google.com/github/solobala/DLL30/blob/main/DLL30_DZ9.ipynb\" target=\"_parent\"><img src=\"https://colab.research.google.com/assets/colab-badge.svg\" alt=\"Open In Colab\"/></a>"
      ]
    },
    {
      "cell_type": "markdown",
      "metadata": {
        "id": "qfkpXPce_R9h"
      },
      "source": [
        "# Домашнее задание по теме «Рекуррентные сети 4 Механизи внимания»\n",
        "\n",
        "Преподаватель: Даниил Корбут, Алексей Миронов, Татьяна Булгакова, Светлана Медведева, Артём Качалкин, Никита Селин\n",
        "\n",
        "Возьмите англо-русскую пару фраз (www.manythings.org....org/anki/)\n",
        "\n",
        "1. Обучите на них seq2seq with attention:\n",
        "  *  на основе скалярного произведения\n",
        "  *  на основе mlp\n",
        "\n",
        "2. Оцените полученное качество\n"
      ]
    },
    {
      "cell_type": "markdown",
      "metadata": {
        "id": "9SWOgQ_jrDD_"
      },
      "source": [
        "# Импорт библиотек"
      ]
    },
    {
      "cell_type": "code",
      "execution_count": 3,
      "metadata": {
        "id": "-YlRH3mQM9tf"
      },
      "outputs": [],
      "source": [
        "import os\n",
        "os.environ['CUDA_LAUNCH_BLOCKING'] = '1'\n",
        "import torch\n",
        "import torch.nn as nn\n",
        "from torch import optim\n",
        "import torch.nn.functional as F\n"
      ]
    },
    {
      "cell_type": "code",
      "execution_count": 4,
      "metadata": {
        "id": "s2db9p5yBuVw"
      },
      "outputs": [],
      "source": [
        "from google.colab import drive\n",
        "from google.colab import files"
      ]
    },
    {
      "cell_type": "code",
      "execution_count": 5,
      "metadata": {
        "id": "MIEGXF8oM9tt"
      },
      "outputs": [],
      "source": [
        "from io import open\n",
        "import unicodedata\n",
        "import string\n",
        "import re\n",
        "import random\n",
        "import time\n",
        "import math\n",
        "import matplotlib.pyplot as plt\n",
        "import matplotlib.ticker as ticker\n",
        "import numpy as np\n",
        "import pandas as pd\n",
        "from tqdm.notebook import tqdm\n",
        "from itertools import product\n",
        "plt.switch_backend('agg')\n",
        "%matplotlib inline"
      ]
    },
    {
      "cell_type": "code",
      "source": [
        "import warnings\n",
        "warnings.filterwarnings('ignore')"
      ],
      "metadata": {
        "id": "_ZTWW5FmBsQo"
      },
      "execution_count": 6,
      "outputs": []
    },
    {
      "cell_type": "markdown",
      "metadata": {
        "id": "dmOuVeajrKoD"
      },
      "source": [
        "# 1. Загрузка датасета"
      ]
    },
    {
      "cell_type": "code",
      "source": [
        "drive.mount('/content/drive')"
      ],
      "metadata": {
        "colab": {
          "base_uri": "https://localhost:8080/"
        },
        "id": "BI6UyT2yVtvW",
        "outputId": "23b04379-7774-45dd-fc0f-199d7825a703"
      },
      "execution_count": 7,
      "outputs": [
        {
          "output_type": "stream",
          "name": "stdout",
          "text": [
            "Mounted at /content/drive\n"
          ]
        }
      ]
    },
    {
      "cell_type": "code",
      "source": [
        "!unzip '/content/drive/MyDrive/rus-eng.zip'"
      ],
      "metadata": {
        "colab": {
          "base_uri": "https://localhost:8080/"
        },
        "id": "azJAe8YlWDhk",
        "outputId": "ce996d5b-f50f-4c19-9cfe-740f1120af4d"
      },
      "execution_count": 8,
      "outputs": [
        {
          "output_type": "stream",
          "name": "stdout",
          "text": [
            "Archive:  /content/drive/MyDrive/rus-eng.zip\n",
            "  inflating: rus.txt                 \n",
            "  inflating: _about.txt              \n"
          ]
        }
      ]
    },
    {
      "cell_type": "code",
      "execution_count": 9,
      "metadata": {
        "colab": {
          "base_uri": "https://localhost:8080/"
        },
        "id": "twIcAJnyRkW-",
        "outputId": "1f7bcf8f-6de5-439c-bf27-6543dc266e9e"
      },
      "outputs": [
        {
          "output_type": "stream",
          "name": "stdout",
          "text": [
            "We need to uphold laws against discrimination — in hiring, and in housing, and in education, and in the criminal justice system. That is what our Constitution and our highest ideals require.\tНам нужно отстаивать законы против дискриминации при найме на работу, в жилищной сфере, в сфере образования и правоохранительной системе. Этого требуют наша Конституция и высшие идеалы.\tCC-BY 2.0 (France) Attribution: tatoeba.org #5762728 (BHO) & #6390439 (odexed)\n",
            "I've heard that you should never date anyone who is less than half your age plus seven. Tom is now 30 years old and Mary is 17. How many years will Tom need to wait until he can start dating Mary?\tЯ слышал, что никогда не следует встречаться с кем-то вдвое младше вас плюс семь лет. Тому 30 лет, a Мэри 17. Сколько лет Тому нужно ждать до тех пор, пока он сможет начать встречаться с Мэри?\tCC-BY 2.0 (France) Attribution: tatoeba.org #10068197 (CK) & #10644473 (notenoughsun)\n",
            "I do have one final ask of you as your president, the same thing I asked when you took a chance on me eight years ago. I'm asking you to believe, not in my ability to bring about change but in yours.\tУ меня же, как у вашего президента, есть к вам последняя просьба. Та же самая, что и восемь лет назад, когда вы оказали мне своё доверие. Я прошу вас верить, но не в мои способности добиться перемен, а в ваши.\tCC-BY 2.0 (France) Attribution: tatoeba.org #5762723 (BHO) & #6390123 (odexed)\n",
            "In today's world, we have to equip all our kids with an education that prepares them for success, regardless of what they look like, or how much their parents make, or the zip code that they live in.\tВ современном мире перед нами стоит задача дать всем нашим детям такое образование, которое настроит их на успех вне зависимости от того, как они выглядят, сколько зарабатывают их родители или какой у них почтовый индекс.\tCC-BY 2.0 (France) Attribution: tatoeba.org #3924477 (BHO) & #5968115 (odexed)\n",
            "Death is something that we're often discouraged to talk about or even think about, but I've realized that preparing for death is one of the most empowering things you can do. Thinking about death clarifies your life.\tСмерть - это зачастую то, разговоры или даже мысли о чем приводят в уныние, но я осознал, что готовность умереть наделяет силой, как ничто другое. Мысль о смерти вносит ясность в твою жизнь.\tCC-BY 2.0 (France) Attribution: tatoeba.org #1969892 (davearms) & #3231553 (kukla)\n",
            "At a moment when our economy is growing, our businesses are creating jobs at the fastest pace since the 1990s, and wages are starting to rise again, we have to make some choices about the kind of country we want to be.\tВ тот момент, когда наша экономика растёт, наши предприятия создают рабочие места наибольшими темпами, начиная с 90-х годов, а зарплаты снова начинают расти, мы должны принять ряд решений относительно того, какой страной мы хотим быть.\tCC-BY 2.0 (France) Attribution: tatoeba.org #3924474 (BHO) & #4509418 (odexed)\n",
            "When I was younger, I hated going to weddings. My grandmothers and aunts would huddle around me, poke me in the side, and giggle \"You're next! You're next!\" They only stopped this nonsense when I began to do the same thing at funerals.\tКогда я была помоложе, я ненавидела ходить на свадьбы. Мои бабушки и тётки толпились вокруг, тыкали меня в бок и говорили, посмеиваясь: «Ты следующая! Ты следующая!». Они перестали нести этот вздор только тогда, когда я начала делать то же самое на похоронах.\tCC-BY 2.0 (France) Attribution: tatoeba.org #2776770 (AlanF_US) & #4311406 (odexed)\n",
            "Since there are usually multiple websites on any given topic, I usually just click the back button when I arrive on any webpage that has pop-up advertising. I just go to the next page found by Google and hope for something less irritating.\tПоскольку сайтов, посвящённых какой-либо теме, как правило, несколько, я обычно просто нажимаю на кнопку \"назад\", если попадаю на страницу со всплывающей рекламой. Я просто перехожу на следующую страницу, найденную гуглом, и надеюсь найти что-то менее раздражающее.\tCC-BY 2.0 (France) Attribution: tatoeba.org #954270 (CK) & #6383010 (odexed)\n",
            "If someone who doesn't know your background says that you sound like a native speaker, it means they probably noticed something about your speaking that made them realize you weren't a native speaker. In other words, you don't really sound like a native speaker.\tЕсли кто-то незнакомый говорит, что вы говорите как носитель языка, это значит, что он, вероятно, заметил что-то в вашей речи, что дало ему понять, что вы не носитель. Другими словами, вы не говорите как носитель.\tCC-BY 2.0 (France) Attribution: tatoeba.org #953936 (CK) & #10644468 (notenoughsun)\n",
            "Doubtless there exists in this world precisely the right woman for any given man to marry and vice versa; but when you consider that a human being has the opportunity of being acquainted with only a few hundred people, and out of the few hundred that there are but a dozen or less whom he knows intimately, and out of the dozen, one or two friends at most, it will easily be seen, when we remember the number of millions who inhabit this world, that probably, since the earth was created, the right man has never yet met the right woman.\tНесомненно, для каждого мужчины в этом мире где-то есть подходящая женщина, которая может стать ему женой, обратное верно и для женщин. Но если учесть, что у человека может быть максимум несколько сотен знакомых, из которых лишь дюжина, а то и меньше, тех, кого он знает близко, а из этой дюжины у него один или от силы два друга, то можно легко увидеть, что с учётом миллионов живущих на Земле людей, ни один подходящий мужчина, возможно, ещё не встретил подходящую женщину.\tCC-BY 2.0 (France) Attribution: tatoeba.org #7697649 (RM) & #7730831 (odexed)\n"
          ]
        }
      ],
      "source": [
        "!tail rus.txt"
      ]
    },
    {
      "cell_type": "markdown",
      "source": [
        "#2. Параметры"
      ],
      "metadata": {
        "id": "OPsxtqA5BKG5"
      }
    },
    {
      "cell_type": "code",
      "source": [
        "SEED = 1234\n",
        "random.seed(SEED)\n",
        "device = torch.device(\"cuda\" if torch.cuda.is_available() else \"cpu\")\n",
        "if device=='cpu':\n",
        "  torch.manual_seed(SEED)\n",
        "else:\n",
        "  torch.cuda.manual_seed(SEED)\n",
        "  torch.backends.cudnn.deterministic = True"
      ],
      "metadata": {
        "id": "SMPzAS0iBOFr"
      },
      "execution_count": 10,
      "outputs": []
    },
    {
      "cell_type": "markdown",
      "source": [
        "#3. Мета - параметры"
      ],
      "metadata": {
        "id": "ONmDlEHDnTgs"
      }
    },
    {
      "cell_type": "code",
      "source": [
        "SOS_token = 0\n",
        "EOS_token = 1\n",
        "lang1 = 'eng'\n",
        "lang2 = 'rus'\n",
        "MAX_LENGTH = 10 # Максимальное к-во токенов в предложении\n",
        "\n",
        "eng_prefixes = (\n",
        "    \"i am \", \"i m \",\n",
        "    \"he is\", \"he s \",\n",
        "    \"she is\", \"she s\",\n",
        "    \"you are\", \"you re \",\n",
        "    \"we are\", \"we re \",\n",
        "    \"they are\", \"they re \"\n",
        ")\n",
        "rnn_types           = [nn.LSTM, nn.GRU]\n",
        "attn_types          = ['lection', 'scalar', 'mlp']\n",
        "cols                = ['RNN_Type', 'attn_types', 'Loss', 'perplexity', 'learning_time']\n",
        "PATH               = '/content/drive/My Drive/dz9_'"
      ],
      "metadata": {
        "id": "12GojqCLnY5D"
      },
      "execution_count": 11,
      "outputs": []
    },
    {
      "cell_type": "markdown",
      "metadata": {
        "id": "IAUf9TmxrkTB"
      },
      "source": [
        "# 4. Пользовательские функции"
      ]
    },
    {
      "cell_type": "markdown",
      "metadata": {
        "id": "WIUDx9qpz5qO"
      },
      "source": [
        "## 4.1. Подготовка датасета"
      ]
    },
    {
      "cell_type": "code",
      "execution_count": 12,
      "metadata": {
        "id": "kyNnJyruM9t1"
      },
      "outputs": [],
      "source": [
        "class Lang:\n",
        "    \"\"\"Грануляция на уровне слов. name - название языка.\n",
        "    3 вида словарей в классе - Word2index ( слово-индекс), index2word (наоборот) и word2count (слово и кол-во его применений).\n",
        "    2 метода - добавить слово и добавить предложение.\n",
        "    При этом, если слово не встречалось ранее, оно добавляется во все словари.\n",
        "    Если встречалось - значение словаря word2count для данного слова увеличивается на 1\"\"\"\n",
        "    def __init__(self, name):\n",
        "        self.name = name\n",
        "        self.word2index = {}\n",
        "        self.word2count = {}\n",
        "        self.index2word = {0: \"SOS\", 1: \"EOS\"}\n",
        "        self.n_words = 2  # Count SOS and EOS\n",
        "\n",
        "    def addSentence(self, sentence):\n",
        "        for word in sentence.split(' '):\n",
        "            self.addWord(word)\n",
        "\n",
        "    def addWord(self, word):\n",
        "        if word not in self.word2index:\n",
        "            self.word2index[word] = self.n_words\n",
        "            self.word2count[word] = 1\n",
        "            self.index2word[self.n_words] = word\n",
        "            self.n_words += 1\n",
        "        else:\n",
        "            self.word2count[word] += 1"
      ]
    },
    {
      "cell_type": "code",
      "source": [
        "# Turn a Unicode string to plain ASCII, thanks to\n",
        "# http://stackoverflow.com/a/518232/2809427\n",
        "def unicodeToAscii(s):\n",
        "    \"\"\"Переводит символы Юникода в формат Ascii\"\"\"\n",
        "    return ''.join(\n",
        "        c for c in unicodedata.normalize('NFD', s)\n",
        "        if unicodedata.category(c) != 'Mn'\n",
        "    )"
      ],
      "metadata": {
        "id": "Wb0PZ-eonjSW"
      },
      "execution_count": 13,
      "outputs": []
    },
    {
      "cell_type": "code",
      "execution_count": 14,
      "metadata": {
        "id": "FXKs8j4bM9t6"
      },
      "outputs": [],
      "source": [
        "def normalizeString(s):\n",
        "    \"\"\"Переводит в нижний регистр, убирает пробелы слева и справа.\n",
        "    Добавляет пробел перед .!?, чтобы выделить знаки в отдельные токены.\n",
        "    Все симводы, помимо букв и .!?, заменяет на пробелы\"\"\"\n",
        "    s = unicodeToAscii(s.lower().strip())\n",
        "    s = re.sub(r\"([.!?])\", r\" \\1\", s)\n",
        "    s = re.sub(r\"[^a-zA-Zа-яА-ЯёЁ.!?]+\", r\" \", s)\n",
        "    # s = re.sub(r\"[^a-zA-Z.!?]+\", r\" \", s)\n",
        "    return s"
      ]
    },
    {
      "cell_type": "code",
      "execution_count": 15,
      "metadata": {
        "id": "D8T4VxZeM9t-"
      },
      "outputs": [],
      "source": [
        "def readLangs(lang1, lang2, reverse=False):\n",
        "    print(\"Reading lines...\")\n",
        "\n",
        "    # Открывает файл для чтения, испольхуя кодировку utf8,\n",
        "    # Убирает пробелы слева и справа,\n",
        "    # делит на строки по '\\n'\n",
        "    lines = open('rus.txt', encoding='utf-8').\\\n",
        "        read().strip().split('\\n')\n",
        "\n",
        "    # Каждую строку разделяет на части с использованием табуляции, в полученном списке использует 2 первых элемента\n",
        "    pairs = [[normalizeString(s) for s in l.split('\\t')][:2] for l in lines] #\n",
        "\n",
        "    # создает экземпляры класса Lang для обоих языков, при необходимости\n",
        "    # Можно использовать реверсирование, т.е поменять исходный язык и яык перевода местами\n",
        "    # подготавливает пары предложений\n",
        "    if reverse:\n",
        "        pairs = [list(reversed(p)) for p in pairs]\n",
        "        input_lang = Lang(lang2)\n",
        "        output_lang = Lang(lang1)\n",
        "    else:\n",
        "        input_lang = Lang(lang1)\n",
        "        output_lang = Lang(lang2)\n",
        "\n",
        "    return input_lang, output_lang, pairs"
      ]
    },
    {
      "cell_type": "code",
      "source": [
        "def filterPair(p, prefixes):\n",
        "    \"\"\"Вспомогательная функция: разбивает строку на токены, используя знак пробела,\n",
        "    Определяет число токенов  в строке для каждого предложения из пары.\n",
        "    Проверяет, что их число не первышает MAX_LENGTH.\n",
        "    Проверяет, что предложение на английском начинается с одного из eng_prefixes.\n",
        "    Возвращает результат всех проверок (True или False)\"\"\"\n",
        "    return len(p[0].split(' ')) < MAX_LENGTH and \\\n",
        "        len(p[1].split(' ')) < MAX_LENGTH and \\\n",
        "        p[1].startswith(prefixes)"
      ],
      "metadata": {
        "id": "rSBpnl58nut1"
      },
      "execution_count": 16,
      "outputs": []
    },
    {
      "cell_type": "code",
      "execution_count": 17,
      "metadata": {
        "id": "eBOwgEBdM9uB"
      },
      "outputs": [],
      "source": [
        "def filterPairs(pairs, prefixes):\n",
        "    \"\"\"Вспомогательная функция - оставляем только те предложения, где число текенов не более 10\"\"\"\n",
        "    return [pair for pair in pairs if filterPair(pair, prefixes)]"
      ]
    },
    {
      "cell_type": "code",
      "execution_count": 18,
      "metadata": {
        "id": "6dZOGjd5M9uE"
      },
      "outputs": [],
      "source": [
        "def prepareData(lang1, lang2, prefixes, reverse=False):\n",
        "    \"\"\"Функция для поготовки датасета\"\"\"\n",
        "    input_lang, output_lang, pairs = readLangs(lang1, lang2, reverse)\n",
        "    print(\"Read %s sentence pairs\" % len(pairs))\n",
        "    pairs = filterPairs(pairs, prefixes)\n",
        "    print(\"Trimmed to %s sentence pairs\" % len(pairs))\n",
        "    print(\"Counting words...\")\n",
        "    for pair in pairs:\n",
        "        input_lang.addSentence(pair[0])\n",
        "        output_lang.addSentence(pair[1])\n",
        "    print(\"Counted words:\")\n",
        "    print(input_lang.name, input_lang.n_words)\n",
        "    print(output_lang.name, output_lang.n_words)\n",
        "    return input_lang, output_lang, pairs"
      ]
    },
    {
      "cell_type": "code",
      "source": [
        "def indexesFromSentence(lang, sentence):\n",
        "    \"\"\"переводит преложение в последовательность индексов слов\"\"\"\n",
        "    return [lang.word2index[word] for word in sentence.split(' ')]"
      ],
      "metadata": {
        "id": "3FlatoPZnzXb"
      },
      "execution_count": 19,
      "outputs": []
    },
    {
      "cell_type": "code",
      "source": [
        "def tensorFromSentence(lang, sentence):\n",
        "    \"\"\"превращает последовательность индексов слов предложения в тензор\"\"\"\n",
        "    indexes = indexesFromSentence(lang, sentence)\n",
        "    indexes.append(EOS_token)\n",
        "    # добавляем еще одну размерность\n",
        "    return torch.tensor(indexes, dtype=torch.long, device=device).view(-1, 1)"
      ],
      "metadata": {
        "id": "F1qdqKhNn1LT"
      },
      "execution_count": 20,
      "outputs": []
    },
    {
      "cell_type": "code",
      "execution_count": 21,
      "metadata": {
        "id": "z6gGPtXFM9uQ"
      },
      "outputs": [],
      "source": [
        "def tensorsFromPair(pair, input_lang, output_lang):\n",
        "    \"\"\"Готовит тензоры из последовательностей токенов входного и выходного предложений\"\"\"\n",
        "    input_tensor = tensorFromSentence(input_lang, pair[0])\n",
        "    target_tensor = tensorFromSentence(output_lang, pair[1])\n",
        "    return (input_tensor, target_tensor)"
      ]
    },
    {
      "cell_type": "markdown",
      "source": [
        "## 4.2. Обучение модели"
      ],
      "metadata": {
        "id": "gC8X4t1PCDTi"
      }
    },
    {
      "cell_type": "code",
      "source": [
        "class EncoderRNN(nn.Module):\n",
        "    def __init__(self, input_size, hidden_size, rnn_type):\n",
        "        super(EncoderRNN, self).__init__()\n",
        "        self.hidden_size = hidden_size\n",
        "\n",
        "        self.embedding = nn.Embedding(input_size, hidden_size)\n",
        "        self.rnn = rnn_type(hidden_size, hidden_size)\n",
        "\n",
        "    def forward(self, input, hidden):\n",
        "        embedded = self.embedding(input).view(1, 1, -1)\n",
        "        output = embedded\n",
        "        output, hidden = self.rnn(output, hidden)\n",
        "        return output, hidden\n",
        "\n",
        "    def initHidden(self):\n",
        "        return torch.zeros(1, 1, self.hidden_size, device=device)"
      ],
      "metadata": {
        "id": "oSN27AuCSszW"
      },
      "execution_count": 22,
      "outputs": []
    },
    {
      "cell_type": "code",
      "source": [
        "# Изменим класс декодера. Доюбавим, помимо механизма внимания, еще и возможность выбора типа rnn ячейки\n",
        "class AttnDecoderRNN(nn.Module):\n",
        "    def __init__(self, hidden_size, output_size, rnn_type, dropout_p=0.1, max_length=MAX_LENGTH):\n",
        "        super(AttnDecoderRNN, self).__init__()\n",
        "        self.hidden_size = hidden_size\n",
        "        self.output_size = output_size\n",
        "        self.dropout_p = dropout_p\n",
        "        self.max_length = max_length\n",
        "\n",
        "        self.embedding = nn.Embedding(self.output_size, self.hidden_size)\n",
        "        self.attn = nn.Linear(self.hidden_size * 2, self.max_length)\n",
        "        self.attn_combine = nn.Linear(self.hidden_size * 2, self.hidden_size)\n",
        "        self.dropout = nn.Dropout(self.dropout_p)\n",
        "        self.rnn = rnn_type(hidden_size, hidden_size)\n",
        "        # self.gru = nn.GRU(self.hidden_size, self.hidden_size)\n",
        "        self.out = nn.Linear(self.hidden_size, self.output_size)\n",
        "        self.rnn_type_name = rnn_type.__name__\n",
        "\n",
        "    def forward(self, input, hidden, encoder_outputs):\n",
        "        embedded = self.embedding(input).view(1, 1, -1)\n",
        "        embedded = self.dropout(embedded)\n",
        "\n",
        "        # attn_weights = F.softmax(\n",
        "        #     self.attn(torch.cat((embedded[0], hidden[0]), 1)), dim=1)\n",
        "\n",
        "        # Механизм внимания изменяется здесь\n",
        "        if  self.rnn_type_name == 'LSTM':\n",
        "            attn_weights = F.softmax(self.attn(torch.cat((embedded[0], hidden[0][0]), 1)), dim=1)\n",
        "        else:\n",
        "             attn_weights = F.softmax(self.attn(torch.cat((embedded[0], hidden[0]), 1)), dim=1)\n",
        "\n",
        "        attn_applied = torch.bmm(attn_weights.unsqueeze(0),\n",
        "                                 encoder_outputs.unsqueeze(0))\n",
        "\n",
        "        output = torch.cat((embedded[0], attn_applied[0]), 1)\n",
        "        output = self.attn_combine(output).unsqueeze(0)\n",
        "\n",
        "        output = F.relu(output)\n",
        "        # output, hidden = self.gru(output, hidden)\n",
        "        output, hidden = self.rnn(output, hidden)\n",
        "\n",
        "        output = F.log_softmax(self.out(output[0]), dim=1)\n",
        "        return output, hidden, attn_weights\n",
        "\n",
        "    def initHidden(self):\n",
        "        return torch.zeros(1, 1, self.hidden_size, device=device)"
      ],
      "metadata": {
        "id": "haejvvBV3tPS"
      },
      "execution_count": 23,
      "outputs": []
    },
    {
      "cell_type": "code",
      "source": [
        "# Создадим новый класс декодера, в котором изменим механизм внимания на scalar\n",
        "class AttnDecoderRNN1(nn.Module):\n",
        "    def __init__(self, hidden_size, output_size, rnn_type, dropout_p=0.1, max_length=MAX_LENGTH):\n",
        "        super(AttnDecoderRNN1, self).__init__()\n",
        "        self.hidden_size = hidden_size\n",
        "        self.output_size = output_size\n",
        "        self.dropout_p = dropout_p\n",
        "        self.max_length = max_length\n",
        "\n",
        "        self.embedding = nn.Embedding(self.output_size, self.hidden_size)\n",
        "        self.attn = nn.Linear(self.hidden_size * 2, self.max_length)\n",
        "        self.attn_combine = nn.Linear(self.hidden_size * 2, self.hidden_size)\n",
        "        self.dropout = nn.Dropout(self.dropout_p)\n",
        "        self.rnn = rnn_type(hidden_size, hidden_size)\n",
        "        self.out = nn.Linear(self.hidden_size, self.output_size)\n",
        "\n",
        "    def forward(self, input, hidden, encoder_outputs):\n",
        "        embedded = self.embedding(input).view(1, 1, -1)\n",
        "        embedded = self.dropout(embedded)\n",
        "        # Механизм внимания изменяется здесь\n",
        "        attn_weights = F.softmax((embedded[0] @ encoder_outputs.T)/self.max_length**0.5, dim=1)\n",
        "        attn_applied = torch.bmm(attn_weights.unsqueeze(0),\n",
        "                                 encoder_outputs.unsqueeze(0))\n",
        "\n",
        "        output = torch.cat((embedded[0], attn_applied[0]), 1)\n",
        "        output = self.attn_combine(output).unsqueeze(0)\n",
        "\n",
        "        output = F.relu(output)\n",
        "        # output, hidden = self.gru(output, hidden)\n",
        "        output, hidden = self.rnn(output, hidden)\n",
        "\n",
        "        output = F.log_softmax(self.out(output[0]), dim=1)\n",
        "        return output, hidden, attn_weights\n",
        "\n",
        "    def initHidden(self):\n",
        "        return torch.zeros(1, 1, self.hidden_size, device=device)"
      ],
      "metadata": {
        "id": "PV8aOqooDgQy"
      },
      "execution_count": 24,
      "outputs": []
    },
    {
      "cell_type": "code",
      "source": [
        "# Создадим новый класс декодера, в котором изменим механизм внимания на mlp\n",
        "class AttnDecoderRNN2(nn.Module):\n",
        "    def __init__(self, hidden_size, output_size, rnn_type, dropout_p=0.1, max_length=MAX_LENGTH):\n",
        "        super(AttnDecoderRNN2, self).__init__()\n",
        "        self.hidden_size = hidden_size\n",
        "        self.output_size = output_size\n",
        "        self.dropout_p = dropout_p\n",
        "        self.max_length = max_length\n",
        "\n",
        "        self.embedding = nn.Embedding(self.output_size, self.hidden_size)\n",
        "        self.attn = nn.Linear(self.hidden_size * 2, self.max_length)\n",
        "        self.attn_combine = nn.Linear(self.hidden_size * 2, self.hidden_size)\n",
        "        self.dropout = nn.Dropout(self.dropout_p)\n",
        "        self.rnn = rnn_type(hidden_size, hidden_size)\n",
        "        self.out = nn.Linear(self.hidden_size, self.output_size)\n",
        "        self.rnn_type_name = rnn_type.__name__\n",
        "\n",
        "    def forward(self, input, hidden, encoder_outputs):\n",
        "        embedded = self.embedding(input).view(1, 1, -1)\n",
        "        embedded = self.dropout(embedded)\n",
        "        # Механизм внимания изменяется здесь\n",
        "        if  self.rnn_type_name == 'LSTM':\n",
        "            attn_weights = F.softmax(self.attn(torch.cat((embedded[0], hidden[0][0]), 1)), dim=1)\n",
        "        else:\n",
        "             attn_weights = F.softmax(self.attn(torch.cat((embedded[0], hidden[0]), 1)), dim=1)\n",
        "        attn_applied = torch.bmm(attn_weights.unsqueeze(0),\n",
        "                                 encoder_outputs.unsqueeze(0))\n",
        "\n",
        "        output = torch.cat((embedded[0], attn_applied[0]), 1)\n",
        "        output = self.attn_combine(output).unsqueeze(0)\n",
        "\n",
        "        output = F.tanh(output)\n",
        "        # output, hidden = self.gru(output, hidden)\n",
        "        output, hidden = self.rnn(output, hidden)\n",
        "\n",
        "        output = F.log_softmax(self.out(output[0]), dim=1)\n",
        "        return output, hidden, attn_weights\n",
        "\n",
        "    def initHidden(self):\n",
        "        return torch.zeros(1, 1, self.hidden_size, device=device)"
      ],
      "metadata": {
        "id": "OUNkyXlFFrZU"
      },
      "execution_count": 25,
      "outputs": []
    },
    {
      "cell_type": "code",
      "execution_count": 26,
      "metadata": {
        "id": "8Fn8VDv8M9uS"
      },
      "outputs": [],
      "source": [
        "def train(input_tensor, target_tensor,\n",
        "          encoder, decoder, encoder_optimizer, decoder_optimizer,\n",
        "          criterion, max_length, rnn_type, teacher_forcing_ratio):\n",
        "\n",
        "    \"\"\"Выполняет итерацию обучения модели\n",
        "    Args:\n",
        "    input_tensor,\n",
        "    target_tensor,\n",
        "    encoder,\n",
        "    decoder,\n",
        "    encoder_optimizer,\n",
        "    decoder_optimizer,\n",
        "    criterion,\n",
        "    max_length=MAX_LENGTH - максимальное кол-во токенов  каждом предложении,\n",
        "    rnn_type - тип RNN ячейки,\n",
        "    n_layers - число скрытых слоев,\n",
        "    teacher_forcing_ratio\"\"\"\n",
        "    if rnn_type.__name__ == 'LSTM':\n",
        "        encoder_hidden = (encoder.initHidden(), encoder.initHidden())\n",
        "    else:\n",
        "        encoder_hidden = encoder.initHidden()\n",
        "\n",
        "    encoder_optimizer.zero_grad()\n",
        "    decoder_optimizer.zero_grad()\n",
        "\n",
        "    input_length = input_tensor.size(0)\n",
        "    target_length = target_tensor.size(0)\n",
        "\n",
        "    encoder_outputs = torch.zeros(max_length, encoder.hidden_size, device=device)\n",
        "\n",
        "    loss = 0\n",
        "    total_words = 0\n",
        "    for ei in range(input_length):\n",
        "        encoder_output, encoder_hidden = encoder(\n",
        "            input_tensor[ei], encoder_hidden)\n",
        "        encoder_outputs[ei] = encoder_output[0, 0]\n",
        "\n",
        "    decoder_input = torch.tensor([[SOS_token]], device=device)\n",
        "\n",
        "    decoder_hidden = encoder_hidden\n",
        "\n",
        "    use_teacher_forcing = True if random.random() < teacher_forcing_ratio else False\n",
        "\n",
        "    if use_teacher_forcing:\n",
        "        # Teacher forcing: Feed the target as the next input\n",
        "\n",
        "        for di in range(target_length):\n",
        "            decoder_output, decoder_hidden, decoder_attention = decoder(\n",
        "                decoder_input, decoder_hidden, encoder_outputs)\n",
        "\n",
        "            loss += criterion(decoder_output, target_tensor[di])\n",
        "            decoder_input = target_tensor[di]  # Teacher forcing\n",
        "            total_words += target_tensor[di].numel()\n",
        "\n",
        "    else:\n",
        "        # Without teacher forcing: use its own predictions as the next input\n",
        "\n",
        "        for di in range(target_length):\n",
        "            decoder_output, decoder_hidden, decoder_attention = decoder(\n",
        "                decoder_input, decoder_hidden, encoder_outputs)\n",
        "            topv, topi = decoder_output.topk(1)\n",
        "            decoder_input = topi.squeeze().detach()  # detach from history as input\n",
        "\n",
        "            loss += criterion(decoder_output, target_tensor[di])\n",
        "            total_words += target_tensor[di].numel()\n",
        "            if decoder_input.item() == EOS_token:\n",
        "                break\n",
        "\n",
        "    loss.backward()\n",
        "\n",
        "    encoder_optimizer.step()\n",
        "    decoder_optimizer.step()\n",
        "    avg_loss = loss / total_words\n",
        "    perplexity = torch.exp(avg_loss)\n",
        "    return loss.item() / target_length, perplexity.item()"
      ]
    },
    {
      "cell_type": "code",
      "execution_count": 27,
      "metadata": {
        "id": "EKsdwPmSM9uU"
      },
      "outputs": [],
      "source": [
        "def asMinutes(s):\n",
        "    \"\"\"Вспомогательная функция перевода секунд  в минуты\"\"\"\n",
        "    m = math.floor(s / 60)\n",
        "    s -= m * 60\n",
        "    return '%dm %ds' % (m, s)\n",
        "\n",
        "\n",
        "def timeSince(since, percent):\n",
        "    \"\"\" длительность итерации обучения\"\"\"\n",
        "    now = time.time()\n",
        "    s = now - since\n",
        "    es = s / (percent)\n",
        "    rs = es - s\n",
        "    return '%s (- %s)' % (asMinutes(s), asMinutes(rs))"
      ]
    },
    {
      "cell_type": "code",
      "execution_count": 28,
      "metadata": {
        "id": "C_z_k5IiM9uX"
      },
      "outputs": [],
      "source": [
        "def trainIters(pair_sentenses, encoder, decoder, learning_rate, n_iters,\n",
        "               max_length, rnn_type, teacher_forcing_ratio, input_lan, output_lan,\n",
        "               print_every=5000, plot_every=500):\n",
        "    \"\"\"выполняет обучение модели\"\"\"\n",
        "    start               = time.time()\n",
        "    print_loss_total = 0\n",
        "    print_loss_avg = 0\n",
        "    print_perplexity = 0\n",
        "\n",
        "    encoder_optimizer = optim.Adam(encoder.parameters())\n",
        "    decoder_optimizer = optim.Adam(decoder.parameters())\n",
        "\n",
        "    training_pairs = [tensorsFromPair(random.choice(pair_sentenses),\n",
        "                                      input_lan, output_lan)\n",
        "                                      for i in range(n_iters)]\n",
        "    criterion = nn.NLLLoss()\n",
        "\n",
        "    for iter in tqdm(range(1, n_iters + 1)):\n",
        "        training_pair = training_pairs[iter - 1]\n",
        "        input_tensor = training_pair[0]\n",
        "        target_tensor = training_pair[1]\n",
        "\n",
        "        loss, perplexity = train(input_tensor, target_tensor, encoder, decoder,\n",
        "                     encoder_optimizer, decoder_optimizer, criterion,\n",
        "                     max_length, rnn_type, teacher_forcing_ratio)\n",
        "\n",
        "        print_loss_total += loss\n",
        "        print_perplexity += perplexity\n",
        "\n",
        "        if iter % print_every == 0:\n",
        "            print_loss_avg = print_loss_total / print_every\n",
        "            print_perplexity_avg = print_perplexity / print_every\n",
        "            print_loss_total = 0\n",
        "            print_perplexity = 0\n",
        "\n",
        "            print('%s (%d %d%%) %.4f %.4f'  % (timeSince(start, iter / n_iters),\n",
        "                                         iter, iter / n_iters * 100, print_loss_avg, print_perplexity_avg ))\n",
        "    return print_loss_avg, print_perplexity_avg, timeSince(start, iter / n_iters)\n"
      ]
    },
    {
      "cell_type": "code",
      "execution_count": 29,
      "metadata": {
        "id": "0JXG-RzCM9uZ"
      },
      "outputs": [],
      "source": [
        "def showPlot(points):\n",
        "    plt.figure()\n",
        "    fig, ax = plt.subplots()\n",
        "    # this locator puts ticks at regular intervals\n",
        "    loc = ticker.MultipleLocator(base=0.2)\n",
        "    ax.yaxis.set_major_locator(loc)\n",
        "    plt.plot(points)"
      ]
    },
    {
      "cell_type": "code",
      "source": [
        "def showAttention(input_sentence, output_words, attentions):\n",
        "    # Set up figure with colorbar\n",
        "    fig = plt.figure()\n",
        "    ax = fig.add_subplot(111)\n",
        "    cax = ax.matshow(attentions.numpy(), cmap='bone')\n",
        "    fig.colorbar(cax)\n",
        "\n",
        "    # Set up axes\n",
        "    ax.set_xticklabels([''] + input_sentence.split(' ') +\n",
        "                       ['<EOS>'], rotation=90)\n",
        "    ax.set_yticklabels([''] + output_words)\n",
        "\n",
        "    # Show label at every tick\n",
        "    ax.xaxis.set_major_locator(ticker.MultipleLocator(1))\n",
        "    ax.yaxis.set_major_locator(ticker.MultipleLocator(1))\n",
        "\n",
        "    plt.show()"
      ],
      "metadata": {
        "id": "dK8ABbTRLMa7"
      },
      "execution_count": 30,
      "outputs": []
    },
    {
      "cell_type": "code",
      "source": [
        "def evaluateAndShowAttention(encoder2, decoder2, max_length, input_sentence):\n",
        "    output_words, attentions = evaluate(\n",
        "        encoder2, decoder2, input_sentence, max_length,\n",
        "             rnn_type, input_lang, output_lang)\n",
        "    print('input =', input_sentence)\n",
        "    print('output =', ' '.join(output_words))\n",
        "    showAttention(input_sentence, output_words, attentions)"
      ],
      "metadata": {
        "id": "jc4YmbNiLJT9"
      },
      "execution_count": 31,
      "outputs": []
    },
    {
      "cell_type": "markdown",
      "source": [
        "## 4.3. Оценка модели"
      ],
      "metadata": {
        "id": "J5LU8C2nCSck"
      }
    },
    {
      "cell_type": "code",
      "execution_count": 32,
      "metadata": {
        "id": "3Bxf45h6M9ud"
      },
      "outputs": [],
      "source": [
        "def evaluate(encoder, decoder, sentence, max_length,\n",
        "             rnn_type, inp_lang, out_lang):\n",
        "    \"\"\"Оценка качества модели на паре предложений\"\"\"\n",
        "    with torch.no_grad():\n",
        "        input_tensor = tensorFromSentence(inp_lang, sentence)\n",
        "        input_length = input_tensor.size()[0]\n",
        "\n",
        "        if rnn_type.__name__ == 'LSTM':\n",
        "            encoder_hidden = (encoder.initHidden(), encoder.initHidden())\n",
        "        else:\n",
        "            encoder_hidden = encoder.initHidden()\n",
        "\n",
        "        encoder_outputs = torch.zeros(max_length, encoder.hidden_size, device=device)\n",
        "\n",
        "        for ei in range(input_length):\n",
        "            encoder_output, encoder_hidden = encoder(input_tensor[ei],\n",
        "                                                     encoder_hidden)\n",
        "            encoder_outputs[ei] += encoder_output[0, 0]\n",
        "\n",
        "        decoder_input = torch.tensor([[SOS_token]], device=device)  # SOS\n",
        "\n",
        "        decoder_hidden = encoder_hidden\n",
        "\n",
        "        decoded_words = []\n",
        "        decoder_attentions = torch.zeros(max_length, max_length)\n",
        "\n",
        "        for di in range(max_length):\n",
        "            decoder_output, decoder_hidden, decoder_attention = decoder(\n",
        "                decoder_input, decoder_hidden, encoder_outputs)\n",
        "            decoder_attentions[di] = decoder_attention.data\n",
        "            topv, topi = decoder_output.data.topk(1)\n",
        "            if topi.item() == EOS_token:\n",
        "                decoded_words.append('<EOS>')\n",
        "                break\n",
        "            else:\n",
        "                decoded_words.append(out_lang.index2word[topi.item()])\n",
        "\n",
        "            decoder_input = topi.squeeze().detach()\n",
        "        # Здесь изменения\n",
        "        return decoded_words, decoder_attentions[:di + 1]"
      ]
    },
    {
      "cell_type": "code",
      "execution_count": 37,
      "metadata": {
        "id": "1qUmQIGwM9uf"
      },
      "outputs": [],
      "source": [
        "def evaluateRandomly(pair_sen, encoder, decoder, max_length,\n",
        "                     rnn_, in_lang, o_lang,  n=10):\n",
        "    \"\"\"Оценка качества модели на случайно отобранных n парах предложений\"\"\"\n",
        "    for i in range(n):\n",
        "        pair = random.choice(pair_sen)\n",
        "        print('>', pair[0])\n",
        "        print('=', pair[1])\n",
        "        # здесь изменения\n",
        "        output_words, _ = evaluate(encoder, decoder, pair[0], MAX_LENGTH,\n",
        "                                rnn_, in_lang, o_lang)\n",
        "        output_sentence = ' '.join(output_words)\n",
        "        print('<', output_sentence)\n",
        "        print('')"
      ]
    },
    {
      "cell_type": "markdown",
      "source": [
        "Перплексия (perplexity) - это метрика, которая используется для оценки качества модели языковой модели. Она вычисляется как экспонента средней перекрестной энтропии (cross-entropy) на тестовом наборе данных."
      ],
      "metadata": {
        "id": "WhgRxL-COdHs"
      }
    },
    {
      "cell_type": "code",
      "source": [
        "def test_model(max_length, hidden_size = 256,\n",
        "               learn_rate = 0.006, prefixes=eng_prefixes, reverse=False,\n",
        "               teach_force_ratio = 0.5, attn_type = 'lection',\n",
        "               num_iters = 500, every = 100, num_file = 998):\n",
        "        \"\"\" Функция для обучения и оценки модели\"\"\"\n",
        "        # Инициируем энкодер и декодер\n",
        "        encoder2 = EncoderRNN(input_lang.n_words, hidden_size, rnn_type\n",
        "                               ).to(device)\n",
        "        if attn_type == 'lection':\n",
        "          decoder2 = AttnDecoderRNN(hidden_size, output_lang.n_words, rnn_type\n",
        "                                ).to(device)\n",
        "        elif attn_type == 'scalar':\n",
        "          decoder2 = AttnDecoderRNN1(hidden_size, output_lang.n_words, rnn_type\n",
        "                                ).to(device)\n",
        "        elif attn_type == 'mlp':\n",
        "          decoder2 = AttnDecoderRNN2(hidden_size, output_lang.n_words, rnn_type\n",
        "                                ).to(device)\n",
        "        print(f'{rnn_type.__name__}, {attn_type} \\n\\ntraining')\n",
        "        print('===========================')\n",
        "        # выполняем обучение модели, считаем ф-ю потерь\n",
        "        loss_, perplexity, learning_time = trainIters(pair_s, encoder2, decoder2, learn_rate, num_iters,\n",
        "                          max_length, rnn_type, teach_force_ratio,\n",
        "                          input_lang, output_lang, every)\n",
        "\n",
        "        print('\\nevaluation\\n')\n",
        "        # Выполняем оценку обученной модели\n",
        "        evaluateRandomly(pair_s, encoder2, decoder2, max_length,\n",
        "                         rnn_type, input_lang, output_lang)\n",
        "        print('----------------------------------------------------------------------')\n",
        "        string          = [rnn_type.__name__, attn_type, loss_, perplexity,  learning_time]\n",
        "        # string          = [rnn_type.__name__, attn_type, loss_, perplexity.detach().cpu().item(),  learning_time]\n",
        "        df.loc[len(df)] = string\n",
        "        file_name       = PATH + str(num_file) + '.csv'\n",
        "        df.to_csv(file_name)\n",
        "        evaluateAndShowAttention(encoder2, decoder2, max_length,'на следующеи неделе я иду на концерт .')"
      ],
      "metadata": {
        "id": "mhBNAzfLXJMJ"
      },
      "execution_count": 39,
      "outputs": []
    },
    {
      "cell_type": "markdown",
      "source": [
        "# 5. Эксперименты"
      ],
      "metadata": {
        "id": "6Yg_Q8UuEj7e"
      }
    },
    {
      "cell_type": "code",
      "source": [
        "# Инициируем экземпляры классов для обоих языков, готовим датасет\n",
        "print('Подготовка датасета:')\n",
        "print('----------------------------------------------------------------------')\n",
        "input_lang, output_lang, pair_s = prepareData(lang1, lang2, prefixes=eng_prefixes, reverse=True)\n",
        "# Это пример пары предложений\n",
        "print(random.choice(pair_s))\n",
        "# датафрейм для сохранения результатов обучения разных моделей\n",
        "df = pd.DataFrame(columns=cols)"
      ],
      "metadata": {
        "colab": {
          "base_uri": "https://localhost:8080/"
        },
        "id": "4yyuk08Y-G6b",
        "outputId": "fb9d77f5-1dbe-46ed-e766-7e6c0138ddde"
      },
      "execution_count": 35,
      "outputs": [
        {
          "output_type": "stream",
          "name": "stdout",
          "text": [
            "Подготовка датасета:\n",
            "----------------------------------------------------------------------\n",
            "Reading lines...\n",
            "Read 487600 sentence pairs\n",
            "Trimmed to 28240 sentence pairs\n",
            "Counting words...\n",
            "Counted words:\n",
            "rus 10119\n",
            "eng 4289\n",
            "['на следующеи неделе я иду на концерт .', 'i am going to a concert next week .']\n"
          ]
        }
      ]
    },
    {
      "cell_type": "markdown",
      "source": [
        "## 5.1. GRU, attention_type='lection'"
      ],
      "metadata": {
        "id": "C7NhhxE_CDxW"
      }
    },
    {
      "cell_type": "code",
      "source": [
        "# Эксперименты для моделей с разными типами RNN ячеек (RNN, GRU, LSTM) и кол-вом скрытых состояний\n",
        "print('Эксперименты с моделями:')\n",
        "print('----------------------------------------------------------------------')\n",
        "num_file = 1\n",
        "\n",
        "rnn_type = nn.GRU\n",
        "attn_type = 'lection'\n",
        "test_model(max_length = MAX_LENGTH,\n",
        "           learn_rate = 0.0001, prefixes=eng_prefixes, reverse=True, teach_force_ratio = 0.5,\n",
        "           attn_type=attn_type, num_iters = 20000, every = 1000,\n",
        "           num_file = num_file)\n",
        "\n"
      ],
      "metadata": {
        "colab": {
          "base_uri": "https://localhost:8080/",
          "height": 1000,
          "referenced_widgets": [
            "285ebcd687e944a896c09c3b672e910c",
            "c82aff6dded3422abfec977c896bbc9e",
            "16dad1a230b546699b0abc992b951ced",
            "fd5a8006818641b5b209e51279ab1fd7",
            "1affebb176c44a7c909a26d85026c491",
            "fdbda344ada44359a19264859bae8920",
            "5b650ba8cd24460eac92febf3765d456",
            "c6e665ee2ec6401caf067c294ccf287b",
            "6ac39cc4b6064d62b6f69c457b9326ec",
            "b52fdfb80464452aa57b7a1a0b85a22e",
            "2b430d4a8bb441bb8762695d443d0651"
          ]
        },
        "id": "X40fX7GAGNA4",
        "outputId": "effa0305-7ccc-4b16-a0a1-5ced591993a3"
      },
      "execution_count": 48,
      "outputs": [
        {
          "output_type": "stream",
          "name": "stdout",
          "text": [
            "Эксперименты с моделями:\n",
            "----------------------------------------------------------------------\n",
            "GRU, lection \n",
            "\n",
            "training\n",
            "===========================\n"
          ]
        },
        {
          "output_type": "display_data",
          "data": {
            "text/plain": [
              "  0%|          | 0/20000 [00:00<?, ?it/s]"
            ],
            "application/vnd.jupyter.widget-view+json": {
              "version_major": 2,
              "version_minor": 0,
              "model_id": "285ebcd687e944a896c09c3b672e910c"
            }
          },
          "metadata": {}
        },
        {
          "output_type": "stream",
          "name": "stdout",
          "text": [
            "2m 56s (- 55m 57s) (1000 5%) 3.3479 111.4404\n",
            "5m 39s (- 50m 59s) (2000 10%) 2.9602 49.9226\n",
            "8m 27s (- 47m 54s) (3000 15%) 2.7549 37.2180\n",
            "11m 24s (- 45m 36s) (4000 20%) 2.6619 38.3877\n",
            "14m 12s (- 42m 37s) (5000 25%) 2.5404 33.5883\n",
            "17m 0s (- 39m 41s) (6000 30%) 2.5143 40.9352\n",
            "19m 49s (- 36m 48s) (7000 35%) 2.3950 34.3124\n",
            "22m 39s (- 33m 59s) (8000 40%) 2.2579 27.2153\n",
            "25m 35s (- 31m 16s) (9000 45%) 2.2385 27.8002\n",
            "28m 28s (- 28m 28s) (10000 50%) 2.1285 27.3719\n",
            "31m 22s (- 25m 40s) (11000 55%) 2.1260 26.4493\n",
            "34m 17s (- 22m 51s) (12000 60%) 2.0826 24.2290\n",
            "37m 15s (- 20m 3s) (13000 65%) 2.0105 21.0548\n",
            "40m 25s (- 17m 19s) (14000 70%) 1.9605 20.2969\n",
            "43m 30s (- 14m 30s) (15000 75%) 1.9892 23.0604\n",
            "46m 29s (- 11m 37s) (16000 80%) 1.9316 25.5542\n",
            "49m 32s (- 8m 44s) (17000 85%) 1.8912 21.2280\n",
            "52m 47s (- 5m 51s) (18000 90%) 1.8520 21.1936\n",
            "56m 0s (- 2m 56s) (19000 95%) 1.8819 23.7619\n",
            "59m 11s (- 0m 0s) (20000 100%) 1.8896 58.4242\n",
            "\n",
            "evaluation\n",
            "\n",
            "> вы зря тратите время .\n",
            "= you re wasting time .\n",
            "< you re wasting the time . <EOS>\n",
            "\n",
            "> они вас ищут .\n",
            "= they re looking for you .\n",
            "< they re going to you . <EOS>\n",
            "\n",
            "> я путешествую налегке .\n",
            "= i m traveling light .\n",
            "< i m a single person . <EOS>\n",
            "\n",
            "> я рад что тома не уволили .\n",
            "= i m glad tom wasn t fired .\n",
            "< i m glad tom isn t dead . <EOS>\n",
            "\n",
            "> ты не толстыи .\n",
            "= you re not fat .\n",
            "< you re not a . . <EOS>\n",
            "\n",
            "> наконец то я дома .\n",
            "= i m home at last .\n",
            "< i m home at home . . <EOS>\n",
            "\n",
            "> я кормлю грудью .\n",
            "= i m breastfeeding .\n",
            "< i m so my . . <EOS>\n",
            "\n",
            "> я рада что никто не пострадал .\n",
            "= i m glad that no one was hurt .\n",
            "< i m glad to finally believe . . . <EOS>\n",
            "\n",
            "> она причесывается .\n",
            "= she is brushing her hair .\n",
            "< she s beautiful . <EOS>\n",
            "\n",
            "> я сегодня очень занят .\n",
            "= i m very busy today .\n",
            "< i m busy today . <EOS>\n",
            "\n",
            "----------------------------------------------------------------------\n",
            "input = на следующеи неделе я иду на концерт .\n",
            "output = i m going to the concert week . <EOS>\n"
          ]
        },
        {
          "output_type": "display_data",
          "data": {
            "text/plain": [
              "<Figure size 640x480 with 2 Axes>"
            ],
            "image/png": "[encoded data removed]"
          },
          "metadata": {}
        }
      ]
    },
    {
      "cell_type": "markdown",
      "source": [
        "## 5.2. LSTM, attention_type='lection'"
      ],
      "metadata": {
        "id": "cN0LswOZ0i5t"
      }
    },
    {
      "cell_type": "code",
      "source": [
        "num_file = 2\n",
        "rnn_type = nn.LSTM\n",
        "attn_type = 'lection'\n",
        "test_model(max_length = MAX_LENGTH,\n",
        "           learn_rate = 0.0001, prefixes=eng_prefixes, reverse=True, teach_force_ratio = 0.5,\n",
        "           attn_type=attn_type, num_iters = 20000, every = 1000,\n",
        "           num_file = num_file)"
      ],
      "metadata": {
        "colab": {
          "base_uri": "https://localhost:8080/",
          "height": 433,
          "referenced_widgets": [
            "d7ecf1ff68814f9eb73cbf8201e9e322",
            "6ab097393eb54374aaf888c0f4a7ac30",
            "c09ffc9c75c64052a32e08fe7bfa5580",
            "b3302fb04f7043b6b9f6be7bfbae579f",
            "9d30b9f13de246278b01ce590ca6dbec",
            "6c35f689ba764f3ebce585d107bdcb92",
            "e81684a41cd742fcb4a7258f6eaf5583",
            "690537e0d7eb47719442fdf7097458fc",
            "3993c7defd4a4ea3a0a1e39158e8be91",
            "5e107adcf4c64e2795112853e117147d",
            "593ab2aaa66d408ea06933a53b94c86f"
          ]
        },
        "id": "XCjck2u2zQC1",
        "outputId": "92274da1-a8a3-495e-b969-551bcd0390a0"
      },
      "execution_count": null,
      "outputs": [
        {
          "output_type": "stream",
          "name": "stdout",
          "text": [
            "LSTM, lection \n",
            "\n",
            "training\n",
            "===========================\n"
          ]
        },
        {
          "output_type": "display_data",
          "data": {
            "text/plain": [
              "  0%|          | 0/20000 [00:00<?, ?it/s]"
            ],
            "application/vnd.jupyter.widget-view+json": {
              "version_major": 2,
              "version_minor": 0,
              "model_id": "d7ecf1ff68814f9eb73cbf8201e9e322"
            }
          },
          "metadata": {}
        },
        {
          "output_type": "stream",
          "name": "stdout",
          "text": [
            "3m 12s (- 60m 51s) (1000 5%) 3.3348 123.4117\n",
            "6m 30s (- 58m 38s) (2000 10%) 2.9360 40.8038\n",
            "9m 52s (- 55m 55s) (3000 15%) 2.8374 37.2863\n",
            "13m 11s (- 52m 45s) (4000 20%) 2.7171 32.1977\n",
            "16m 33s (- 49m 40s) (5000 25%) 2.6604 32.8670\n",
            "20m 10s (- 47m 4s) (6000 30%) 2.6125 34.5058\n",
            "23m 35s (- 43m 49s) (7000 35%) 2.5009 30.5912\n",
            "27m 4s (- 40m 37s) (8000 40%) 2.4452 30.3585\n",
            "30m 30s (- 37m 17s) (9000 45%) 2.4376 28.0385\n",
            "34m 1s (- 34m 1s) (10000 50%) 2.4187 36.4291\n",
            "37m 32s (- 30m 43s) (11000 55%) 2.3281 26.3479\n",
            "40m 57s (- 27m 18s) (12000 60%) 2.3171 26.0980\n",
            "44m 24s (- 23m 54s) (13000 65%) 2.2601 22.8515\n",
            "47m 54s (- 20m 31s) (14000 70%) 2.2533 28.5071\n",
            "51m 23s (- 17m 7s) (15000 75%) 2.1557 27.0462\n",
            "54m 59s (- 13m 44s) (16000 80%) 2.1676 22.6220\n",
            "58m 32s (- 10m 19s) (17000 85%) 2.1247 21.6991\n"
          ]
        }
      ]
    },
    {
      "cell_type": "markdown",
      "source": [
        "## 5.3. GRU, attention_type='scalar'"
      ],
      "metadata": {
        "id": "DfMwdHOyCV8o"
      }
    },
    {
      "cell_type": "code",
      "source": [
        "num_file = 3\n",
        "rnn_type = nn.GRU\n",
        "attn_type = 'scalar'\n",
        "test_model(max_length = MAX_LENGTH,\n",
        "           learn_rate = 0.0001, prefixes=eng_prefixes, reverse=True, teach_force_ratio = 0.5,\n",
        "           attn_type=attn_type, num_iters = 20000, every = 1000,\n",
        "           num_file = num_file)"
      ],
      "metadata": {
        "id": "G1uVO4iACaMY"
      },
      "execution_count": null,
      "outputs": []
    },
    {
      "cell_type": "markdown",
      "source": [
        "## 5.4. LSTM, attention_type='scalar'"
      ],
      "metadata": {
        "id": "vZNXD5fbCmF7"
      }
    },
    {
      "cell_type": "code",
      "source": [
        "num_file = 4\n",
        "rnn_type = nn.LSTM\n",
        "attn_type = 'scalar'\n",
        "test_model(max_length = MAX_LENGTH,\n",
        "           learn_rate = 0.0001, prefixes=eng_prefixes, reverse=True, teach_force_ratio = 0.5,\n",
        "           attn_type=attn_type, num_iters = 20000, every = 1000,\n",
        "           num_file = num_file)"
      ],
      "metadata": {
        "id": "d0UyfuJwCtDv"
      },
      "execution_count": null,
      "outputs": []
    },
    {
      "cell_type": "markdown",
      "source": [
        "## 5.5. GRU, attention_type='mlp'"
      ],
      "metadata": {
        "id": "h17asyV6C0pz"
      }
    },
    {
      "cell_type": "code",
      "source": [
        "num_file = 5\n",
        "rnn_type = nn.GRU\n",
        "attn_type = 'mlp'\n",
        "test_model(max_length = MAX_LENGTH,\n",
        "           learn_rate = 0.0001, prefixes=eng_prefixes, reverse=True, teach_force_ratio = 0.5,\n",
        "           attn_type=attn_type, num_iters = 20000, every = 1000,\n",
        "           num_file = num_file)"
      ],
      "metadata": {
        "id": "ddNSToPgC8rY"
      },
      "execution_count": null,
      "outputs": []
    },
    {
      "cell_type": "markdown",
      "source": [
        "## 5.6. LSTM, attention_type='mlp'"
      ],
      "metadata": {
        "id": "IUy51IFiC_6W"
      }
    },
    {
      "cell_type": "code",
      "source": [
        "num_file = 6\n",
        "rnn_type = nn.LSTM\n",
        "attn_type = 'mlp'\n",
        "test_model(max_length = MAX_LENGTH,\n",
        "           learn_rate = 0.0001, prefixes=eng_prefixes, reverse=True, teach_force_ratio = 0.5,\n",
        "           attn_type=attn_type, num_iters = 20000, every = 1000,\n",
        "           num_file = num_file)"
      ],
      "metadata": {
        "id": "E9QmOVHUDHj9"
      },
      "execution_count": null,
      "outputs": []
    },
    {
      "cell_type": "markdown",
      "source": [
        "# 6. Выводы"
      ],
      "metadata": {
        "id": "6wVUZ3RHEp_A"
      }
    },
    {
      "cell_type": "code",
      "source": [
        "results = pd.DataFrame(columns=cols)\n",
        "for i in range(1,7):\n",
        "  df = pd.read_csv(f'{PATH}{str(i)}.csv', usecols=cols)\n",
        "  results = pd.concat([results, df], ignore_index=True)\n",
        "results.drop_duplicates(inplace=True)\n",
        "results.sort_values(by='Loss')"
      ],
      "metadata": {
        "id": "6QHmAMwCIIBj"
      },
      "execution_count": null,
      "outputs": []
    },
    {
      "cell_type": "markdown",
      "source": [
        "В целом, за указанное количество итераций (20000) ни одна из моделей хорошо не обучилась, величина потерь достаточно значительна.\n",
        "Если судить по величине Loss, то наилучшие результаты при обучении на выбранном датасете при прочих равных условиях показала модель с ячейкой RNN типа GRU и числом скрытых уровней = 1\n"
      ],
      "metadata": {
        "id": "I5MjVJfb_hSs"
      }
    }
  ],
  "metadata": {
    "accelerator": "GPU",
    "colab": {
      "provenance": [],
      "include_colab_link": true
    },
    "kernelspec": {
      "display_name": "Python 3",
      "name": "python3"
    },
    "language_info": {
      "codemirror_mode": {
        "name": "ipython",
        "version": 3
      },
      "file_extension": ".py",
      "mimetype": "text/x-python",
      "name": "python",
      "nbconvert_exporter": "python",
      "pygments_lexer": "ipython3",
      "version": "3.6.6"
    },
    "widgets": {
      "application/vnd.jupyter.widget-state+json": {
        "285ebcd687e944a896c09c3b672e910c": {
          "model_module": "@jupyter-widgets/controls",
          "model_name": "HBoxModel",
          "model_module_version": "1.5.0",
          "state": {
            "_dom_classes": [],
            "_model_module": "@jupyter-widgets/controls",
            "_model_module_version": "1.5.0",
            "_model_name": "HBoxModel",
            "_view_count": null,
            "_view_module": "@jupyter-widgets/controls",
            "_view_module_version": "1.5.0",
            "_view_name": "HBoxView",
            "box_style": "",
            "children": [
              "IPY_MODEL_c82aff6dded3422abfec977c896bbc9e",
              "IPY_MODEL_16dad1a230b546699b0abc992b951ced",
              "IPY_MODEL_fd5a8006818641b5b209e51279ab1fd7"
            ],
            "layout": "IPY_MODEL_1affebb176c44a7c909a26d85026c491"
          }
        },
        "c82aff6dded3422abfec977c896bbc9e": {
          "model_module": "@jupyter-widgets/controls",
          "model_name": "HTMLModel",
          "model_module_version": "1.5.0",
          "state": {
            "_dom_classes": [],
            "_model_module": "@jupyter-widgets/controls",
            "_model_module_version": "1.5.0",
            "_model_name": "HTMLModel",
            "_view_count": null,
            "_view_module": "@jupyter-widgets/controls",
            "_view_module_version": "1.5.0",
            "_view_name": "HTMLView",
            "description": "",
            "description_tooltip": null,
            "layout": "IPY_MODEL_fdbda344ada44359a19264859bae8920",
            "placeholder": "​",
            "style": "IPY_MODEL_5b650ba8cd24460eac92febf3765d456",
            "value": "100%"
          }
        },
        "16dad1a230b546699b0abc992b951ced": {
          "model_module": "@jupyter-widgets/controls",
          "model_name": "FloatProgressModel",
          "model_module_version": "1.5.0",
          "state": {
            "_dom_classes": [],
            "_model_module": "@jupyter-widgets/controls",
            "_model_module_version": "1.5.0",
            "_model_name": "FloatProgressModel",
            "_view_count": null,
            "_view_module": "@jupyter-widgets/controls",
            "_view_module_version": "1.5.0",
            "_view_name": "ProgressView",
            "bar_style": "success",
            "description": "",
            "description_tooltip": null,
            "layout": "IPY_MODEL_c6e665ee2ec6401caf067c294ccf287b",
            "max": 20000,
            "min": 0,
            "orientation": "horizontal",
            "style": "IPY_MODEL_6ac39cc4b6064d62b6f69c457b9326ec",
            "value": 20000
          }
        },
        "fd5a8006818641b5b209e51279ab1fd7": {
          "model_module": "@jupyter-widgets/controls",
          "model_name": "HTMLModel",
          "model_module_version": "1.5.0",
          "state": {
            "_dom_classes": [],
            "_model_module": "@jupyter-widgets/controls",
            "_model_module_version": "1.5.0",
            "_model_name": "HTMLModel",
            "_view_count": null,
            "_view_module": "@jupyter-widgets/controls",
            "_view_module_version": "1.5.0",
            "_view_name": "HTMLView",
            "description": "",
            "description_tooltip": null,
            "layout": "IPY_MODEL_b52fdfb80464452aa57b7a1a0b85a22e",
            "placeholder": "​",
            "style": "IPY_MODEL_2b430d4a8bb441bb8762695d443d0651",
            "value": " 20000/20000 [59:11&lt;00:00,  6.39it/s]"
          }
        },
        "1affebb176c44a7c909a26d85026c491": {
          "model_module": "@jupyter-widgets/base",
          "model_name": "LayoutModel",
          "model_module_version": "1.2.0",
          "state": {
            "_model_module": "@jupyter-widgets/base",
            "_model_module_version": "1.2.0",
            "_model_name": "LayoutModel",
            "_view_count": null,
            "_view_module": "@jupyter-widgets/base",
            "_view_module_version": "1.2.0",
            "_view_name": "LayoutView",
            "align_content": null,
            "align_items": null,
            "align_self": null,
            "border": null,
            "bottom": null,
            "display": null,
            "flex": null,
            "flex_flow": null,
            "grid_area": null,
            "grid_auto_columns": null,
            "grid_auto_flow": null,
            "grid_auto_rows": null,
            "grid_column": null,
            "grid_gap": null,
            "grid_row": null,
            "grid_template_areas": null,
            "grid_template_columns": null,
            "grid_template_rows": null,
            "height": null,
            "justify_content": null,
            "justify_items": null,
            "left": null,
            "margin": null,
            "max_height": null,
            "max_width": null,
            "min_height": null,
            "min_width": null,
            "object_fit": null,
            "object_position": null,
            "order": null,
            "overflow": null,
            "overflow_x": null,
            "overflow_y": null,
            "padding": null,
            "right": null,
            "top": null,
            "visibility": null,
            "width": null
          }
        },
        "fdbda344ada44359a19264859bae8920": {
          "model_module": "@jupyter-widgets/base",
          "model_name": "LayoutModel",
          "model_module_version": "1.2.0",
          "state": {
            "_model_module": "@jupyter-widgets/base",
            "_model_module_version": "1.2.0",
            "_model_name": "LayoutModel",
            "_view_count": null,
            "_view_module": "@jupyter-widgets/base",
            "_view_module_version": "1.2.0",
            "_view_name": "LayoutView",
            "align_content": null,
            "align_items": null,
            "align_self": null,
            "border": null,
            "bottom": null,
            "display": null,
            "flex": null,
            "flex_flow": null,
            "grid_area": null,
            "grid_auto_columns": null,
            "grid_auto_flow": null,
            "grid_auto_rows": null,
            "grid_column": null,
            "grid_gap": null,
            "grid_row": null,
            "grid_template_areas": null,
            "grid_template_columns": null,
            "grid_template_rows": null,
            "height": null,
            "justify_content": null,
            "justify_items": null,
            "left": null,
            "margin": null,
            "max_height": null,
            "max_width": null,
            "min_height": null,
            "min_width": null,
            "object_fit": null,
            "object_position": null,
            "order": null,
            "overflow": null,
            "overflow_x": null,
            "overflow_y": null,
            "padding": null,
            "right": null,
            "top": null,
            "visibility": null,
            "width": null
          }
        },
        "5b650ba8cd24460eac92febf3765d456": {
          "model_module": "@jupyter-widgets/controls",
          "model_name": "DescriptionStyleModel",
          "model_module_version": "1.5.0",
          "state": {
            "_model_module": "@jupyter-widgets/controls",
            "_model_module_version": "1.5.0",
            "_model_name": "DescriptionStyleModel",
            "_view_count": null,
            "_view_module": "@jupyter-widgets/base",
            "_view_module_version": "1.2.0",
            "_view_name": "StyleView",
            "description_width": ""
          }
        },
        "c6e665ee2ec6401caf067c294ccf287b": {
          "model_module": "@jupyter-widgets/base",
          "model_name": "LayoutModel",
          "model_module_version": "1.2.0",
          "state": {
            "_model_module": "@jupyter-widgets/base",
            "_model_module_version": "1.2.0",
            "_model_name": "LayoutModel",
            "_view_count": null,
            "_view_module": "@jupyter-widgets/base",
            "_view_module_version": "1.2.0",
            "_view_name": "LayoutView",
            "align_content": null,
            "align_items": null,
            "align_self": null,
            "border": null,
            "bottom": null,
            "display": null,
            "flex": null,
            "flex_flow": null,
            "grid_area": null,
            "grid_auto_columns": null,
            "grid_auto_flow": null,
            "grid_auto_rows": null,
            "grid_column": null,
            "grid_gap": null,
            "grid_row": null,
            "grid_template_areas": null,
            "grid_template_columns": null,
            "grid_template_rows": null,
            "height": null,
            "justify_content": null,
            "justify_items": null,
            "left": null,
            "margin": null,
            "max_height": null,
            "max_width": null,
            "min_height": null,
            "min_width": null,
            "object_fit": null,
            "object_position": null,
            "order": null,
            "overflow": null,
            "overflow_x": null,
            "overflow_y": null,
            "padding": null,
            "right": null,
            "top": null,
            "visibility": null,
            "width": null
          }
        },
        "6ac39cc4b6064d62b6f69c457b9326ec": {
          "model_module": "@jupyter-widgets/controls",
          "model_name": "ProgressStyleModel",
          "model_module_version": "1.5.0",
          "state": {
            "_model_module": "@jupyter-widgets/controls",
            "_model_module_version": "1.5.0",
            "_model_name": "ProgressStyleModel",
            "_view_count": null,
            "_view_module": "@jupyter-widgets/base",
            "_view_module_version": "1.2.0",
            "_view_name": "StyleView",
            "bar_color": null,
            "description_width": ""
          }
        },
        "b52fdfb80464452aa57b7a1a0b85a22e": {
          "model_module": "@jupyter-widgets/base",
          "model_name": "LayoutModel",
          "model_module_version": "1.2.0",
          "state": {
            "_model_module": "@jupyter-widgets/base",
            "_model_module_version": "1.2.0",
            "_model_name": "LayoutModel",
            "_view_count": null,
            "_view_module": "@jupyter-widgets/base",
            "_view_module_version": "1.2.0",
            "_view_name": "LayoutView",
            "align_content": null,
            "align_items": null,
            "align_self": null,
            "border": null,
            "bottom": null,
            "display": null,
            "flex": null,
            "flex_flow": null,
            "grid_area": null,
            "grid_auto_columns": null,
            "grid_auto_flow": null,
            "grid_auto_rows": null,
            "grid_column": null,
            "grid_gap": null,
            "grid_row": null,
            "grid_template_areas": null,
            "grid_template_columns": null,
            "grid_template_rows": null,
            "height": null,
            "justify_content": null,
            "justify_items": null,
            "left": null,
            "margin": null,
            "max_height": null,
            "max_width": null,
            "min_height": null,
            "min_width": null,
            "object_fit": null,
            "object_position": null,
            "order": null,
            "overflow": null,
            "overflow_x": null,
            "overflow_y": null,
            "padding": null,
            "right": null,
            "top": null,
            "visibility": null,
            "width": null
          }
        },
        "2b430d4a8bb441bb8762695d443d0651": {
          "model_module": "@jupyter-widgets/controls",
          "model_name": "DescriptionStyleModel",
          "model_module_version": "1.5.0",
          "state": {
            "_model_module": "@jupyter-widgets/controls",
            "_model_module_version": "1.5.0",
            "_model_name": "DescriptionStyleModel",
            "_view_count": null,
            "_view_module": "@jupyter-widgets/base",
            "_view_module_version": "1.2.0",
            "_view_name": "StyleView",
            "description_width": ""
          }
        },
        "d7ecf1ff68814f9eb73cbf8201e9e322": {
          "model_module": "@jupyter-widgets/controls",
          "model_name": "HBoxModel",
          "model_module_version": "1.5.0",
          "state": {
            "_dom_classes": [],
            "_model_module": "@jupyter-widgets/controls",
            "_model_module_version": "1.5.0",
            "_model_name": "HBoxModel",
            "_view_count": null,
            "_view_module": "@jupyter-widgets/controls",
            "_view_module_version": "1.5.0",
            "_view_name": "HBoxView",
            "box_style": "",
            "children": [
              "IPY_MODEL_6ab097393eb54374aaf888c0f4a7ac30",
              "IPY_MODEL_c09ffc9c75c64052a32e08fe7bfa5580",
              "IPY_MODEL_b3302fb04f7043b6b9f6be7bfbae579f"
            ],
            "layout": "IPY_MODEL_9d30b9f13de246278b01ce590ca6dbec"
          }
        },
        "6ab097393eb54374aaf888c0f4a7ac30": {
          "model_module": "@jupyter-widgets/controls",
          "model_name": "HTMLModel",
          "model_module_version": "1.5.0",
          "state": {
            "_dom_classes": [],
            "_model_module": "@jupyter-widgets/controls",
            "_model_module_version": "1.5.0",
            "_model_name": "HTMLModel",
            "_view_count": null,
            "_view_module": "@jupyter-widgets/controls",
            "_view_module_version": "1.5.0",
            "_view_name": "HTMLView",
            "description": "",
            "description_tooltip": null,
            "layout": "IPY_MODEL_6c35f689ba764f3ebce585d107bdcb92",
            "placeholder": "​",
            "style": "IPY_MODEL_e81684a41cd742fcb4a7258f6eaf5583",
            "value": " 86%"
          }
        },
        "c09ffc9c75c64052a32e08fe7bfa5580": {
          "model_module": "@jupyter-widgets/controls",
          "model_name": "FloatProgressModel",
          "model_module_version": "1.5.0",
          "state": {
            "_dom_classes": [],
            "_model_module": "@jupyter-widgets/controls",
            "_model_module_version": "1.5.0",
            "_model_name": "FloatProgressModel",
            "_view_count": null,
            "_view_module": "@jupyter-widgets/controls",
            "_view_module_version": "1.5.0",
            "_view_name": "ProgressView",
            "bar_style": "",
            "description": "",
            "description_tooltip": null,
            "layout": "IPY_MODEL_690537e0d7eb47719442fdf7097458fc",
            "max": 20000,
            "min": 0,
            "orientation": "horizontal",
            "style": "IPY_MODEL_3993c7defd4a4ea3a0a1e39158e8be91",
            "value": 17198
          }
        },
        "b3302fb04f7043b6b9f6be7bfbae579f": {
          "model_module": "@jupyter-widgets/controls",
          "model_name": "HTMLModel",
          "model_module_version": "1.5.0",
          "state": {
            "_dom_classes": [],
            "_model_module": "@jupyter-widgets/controls",
            "_model_module_version": "1.5.0",
            "_model_name": "HTMLModel",
            "_view_count": null,
            "_view_module": "@jupyter-widgets/controls",
            "_view_module_version": "1.5.0",
            "_view_name": "HTMLView",
            "description": "",
            "description_tooltip": null,
            "layout": "IPY_MODEL_5e107adcf4c64e2795112853e117147d",
            "placeholder": "​",
            "style": "IPY_MODEL_593ab2aaa66d408ea06933a53b94c86f",
            "value": " 17198/20000 [59:15&lt;09:34,  4.88it/s]"
          }
        },
        "9d30b9f13de246278b01ce590ca6dbec": {
          "model_module": "@jupyter-widgets/base",
          "model_name": "LayoutModel",
          "model_module_version": "1.2.0",
          "state": {
            "_model_module": "@jupyter-widgets/base",
            "_model_module_version": "1.2.0",
            "_model_name": "LayoutModel",
            "_view_count": null,
            "_view_module": "@jupyter-widgets/base",
            "_view_module_version": "1.2.0",
            "_view_name": "LayoutView",
            "align_content": null,
            "align_items": null,
            "align_self": null,
            "border": null,
            "bottom": null,
            "display": null,
            "flex": null,
            "flex_flow": null,
            "grid_area": null,
            "grid_auto_columns": null,
            "grid_auto_flow": null,
            "grid_auto_rows": null,
            "grid_column": null,
            "grid_gap": null,
            "grid_row": null,
            "grid_template_areas": null,
            "grid_template_columns": null,
            "grid_template_rows": null,
            "height": null,
            "justify_content": null,
            "justify_items": null,
            "left": null,
            "margin": null,
            "max_height": null,
            "max_width": null,
            "min_height": null,
            "min_width": null,
            "object_fit": null,
            "object_position": null,
            "order": null,
            "overflow": null,
            "overflow_x": null,
            "overflow_y": null,
            "padding": null,
            "right": null,
            "top": null,
            "visibility": null,
            "width": null
          }
        },
        "6c35f689ba764f3ebce585d107bdcb92": {
          "model_module": "@jupyter-widgets/base",
          "model_name": "LayoutModel",
          "model_module_version": "1.2.0",
          "state": {
            "_model_module": "@jupyter-widgets/base",
            "_model_module_version": "1.2.0",
            "_model_name": "LayoutModel",
            "_view_count": null,
            "_view_module": "@jupyter-widgets/base",
            "_view_module_version": "1.2.0",
            "_view_name": "LayoutView",
            "align_content": null,
            "align_items": null,
            "align_self": null,
            "border": null,
            "bottom": null,
            "display": null,
            "flex": null,
            "flex_flow": null,
            "grid_area": null,
            "grid_auto_columns": null,
            "grid_auto_flow": null,
            "grid_auto_rows": null,
            "grid_column": null,
            "grid_gap": null,
            "grid_row": null,
            "grid_template_areas": null,
            "grid_template_columns": null,
            "grid_template_rows": null,
            "height": null,
            "justify_content": null,
            "justify_items": null,
            "left": null,
            "margin": null,
            "max_height": null,
            "max_width": null,
            "min_height": null,
            "min_width": null,
            "object_fit": null,
            "object_position": null,
            "order": null,
            "overflow": null,
            "overflow_x": null,
            "overflow_y": null,
            "padding": null,
            "right": null,
            "top": null,
            "visibility": null,
            "width": null
          }
        },
        "e81684a41cd742fcb4a7258f6eaf5583": {
          "model_module": "@jupyter-widgets/controls",
          "model_name": "DescriptionStyleModel",
          "model_module_version": "1.5.0",
          "state": {
            "_model_module": "@jupyter-widgets/controls",
            "_model_module_version": "1.5.0",
            "_model_name": "DescriptionStyleModel",
            "_view_count": null,
            "_view_module": "@jupyter-widgets/base",
            "_view_module_version": "1.2.0",
            "_view_name": "StyleView",
            "description_width": ""
          }
        },
        "690537e0d7eb47719442fdf7097458fc": {
          "model_module": "@jupyter-widgets/base",
          "model_name": "LayoutModel",
          "model_module_version": "1.2.0",
          "state": {
            "_model_module": "@jupyter-widgets/base",
            "_model_module_version": "1.2.0",
            "_model_name": "LayoutModel",
            "_view_count": null,
            "_view_module": "@jupyter-widgets/base",
            "_view_module_version": "1.2.0",
            "_view_name": "LayoutView",
            "align_content": null,
            "align_items": null,
            "align_self": null,
            "border": null,
            "bottom": null,
            "display": null,
            "flex": null,
            "flex_flow": null,
            "grid_area": null,
            "grid_auto_columns": null,
            "grid_auto_flow": null,
            "grid_auto_rows": null,
            "grid_column": null,
            "grid_gap": null,
            "grid_row": null,
            "grid_template_areas": null,
            "grid_template_columns": null,
            "grid_template_rows": null,
            "height": null,
            "justify_content": null,
            "justify_items": null,
            "left": null,
            "margin": null,
            "max_height": null,
            "max_width": null,
            "min_height": null,
            "min_width": null,
            "object_fit": null,
            "object_position": null,
            "order": null,
            "overflow": null,
            "overflow_x": null,
            "overflow_y": null,
            "padding": null,
            "right": null,
            "top": null,
            "visibility": null,
            "width": null
          }
        },
        "3993c7defd4a4ea3a0a1e39158e8be91": {
          "model_module": "@jupyter-widgets/controls",
          "model_name": "ProgressStyleModel",
          "model_module_version": "1.5.0",
          "state": {
            "_model_module": "@jupyter-widgets/controls",
            "_model_module_version": "1.5.0",
            "_model_name": "ProgressStyleModel",
            "_view_count": null,
            "_view_module": "@jupyter-widgets/base",
            "_view_module_version": "1.2.0",
            "_view_name": "StyleView",
            "bar_color": null,
            "description_width": ""
          }
        },
        "5e107adcf4c64e2795112853e117147d": {
          "model_module": "@jupyter-widgets/base",
          "model_name": "LayoutModel",
          "model_module_version": "1.2.0",
          "state": {
            "_model_module": "@jupyter-widgets/base",
            "_model_module_version": "1.2.0",
            "_model_name": "LayoutModel",
            "_view_count": null,
            "_view_module": "@jupyter-widgets/base",
            "_view_module_version": "1.2.0",
            "_view_name": "LayoutView",
            "align_content": null,
            "align_items": null,
            "align_self": null,
            "border": null,
            "bottom": null,
            "display": null,
            "flex": null,
            "flex_flow": null,
            "grid_area": null,
            "grid_auto_columns": null,
            "grid_auto_flow": null,
            "grid_auto_rows": null,
            "grid_column": null,
            "grid_gap": null,
            "grid_row": null,
            "grid_template_areas": null,
            "grid_template_columns": null,
            "grid_template_rows": null,
            "height": null,
            "justify_content": null,
            "justify_items": null,
            "left": null,
            "margin": null,
            "max_height": null,
            "max_width": null,
            "min_height": null,
            "min_width": null,
            "object_fit": null,
            "object_position": null,
            "order": null,
            "overflow": null,
            "overflow_x": null,
            "overflow_y": null,
            "padding": null,
            "right": null,
            "top": null,
            "visibility": null,
            "width": null
          }
        },
        "593ab2aaa66d408ea06933a53b94c86f": {
          "model_module": "@jupyter-widgets/controls",
          "model_name": "DescriptionStyleModel",
          "model_module_version": "1.5.0",
          "state": {
            "_model_module": "@jupyter-widgets/controls",
            "_model_module_version": "1.5.0",
            "_model_name": "DescriptionStyleModel",
            "_view_count": null,
            "_view_module": "@jupyter-widgets/base",
            "_view_module_version": "1.2.0",
            "_view_name": "StyleView",
            "description_width": ""
          }
        }
      }
    }
  },
  "nbformat": 4,
  "nbformat_minor": 0
}