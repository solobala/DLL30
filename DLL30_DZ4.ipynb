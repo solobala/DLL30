{
  "nbformat": 4,
  "nbformat_minor": 0,
  "metadata": {
    "colab": {
      "provenance": [],
      "authorship_tag": "ABX9TyNZ6iqLL3BJlGMwMZ4T2a4I",
      "include_colab_link": true
    },
    "kernelspec": {
      "name": "python3",
      "display_name": "Python 3"
    },
    "language_info": {
      "name": "python"
    }
  },
  "cells": [
    {
      "cell_type": "markdown",
      "metadata": {
        "id": "view-in-github",
        "colab_type": "text"
      },
      "source": [
        "<a href=\"https://colab.research.google.com/github/solobala/DLL30/blob/main/DLL30_DZ4.ipynb\" target=\"_parent\"><img src=\"https://colab.research.google.com/assets/colab-badge.svg\" alt=\"Open In Colab\"/></a>"
      ]
    },
    {
      "cell_type": "markdown",
      "source": [
        "# **Домашнее** задание по теме «Архитектуры свёрточных сетей»\n",
        "\n",
        "**Цель задания:**\n",
        "\n",
        "изучить работу с готовыми моделями из torchvision.\n",
        "\n",
        "**Контекст**\n",
        "\n",
        "Вам необходимо подобрать базовую модель для работы по вашей задаче. Вы пробуете обучать различные модели на “ваших” данных. По результатам отберёте лучшую для дальнейшего обучения.\n",
        "\n",
        "**Задание**\n",
        "\n",
        "Вам необходимо провести эксперименты по начальному обучению различных моделей и сравнить результаты.\n",
        "\n",
        "1. Возьмите датасет EMNIST из torchvision\n",
        "\n",
        "2. Обучите на нём модели: ResNet 18, VGG 16, Inception v3, DenseNet 161 (с нуля по 10 эпох)\n",
        "\n",
        "3. Сведите результаты обучения моделей (графики лоса) в таблицу и сравните их.\n",
        "\n",
        "\n",
        "**Задание со звездочкой**\n",
        "\n",
        "* Выполните то же задание, используя датасет hymenoptera_data\n",
        "\n",
        "Инструкция к выполнению задания\n",
        "\n",
        "* Загрузите датасет, посмотрите примеры картинок в нём и проверьте наличествующие классы и их дисбаланс.\n",
        "\n",
        "* Создайте модель текущего типа, используя интерфейс torchvision для нужного количества классов.\n",
        "\n",
        "* Обучите модель с нуля 10 эпох. Фиксируйте значение функции потерь в список для последующего отображения.\n",
        "\n",
        "Повторите пункты 2 и 3 для всех указанных вариантов моделей.\n",
        "\n",
        "**Формат сдачи работы**\n",
        "\n",
        "Прикрепите ссылку на готовое решение в личном кабинете. Работу можно отправлять в виде ссылки на python-ноутбук из GitHub, Google Colaboratory или аналогичных платформ. Не забудьте открыть доступ на просмотр и комментирование.\n",
        "\n",
        "**Критерии оценивания**\n",
        "\n",
        "По итогу выполнения задания вы получите зачёт.\n",
        "\n",
        "Задание считается выполненным, если:\n",
        "\n",
        "* вы обучили каждую модель до некоторого улучшения качества\n",
        "\n",
        "* составлена таблица обучения для сравнения\n",
        "\n",
        "Задание будет отправлено на доработку, если:\n",
        "\n",
        "* использованы не все типы моделей\n",
        "\n",
        "* не составлена сводная таблица с результатами\n"
      ],
      "metadata": {
        "id": "t_gkG9qD64I5"
      }
    },
    {
      "cell_type": "markdown",
      "source": [
        "# Импорт библиотек и пользовательские функции"
      ],
      "metadata": {
        "id": "k_TIbZnu7kVz"
      }
    },
    {
      "cell_type": "code",
      "execution_count": 1,
      "metadata": {
        "id": "rhknTtOq6z7F"
      },
      "outputs": [],
      "source": [
        "import torch\n",
        "from torch import nn\n",
        "import torchvision as tv # consists of popular datasets, model architectures, and common image transformations for computer vision\n",
        "from torchsummary import summary # посмотреть архитектуру\n",
        "import time"
      ]
    },
    {
      "cell_type": "code",
      "source": [
        "import matplotlib.pyplot as plt\n",
        "%matplotlib inline\n",
        "import numpy as np\n",
        "import pandas as pd"
      ],
      "metadata": {
        "id": "B6zGppfGE09Z"
      },
      "execution_count": 2,
      "outputs": []
    },
    {
      "cell_type": "code",
      "source": [
        "device = 'cuda' if torch.cuda.is_available() else 'cpu'\n",
        "device"
      ],
      "metadata": {
        "colab": {
          "base_uri": "https://localhost:8080/",
          "height": 35
        },
        "id": "_tnwb_V08qyN",
        "outputId": "b7db36a7-489c-4356-f4de-412ef31a69ac"
      },
      "execution_count": 3,
      "outputs": [
        {
          "output_type": "execute_result",
          "data": {
            "text/plain": [
              "'cpu'"
            ],
            "application/vnd.google.colaboratory.intrinsic+json": {
              "type": "string"
            }
          },
          "metadata": {},
          "execution_count": 3
        }
      ]
    },
    {
      "cell_type": "markdown",
      "source": [
        "# 1. Загрузка датасета\n",
        "Примечание 1:\n",
        "\n",
        "\n",
        "---\n",
        "\n",
        "\n",
        "В локальном клмпьютере отсутствует карта с GPU. Поэтому было принято решение выполнить обученние всех моделей , используя вычислительные ресурсы Kaggle. Данный ноутбук использован в презентационных целях - для визуализации исходных данных и обработки полученных результатов - и содержит ссылки на 4 ноутбука с Kaggle.\n",
        "\n",
        "Примечание 2:\n",
        "\n",
        "\n",
        "---\n",
        "\n",
        "\n",
        "В связи с ограниченностью вычислительных ресурсов задача решалась с использованием split=\"MNIST\"\n",
        "\n",
        "Примечание 3:\n",
        "\n",
        "\n",
        "---\n",
        "\n",
        "\n",
        "При использовании предобученных моделей из torchvision используется вариант transforms.Compose с преобразованием исходных данных в 3-канальное изображение. Соответственно, происходит перезагрузка train_dataset и test_dataset. Используется в ноутбуках по обучению resnet18 и densenet161.\n",
        "\n",
        "При обучении vgg16 и inception v3 предобученные модели не используются, т.к не хватает вычислительных ресурсов CUDA"
      ],
      "metadata": {
        "id": "K3gIfXMK7qz9"
      }
    },
    {
      "cell_type": "code",
      "source": [
        "BATCH_SIZE = 256\n",
        "# Переводим картинки в 224х224 и в тензор\n",
        "transoforms = tv.transforms.Compose([\n",
        "    tv.transforms.Resize((224, 224)),\n",
        "    tv.transforms.ToTensor()\n",
        "])\n",
        "train_dataset = tv.datasets.EMNIST('.', split='mnist', train=True, transform=transoforms, download=True)\n",
        "test_dataset = tv.datasets.EMNIST('.', split='mnist', train=False, transform=transoforms, download=True)\n",
        "train_iter = torch.utils.data.DataLoader(train_dataset, batch_size=BATCH_SIZE)\n",
        "test_iter = torch.utils.data.DataLoader(test_dataset, batch_size=BATCH_SIZE)"
      ],
      "metadata": {
        "colab": {
          "base_uri": "https://localhost:8080/"
        },
        "id": "pG9CoN3K7y9c",
        "outputId": "e4643250-e97d-4437-e2ec-da956a4f357f"
      },
      "execution_count": 6,
      "outputs": [
        {
          "output_type": "stream",
          "name": "stdout",
          "text": [
            "Downloading https://www.itl.nist.gov/iaui/vip/cs_links/EMNIST/gzip.zip to ./EMNIST/raw/gzip.zip\n"
          ]
        },
        {
          "output_type": "stream",
          "name": "stderr",
          "text": [
            "100%|██████████| 561753746/561753746 [00:06<00:00, 92521927.01it/s] \n"
          ]
        },
        {
          "output_type": "stream",
          "name": "stdout",
          "text": [
            "Extracting ./EMNIST/raw/gzip.zip to ./EMNIST/raw\n"
          ]
        }
      ]
    },
    {
      "cell_type": "markdown",
      "source": [
        "##1.1. Визуализация"
      ],
      "metadata": {
        "id": "N7My5b6aDfqa"
      }
    },
    {
      "cell_type": "code",
      "source": [
        "train_dataset.classes"
      ],
      "metadata": {
        "colab": {
          "base_uri": "https://localhost:8080/"
        },
        "id": "jj7XDPUcHozx",
        "outputId": "ab01c661-3d9b-401c-c3f5-fafaed0c029b"
      },
      "execution_count": 7,
      "outputs": [
        {
          "output_type": "execute_result",
          "data": {
            "text/plain": [
              "['0', '1', '2', '3', '4', '5', '6', '7', '8', '9']"
            ]
          },
          "metadata": {},
          "execution_count": 7
        }
      ]
    },
    {
      "cell_type": "code",
      "source": [
        "labels_map={\n",
        "    0: '48',\n",
        "    1: '49',\n",
        "    2: '50',\n",
        "    3: '51',\n",
        "    4: '52',\n",
        "    5: '53',\n",
        "    6: '54',\n",
        "    7: '55',\n",
        "    8: '56',\n",
        "    9: '57',\n",
        "}\n",
        "\n",
        "figure = plt.figure(figsize = (10,10))\n",
        "cols, rows = 3, 3\n",
        "\n",
        "for i in range (1, cols*rows + 1):\n",
        "    sample_idx = torch.randint(len(train_dataset), size = (1,)).item()\n",
        "    image, label = train_dataset[sample_idx]\n",
        "    figure.add_subplot(rows, cols, i)\n",
        "    plt.title(labels_map[label])\n",
        "    plt.axis('off')\n",
        "    plt.imshow(image.squeeze(), cmap='gray')\n",
        "plt.show()"
      ],
      "metadata": {
        "colab": {
          "base_uri": "https://localhost:8080/",
          "height": 829
        },
        "id": "F0GH_bn0DR0k",
        "outputId": "9a4ac2f3-1c05-4014-f934-e292f3c239ef"
      },
      "execution_count": 8,
      "outputs": [
        {
          "output_type": "display_data",
          "data": {
            "text/plain": [
              "<Figure size 1000x1000 with 9 Axes>"
            ],
            "image/png": "[encoded data removed]"
          },
          "metadata": {}
        }
      ]
    },
    {
      "cell_type": "code",
      "source": [
        "train_dataset.targets"
      ],
      "metadata": {
        "colab": {
          "base_uri": "https://localhost:8080/"
        },
        "id": "UVB-RM3ZLIOP",
        "outputId": "fef6f134-da4e-4404-f8f4-10a3609e7e26"
      },
      "execution_count": 9,
      "outputs": [
        {
          "output_type": "execute_result",
          "data": {
            "text/plain": [
              "tensor([4, 1, 4,  ..., 1, 5, 0])"
            ]
          },
          "metadata": {},
          "execution_count": 9
        }
      ]
    },
    {
      "cell_type": "code",
      "source": [
        "# считаем количество элементов\n",
        "targets = train_dataset.targets\n",
        "counts = torch.bincount(targets)\n",
        "for i, count in enumerate(counts):\n",
        "    print(f\"{i}: {count}\")"
      ],
      "metadata": {
        "colab": {
          "base_uri": "https://localhost:8080/"
        },
        "id": "gTMxpuVwKfRv",
        "outputId": "10682375-65da-4350-fc6e-78194cc9daee"
      },
      "execution_count": 10,
      "outputs": [
        {
          "output_type": "stream",
          "name": "stdout",
          "text": [
            "0: 6000\n",
            "1: 6000\n",
            "2: 6000\n",
            "3: 6000\n",
            "4: 6000\n",
            "5: 6000\n",
            "6: 6000\n",
            "7: 6000\n",
            "8: 6000\n",
            "9: 6000\n"
          ]
        }
      ]
    },
    {
      "cell_type": "markdown",
      "source": [
        "классы датасета сбалансированы"
      ],
      "metadata": {
        "id": "rcPh6-jYL4Gs"
      }
    },
    {
      "cell_type": "markdown",
      "source": [
        "# 2. Обучение моделей"
      ],
      "metadata": {
        "id": "EByLxlvw7zf5"
      }
    },
    {
      "cell_type": "markdown",
      "source": [
        "## 2.1. ResNET 18"
      ],
      "metadata": {
        "id": "EMWDjsNY75nq"
      }
    },
    {
      "cell_type": "markdown",
      "source": [
        "[Ноутбук с Kaggle, в котором происходило обучение ResNET18, сохранен в репозитории github](https://github.com/solobala/DLL30/blob/main/DLL30_DZ4_resnet.ipynb)"
      ],
      "metadata": {
        "id": "R1BOxDL83V8V"
      }
    },
    {
      "cell_type": "markdown",
      "source": [
        "[Результаты обучения ResNet18](https://github.com/solobala/DLL30/blob/main/resnet.csv)"
      ],
      "metadata": {
        "id": "DLgtAMev5wyI"
      }
    },
    {
      "cell_type": "markdown",
      "source": [
        "## 2.2. VGG16"
      ],
      "metadata": {
        "id": "cQOUoPM_8C7I"
      }
    },
    {
      "cell_type": "markdown",
      "source": [
        "[Ноутбук с Kaggle, в котором происходило обучение VGG16, сохранен в репозитории github](https://github.com/solobala/DLL30/blob/main/DLL30_DZ4_vgg16.ipynb)"
      ],
      "metadata": {
        "id": "7kyWXkCM4x2n"
      }
    },
    {
      "cell_type": "markdown",
      "source": [
        "[Результаты обучения VGG16](https://github.com/solobala/DLL30/blob/main/vgg16.csv)"
      ],
      "metadata": {
        "id": "BfeOQ_AB59Zl"
      }
    },
    {
      "cell_type": "markdown",
      "source": [
        "## 2.3. Inception v3"
      ],
      "metadata": {
        "id": "d2JTER8a8JTZ"
      }
    },
    {
      "cell_type": "markdown",
      "source": [
        "[Ноутбук с Kaggle, в котором происходило обучение Inception v3, сохранен в репозитории github](https://github.com/solobala/DLL30/blob/main/DLL30_DZ4_inception_v3.ipynb)"
      ],
      "metadata": {
        "id": "0oK-YPqY5DCF"
      }
    },
    {
      "cell_type": "markdown",
      "source": [
        "[Результаты обучения Inception v3](https://github.com/solobala/DLL30/blob/main/inception_v3.csv)"
      ],
      "metadata": {
        "id": "NNd1ReCw6V7s"
      }
    },
    {
      "cell_type": "markdown",
      "source": [
        "## 2.4. DenseNet 161"
      ],
      "metadata": {
        "id": "2W5rzfmG8RRm"
      }
    },
    {
      "cell_type": "markdown",
      "source": [
        "[Ноутбук с Kaggle, в котором происходило обучение DenseNet 161, сохранен в репозитории github](https://github.com/solobala/DLL30/blob/main/DLL30_DZ4_densenet161.ipynb)"
      ],
      "metadata": {
        "id": "4fZk43Yj5RVQ"
      }
    },
    {
      "cell_type": "markdown",
      "source": [
        "[Результаты обучения DenseNet 161](https://github.com/solobala/DLL30/blob/main/dencenet_161.csv)"
      ],
      "metadata": {
        "id": "P7kNTBdt6mAK"
      }
    },
    {
      "cell_type": "markdown",
      "source": [
        "## 2.5. Сравнение моделей"
      ],
      "metadata": {
        "id": "TXex8yDX61Ji"
      }
    },
    {
      "cell_type": "markdown",
      "source": [
        "### 2.5.1. Загрузка результатов обучения моделей из репозитория"
      ],
      "metadata": {
        "id": "FzqKozl6Sx-f"
      }
    },
    {
      "cell_type": "code",
      "source": [
        "! wget 'https://raw.githubusercontent.com/solobala/DLL30/main/resnet.csv'"
      ],
      "metadata": {
        "colab": {
          "base_uri": "https://localhost:8080/"
        },
        "id": "_Lly8WWk_hnK",
        "outputId": "61828708-f94f-4489-baa1-b4e3e3eff77f"
      },
      "execution_count": 21,
      "outputs": [
        {
          "output_type": "stream",
          "name": "stdout",
          "text": [
            "--2023-12-15 05:49:27--  https://raw.githubusercontent.com/solobala/DLL30/main/resnet.csv\n",
            "Resolving raw.githubusercontent.com (raw.githubusercontent.com)... 185.199.108.133, 185.199.109.133, 185.199.110.133, ...\n",
            "Connecting to raw.githubusercontent.com (raw.githubusercontent.com)|185.199.108.133|:443... connected.\n",
            "HTTP request sent, awaiting response... 200 OK\n",
            "Length: 561 [text/plain]\n",
            "Saving to: ‘resnet.csv’\n",
            "\n",
            "\rresnet.csv            0%[                    ]       0  --.-KB/s               \rresnet.csv          100%[===================>]     561  --.-KB/s    in 0s      \n",
            "\n",
            "2023-12-15 05:49:27 (16.8 MB/s) - ‘resnet.csv’ saved [561/561]\n",
            "\n"
          ]
        }
      ]
    },
    {
      "cell_type": "code",
      "source": [
        "! wget 'https://raw.githubusercontent.com/solobala/DLL30/main/vgg16.csv'"
      ],
      "metadata": {
        "colab": {
          "base_uri": "https://localhost:8080/"
        },
        "id": "o5ElLsglAKOX",
        "outputId": "7ac8115c-764c-47ec-9b81-f661a636a73e"
      },
      "execution_count": 27,
      "outputs": [
        {
          "output_type": "stream",
          "name": "stdout",
          "text": [
            "--2023-12-15 05:51:56--  https://raw.githubusercontent.com/solobala/DLL30/main/vgg16.csv\n",
            "Resolving raw.githubusercontent.com (raw.githubusercontent.com)... 185.199.108.133, 185.199.109.133, 185.199.110.133, ...\n",
            "Connecting to raw.githubusercontent.com (raw.githubusercontent.com)|185.199.108.133|:443... connected.\n",
            "HTTP request sent, awaiting response... 200 OK\n",
            "Length: 570 [text/plain]\n",
            "Saving to: ‘vgg16.csv’\n",
            "\n",
            "\rvgg16.csv             0%[                    ]       0  --.-KB/s               \rvgg16.csv           100%[===================>]     570  --.-KB/s    in 0s      \n",
            "\n",
            "2023-12-15 05:51:56 (22.4 MB/s) - ‘vgg16.csv’ saved [570/570]\n",
            "\n"
          ]
        }
      ]
    },
    {
      "cell_type": "code",
      "source": [
        "! wget 'https://raw.githubusercontent.com/solobala/DLL30/main/inception_v3.csv'"
      ],
      "metadata": {
        "colab": {
          "base_uri": "https://localhost:8080/"
        },
        "id": "3ZcIeCI-AQzm",
        "outputId": "5a8fee36-f4f2-47c6-81c8-09f52c96b83a"
      },
      "execution_count": 28,
      "outputs": [
        {
          "output_type": "stream",
          "name": "stdout",
          "text": [
            "--2023-12-15 05:52:25--  https://raw.githubusercontent.com/solobala/DLL30/main/inception_v3.csv\n",
            "Resolving raw.githubusercontent.com (raw.githubusercontent.com)... 185.199.108.133, 185.199.109.133, 185.199.110.133, ...\n",
            "Connecting to raw.githubusercontent.com (raw.githubusercontent.com)|185.199.108.133|:443... connected.\n",
            "HTTP request sent, awaiting response... 200 OK\n",
            "Length: 620 [text/plain]\n",
            "Saving to: ‘inception_v3.csv’\n",
            "\n",
            "\rinception_v3.csv      0%[                    ]       0  --.-KB/s               \rinception_v3.csv    100%[===================>]     620  --.-KB/s    in 0s      \n",
            "\n",
            "2023-12-15 05:52:26 (55.5 MB/s) - ‘inception_v3.csv’ saved [620/620]\n",
            "\n"
          ]
        }
      ]
    },
    {
      "cell_type": "code",
      "source": [
        "! wget 'https://raw.githubusercontent.com/solobala/DLL30/main/dencenet_161.csv'"
      ],
      "metadata": {
        "colab": {
          "base_uri": "https://localhost:8080/"
        },
        "id": "dCBP9ph2AWow",
        "outputId": "d272c11d-d54f-48b2-da48-3e247fc469fc"
      },
      "execution_count": 29,
      "outputs": [
        {
          "output_type": "stream",
          "name": "stdout",
          "text": [
            "--2023-12-15 05:53:06--  https://raw.githubusercontent.com/solobala/DLL30/main/dencenet_161.csv\n",
            "Resolving raw.githubusercontent.com (raw.githubusercontent.com)... 185.199.108.133, 185.199.109.133, 185.199.110.133, ...\n",
            "Connecting to raw.githubusercontent.com (raw.githubusercontent.com)|185.199.108.133|:443... connected.\n",
            "HTTP request sent, awaiting response... 200 OK\n",
            "Length: 616 [text/plain]\n",
            "Saving to: ‘dencenet_161.csv’\n",
            "\n",
            "\rdencenet_161.csv      0%[                    ]       0  --.-KB/s               \rdencenet_161.csv    100%[===================>]     616  --.-KB/s    in 0s      \n",
            "\n",
            "2023-12-15 05:53:06 (31.8 MB/s) - ‘dencenet_161.csv’ saved [616/616]\n",
            "\n"
          ]
        }
      ]
    },
    {
      "cell_type": "code",
      "source": [
        "df_results= pd.DataFrame(columns=['model', 'train_accuracy', 'train_loss', 'test_accuracy','epoch'])\n",
        "df1 = pd.read_csv('/content/resnet.csv')\n",
        "df2 = pd.read_csv('/content/vgg16.csv')\n",
        "df3= pd.read_csv('/content/inception_v3.csv')\n",
        "df4 = pd.read_csv('/content/dencenet_161.csv')\n",
        "df_results = pd.concat([df1,df2,df3,df4], ignore_index=True)"
      ],
      "metadata": {
        "id": "tDy3BQiASW3V"
      },
      "execution_count": 90,
      "outputs": []
    },
    {
      "cell_type": "code",
      "source": [
        "df_results"
      ],
      "metadata": {
        "colab": {
          "base_uri": "https://localhost:8080/",
          "height": 1000
        },
        "id": "aBZ61w5xFceJ",
        "outputId": "4690c121-9032-4f8d-e5c4-c694db326d42"
      },
      "execution_count": 94,
      "outputs": [
        {
          "output_type": "execute_result",
          "data": {
            "text/plain": [
              "           model  train_accuracy  train_loss  test_accuracy  epoch\n",
              "0       resnet18        0.866567    0.590512         0.9369      0\n",
              "1       resnet18        0.944000    0.221177         0.9491      1\n",
              "2       resnet18        0.953667    0.170367         0.9555      2\n",
              "3       resnet18        0.958917    0.146143         0.9576      3\n",
              "4       resnet18        0.962167    0.131354         0.9593      4\n",
              "5       resnet18        0.964850    0.121129         0.9604      5\n",
              "6       resnet18        0.966867    0.113501         0.9615      6\n",
              "7       resnet18        0.967950    0.107511         0.9622      7\n",
              "8       resnet18        0.969550    0.102632         0.9621      8\n",
              "9       resnet18        0.970550    0.098548         0.9629      9\n",
              "10         vgg16        0.823417    0.491901         0.9816      0\n",
              "11         vgg16        0.985533    0.048897         0.9875      1\n",
              "12         vgg16        0.990450    0.031727         0.9901      2\n",
              "13         vgg16        0.992567    0.024981         0.9918      3\n",
              "14         vgg16        0.994383    0.019147         0.9923      4\n",
              "15         vgg16        0.995317    0.015705         0.9911      5\n",
              "16         vgg16        0.996283    0.012776         0.9911      6\n",
              "17         vgg16        0.995800    0.012743         0.9921      7\n",
              "18         vgg16        0.996333    0.011288         0.9871      8\n",
              "19         vgg16        0.997017    0.009972         0.9912      9\n",
              "20  inception_v3        0.306433    1.850410         0.9157      0\n",
              "21  inception_v3        0.965133    0.124662         0.9753      1\n",
              "22  inception_v3        0.982700    0.061123         0.9889      2\n",
              "23  inception_v3        0.987933    0.043086         0.9907      3\n",
              "24  inception_v3        0.989667    0.035289         0.9905      4\n",
              "25  inception_v3        0.990850    0.030984         0.9912      5\n",
              "26  inception_v3        0.992750    0.025528         0.9925      6\n",
              "27  inception_v3        0.993017    0.024471         0.9929      7\n",
              "28  inception_v3        0.993833    0.021324         0.9922      8\n",
              "29  inception_v3        0.993900    0.019963         0.9938      9\n",
              "30   dencenet161        0.879967    0.551938         0.9412      0\n",
              "31   dencenet161        0.950650    0.207485         0.9563      1\n",
              "32   dencenet161        0.961600    0.155470         0.9616      2\n",
              "33   dencenet161        0.967067    0.130077         0.9641      3\n",
              "34   dencenet161        0.970150    0.114286         0.9659      4\n",
              "35   dencenet161        0.972467    0.103202         0.9672      5\n",
              "36   dencenet161        0.974567    0.094830         0.9682      6\n",
              "37   dencenet161        0.976017    0.088192         0.9685      7\n",
              "38   dencenet161        0.977367    0.082741         0.9692      8\n",
              "39   dencenet161        0.978733    0.078149         0.9694      9"
            ],
            "text/html": [
              "\n",
              "  <div id=\"df-2ff78e5f-6a00-4996-a88e-fcfb55e33194\" class=\"colab-df-container\">\n",
              "    <div>\n",
              "<style scoped>\n",
              "    .dataframe tbody tr th:only-of-type {\n",
              "        vertical-align: middle;\n",
              "    }\n",
              "\n",
              "    .dataframe tbody tr th {\n",
              "        vertical-align: top;\n",
              "    }\n",
              "\n",
              "    .dataframe thead th {\n",
              "        text-align: right;\n",
              "    }\n",
              "</style>\n",
              "<table border=\"1\" class=\"dataframe\">\n",
              "  <thead>\n",
              "    <tr style=\"text-align: right;\">\n",
              "      <th></th>\n",
              "      <th>model</th>\n",
              "      <th>train_accuracy</th>\n",
              "      <th>train_loss</th>\n",
              "      <th>test_accuracy</th>\n",
              "      <th>epoch</th>\n",
              "    </tr>\n",
              "  </thead>\n",
              "  <tbody>\n",
              "    <tr>\n",
              "      <th>0</th>\n",
              "      <td>resnet18</td>\n",
              "      <td>0.866567</td>\n",
              "      <td>0.590512</td>\n",
              "      <td>0.9369</td>\n",
              "      <td>0</td>\n",
              "    </tr>\n",
              "    <tr>\n",
              "      <th>1</th>\n",
              "      <td>resnet18</td>\n",
              "      <td>0.944000</td>\n",
              "      <td>0.221177</td>\n",
              "      <td>0.9491</td>\n",
              "      <td>1</td>\n",
              "    </tr>\n",
              "    <tr>\n",
              "      <th>2</th>\n",
              "      <td>resnet18</td>\n",
              "      <td>0.953667</td>\n",
              "      <td>0.170367</td>\n",
              "      <td>0.9555</td>\n",
              "      <td>2</td>\n",
              "    </tr>\n",
              "    <tr>\n",
              "      <th>3</th>\n",
              "      <td>resnet18</td>\n",
              "      <td>0.958917</td>\n",
              "      <td>0.146143</td>\n",
              "      <td>0.9576</td>\n",
              "      <td>3</td>\n",
              "    </tr>\n",
              "    <tr>\n",
              "      <th>4</th>\n",
              "      <td>resnet18</td>\n",
              "      <td>0.962167</td>\n",
              "      <td>0.131354</td>\n",
              "      <td>0.9593</td>\n",
              "      <td>4</td>\n",
              "    </tr>\n",
              "    <tr>\n",
              "      <th>5</th>\n",
              "      <td>resnet18</td>\n",
              "      <td>0.964850</td>\n",
              "      <td>0.121129</td>\n",
              "      <td>0.9604</td>\n",
              "      <td>5</td>\n",
              "    </tr>\n",
              "    <tr>\n",
              "      <th>6</th>\n",
              "      <td>resnet18</td>\n",
              "      <td>0.966867</td>\n",
              "      <td>0.113501</td>\n",
              "      <td>0.9615</td>\n",
              "      <td>6</td>\n",
              "    </tr>\n",
              "    <tr>\n",
              "      <th>7</th>\n",
              "      <td>resnet18</td>\n",
              "      <td>0.967950</td>\n",
              "      <td>0.107511</td>\n",
              "      <td>0.9622</td>\n",
              "      <td>7</td>\n",
              "    </tr>\n",
              "    <tr>\n",
              "      <th>8</th>\n",
              "      <td>resnet18</td>\n",
              "      <td>0.969550</td>\n",
              "      <td>0.102632</td>\n",
              "      <td>0.9621</td>\n",
              "      <td>8</td>\n",
              "    </tr>\n",
              "    <tr>\n",
              "      <th>9</th>\n",
              "      <td>resnet18</td>\n",
              "      <td>0.970550</td>\n",
              "      <td>0.098548</td>\n",
              "      <td>0.9629</td>\n",
              "      <td>9</td>\n",
              "    </tr>\n",
              "    <tr>\n",
              "      <th>10</th>\n",
              "      <td>vgg16</td>\n",
              "      <td>0.823417</td>\n",
              "      <td>0.491901</td>\n",
              "      <td>0.9816</td>\n",
              "      <td>0</td>\n",
              "    </tr>\n",
              "    <tr>\n",
              "      <th>11</th>\n",
              "      <td>vgg16</td>\n",
              "      <td>0.985533</td>\n",
              "      <td>0.048897</td>\n",
              "      <td>0.9875</td>\n",
              "      <td>1</td>\n",
              "    </tr>\n",
              "    <tr>\n",
              "      <th>12</th>\n",
              "      <td>vgg16</td>\n",
              "      <td>0.990450</td>\n",
              "      <td>0.031727</td>\n",
              "      <td>0.9901</td>\n",
              "      <td>2</td>\n",
              "    </tr>\n",
              "    <tr>\n",
              "      <th>13</th>\n",
              "      <td>vgg16</td>\n",
              "      <td>0.992567</td>\n",
              "      <td>0.024981</td>\n",
              "      <td>0.9918</td>\n",
              "      <td>3</td>\n",
              "    </tr>\n",
              "    <tr>\n",
              "      <th>14</th>\n",
              "      <td>vgg16</td>\n",
              "      <td>0.994383</td>\n",
              "      <td>0.019147</td>\n",
              "      <td>0.9923</td>\n",
              "      <td>4</td>\n",
              "    </tr>\n",
              "    <tr>\n",
              "      <th>15</th>\n",
              "      <td>vgg16</td>\n",
              "      <td>0.995317</td>\n",
              "      <td>0.015705</td>\n",
              "      <td>0.9911</td>\n",
              "      <td>5</td>\n",
              "    </tr>\n",
              "    <tr>\n",
              "      <th>16</th>\n",
              "      <td>vgg16</td>\n",
              "      <td>0.996283</td>\n",
              "      <td>0.012776</td>\n",
              "      <td>0.9911</td>\n",
              "      <td>6</td>\n",
              "    </tr>\n",
              "    <tr>\n",
              "      <th>17</th>\n",
              "      <td>vgg16</td>\n",
              "      <td>0.995800</td>\n",
              "      <td>0.012743</td>\n",
              "      <td>0.9921</td>\n",
              "      <td>7</td>\n",
              "    </tr>\n",
              "    <tr>\n",
              "      <th>18</th>\n",
              "      <td>vgg16</td>\n",
              "      <td>0.996333</td>\n",
              "      <td>0.011288</td>\n",
              "      <td>0.9871</td>\n",
              "      <td>8</td>\n",
              "    </tr>\n",
              "    <tr>\n",
              "      <th>19</th>\n",
              "      <td>vgg16</td>\n",
              "      <td>0.997017</td>\n",
              "      <td>0.009972</td>\n",
              "      <td>0.9912</td>\n",
              "      <td>9</td>\n",
              "    </tr>\n",
              "    <tr>\n",
              "      <th>20</th>\n",
              "      <td>inception_v3</td>\n",
              "      <td>0.306433</td>\n",
              "      <td>1.850410</td>\n",
              "      <td>0.9157</td>\n",
              "      <td>0</td>\n",
              "    </tr>\n",
              "    <tr>\n",
              "      <th>21</th>\n",
              "      <td>inception_v3</td>\n",
              "      <td>0.965133</td>\n",
              "      <td>0.124662</td>\n",
              "      <td>0.9753</td>\n",
              "      <td>1</td>\n",
              "    </tr>\n",
              "    <tr>\n",
              "      <th>22</th>\n",
              "      <td>inception_v3</td>\n",
              "      <td>0.982700</td>\n",
              "      <td>0.061123</td>\n",
              "      <td>0.9889</td>\n",
              "      <td>2</td>\n",
              "    </tr>\n",
              "    <tr>\n",
              "      <th>23</th>\n",
              "      <td>inception_v3</td>\n",
              "      <td>0.987933</td>\n",
              "      <td>0.043086</td>\n",
              "      <td>0.9907</td>\n",
              "      <td>3</td>\n",
              "    </tr>\n",
              "    <tr>\n",
              "      <th>24</th>\n",
              "      <td>inception_v3</td>\n",
              "      <td>0.989667</td>\n",
              "      <td>0.035289</td>\n",
              "      <td>0.9905</td>\n",
              "      <td>4</td>\n",
              "    </tr>\n",
              "    <tr>\n",
              "      <th>25</th>\n",
              "      <td>inception_v3</td>\n",
              "      <td>0.990850</td>\n",
              "      <td>0.030984</td>\n",
              "      <td>0.9912</td>\n",
              "      <td>5</td>\n",
              "    </tr>\n",
              "    <tr>\n",
              "      <th>26</th>\n",
              "      <td>inception_v3</td>\n",
              "      <td>0.992750</td>\n",
              "      <td>0.025528</td>\n",
              "      <td>0.9925</td>\n",
              "      <td>6</td>\n",
              "    </tr>\n",
              "    <tr>\n",
              "      <th>27</th>\n",
              "      <td>inception_v3</td>\n",
              "      <td>0.993017</td>\n",
              "      <td>0.024471</td>\n",
              "      <td>0.9929</td>\n",
              "      <td>7</td>\n",
              "    </tr>\n",
              "    <tr>\n",
              "      <th>28</th>\n",
              "      <td>inception_v3</td>\n",
              "      <td>0.993833</td>\n",
              "      <td>0.021324</td>\n",
              "      <td>0.9922</td>\n",
              "      <td>8</td>\n",
              "    </tr>\n",
              "    <tr>\n",
              "      <th>29</th>\n",
              "      <td>inception_v3</td>\n",
              "      <td>0.993900</td>\n",
              "      <td>0.019963</td>\n",
              "      <td>0.9938</td>\n",
              "      <td>9</td>\n",
              "    </tr>\n",
              "    <tr>\n",
              "      <th>30</th>\n",
              "      <td>dencenet161</td>\n",
              "      <td>0.879967</td>\n",
              "      <td>0.551938</td>\n",
              "      <td>0.9412</td>\n",
              "      <td>0</td>\n",
              "    </tr>\n",
              "    <tr>\n",
              "      <th>31</th>\n",
              "      <td>dencenet161</td>\n",
              "      <td>0.950650</td>\n",
              "      <td>0.207485</td>\n",
              "      <td>0.9563</td>\n",
              "      <td>1</td>\n",
              "    </tr>\n",
              "    <tr>\n",
              "      <th>32</th>\n",
              "      <td>dencenet161</td>\n",
              "      <td>0.961600</td>\n",
              "      <td>0.155470</td>\n",
              "      <td>0.9616</td>\n",
              "      <td>2</td>\n",
              "    </tr>\n",
              "    <tr>\n",
              "      <th>33</th>\n",
              "      <td>dencenet161</td>\n",
              "      <td>0.967067</td>\n",
              "      <td>0.130077</td>\n",
              "      <td>0.9641</td>\n",
              "      <td>3</td>\n",
              "    </tr>\n",
              "    <tr>\n",
              "      <th>34</th>\n",
              "      <td>dencenet161</td>\n",
              "      <td>0.970150</td>\n",
              "      <td>0.114286</td>\n",
              "      <td>0.9659</td>\n",
              "      <td>4</td>\n",
              "    </tr>\n",
              "    <tr>\n",
              "      <th>35</th>\n",
              "      <td>dencenet161</td>\n",
              "      <td>0.972467</td>\n",
              "      <td>0.103202</td>\n",
              "      <td>0.9672</td>\n",
              "      <td>5</td>\n",
              "    </tr>\n",
              "    <tr>\n",
              "      <th>36</th>\n",
              "      <td>dencenet161</td>\n",
              "      <td>0.974567</td>\n",
              "      <td>0.094830</td>\n",
              "      <td>0.9682</td>\n",
              "      <td>6</td>\n",
              "    </tr>\n",
              "    <tr>\n",
              "      <th>37</th>\n",
              "      <td>dencenet161</td>\n",
              "      <td>0.976017</td>\n",
              "      <td>0.088192</td>\n",
              "      <td>0.9685</td>\n",
              "      <td>7</td>\n",
              "    </tr>\n",
              "    <tr>\n",
              "      <th>38</th>\n",
              "      <td>dencenet161</td>\n",
              "      <td>0.977367</td>\n",
              "      <td>0.082741</td>\n",
              "      <td>0.9692</td>\n",
              "      <td>8</td>\n",
              "    </tr>\n",
              "    <tr>\n",
              "      <th>39</th>\n",
              "      <td>dencenet161</td>\n",
              "      <td>0.978733</td>\n",
              "      <td>0.078149</td>\n",
              "      <td>0.9694</td>\n",
              "      <td>9</td>\n",
              "    </tr>\n",
              "  </tbody>\n",
              "</table>\n",
              "</div>\n",
              "    <div class=\"colab-df-buttons\">\n",
              "\n",
              "  <div class=\"colab-df-container\">\n",
              "    <button class=\"colab-df-convert\" onclick=\"convertToInteractive('df-2ff78e5f-6a00-4996-a88e-fcfb55e33194')\"\n",
              "            title=\"Convert this dataframe to an interactive table.\"\n",
              "            style=\"display:none;\">\n",
              "\n",
              "  <svg xmlns=\"http://www.w3.org/2000/svg\" height=\"24px\" viewBox=\"0 -960 960 960\">\n",
              "    <path d=\"M120-120v-720h720v720H120Zm60-500h600v-160H180v160Zm220 220h160v-160H400v160Zm0 220h160v-160H400v160ZM180-400h160v-160H180v160Zm440 0h160v-160H620v160ZM180-180h160v-160H180v160Zm440 0h160v-160H620v160Z\"/>\n",
              "  </svg>\n",
              "    </button>\n",
              "\n",
              "  <style>\n",
              "    .colab-df-container {\n",
              "      display:flex;\n",
              "      gap: 12px;\n",
              "    }\n",
              "\n",
              "    .colab-df-convert {\n",
              "      background-color: #E8F0FE;\n",
              "      border: none;\n",
              "      border-radius: 50%;\n",
              "      cursor: pointer;\n",
              "      display: none;\n",
              "      fill: #1967D2;\n",
              "      height: 32px;\n",
              "      padding: 0 0 0 0;\n",
              "      width: 32px;\n",
              "    }\n",
              "\n",
              "    .colab-df-convert:hover {\n",
              "      background-color: #E2EBFA;\n",
              "      box-shadow: 0px 1px 2px rgba(60, 64, 67, 0.3), 0px 1px 3px 1px rgba(60, 64, 67, 0.15);\n",
              "      fill: #174EA6;\n",
              "    }\n",
              "\n",
              "    .colab-df-buttons div {\n",
              "      margin-bottom: 4px;\n",
              "    }\n",
              "\n",
              "    [theme=dark] .colab-df-convert {\n",
              "      background-color: #3B4455;\n",
              "      fill: #D2E3FC;\n",
              "    }\n",
              "\n",
              "    [theme=dark] .colab-df-convert:hover {\n",
              "      background-color: #434B5C;\n",
              "      box-shadow: 0px 1px 3px 1px rgba(0, 0, 0, 0.15);\n",
              "      filter: drop-shadow(0px 1px 2px rgba(0, 0, 0, 0.3));\n",
              "      fill: #FFFFFF;\n",
              "    }\n",
              "  </style>\n",
              "\n",
              "    <script>\n",
              "      const buttonEl =\n",
              "        document.querySelector('#df-2ff78e5f-6a00-4996-a88e-fcfb55e33194 button.colab-df-convert');\n",
              "      buttonEl.style.display =\n",
              "        google.colab.kernel.accessAllowed ? 'block' : 'none';\n",
              "\n",
              "      async function convertToInteractive(key) {\n",
              "        const element = document.querySelector('#df-2ff78e5f-6a00-4996-a88e-fcfb55e33194');\n",
              "        const dataTable =\n",
              "          await google.colab.kernel.invokeFunction('convertToInteractive',\n",
              "                                                    [key], {});\n",
              "        if (!dataTable) return;\n",
              "\n",
              "        const docLinkHtml = 'Like what you see? Visit the ' +\n",
              "          '<a target=\"_blank\" href=https://colab.research.google.com/notebooks/data_table.ipynb>data table notebook</a>'\n",
              "          + ' to learn more about interactive tables.';\n",
              "        element.innerHTML = '';\n",
              "        dataTable['output_type'] = 'display_data';\n",
              "        await google.colab.output.renderOutput(dataTable, element);\n",
              "        const docLink = document.createElement('div');\n",
              "        docLink.innerHTML = docLinkHtml;\n",
              "        element.appendChild(docLink);\n",
              "      }\n",
              "    </script>\n",
              "  </div>\n",
              "\n",
              "\n",
              "<div id=\"df-688e74c3-f2a5-4f5c-b79d-55fcfbf2c08d\">\n",
              "  <button class=\"colab-df-quickchart\" onclick=\"quickchart('df-688e74c3-f2a5-4f5c-b79d-55fcfbf2c08d')\"\n",
              "            title=\"Suggest charts\"\n",
              "            style=\"display:none;\">\n",
              "\n",
              "<svg xmlns=\"http://www.w3.org/2000/svg\" height=\"24px\"viewBox=\"0 0 24 24\"\n",
              "     width=\"24px\">\n",
              "    <g>\n",
              "        <path d=\"M19 3H5c-1.1 0-2 .9-2 2v14c0 1.1.9 2 2 2h14c1.1 0 2-.9 2-2V5c0-1.1-.9-2-2-2zM9 17H7v-7h2v7zm4 0h-2V7h2v10zm4 0h-2v-4h2v4z\"/>\n",
              "    </g>\n",
              "</svg>\n",
              "  </button>\n",
              "\n",
              "<style>\n",
              "  .colab-df-quickchart {\n",
              "      --bg-color: #E8F0FE;\n",
              "      --fill-color: #1967D2;\n",
              "      --hover-bg-color: #E2EBFA;\n",
              "      --hover-fill-color: #174EA6;\n",
              "      --disabled-fill-color: #AAA;\n",
              "      --disabled-bg-color: #DDD;\n",
              "  }\n",
              "\n",
              "  [theme=dark] .colab-df-quickchart {\n",
              "      --bg-color: #3B4455;\n",
              "      --fill-color: #D2E3FC;\n",
              "      --hover-bg-color: #434B5C;\n",
              "      --hover-fill-color: #FFFFFF;\n",
              "      --disabled-bg-color: #3B4455;\n",
              "      --disabled-fill-color: #666;\n",
              "  }\n",
              "\n",
              "  .colab-df-quickchart {\n",
              "    background-color: var(--bg-color);\n",
              "    border: none;\n",
              "    border-radius: 50%;\n",
              "    cursor: pointer;\n",
              "    display: none;\n",
              "    fill: var(--fill-color);\n",
              "    height: 32px;\n",
              "    padding: 0;\n",
              "    width: 32px;\n",
              "  }\n",
              "\n",
              "  .colab-df-quickchart:hover {\n",
              "    background-color: var(--hover-bg-color);\n",
              "    box-shadow: 0 1px 2px rgba(60, 64, 67, 0.3), 0 1px 3px 1px rgba(60, 64, 67, 0.15);\n",
              "    fill: var(--button-hover-fill-color);\n",
              "  }\n",
              "\n",
              "  .colab-df-quickchart-complete:disabled,\n",
              "  .colab-df-quickchart-complete:disabled:hover {\n",
              "    background-color: var(--disabled-bg-color);\n",
              "    fill: var(--disabled-fill-color);\n",
              "    box-shadow: none;\n",
              "  }\n",
              "\n",
              "  .colab-df-spinner {\n",
              "    border: 2px solid var(--fill-color);\n",
              "    border-color: transparent;\n",
              "    border-bottom-color: var(--fill-color);\n",
              "    animation:\n",
              "      spin 1s steps(1) infinite;\n",
              "  }\n",
              "\n",
              "  @keyframes spin {\n",
              "    0% {\n",
              "      border-color: transparent;\n",
              "      border-bottom-color: var(--fill-color);\n",
              "      border-left-color: var(--fill-color);\n",
              "    }\n",
              "    20% {\n",
              "      border-color: transparent;\n",
              "      border-left-color: var(--fill-color);\n",
              "      border-top-color: var(--fill-color);\n",
              "    }\n",
              "    30% {\n",
              "      border-color: transparent;\n",
              "      border-left-color: var(--fill-color);\n",
              "      border-top-color: var(--fill-color);\n",
              "      border-right-color: var(--fill-color);\n",
              "    }\n",
              "    40% {\n",
              "      border-color: transparent;\n",
              "      border-right-color: var(--fill-color);\n",
              "      border-top-color: var(--fill-color);\n",
              "    }\n",
              "    60% {\n",
              "      border-color: transparent;\n",
              "      border-right-color: var(--fill-color);\n",
              "    }\n",
              "    80% {\n",
              "      border-color: transparent;\n",
              "      border-right-color: var(--fill-color);\n",
              "      border-bottom-color: var(--fill-color);\n",
              "    }\n",
              "    90% {\n",
              "      border-color: transparent;\n",
              "      border-bottom-color: var(--fill-color);\n",
              "    }\n",
              "  }\n",
              "</style>\n",
              "\n",
              "  <script>\n",
              "    async function quickchart(key) {\n",
              "      const quickchartButtonEl =\n",
              "        document.querySelector('#' + key + ' button');\n",
              "      quickchartButtonEl.disabled = true;  // To prevent multiple clicks.\n",
              "      quickchartButtonEl.classList.add('colab-df-spinner');\n",
              "      try {\n",
              "        const charts = await google.colab.kernel.invokeFunction(\n",
              "            'suggestCharts', [key], {});\n",
              "      } catch (error) {\n",
              "        console.error('Error during call to suggestCharts:', error);\n",
              "      }\n",
              "      quickchartButtonEl.classList.remove('colab-df-spinner');\n",
              "      quickchartButtonEl.classList.add('colab-df-quickchart-complete');\n",
              "    }\n",
              "    (() => {\n",
              "      let quickchartButtonEl =\n",
              "        document.querySelector('#df-688e74c3-f2a5-4f5c-b79d-55fcfbf2c08d button');\n",
              "      quickchartButtonEl.style.display =\n",
              "        google.colab.kernel.accessAllowed ? 'block' : 'none';\n",
              "    })();\n",
              "  </script>\n",
              "</div>\n",
              "\n",
              "  <div id=\"id_f25ba7ea-d906-4e15-8f86-6f7df4d4a694\">\n",
              "    <style>\n",
              "      .colab-df-generate {\n",
              "        background-color: #E8F0FE;\n",
              "        border: none;\n",
              "        border-radius: 50%;\n",
              "        cursor: pointer;\n",
              "        display: none;\n",
              "        fill: #1967D2;\n",
              "        height: 32px;\n",
              "        padding: 0 0 0 0;\n",
              "        width: 32px;\n",
              "      }\n",
              "\n",
              "      .colab-df-generate:hover {\n",
              "        background-color: #E2EBFA;\n",
              "        box-shadow: 0px 1px 2px rgba(60, 64, 67, 0.3), 0px 1px 3px 1px rgba(60, 64, 67, 0.15);\n",
              "        fill: #174EA6;\n",
              "      }\n",
              "\n",
              "      [theme=dark] .colab-df-generate {\n",
              "        background-color: #3B4455;\n",
              "        fill: #D2E3FC;\n",
              "      }\n",
              "\n",
              "      [theme=dark] .colab-df-generate:hover {\n",
              "        background-color: #434B5C;\n",
              "        box-shadow: 0px 1px 3px 1px rgba(0, 0, 0, 0.15);\n",
              "        filter: drop-shadow(0px 1px 2px rgba(0, 0, 0, 0.3));\n",
              "        fill: #FFFFFF;\n",
              "      }\n",
              "    </style>\n",
              "    <button class=\"colab-df-generate\" onclick=\"generateWithVariable('df_results')\"\n",
              "            title=\"Generate code using this dataframe.\"\n",
              "            style=\"display:none;\">\n",
              "\n",
              "  <svg xmlns=\"http://www.w3.org/2000/svg\" height=\"24px\"viewBox=\"0 0 24 24\"\n",
              "       width=\"24px\">\n",
              "    <path d=\"M7,19H8.4L18.45,9,17,7.55,7,17.6ZM5,21V16.75L18.45,3.32a2,2,0,0,1,2.83,0l1.4,1.43a1.91,1.91,0,0,1,.58,1.4,1.91,1.91,0,0,1-.58,1.4L9.25,21ZM18.45,9,17,7.55Zm-12,3A5.31,5.31,0,0,0,4.9,8.1,5.31,5.31,0,0,0,1,6.5,5.31,5.31,0,0,0,4.9,4.9,5.31,5.31,0,0,0,6.5,1,5.31,5.31,0,0,0,8.1,4.9,5.31,5.31,0,0,0,12,6.5,5.46,5.46,0,0,0,6.5,12Z\"/>\n",
              "  </svg>\n",
              "    </button>\n",
              "    <script>\n",
              "      (() => {\n",
              "      const buttonEl =\n",
              "        document.querySelector('#id_f25ba7ea-d906-4e15-8f86-6f7df4d4a694 button.colab-df-generate');\n",
              "      buttonEl.style.display =\n",
              "        google.colab.kernel.accessAllowed ? 'block' : 'none';\n",
              "\n",
              "      buttonEl.onclick = () => {\n",
              "        google.colab.notebook.generateWithVariable('df_results');\n",
              "      }\n",
              "      })();\n",
              "    </script>\n",
              "  </div>\n",
              "\n",
              "    </div>\n",
              "  </div>\n"
            ]
          },
          "metadata": {},
          "execution_count": 94
        }
      ]
    },
    {
      "cell_type": "markdown",
      "source": [
        "## 2.5.2. Сравнение моделей по test_accuracy и времени обучения после 10 эпох"
      ],
      "metadata": {
        "id": "dYZ49vY9TIM_"
      }
    },
    {
      "cell_type": "code",
      "source": [
        "df_results.groupby(by='model').apply(\n",
        "    lambda x: x.loc[x['test_accuracy'].idxmax()][['test_accuracy', 'epoch']]).sort_values(\n",
        "        by='test_accuracy', ascending=False).reset_index()"
      ],
      "metadata": {
        "colab": {
          "base_uri": "https://localhost:8080/",
          "height": 175
        },
        "id": "dyOvQxiEKe_1",
        "outputId": "4d3ebb91-b680-4f13-a2e6-0b9f8910980d"
      },
      "execution_count": 99,
      "outputs": [
        {
          "output_type": "execute_result",
          "data": {
            "text/plain": [
              "          model  test_accuracy  epoch\n",
              "0  inception_v3         0.9938      9\n",
              "1         vgg16         0.9923      4\n",
              "2   dencenet161         0.9694      9\n",
              "3      resnet18         0.9629      9"
            ],
            "text/html": [
              "\n",
              "  <div id=\"df-9b17913f-fd84-4048-8a53-d2ab7a7046c1\" class=\"colab-df-container\">\n",
              "    <div>\n",
              "<style scoped>\n",
              "    .dataframe tbody tr th:only-of-type {\n",
              "        vertical-align: middle;\n",
              "    }\n",
              "\n",
              "    .dataframe tbody tr th {\n",
              "        vertical-align: top;\n",
              "    }\n",
              "\n",
              "    .dataframe thead th {\n",
              "        text-align: right;\n",
              "    }\n",
              "</style>\n",
              "<table border=\"1\" class=\"dataframe\">\n",
              "  <thead>\n",
              "    <tr style=\"text-align: right;\">\n",
              "      <th></th>\n",
              "      <th>model</th>\n",
              "      <th>test_accuracy</th>\n",
              "      <th>epoch</th>\n",
              "    </tr>\n",
              "  </thead>\n",
              "  <tbody>\n",
              "    <tr>\n",
              "      <th>0</th>\n",
              "      <td>inception_v3</td>\n",
              "      <td>0.9938</td>\n",
              "      <td>9</td>\n",
              "    </tr>\n",
              "    <tr>\n",
              "      <th>1</th>\n",
              "      <td>vgg16</td>\n",
              "      <td>0.9923</td>\n",
              "      <td>4</td>\n",
              "    </tr>\n",
              "    <tr>\n",
              "      <th>2</th>\n",
              "      <td>dencenet161</td>\n",
              "      <td>0.9694</td>\n",
              "      <td>9</td>\n",
              "    </tr>\n",
              "    <tr>\n",
              "      <th>3</th>\n",
              "      <td>resnet18</td>\n",
              "      <td>0.9629</td>\n",
              "      <td>9</td>\n",
              "    </tr>\n",
              "  </tbody>\n",
              "</table>\n",
              "</div>\n",
              "    <div class=\"colab-df-buttons\">\n",
              "\n",
              "  <div class=\"colab-df-container\">\n",
              "    <button class=\"colab-df-convert\" onclick=\"convertToInteractive('df-9b17913f-fd84-4048-8a53-d2ab7a7046c1')\"\n",
              "            title=\"Convert this dataframe to an interactive table.\"\n",
              "            style=\"display:none;\">\n",
              "\n",
              "  <svg xmlns=\"http://www.w3.org/2000/svg\" height=\"24px\" viewBox=\"0 -960 960 960\">\n",
              "    <path d=\"M120-120v-720h720v720H120Zm60-500h600v-160H180v160Zm220 220h160v-160H400v160Zm0 220h160v-160H400v160ZM180-400h160v-160H180v160Zm440 0h160v-160H620v160ZM180-180h160v-160H180v160Zm440 0h160v-160H620v160Z\"/>\n",
              "  </svg>\n",
              "    </button>\n",
              "\n",
              "  <style>\n",
              "    .colab-df-container {\n",
              "      display:flex;\n",
              "      gap: 12px;\n",
              "    }\n",
              "\n",
              "    .colab-df-convert {\n",
              "      background-color: #E8F0FE;\n",
              "      border: none;\n",
              "      border-radius: 50%;\n",
              "      cursor: pointer;\n",
              "      display: none;\n",
              "      fill: #1967D2;\n",
              "      height: 32px;\n",
              "      padding: 0 0 0 0;\n",
              "      width: 32px;\n",
              "    }\n",
              "\n",
              "    .colab-df-convert:hover {\n",
              "      background-color: #E2EBFA;\n",
              "      box-shadow: 0px 1px 2px rgba(60, 64, 67, 0.3), 0px 1px 3px 1px rgba(60, 64, 67, 0.15);\n",
              "      fill: #174EA6;\n",
              "    }\n",
              "\n",
              "    .colab-df-buttons div {\n",
              "      margin-bottom: 4px;\n",
              "    }\n",
              "\n",
              "    [theme=dark] .colab-df-convert {\n",
              "      background-color: #3B4455;\n",
              "      fill: #D2E3FC;\n",
              "    }\n",
              "\n",
              "    [theme=dark] .colab-df-convert:hover {\n",
              "      background-color: #434B5C;\n",
              "      box-shadow: 0px 1px 3px 1px rgba(0, 0, 0, 0.15);\n",
              "      filter: drop-shadow(0px 1px 2px rgba(0, 0, 0, 0.3));\n",
              "      fill: #FFFFFF;\n",
              "    }\n",
              "  </style>\n",
              "\n",
              "    <script>\n",
              "      const buttonEl =\n",
              "        document.querySelector('#df-9b17913f-fd84-4048-8a53-d2ab7a7046c1 button.colab-df-convert');\n",
              "      buttonEl.style.display =\n",
              "        google.colab.kernel.accessAllowed ? 'block' : 'none';\n",
              "\n",
              "      async function convertToInteractive(key) {\n",
              "        const element = document.querySelector('#df-9b17913f-fd84-4048-8a53-d2ab7a7046c1');\n",
              "        const dataTable =\n",
              "          await google.colab.kernel.invokeFunction('convertToInteractive',\n",
              "                                                    [key], {});\n",
              "        if (!dataTable) return;\n",
              "\n",
              "        const docLinkHtml = 'Like what you see? Visit the ' +\n",
              "          '<a target=\"_blank\" href=https://colab.research.google.com/notebooks/data_table.ipynb>data table notebook</a>'\n",
              "          + ' to learn more about interactive tables.';\n",
              "        element.innerHTML = '';\n",
              "        dataTable['output_type'] = 'display_data';\n",
              "        await google.colab.output.renderOutput(dataTable, element);\n",
              "        const docLink = document.createElement('div');\n",
              "        docLink.innerHTML = docLinkHtml;\n",
              "        element.appendChild(docLink);\n",
              "      }\n",
              "    </script>\n",
              "  </div>\n",
              "\n",
              "\n",
              "<div id=\"df-4ba69435-ecc4-441d-b1f8-e9409f2c2abb\">\n",
              "  <button class=\"colab-df-quickchart\" onclick=\"quickchart('df-4ba69435-ecc4-441d-b1f8-e9409f2c2abb')\"\n",
              "            title=\"Suggest charts\"\n",
              "            style=\"display:none;\">\n",
              "\n",
              "<svg xmlns=\"http://www.w3.org/2000/svg\" height=\"24px\"viewBox=\"0 0 24 24\"\n",
              "     width=\"24px\">\n",
              "    <g>\n",
              "        <path d=\"M19 3H5c-1.1 0-2 .9-2 2v14c0 1.1.9 2 2 2h14c1.1 0 2-.9 2-2V5c0-1.1-.9-2-2-2zM9 17H7v-7h2v7zm4 0h-2V7h2v10zm4 0h-2v-4h2v4z\"/>\n",
              "    </g>\n",
              "</svg>\n",
              "  </button>\n",
              "\n",
              "<style>\n",
              "  .colab-df-quickchart {\n",
              "      --bg-color: #E8F0FE;\n",
              "      --fill-color: #1967D2;\n",
              "      --hover-bg-color: #E2EBFA;\n",
              "      --hover-fill-color: #174EA6;\n",
              "      --disabled-fill-color: #AAA;\n",
              "      --disabled-bg-color: #DDD;\n",
              "  }\n",
              "\n",
              "  [theme=dark] .colab-df-quickchart {\n",
              "      --bg-color: #3B4455;\n",
              "      --fill-color: #D2E3FC;\n",
              "      --hover-bg-color: #434B5C;\n",
              "      --hover-fill-color: #FFFFFF;\n",
              "      --disabled-bg-color: #3B4455;\n",
              "      --disabled-fill-color: #666;\n",
              "  }\n",
              "\n",
              "  .colab-df-quickchart {\n",
              "    background-color: var(--bg-color);\n",
              "    border: none;\n",
              "    border-radius: 50%;\n",
              "    cursor: pointer;\n",
              "    display: none;\n",
              "    fill: var(--fill-color);\n",
              "    height: 32px;\n",
              "    padding: 0;\n",
              "    width: 32px;\n",
              "  }\n",
              "\n",
              "  .colab-df-quickchart:hover {\n",
              "    background-color: var(--hover-bg-color);\n",
              "    box-shadow: 0 1px 2px rgba(60, 64, 67, 0.3), 0 1px 3px 1px rgba(60, 64, 67, 0.15);\n",
              "    fill: var(--button-hover-fill-color);\n",
              "  }\n",
              "\n",
              "  .colab-df-quickchart-complete:disabled,\n",
              "  .colab-df-quickchart-complete:disabled:hover {\n",
              "    background-color: var(--disabled-bg-color);\n",
              "    fill: var(--disabled-fill-color);\n",
              "    box-shadow: none;\n",
              "  }\n",
              "\n",
              "  .colab-df-spinner {\n",
              "    border: 2px solid var(--fill-color);\n",
              "    border-color: transparent;\n",
              "    border-bottom-color: var(--fill-color);\n",
              "    animation:\n",
              "      spin 1s steps(1) infinite;\n",
              "  }\n",
              "\n",
              "  @keyframes spin {\n",
              "    0% {\n",
              "      border-color: transparent;\n",
              "      border-bottom-color: var(--fill-color);\n",
              "      border-left-color: var(--fill-color);\n",
              "    }\n",
              "    20% {\n",
              "      border-color: transparent;\n",
              "      border-left-color: var(--fill-color);\n",
              "      border-top-color: var(--fill-color);\n",
              "    }\n",
              "    30% {\n",
              "      border-color: transparent;\n",
              "      border-left-color: var(--fill-color);\n",
              "      border-top-color: var(--fill-color);\n",
              "      border-right-color: var(--fill-color);\n",
              "    }\n",
              "    40% {\n",
              "      border-color: transparent;\n",
              "      border-right-color: var(--fill-color);\n",
              "      border-top-color: var(--fill-color);\n",
              "    }\n",
              "    60% {\n",
              "      border-color: transparent;\n",
              "      border-right-color: var(--fill-color);\n",
              "    }\n",
              "    80% {\n",
              "      border-color: transparent;\n",
              "      border-right-color: var(--fill-color);\n",
              "      border-bottom-color: var(--fill-color);\n",
              "    }\n",
              "    90% {\n",
              "      border-color: transparent;\n",
              "      border-bottom-color: var(--fill-color);\n",
              "    }\n",
              "  }\n",
              "</style>\n",
              "\n",
              "  <script>\n",
              "    async function quickchart(key) {\n",
              "      const quickchartButtonEl =\n",
              "        document.querySelector('#' + key + ' button');\n",
              "      quickchartButtonEl.disabled = true;  // To prevent multiple clicks.\n",
              "      quickchartButtonEl.classList.add('colab-df-spinner');\n",
              "      try {\n",
              "        const charts = await google.colab.kernel.invokeFunction(\n",
              "            'suggestCharts', [key], {});\n",
              "      } catch (error) {\n",
              "        console.error('Error during call to suggestCharts:', error);\n",
              "      }\n",
              "      quickchartButtonEl.classList.remove('colab-df-spinner');\n",
              "      quickchartButtonEl.classList.add('colab-df-quickchart-complete');\n",
              "    }\n",
              "    (() => {\n",
              "      let quickchartButtonEl =\n",
              "        document.querySelector('#df-4ba69435-ecc4-441d-b1f8-e9409f2c2abb button');\n",
              "      quickchartButtonEl.style.display =\n",
              "        google.colab.kernel.accessAllowed ? 'block' : 'none';\n",
              "    })();\n",
              "  </script>\n",
              "</div>\n",
              "\n",
              "    </div>\n",
              "  </div>\n"
            ]
          },
          "metadata": {},
          "execution_count": 99
        }
      ]
    },
    {
      "cell_type": "markdown",
      "source": [
        "Вывод:\n",
        "\n",
        "Лучшее качество было достигнуто в модели inception_v3. Близкие результаты показала модель vgg16 всего за 4 эпохи обучения.\n",
        "\n",
        "В то же время, не совсем корректно сравнивать эти модели по количеству эпох, т.к.время на 1 эпоху у них сильно различается.\n",
        "\n",
        "Самая быстрая  - vgg16 (примерно 90 секунд на 1 эпоху при использовании GPU 100), затем resnet18 (в среднем 115 секунд на эпоху), далее Inception v3 ( 155 секунд на эпоху) и densenet161(315 секунд на эпоху).\n",
        "\n",
        "Таким образом, vgg16 достигла хорошего результата почти в 4 раза быстрее, чем inception v3"
      ],
      "metadata": {
        "id": "n1aIngTKUCVF"
      }
    },
    {
      "cell_type": "markdown",
      "source": [
        "###2.5.3. Сравнение моделей по величине потерь"
      ],
      "metadata": {
        "id": "az7NWj4yYvEJ"
      }
    },
    {
      "cell_type": "code",
      "source": [
        "df_losses = pd.DataFrame(columns=[\n",
        "    'model', 'epoch_0', 'epoch_1', 'epoch_2', 'epoch_3', 'epoch_4', 'epoch_5', 'epoch_6', 'epoch_7', 'epoch_8', 'epoch_9']).astype(\n",
        "        {'model':str, 'epoch_0':np.float64, 'epoch_1':np.float64, 'epoch_2':np.float64, 'epoch_3':np.float64, 'epoch_4':np.float64,\n",
        "         'epoch_5':np.float64, 'epoch_6':np.float64, 'epoch_7':np.float64, 'epoch_8':np.float64, 'epoch_9':np.float64})\n",
        "\n",
        "for i, row in df_results.iterrows():\n",
        "    model = row['model']\n",
        "    train_loss = row['train_loss']\n",
        "    epoch = row['epoch']\n",
        "\n",
        "    if model not in df_losses['model'].values:\n",
        "        df_losses = df_losses.append({'model': model}, ignore_index=True)\n",
        "\n",
        "    df_losses.loc[df_losses['model'] == model, f'epoch_{epoch}'] = train_loss\n"
      ],
      "metadata": {
        "id": "NKwRT3vvEwDI"
      },
      "execution_count": null,
      "outputs": []
    },
    {
      "cell_type": "code",
      "source": [
        "df_losses.head().style.format('{:.4f}', na_rep='-', subset=df_losses.columns[1:]).background_gradient(cmap='Blues', axis=0)"
      ],
      "metadata": {
        "colab": {
          "base_uri": "https://localhost:8080/",
          "height": 175
        },
        "id": "u2FRF8VcRtkW",
        "outputId": "cdbdad7a-58c6-4702-d08a-2d83d09abb52"
      },
      "execution_count": 93,
      "outputs": [
        {
          "output_type": "execute_result",
          "data": {
            "text/plain": [
              "<pandas.io.formats.style.Styler at 0x7b3db2b4dd50>"
            ],
            "text/html": [
              "<style type=\"text/css\">\n",
              "#T_c5d8b_row0_col1 {\n",
              "  background-color: #e9f2fa;\n",
              "  color: #000000;\n",
              "}\n",
              "#T_c5d8b_row0_col2, #T_c5d8b_row0_col3, #T_c5d8b_row0_col4, #T_c5d8b_row0_col5, #T_c5d8b_row0_col6, #T_c5d8b_row0_col7, #T_c5d8b_row0_col8, #T_c5d8b_row0_col9, #T_c5d8b_row0_col10, #T_c5d8b_row2_col1 {\n",
              "  background-color: #08306b;\n",
              "  color: #f1f1f1;\n",
              "}\n",
              "#T_c5d8b_row1_col1, #T_c5d8b_row1_col2, #T_c5d8b_row1_col3, #T_c5d8b_row1_col4, #T_c5d8b_row1_col5, #T_c5d8b_row1_col6, #T_c5d8b_row1_col7, #T_c5d8b_row1_col8, #T_c5d8b_row1_col9, #T_c5d8b_row1_col10 {\n",
              "  background-color: #f7fbff;\n",
              "  color: #000000;\n",
              "}\n",
              "#T_c5d8b_row2_col2 {\n",
              "  background-color: #84bcdb;\n",
              "  color: #000000;\n",
              "}\n",
              "#T_c5d8b_row2_col3 {\n",
              "  background-color: #cde0f1;\n",
              "  color: #000000;\n",
              "}\n",
              "#T_c5d8b_row2_col4 {\n",
              "  background-color: #d9e8f5;\n",
              "  color: #000000;\n",
              "}\n",
              "#T_c5d8b_row2_col5 {\n",
              "  background-color: #dbe9f6;\n",
              "  color: #000000;\n",
              "}\n",
              "#T_c5d8b_row2_col6 {\n",
              "  background-color: #dae8f6;\n",
              "  color: #000000;\n",
              "}\n",
              "#T_c5d8b_row2_col7 {\n",
              "  background-color: #deebf7;\n",
              "  color: #000000;\n",
              "}\n",
              "#T_c5d8b_row2_col8 {\n",
              "  background-color: #dfebf7;\n",
              "  color: #000000;\n",
              "}\n",
              "#T_c5d8b_row2_col9, #T_c5d8b_row2_col10 {\n",
              "  background-color: #e1edf8;\n",
              "  color: #000000;\n",
              "}\n",
              "#T_c5d8b_row3_col1 {\n",
              "  background-color: #eef5fc;\n",
              "  color: #000000;\n",
              "}\n",
              "#T_c5d8b_row3_col2 {\n",
              "  background-color: #08458a;\n",
              "  color: #f1f1f1;\n",
              "}\n",
              "#T_c5d8b_row3_col3 {\n",
              "  background-color: #084c95;\n",
              "  color: #f1f1f1;\n",
              "}\n",
              "#T_c5d8b_row3_col4 {\n",
              "  background-color: #09529d;\n",
              "  color: #f1f1f1;\n",
              "}\n",
              "#T_c5d8b_row3_col5 {\n",
              "  background-color: #0d57a1;\n",
              "  color: #f1f1f1;\n",
              "}\n",
              "#T_c5d8b_row3_col6 {\n",
              "  background-color: #115ca5;\n",
              "  color: #f1f1f1;\n",
              "}\n",
              "#T_c5d8b_row3_col7 {\n",
              "  background-color: #1460a8;\n",
              "  color: #f1f1f1;\n",
              "}\n",
              "#T_c5d8b_row3_col8 {\n",
              "  background-color: #1865ac;\n",
              "  color: #f1f1f1;\n",
              "}\n",
              "#T_c5d8b_row3_col9 {\n",
              "  background-color: #1a68ae;\n",
              "  color: #f1f1f1;\n",
              "}\n",
              "#T_c5d8b_row3_col10 {\n",
              "  background-color: #1c6bb0;\n",
              "  color: #f1f1f1;\n",
              "}\n",
              "</style>\n",
              "<table id=\"T_c5d8b\" class=\"dataframe\">\n",
              "  <thead>\n",
              "    <tr>\n",
              "      <th class=\"blank level0\" >&nbsp;</th>\n",
              "      <th id=\"T_c5d8b_level0_col0\" class=\"col_heading level0 col0\" >model</th>\n",
              "      <th id=\"T_c5d8b_level0_col1\" class=\"col_heading level0 col1\" >epoch_0</th>\n",
              "      <th id=\"T_c5d8b_level0_col2\" class=\"col_heading level0 col2\" >epoch_1</th>\n",
              "      <th id=\"T_c5d8b_level0_col3\" class=\"col_heading level0 col3\" >epoch_2</th>\n",
              "      <th id=\"T_c5d8b_level0_col4\" class=\"col_heading level0 col4\" >epoch_3</th>\n",
              "      <th id=\"T_c5d8b_level0_col5\" class=\"col_heading level0 col5\" >epoch_4</th>\n",
              "      <th id=\"T_c5d8b_level0_col6\" class=\"col_heading level0 col6\" >epoch_5</th>\n",
              "      <th id=\"T_c5d8b_level0_col7\" class=\"col_heading level0 col7\" >epoch_6</th>\n",
              "      <th id=\"T_c5d8b_level0_col8\" class=\"col_heading level0 col8\" >epoch_7</th>\n",
              "      <th id=\"T_c5d8b_level0_col9\" class=\"col_heading level0 col9\" >epoch_8</th>\n",
              "      <th id=\"T_c5d8b_level0_col10\" class=\"col_heading level0 col10\" >epoch_9</th>\n",
              "    </tr>\n",
              "  </thead>\n",
              "  <tbody>\n",
              "    <tr>\n",
              "      <th id=\"T_c5d8b_level0_row0\" class=\"row_heading level0 row0\" >0</th>\n",
              "      <td id=\"T_c5d8b_row0_col0\" class=\"data row0 col0\" >resnet18</td>\n",
              "      <td id=\"T_c5d8b_row0_col1\" class=\"data row0 col1\" >0.5905</td>\n",
              "      <td id=\"T_c5d8b_row0_col2\" class=\"data row0 col2\" >0.2212</td>\n",
              "      <td id=\"T_c5d8b_row0_col3\" class=\"data row0 col3\" >0.1704</td>\n",
              "      <td id=\"T_c5d8b_row0_col4\" class=\"data row0 col4\" >0.1461</td>\n",
              "      <td id=\"T_c5d8b_row0_col5\" class=\"data row0 col5\" >0.1314</td>\n",
              "      <td id=\"T_c5d8b_row0_col6\" class=\"data row0 col6\" >0.1211</td>\n",
              "      <td id=\"T_c5d8b_row0_col7\" class=\"data row0 col7\" >0.1135</td>\n",
              "      <td id=\"T_c5d8b_row0_col8\" class=\"data row0 col8\" >0.1075</td>\n",
              "      <td id=\"T_c5d8b_row0_col9\" class=\"data row0 col9\" >0.1026</td>\n",
              "      <td id=\"T_c5d8b_row0_col10\" class=\"data row0 col10\" >0.0985</td>\n",
              "    </tr>\n",
              "    <tr>\n",
              "      <th id=\"T_c5d8b_level0_row1\" class=\"row_heading level0 row1\" >1</th>\n",
              "      <td id=\"T_c5d8b_row1_col0\" class=\"data row1 col0\" >vgg16</td>\n",
              "      <td id=\"T_c5d8b_row1_col1\" class=\"data row1 col1\" >0.4919</td>\n",
              "      <td id=\"T_c5d8b_row1_col2\" class=\"data row1 col2\" >0.0489</td>\n",
              "      <td id=\"T_c5d8b_row1_col3\" class=\"data row1 col3\" >0.0317</td>\n",
              "      <td id=\"T_c5d8b_row1_col4\" class=\"data row1 col4\" >0.0250</td>\n",
              "      <td id=\"T_c5d8b_row1_col5\" class=\"data row1 col5\" >0.0191</td>\n",
              "      <td id=\"T_c5d8b_row1_col6\" class=\"data row1 col6\" >0.0157</td>\n",
              "      <td id=\"T_c5d8b_row1_col7\" class=\"data row1 col7\" >0.0128</td>\n",
              "      <td id=\"T_c5d8b_row1_col8\" class=\"data row1 col8\" >0.0127</td>\n",
              "      <td id=\"T_c5d8b_row1_col9\" class=\"data row1 col9\" >0.0113</td>\n",
              "      <td id=\"T_c5d8b_row1_col10\" class=\"data row1 col10\" >0.0100</td>\n",
              "    </tr>\n",
              "    <tr>\n",
              "      <th id=\"T_c5d8b_level0_row2\" class=\"row_heading level0 row2\" >2</th>\n",
              "      <td id=\"T_c5d8b_row2_col0\" class=\"data row2 col0\" >inception_v3</td>\n",
              "      <td id=\"T_c5d8b_row2_col1\" class=\"data row2 col1\" >1.8504</td>\n",
              "      <td id=\"T_c5d8b_row2_col2\" class=\"data row2 col2\" >0.1247</td>\n",
              "      <td id=\"T_c5d8b_row2_col3\" class=\"data row2 col3\" >0.0611</td>\n",
              "      <td id=\"T_c5d8b_row2_col4\" class=\"data row2 col4\" >0.0431</td>\n",
              "      <td id=\"T_c5d8b_row2_col5\" class=\"data row2 col5\" >0.0353</td>\n",
              "      <td id=\"T_c5d8b_row2_col6\" class=\"data row2 col6\" >0.0310</td>\n",
              "      <td id=\"T_c5d8b_row2_col7\" class=\"data row2 col7\" >0.0255</td>\n",
              "      <td id=\"T_c5d8b_row2_col8\" class=\"data row2 col8\" >0.0245</td>\n",
              "      <td id=\"T_c5d8b_row2_col9\" class=\"data row2 col9\" >0.0213</td>\n",
              "      <td id=\"T_c5d8b_row2_col10\" class=\"data row2 col10\" >0.0200</td>\n",
              "    </tr>\n",
              "    <tr>\n",
              "      <th id=\"T_c5d8b_level0_row3\" class=\"row_heading level0 row3\" >3</th>\n",
              "      <td id=\"T_c5d8b_row3_col0\" class=\"data row3 col0\" >dencenet161</td>\n",
              "      <td id=\"T_c5d8b_row3_col1\" class=\"data row3 col1\" >0.5519</td>\n",
              "      <td id=\"T_c5d8b_row3_col2\" class=\"data row3 col2\" >0.2075</td>\n",
              "      <td id=\"T_c5d8b_row3_col3\" class=\"data row3 col3\" >0.1555</td>\n",
              "      <td id=\"T_c5d8b_row3_col4\" class=\"data row3 col4\" >0.1301</td>\n",
              "      <td id=\"T_c5d8b_row3_col5\" class=\"data row3 col5\" >0.1143</td>\n",
              "      <td id=\"T_c5d8b_row3_col6\" class=\"data row3 col6\" >0.1032</td>\n",
              "      <td id=\"T_c5d8b_row3_col7\" class=\"data row3 col7\" >0.0948</td>\n",
              "      <td id=\"T_c5d8b_row3_col8\" class=\"data row3 col8\" >0.0882</td>\n",
              "      <td id=\"T_c5d8b_row3_col9\" class=\"data row3 col9\" >0.0827</td>\n",
              "      <td id=\"T_c5d8b_row3_col10\" class=\"data row3 col10\" >0.0781</td>\n",
              "    </tr>\n",
              "  </tbody>\n",
              "</table>\n"
            ]
          },
          "metadata": {},
          "execution_count": 93
        }
      ]
    },
    {
      "cell_type": "markdown",
      "source": [
        "Вывод:\n",
        "1. Переобучение на 10 эпохах ни для одной из моделей не произошло, все потери убывают с увеличеннием числа эпох обучения\n",
        "2. Наименьшие потери были получены в более современных глубоких моделях vgg16 и inception v3"
      ],
      "metadata": {
        "id": "ueX1OH_bY6yg"
      }
    },
    {
      "cell_type": "markdown",
      "source": [
        "Общий вывод:\n",
        "\n",
        "для выбранного датасета из рассмотренных моделей по соотношению качество/время обучения понаиболее предпочтительно использование vgg16"
      ],
      "metadata": {
        "id": "w0ut7wgmZjm_"
      }
    }
  ]
}