{
  "nbformat": 4,
  "nbformat_minor": 0,
  "metadata": {
    "kernelspec": {
      "display_name": "Python 3",
      "language": "python",
      "name": "python3"
    },
    "language_info": {
      "codemirror_mode": {
        "name": "ipython",
        "version": 3
      },
      "file_extension": ".py",
      "mimetype": "text/x-python",
      "name": "python",
      "nbconvert_exporter": "python",
      "pygments_lexer": "ipython3",
      "version": "3.7.1"
    },
    "colab": {
      "provenance": [],
      "include_colab_link": true
    }
  },
  "cells": [
    {
      "cell_type": "markdown",
      "metadata": {
        "id": "view-in-github",
        "colab_type": "text"
      },
      "source": [
        "<a href=\"https://colab.research.google.com/github/solobala/DLL30/blob/main/%D0%97%D0%B0%D0%BD%D1%8F%D1%82%D0%B8%D0%B5_0_%D0%9F%D1%80%D0%B5%D1%80%D0%B5%D0%BA%D0%B2%D0%B8%D0%B7%D0%B8%D1%82%D1%8B.ipynb\" target=\"_parent\"><img src=\"https://colab.research.google.com/assets/colab-badge.svg\" alt=\"Open In Colab\"/></a>"
      ]
    },
    {
      "cell_type": "markdown",
      "metadata": {
        "id": "l9Ei0mS3vin_"
      },
      "source": [
        "## Манипулирование данными"
      ]
    },
    {
      "cell_type": "markdown",
      "metadata": {
        "id": "dLCtvzY9vioB"
      },
      "source": [
        "Невозможно что-либо сделать, если мы не умеем манипулировать данными. Две основные операции, которые нам нужно сделать с данными - (i) получить их и (ii) обработать. Нет смысла собирать данные, если мы даже не знаем, как их хранить, поэтому давайте сначала поработаем с синтетическими данными. Мы начнем с torch.tensor. Это основной инструмент для хранения и преобразования данных в torch. Если вы раньше работали с NumPy, вы заметите, что он по своей конструкции очень похож на многомерный массив NumPy. Тем не менее, он даёт несколько ключевых преимуществ. Во-первых, torch.tensor поддерживает асинхронные вычисления на CPU и GPU. Во-вторых, он обеспечивает поддержку автоматического дифференцирования.\n",
        "\n",
        "Начнем с импорта torch"
      ]
    },
    {
      "cell_type": "code",
      "metadata": {
        "ExecuteTime": {
          "end_time": "2020-02-14T20:49:34.200569Z",
          "start_time": "2020-02-14T20:49:33.649350Z"
        },
        "id": "tElMAYJ7vioD"
      },
      "source": [
        "import torch"
      ],
      "execution_count": 57,
      "outputs": []
    },
    {
      "cell_type": "markdown",
      "metadata": {
        "id": "4TJIByYhvioN"
      },
      "source": [
        "Tensor - это массив (возможно, многомерный) числовых значений. Tensor с одной осью называется (в математике) вектором, с двумя - матрицей. Для массивов с более чем двумя осями нет специальных имен, их называют просто тензорами.\n",
        "Самый простой объект, который мы можем создать, - это вектор. Для начала мы можем использовать arange для создания вектора строки с 12 последовательными целыми числами."
      ]
    },
    {
      "cell_type": "code",
      "metadata": {
        "ExecuteTime": {
          "end_time": "2019-11-05T16:56:29.380736Z",
          "start_time": "2019-11-05T16:56:29.369443Z"
        },
        "id": "jqae2XznvioP",
        "colab": {
          "base_uri": "https://localhost:8080/"
        },
        "outputId": "abcd0dca-6a6c-4499-8545-c9d20c308a32"
      },
      "source": [
        "x = torch.arange(12) # Создание тензора\n",
        "x"
      ],
      "execution_count": 58,
      "outputs": [
        {
          "output_type": "execute_result",
          "data": {
            "text/plain": [
              "tensor([ 0,  1,  2,  3,  4,  5,  6,  7,  8,  9, 10, 11])"
            ]
          },
          "metadata": {},
          "execution_count": 58
        }
      ]
    },
    {
      "cell_type": "code",
      "source": [
        "xx = torch.Tensor([[x, x**2, x**3] for x in range(12)]) # Создадим 2-мерный тензор, используя значения x и списочое выражение внутри конструктора тензора\n",
        "xx"
      ],
      "metadata": {
        "colab": {
          "base_uri": "https://localhost:8080/"
        },
        "id": "WhXuFQIQpmap",
        "outputId": "2b22fe89-c3fd-4825-a387-341cd9b0c925"
      },
      "execution_count": 59,
      "outputs": [
        {
          "output_type": "execute_result",
          "data": {
            "text/plain": [
              "tensor([[0.0000e+00, 0.0000e+00, 0.0000e+00],\n",
              "        [1.0000e+00, 1.0000e+00, 1.0000e+00],\n",
              "        [2.0000e+00, 4.0000e+00, 8.0000e+00],\n",
              "        [3.0000e+00, 9.0000e+00, 2.7000e+01],\n",
              "        [4.0000e+00, 1.6000e+01, 6.4000e+01],\n",
              "        [5.0000e+00, 2.5000e+01, 1.2500e+02],\n",
              "        [6.0000e+00, 3.6000e+01, 2.1600e+02],\n",
              "        [7.0000e+00, 4.9000e+01, 3.4300e+02],\n",
              "        [8.0000e+00, 6.4000e+01, 5.1200e+02],\n",
              "        [9.0000e+00, 8.1000e+01, 7.2900e+02],\n",
              "        [1.0000e+01, 1.0000e+02, 1.0000e+03],\n",
              "        [1.1000e+01, 1.2100e+02, 1.3310e+03]])"
            ]
          },
          "metadata": {},
          "execution_count": 59
        }
      ]
    },
    {
      "cell_type": "code",
      "source": [
        "torch.Tensor([1]) # Это тензор-скаляр из одного числа"
      ],
      "metadata": {
        "colab": {
          "base_uri": "https://localhost:8080/"
        },
        "id": "DVhp_gq9reJS",
        "outputId": "00b2ec77-8edd-48f5-d55d-14b6b9680b75"
      },
      "execution_count": 60,
      "outputs": [
        {
          "output_type": "execute_result",
          "data": {
            "text/plain": [
              "tensor([1.])"
            ]
          },
          "metadata": {},
          "execution_count": 60
        }
      ]
    },
    {
      "cell_type": "markdown",
      "metadata": {
        "id": "KXmdo6IPvioV"
      },
      "source": [
        "Мы можем получить форму экземпляра tensor через свойство shape."
      ]
    },
    {
      "cell_type": "code",
      "metadata": {
        "ExecuteTime": {
          "end_time": "2019-11-05T16:56:40.443088Z",
          "start_time": "2019-11-05T16:56:40.437680Z"
        },
        "scrolled": true,
        "id": "7CzGJ2sDvioW",
        "colab": {
          "base_uri": "https://localhost:8080/"
        },
        "outputId": "ac566b44-4a7a-4825-c233-b6f76a938ece"
      },
      "source": [
        "x.shape # просмотр формы"
      ],
      "execution_count": 61,
      "outputs": [
        {
          "output_type": "execute_result",
          "data": {
            "text/plain": [
              "torch.Size([12])"
            ]
          },
          "metadata": {},
          "execution_count": 61
        }
      ]
    },
    {
      "cell_type": "code",
      "source": [
        "xx.shape"
      ],
      "metadata": {
        "colab": {
          "base_uri": "https://localhost:8080/"
        },
        "id": "zFS_lExrq7Z8",
        "outputId": "5736c343-6afc-46ad-e38b-f7c517868665"
      },
      "execution_count": 62,
      "outputs": [
        {
          "output_type": "execute_result",
          "data": {
            "text/plain": [
              "torch.Size([12, 3])"
            ]
          },
          "metadata": {},
          "execution_count": 62
        }
      ]
    },
    {
      "cell_type": "markdown",
      "metadata": {
        "id": "ZIIqydravioa"
      },
      "source": [
        "Узнать расположен ли он на gpu или cpu можно через специальный аттрибут - device"
      ]
    },
    {
      "cell_type": "code",
      "metadata": {
        "ExecuteTime": {
          "end_time": "2019-11-05T16:56:46.707413Z",
          "start_time": "2019-11-05T16:56:46.695327Z"
        },
        "id": "fuq8BPvIviob",
        "colab": {
          "base_uri": "https://localhost:8080/"
        },
        "outputId": "d6fcd2c0-3fc0-4daf-95e8-f1fa2fd9a912"
      },
      "source": [
        "x.device"
      ],
      "execution_count": 63,
      "outputs": [
        {
          "output_type": "execute_result",
          "data": {
            "text/plain": [
              "device(type='cpu')"
            ]
          },
          "metadata": {},
          "execution_count": 63
        }
      ]
    },
    {
      "cell_type": "markdown",
      "metadata": {
        "id": "VPDddEjZviog"
      },
      "source": [
        "Мы используем функцию view, чтобы изменить форму одного (возможно многомерного) массива на другой, который содержит такое же количество элементов. Например, мы можем преобразовать форму нашего векторного вектора x в (3, 4), который содержит те же значения, но интерпретирует их как матрицу, содержащую 3 строки и 4 столбца. Обратите внимание, что, хотя форма изменилась, элементы в x не изменились. Причем количество элементов осталось прежним."
      ]
    },
    {
      "cell_type": "code",
      "metadata": {
        "ExecuteTime": {
          "end_time": "2019-11-05T16:57:45.929995Z",
          "start_time": "2019-11-05T16:57:45.923591Z"
        },
        "id": "wPAtrhQwviog",
        "colab": {
          "base_uri": "https://localhost:8080/"
        },
        "outputId": "3ba92b86-c5ce-47ed-bae7-e717e42b7708"
      },
      "source": [
        "x.view((3,4))"
      ],
      "execution_count": 64,
      "outputs": [
        {
          "output_type": "execute_result",
          "data": {
            "text/plain": [
              "tensor([[ 0,  1,  2,  3],\n",
              "        [ 4,  5,  6,  7],\n",
              "        [ 8,  9, 10, 11]])"
            ]
          },
          "metadata": {},
          "execution_count": 64
        }
      ]
    },
    {
      "cell_type": "markdown",
      "metadata": {
        "id": "irJvOOx_vioj"
      },
      "source": [
        "Указывать каждое измерение вручную достаточно утомительно. К счастью, torch может автоматически выводить одно измерение, учитывая другие. Мы можем указать -1 для измерения, которое мы хотели бы, чтобы torch автоматически выводил. В нашем случае вместо x.view((3, 4)) мы могли бы использовать x.view ((- 1, 4)) или x.view((3, -1))."
      ]
    },
    {
      "cell_type": "code",
      "metadata": {
        "ExecuteTime": {
          "end_time": "2019-11-05T16:58:19.719321Z",
          "start_time": "2019-11-05T16:58:19.712884Z"
        },
        "id": "zaCznZ52viok",
        "colab": {
          "base_uri": "https://localhost:8080/"
        },
        "outputId": "30f459a6-acd7-44b0-ebf0-f9131dbae3f1"
      },
      "source": [
        "x.view((-1, 4))"
      ],
      "execution_count": 65,
      "outputs": [
        {
          "output_type": "execute_result",
          "data": {
            "text/plain": [
              "tensor([[ 0,  1,  2,  3],\n",
              "        [ 4,  5,  6,  7],\n",
              "        [ 8,  9, 10, 11]])"
            ]
          },
          "metadata": {},
          "execution_count": 65
        }
      ]
    },
    {
      "cell_type": "markdown",
      "metadata": {
        "id": "nyj2EgUHvion"
      },
      "source": [
        "Другие две полезные функции - zeros и ones. Они создают массивы из всех нулей и всех единиц. Они принимают форму создаваемого тензора в качестве параметра"
      ]
    },
    {
      "cell_type": "code",
      "metadata": {
        "ExecuteTime": {
          "end_time": "2019-11-05T16:58:33.437194Z",
          "start_time": "2019-11-05T16:58:33.427585Z"
        },
        "id": "fZC3Sj9wvion",
        "colab": {
          "base_uri": "https://localhost:8080/"
        },
        "outputId": "dad73daf-db6a-403a-9ecb-859cea8b415f"
      },
      "source": [
        "torch.zeros((2,3,4))"
      ],
      "execution_count": 66,
      "outputs": [
        {
          "output_type": "execute_result",
          "data": {
            "text/plain": [
              "tensor([[[0., 0., 0., 0.],\n",
              "         [0., 0., 0., 0.],\n",
              "         [0., 0., 0., 0.]],\n",
              "\n",
              "        [[0., 0., 0., 0.],\n",
              "         [0., 0., 0., 0.],\n",
              "         [0., 0., 0., 0.]]])"
            ]
          },
          "metadata": {},
          "execution_count": 66
        }
      ]
    },
    {
      "cell_type": "code",
      "metadata": {
        "ExecuteTime": {
          "end_time": "2019-11-05T16:58:33.850404Z",
          "start_time": "2019-11-05T16:58:33.843194Z"
        },
        "id": "x6n0cd-Xvioq",
        "colab": {
          "base_uri": "https://localhost:8080/"
        },
        "outputId": "0bbde51d-4e10-40a4-94a0-e675338dd221"
      },
      "source": [
        "torch.ones((2,3,4))"
      ],
      "execution_count": 67,
      "outputs": [
        {
          "output_type": "execute_result",
          "data": {
            "text/plain": [
              "tensor([[[1., 1., 1., 1.],\n",
              "         [1., 1., 1., 1.],\n",
              "         [1., 1., 1., 1.]],\n",
              "\n",
              "        [[1., 1., 1., 1.],\n",
              "         [1., 1., 1., 1.],\n",
              "         [1., 1., 1., 1.]]])"
            ]
          },
          "metadata": {},
          "execution_count": 67
        }
      ]
    },
    {
      "cell_type": "markdown",
      "metadata": {
        "id": "1tApGR0aviot"
      },
      "source": [
        "Конечно же, можно создать тензор явно, указав все значения"
      ]
    },
    {
      "cell_type": "code",
      "metadata": {
        "ExecuteTime": {
          "end_time": "2019-11-05T16:58:42.029162Z",
          "start_time": "2019-11-05T16:58:42.023330Z"
        },
        "id": "KHouURemviot",
        "colab": {
          "base_uri": "https://localhost:8080/"
        },
        "outputId": "2794b23e-7547-430e-964d-d6a2fe574cfb"
      },
      "source": [
        "torch.tensor([[1,2,3], [4,5,6]])"
      ],
      "execution_count": 68,
      "outputs": [
        {
          "output_type": "execute_result",
          "data": {
            "text/plain": [
              "tensor([[1, 2, 3],\n",
              "        [4, 5, 6]])"
            ]
          },
          "metadata": {},
          "execution_count": 68
        }
      ]
    },
    {
      "cell_type": "markdown",
      "metadata": {
        "id": "YYJZ4Drdviov"
      },
      "source": [
        "Иногда бывает полезно создать массив, заполненный случайными значениями. Для этого используются функции torch.rand и torch.randn. Первое использует равномерное распределение, второе - нормальное"
      ]
    },
    {
      "cell_type": "code",
      "metadata": {
        "ExecuteTime": {
          "end_time": "2019-11-05T16:58:53.711508Z",
          "start_time": "2019-11-05T16:58:53.704657Z"
        },
        "id": "teZ4rP5fviow",
        "colab": {
          "base_uri": "https://localhost:8080/"
        },
        "outputId": "a71d6a76-cc07-4f4a-d7cd-5bb3325b624a"
      },
      "source": [
        "torch.rand((2,3,4))"
      ],
      "execution_count": 69,
      "outputs": [
        {
          "output_type": "execute_result",
          "data": {
            "text/plain": [
              "tensor([[[0.7483, 0.6469, 0.2351, 0.4437],\n",
              "         [0.2117, 0.3338, 0.0092, 0.9384],\n",
              "         [0.0632, 0.3311, 0.3422, 0.0531]],\n",
              "\n",
              "        [[0.9821, 0.4366, 0.3788, 0.5974],\n",
              "         [0.3864, 0.0301, 0.5966, 0.5542],\n",
              "         [0.0684, 0.8990, 0.9508, 0.6845]]])"
            ]
          },
          "metadata": {},
          "execution_count": 69
        }
      ]
    },
    {
      "cell_type": "code",
      "metadata": {
        "ExecuteTime": {
          "end_time": "2019-11-05T16:58:57.349998Z",
          "start_time": "2019-11-05T16:58:57.343129Z"
        },
        "id": "91VmyGlqvioy",
        "colab": {
          "base_uri": "https://localhost:8080/"
        },
        "outputId": "82b3b7c5-4dae-4f17-aee8-44c514b9c711"
      },
      "source": [
        "torch.randn((2,3,4))"
      ],
      "execution_count": 70,
      "outputs": [
        {
          "output_type": "execute_result",
          "data": {
            "text/plain": [
              "tensor([[[ 0.8141,  1.5611, -0.4166,  1.5084],\n",
              "         [-0.8725,  0.6810, -0.7925,  1.2127],\n",
              "         [ 1.0403,  1.6717,  0.6627, -0.0623]],\n",
              "\n",
              "        [[ 0.1824,  0.4294, -0.0049, -1.4684],\n",
              "         [-1.3111,  0.7513, -0.4269,  0.2614],\n",
              "         [ 0.2345, -0.2188, -1.3097, -0.8727]]])"
            ]
          },
          "metadata": {},
          "execution_count": 70
        }
      ]
    },
    {
      "cell_type": "markdown",
      "metadata": {
        "id": "YGTXrWAOvio0"
      },
      "source": [
        "## Операции"
      ]
    },
    {
      "cell_type": "markdown",
      "metadata": {
        "id": "bCG4DGkcvio0"
      },
      "source": [
        "Обычно мы хотим не только создавать массивы, но и применять к ним функции. Самые простые и полезные из них - это поэлементные функции. Они работают, выполняя одну скалярную операцию над соответствующими элементами двух массивов."
      ]
    },
    {
      "cell_type": "code",
      "source": [
        "x = torch.tensor([1., 2., 4., 8.])"
      ],
      "metadata": {
        "id": "EANYSWTdwWZp"
      },
      "execution_count": 71,
      "outputs": []
    },
    {
      "cell_type": "code",
      "metadata": {
        "ExecuteTime": {
          "end_time": "2019-11-05T17:00:01.055026Z",
          "start_time": "2019-11-05T17:00:01.023112Z"
        },
        "id": "1OQYNtFxvio1",
        "colab": {
          "base_uri": "https://localhost:8080/"
        },
        "outputId": "e952f7ab-6697-47ab-dfd4-ad6540d8e389"
      },
      "source": [
        "\n",
        "y = torch.ones_like(x) * 2\n",
        "print('x =', x)\n",
        "print('y =', y)\n",
        "print('x + y', x + y)\n",
        "print('x - y', x - y)\n",
        "print('x * y', x * y)\n",
        "print('x / y', x / y)"
      ],
      "execution_count": 72,
      "outputs": [
        {
          "output_type": "stream",
          "name": "stdout",
          "text": [
            "x = tensor([1., 2., 4., 8.])\n",
            "y = tensor([2., 2., 2., 2.])\n",
            "x + y tensor([ 3.,  4.,  6., 10.])\n",
            "x - y tensor([-1.,  0.,  2.,  6.])\n",
            "x * y tensor([ 2.,  4.,  8., 16.])\n",
            "x / y tensor([0.5000, 1.0000, 2.0000, 4.0000])\n"
          ]
        }
      ]
    },
    {
      "cell_type": "markdown",
      "metadata": {
        "ExecuteTime": {
          "end_time": "2019-10-15T19:38:22.460619Z",
          "start_time": "2019-10-15T19:38:22.450666Z"
        },
        "id": "hrXPRhyAvio3"
      },
      "source": [
        "Еще больше операций может быть выполненно поэлементно. Например - операции exp"
      ]
    },
    {
      "cell_type": "code",
      "metadata": {
        "ExecuteTime": {
          "end_time": "2019-11-05T17:00:09.882910Z",
          "start_time": "2019-11-05T17:00:09.875696Z"
        },
        "id": "UGELUbDYvio3",
        "colab": {
          "base_uri": "https://localhost:8080/"
        },
        "outputId": "ab742643-ad54-4b14-be98-53cb3d28c25f"
      },
      "source": [
        "x.exp()"
      ],
      "execution_count": 73,
      "outputs": [
        {
          "output_type": "execute_result",
          "data": {
            "text/plain": [
              "tensor([2.7183e+00, 7.3891e+00, 5.4598e+01, 2.9810e+03])"
            ]
          },
          "metadata": {},
          "execution_count": 73
        }
      ]
    },
    {
      "cell_type": "markdown",
      "metadata": {
        "id": "vmNxHXA5vio5"
      },
      "source": [
        "В дополнение к поэлементным вычислениям, мы также можем выполнять матричные операции. Например, матричное умножение. Для этого используется функция mm."
      ]
    },
    {
      "cell_type": "code",
      "source": [
        "x = torch.arange(12).reshape((3,4))\n",
        "x"
      ],
      "metadata": {
        "colab": {
          "base_uri": "https://localhost:8080/"
        },
        "id": "3PVdf2UqxTLH",
        "outputId": "56c38314-24c6-48ed-b9da-0fd06855bdf9"
      },
      "execution_count": 74,
      "outputs": [
        {
          "output_type": "execute_result",
          "data": {
            "text/plain": [
              "tensor([[ 0,  1,  2,  3],\n",
              "        [ 4,  5,  6,  7],\n",
              "        [ 8,  9, 10, 11]])"
            ]
          },
          "metadata": {},
          "execution_count": 74
        }
      ]
    },
    {
      "cell_type": "code",
      "source": [
        "y = torch.tensor([[2, 1, 4, 3], [1, 2, 3, 4], [4, 3, 2, 1]])\n",
        "y"
      ],
      "metadata": {
        "colab": {
          "base_uri": "https://localhost:8080/"
        },
        "id": "pbrxbiMlxbr6",
        "outputId": "a6db9386-c731-4a75-f054-af261cbdd1ed"
      },
      "execution_count": 75,
      "outputs": [
        {
          "output_type": "execute_result",
          "data": {
            "text/plain": [
              "tensor([[2, 1, 4, 3],\n",
              "        [1, 2, 3, 4],\n",
              "        [4, 3, 2, 1]])"
            ]
          },
          "metadata": {},
          "execution_count": 75
        }
      ]
    },
    {
      "cell_type": "code",
      "source": [
        "y.T"
      ],
      "metadata": {
        "colab": {
          "base_uri": "https://localhost:8080/"
        },
        "id": "rTOJdhSRxe1M",
        "outputId": "5f5b2e7b-ce7c-4b67-e90c-bb785423ef02"
      },
      "execution_count": 76,
      "outputs": [
        {
          "output_type": "execute_result",
          "data": {
            "text/plain": [
              "tensor([[2, 1, 4],\n",
              "        [1, 2, 3],\n",
              "        [4, 3, 2],\n",
              "        [3, 4, 1]])"
            ]
          },
          "metadata": {},
          "execution_count": 76
        }
      ]
    },
    {
      "cell_type": "code",
      "metadata": {
        "ExecuteTime": {
          "end_time": "2019-11-05T17:00:38.385516Z",
          "start_time": "2019-11-05T17:00:38.377315Z"
        },
        "id": "B44gDxoivio5",
        "colab": {
          "base_uri": "https://localhost:8080/"
        },
        "outputId": "416e1536-5574-4a09-fa08-b1dbdbaf5848"
      },
      "source": [
        "torch.mm(x, y.T)"
      ],
      "execution_count": 77,
      "outputs": [
        {
          "output_type": "execute_result",
          "data": {
            "text/plain": [
              "tensor([[ 18,  20,  10],\n",
              "        [ 58,  60,  50],\n",
              "        [ 98, 100,  90]])"
            ]
          },
          "metadata": {},
          "execution_count": 77
        }
      ]
    },
    {
      "cell_type": "code",
      "source": [
        "x"
      ],
      "metadata": {
        "colab": {
          "base_uri": "https://localhost:8080/"
        },
        "id": "k0ud8vuERjnv",
        "outputId": "c73843d0-1936-436d-ff08-1e897d0f232f"
      },
      "execution_count": 129,
      "outputs": [
        {
          "output_type": "execute_result",
          "data": {
            "text/plain": [
              "tensor([[12, 12, 12, 12],\n",
              "        [12, 12, 12, 12],\n",
              "        [ 8,  9, 10, 11]])"
            ]
          },
          "metadata": {},
          "execution_count": 129
        }
      ]
    },
    {
      "cell_type": "code",
      "source": [
        "# произведение тензора на вектор\n",
        "f = torch.tensor([1,2,3,4])\n"
      ],
      "metadata": {
        "id": "VNJRRTKTQk5J"
      },
      "execution_count": 132,
      "outputs": []
    },
    {
      "cell_type": "code",
      "source": [
        "torch.mv(x,f)"
      ],
      "metadata": {
        "colab": {
          "base_uri": "https://localhost:8080/"
        },
        "id": "lWZyMelCRCHK",
        "outputId": "d93e3175-75e1-41cd-f8b4-1b3cb4bc6ef5"
      },
      "execution_count": 133,
      "outputs": [
        {
          "output_type": "execute_result",
          "data": {
            "text/plain": [
              "tensor([120, 120, 100])"
            ]
          },
          "metadata": {},
          "execution_count": 133
        }
      ]
    },
    {
      "cell_type": "markdown",
      "metadata": {
        "id": "FRROtgrOvio7"
      },
      "source": [
        "Мы также можем объединить несколько тензоров. Для этого нам нужно указать, по какому измерению производить объединение. В приведенном ниже примере объединяются две матрицы по измерению 0 (по строкам) и измерению 1 (по столбцам) соответственно."
      ]
    },
    {
      "cell_type": "code",
      "source": [
        "torch.cat((x, y), axis=0)"
      ],
      "metadata": {
        "colab": {
          "base_uri": "https://localhost:8080/"
        },
        "id": "5ucvN6AqyC6m",
        "outputId": "8c6691da-5e64-4f1b-8f79-9d65181efbe6"
      },
      "execution_count": 78,
      "outputs": [
        {
          "output_type": "execute_result",
          "data": {
            "text/plain": [
              "tensor([[ 0,  1,  2,  3],\n",
              "        [ 4,  5,  6,  7],\n",
              "        [ 8,  9, 10, 11],\n",
              "        [ 2,  1,  4,  3],\n",
              "        [ 1,  2,  3,  4],\n",
              "        [ 4,  3,  2,  1]])"
            ]
          },
          "metadata": {},
          "execution_count": 78
        }
      ]
    },
    {
      "cell_type": "code",
      "metadata": {
        "ExecuteTime": {
          "end_time": "2019-11-05T17:00:57.129028Z",
          "start_time": "2019-11-05T17:00:57.120698Z"
        },
        "id": "cJF9AYIMvio8",
        "colab": {
          "base_uri": "https://localhost:8080/"
        },
        "outputId": "de2c231a-4715-4e97-fe72-f8f6f137a860"
      },
      "source": [
        "torch.cat((x, y), dim=0)"
      ],
      "execution_count": 79,
      "outputs": [
        {
          "output_type": "execute_result",
          "data": {
            "text/plain": [
              "tensor([[ 0,  1,  2,  3],\n",
              "        [ 4,  5,  6,  7],\n",
              "        [ 8,  9, 10, 11],\n",
              "        [ 2,  1,  4,  3],\n",
              "        [ 1,  2,  3,  4],\n",
              "        [ 4,  3,  2,  1]])"
            ]
          },
          "metadata": {},
          "execution_count": 79
        }
      ]
    },
    {
      "cell_type": "code",
      "metadata": {
        "ExecuteTime": {
          "end_time": "2019-11-05T17:01:04.800117Z",
          "start_time": "2019-11-05T17:01:04.793453Z"
        },
        "id": "OZ5VetSAvio-",
        "colab": {
          "base_uri": "https://localhost:8080/"
        },
        "outputId": "385daf64-590e-4123-f4ec-d505d9199476"
      },
      "source": [
        "torch.cat((x, y), dim=1)"
      ],
      "execution_count": 80,
      "outputs": [
        {
          "output_type": "execute_result",
          "data": {
            "text/plain": [
              "tensor([[ 0,  1,  2,  3,  2,  1,  4,  3],\n",
              "        [ 4,  5,  6,  7,  1,  2,  3,  4],\n",
              "        [ 8,  9, 10, 11,  4,  3,  2,  1]])"
            ]
          },
          "metadata": {},
          "execution_count": 80
        }
      ]
    },
    {
      "cell_type": "markdown",
      "metadata": {
        "id": "WvX0zi74vipA"
      },
      "source": [
        "Для получения булевых тензоров можно использовать булевы операторы. Например, можно сравнить два тензора при помощи оператора =="
      ]
    },
    {
      "cell_type": "code",
      "metadata": {
        "ExecuteTime": {
          "end_time": "2019-11-05T17:01:23.147282Z",
          "start_time": "2019-11-05T17:01:23.141564Z"
        },
        "scrolled": true,
        "id": "-lPu-T9avipB",
        "colab": {
          "base_uri": "https://localhost:8080/"
        },
        "outputId": "7148b0c2-cfa2-458d-f5fb-74318bc169b4"
      },
      "source": [
        "x == y"
      ],
      "execution_count": 81,
      "outputs": [
        {
          "output_type": "execute_result",
          "data": {
            "text/plain": [
              "tensor([[False,  True, False,  True],\n",
              "        [False, False, False, False],\n",
              "        [False, False, False, False]])"
            ]
          },
          "metadata": {},
          "execution_count": 81
        }
      ]
    },
    {
      "cell_type": "code",
      "source": [
        "(x == y).int()"
      ],
      "metadata": {
        "colab": {
          "base_uri": "https://localhost:8080/"
        },
        "id": "vqFpbhCbzQ2O",
        "outputId": "d7d811b0-b054-48f9-97e7-84fb7eccbc58"
      },
      "execution_count": 82,
      "outputs": [
        {
          "output_type": "execute_result",
          "data": {
            "text/plain": [
              "tensor([[0, 1, 0, 1],\n",
              "        [0, 0, 0, 0],\n",
              "        [0, 0, 0, 0]], dtype=torch.int32)"
            ]
          },
          "metadata": {},
          "execution_count": 82
        }
      ]
    },
    {
      "cell_type": "markdown",
      "metadata": {
        "id": "OZnsrU1DvipD"
      },
      "source": [
        "Суммирование всех элементов тезора дает тензор с одним элементом."
      ]
    },
    {
      "cell_type": "code",
      "metadata": {
        "ExecuteTime": {
          "end_time": "2019-11-05T17:01:29.002799Z",
          "start_time": "2019-11-05T17:01:28.996432Z"
        },
        "id": "G5ETVptZvipD",
        "colab": {
          "base_uri": "https://localhost:8080/"
        },
        "outputId": "ed63374a-b69d-43cb-9ce3-09fb6ed80e21"
      },
      "source": [
        "x.sum()"
      ],
      "execution_count": 83,
      "outputs": [
        {
          "output_type": "execute_result",
          "data": {
            "text/plain": [
              "tensor(66)"
            ]
          },
          "metadata": {},
          "execution_count": 83
        }
      ]
    },
    {
      "cell_type": "markdown",
      "metadata": {
        "id": "WKR_dltKvipG"
      },
      "source": [
        "Мы можем преобразовать результат в скаляр в Python, используя функцию item"
      ]
    },
    {
      "cell_type": "code",
      "metadata": {
        "ExecuteTime": {
          "end_time": "2019-11-05T17:01:46.339896Z",
          "start_time": "2019-11-05T17:01:46.334898Z"
        },
        "id": "MEkbKc0vvipG",
        "outputId": "98f3a399-9313-4e07-d338-55e97dd95365",
        "colab": {
          "base_uri": "https://localhost:8080/"
        }
      },
      "source": [
        "x.sum().item()"
      ],
      "execution_count": 84,
      "outputs": [
        {
          "output_type": "execute_result",
          "data": {
            "text/plain": [
              "66"
            ]
          },
          "metadata": {},
          "execution_count": 84
        }
      ]
    },
    {
      "cell_type": "code",
      "source": [
        "x.sum(dim=1) # суммирование по столбцам"
      ],
      "metadata": {
        "colab": {
          "base_uri": "https://localhost:8080/"
        },
        "id": "pC9Jo8QE0YJd",
        "outputId": "75ed6b23-6855-4809-f8a9-69e17e6323e9"
      },
      "execution_count": 85,
      "outputs": [
        {
          "output_type": "execute_result",
          "data": {
            "text/plain": [
              "tensor([ 6, 22, 38])"
            ]
          },
          "metadata": {},
          "execution_count": 85
        }
      ]
    },
    {
      "cell_type": "code",
      "source": [
        "x.sum(dim=1).shape"
      ],
      "metadata": {
        "colab": {
          "base_uri": "https://localhost:8080/"
        },
        "id": "4d3iUYnr09rN",
        "outputId": "e4074707-1106-43d5-c808-65e25fcf77f7"
      },
      "execution_count": 86,
      "outputs": [
        {
          "output_type": "execute_result",
          "data": {
            "text/plain": [
              "torch.Size([3])"
            ]
          },
          "metadata": {},
          "execution_count": 86
        }
      ]
    },
    {
      "cell_type": "code",
      "source": [
        "x.sum(dim=0) # суммирование по строкам"
      ],
      "metadata": {
        "colab": {
          "base_uri": "https://localhost:8080/"
        },
        "id": "EZwsG7DG0bZh",
        "outputId": "3baec5c8-ee32-451b-bd4c-c9d583665eeb"
      },
      "execution_count": 87,
      "outputs": [
        {
          "output_type": "execute_result",
          "data": {
            "text/plain": [
              "tensor([12, 15, 18, 21])"
            ]
          },
          "metadata": {},
          "execution_count": 87
        }
      ]
    },
    {
      "cell_type": "code",
      "source": [
        "# Если нужно сохранить размерность исходного тензорас и после суммирования\n",
        "x.sum(dim=1, keepdim=True)"
      ],
      "metadata": {
        "colab": {
          "base_uri": "https://localhost:8080/"
        },
        "id": "K_9i8xGY0yJe",
        "outputId": "cb6d4c89-c115-476e-8b52-3def34b01eee"
      },
      "execution_count": 88,
      "outputs": [
        {
          "output_type": "execute_result",
          "data": {
            "text/plain": [
              "tensor([[ 6],\n",
              "        [22],\n",
              "        [38]])"
            ]
          },
          "metadata": {},
          "execution_count": 88
        }
      ]
    },
    {
      "cell_type": "code",
      "source": [
        "x.sum(dim=1, keepdim=True).shape"
      ],
      "metadata": {
        "colab": {
          "base_uri": "https://localhost:8080/"
        },
        "id": "grJcJ-6S1A1E",
        "outputId": "e5c22382-14a0-419a-a2a6-259e21aa85b8"
      },
      "execution_count": 89,
      "outputs": [
        {
          "output_type": "execute_result",
          "data": {
            "text/plain": [
              "torch.Size([3, 1])"
            ]
          },
          "metadata": {},
          "execution_count": 89
        }
      ]
    },
    {
      "cell_type": "markdown",
      "source": [
        "## Преобразование типов"
      ],
      "metadata": {
        "id": "x27GZuQL1sqA"
      }
    },
    {
      "cell_type": "code",
      "source": [
        "x.dtype # показывает тип элементов тензора"
      ],
      "metadata": {
        "colab": {
          "base_uri": "https://localhost:8080/"
        },
        "id": "BP3yX2dT1rcw",
        "outputId": "a18bf16a-f770-4a91-d2ad-fdaebec2583c"
      },
      "execution_count": 90,
      "outputs": [
        {
          "output_type": "execute_result",
          "data": {
            "text/plain": [
              "torch.int64"
            ]
          },
          "metadata": {},
          "execution_count": 90
        }
      ]
    },
    {
      "cell_type": "code",
      "source": [
        "x.double()"
      ],
      "metadata": {
        "colab": {
          "base_uri": "https://localhost:8080/"
        },
        "id": "mOne2MFe1zia",
        "outputId": "3d9170d5-eb3e-4bed-a806-e183f42788f7"
      },
      "execution_count": 91,
      "outputs": [
        {
          "output_type": "execute_result",
          "data": {
            "text/plain": [
              "tensor([[ 0.,  1.,  2.,  3.],\n",
              "        [ 4.,  5.,  6.,  7.],\n",
              "        [ 8.,  9., 10., 11.]], dtype=torch.float64)"
            ]
          },
          "metadata": {},
          "execution_count": 91
        }
      ]
    },
    {
      "cell_type": "code",
      "source": [
        "# Универсальная ф-я преобразования типа\n",
        "x.type('torch.DoubleTensor')"
      ],
      "metadata": {
        "colab": {
          "base_uri": "https://localhost:8080/"
        },
        "id": "NfR64gxg2cVN",
        "outputId": "d40358d5-53b1-4f93-dde8-7c649bf3a6dc"
      },
      "execution_count": 92,
      "outputs": [
        {
          "output_type": "execute_result",
          "data": {
            "text/plain": [
              "tensor([[ 0.,  1.,  2.,  3.],\n",
              "        [ 4.,  5.,  6.,  7.],\n",
              "        [ 8.,  9., 10., 11.]], dtype=torch.float64)"
            ]
          },
          "metadata": {},
          "execution_count": 92
        }
      ]
    },
    {
      "cell_type": "markdown",
      "source": [
        "## Изменение размерности"
      ],
      "metadata": {
        "id": "I3ZHHbQi3517"
      }
    },
    {
      "cell_type": "code",
      "source": [
        "x"
      ],
      "metadata": {
        "colab": {
          "base_uri": "https://localhost:8080/"
        },
        "id": "oEBCmC3n39N5",
        "outputId": "0726afeb-ae4b-460c-9ee6-d0fa9caff4b7"
      },
      "execution_count": 93,
      "outputs": [
        {
          "output_type": "execute_result",
          "data": {
            "text/plain": [
              "tensor([[ 0,  1,  2,  3],\n",
              "        [ 4,  5,  6,  7],\n",
              "        [ 8,  9, 10, 11]])"
            ]
          },
          "metadata": {},
          "execution_count": 93
        }
      ]
    },
    {
      "cell_type": "code",
      "source": [
        "x.shape"
      ],
      "metadata": {
        "colab": {
          "base_uri": "https://localhost:8080/"
        },
        "id": "6K9hPovK4BhC",
        "outputId": "7ac106cc-1d9b-439e-d2fc-34b92513c723"
      },
      "execution_count": 94,
      "outputs": [
        {
          "output_type": "execute_result",
          "data": {
            "text/plain": [
              "torch.Size([3, 4])"
            ]
          },
          "metadata": {},
          "execution_count": 94
        }
      ]
    },
    {
      "cell_type": "code",
      "source": [
        "x.unsqueeze(1).shape # ДОбавили ось на позицию 1"
      ],
      "metadata": {
        "colab": {
          "base_uri": "https://localhost:8080/"
        },
        "id": "p1dnNd064Dtx",
        "outputId": "f2198759-a1e2-43a8-e564-230ddfd4ef08"
      },
      "execution_count": 95,
      "outputs": [
        {
          "output_type": "execute_result",
          "data": {
            "text/plain": [
              "torch.Size([3, 1, 4])"
            ]
          },
          "metadata": {},
          "execution_count": 95
        }
      ]
    },
    {
      "cell_type": "code",
      "source": [
        "x.unsqueeze(1) # в x это не сохраняется\"!"
      ],
      "metadata": {
        "colab": {
          "base_uri": "https://localhost:8080/"
        },
        "id": "o_BSTcD74icH",
        "outputId": "72f4e01e-44db-472b-ec86-771b37b0bf58"
      },
      "execution_count": 96,
      "outputs": [
        {
          "output_type": "execute_result",
          "data": {
            "text/plain": [
              "tensor([[[ 0,  1,  2,  3]],\n",
              "\n",
              "        [[ 4,  5,  6,  7]],\n",
              "\n",
              "        [[ 8,  9, 10, 11]]])"
            ]
          },
          "metadata": {},
          "execution_count": 96
        }
      ]
    },
    {
      "cell_type": "code",
      "source": [
        "x.unsqueeze(2).shape"
      ],
      "metadata": {
        "colab": {
          "base_uri": "https://localhost:8080/"
        },
        "id": "CML_u16m4tNM",
        "outputId": "c5df8ca5-d918-49b7-ed5e-fc44664d4db5"
      },
      "execution_count": 97,
      "outputs": [
        {
          "output_type": "execute_result",
          "data": {
            "text/plain": [
              "torch.Size([3, 4, 1])"
            ]
          },
          "metadata": {},
          "execution_count": 97
        }
      ]
    },
    {
      "cell_type": "code",
      "source": [
        "x.unsqueeze(2)"
      ],
      "metadata": {
        "colab": {
          "base_uri": "https://localhost:8080/"
        },
        "id": "OD4WSNkj4yxa",
        "outputId": "7d0098cd-f593-4ec0-b7c7-e695c800c465"
      },
      "execution_count": 98,
      "outputs": [
        {
          "output_type": "execute_result",
          "data": {
            "text/plain": [
              "tensor([[[ 0],\n",
              "         [ 1],\n",
              "         [ 2],\n",
              "         [ 3]],\n",
              "\n",
              "        [[ 4],\n",
              "         [ 5],\n",
              "         [ 6],\n",
              "         [ 7]],\n",
              "\n",
              "        [[ 8],\n",
              "         [ 9],\n",
              "         [10],\n",
              "         [11]]])"
            ]
          },
          "metadata": {},
          "execution_count": 98
        }
      ]
    },
    {
      "cell_type": "code",
      "source": [
        "x.unsqueeze(-1) # то же самое, новое измерение добавили на последнюю позицию"
      ],
      "metadata": {
        "colab": {
          "base_uri": "https://localhost:8080/"
        },
        "id": "cAwQqgK447P8",
        "outputId": "875c7295-e542-4e2a-d502-9611fbde1b41"
      },
      "execution_count": 99,
      "outputs": [
        {
          "output_type": "execute_result",
          "data": {
            "text/plain": [
              "tensor([[[ 0],\n",
              "         [ 1],\n",
              "         [ 2],\n",
              "         [ 3]],\n",
              "\n",
              "        [[ 4],\n",
              "         [ 5],\n",
              "         [ 6],\n",
              "         [ 7]],\n",
              "\n",
              "        [[ 8],\n",
              "         [ 9],\n",
              "         [10],\n",
              "         [11]]])"
            ]
          },
          "metadata": {},
          "execution_count": 99
        }
      ]
    },
    {
      "cell_type": "code",
      "source": [
        "x1 = x.unsqueeze(1)\n",
        "x1"
      ],
      "metadata": {
        "colab": {
          "base_uri": "https://localhost:8080/"
        },
        "id": "IBXqt6kK4MdK",
        "outputId": "ca5c885d-4663-4a1c-9733-5e182dd0c816"
      },
      "execution_count": 100,
      "outputs": [
        {
          "output_type": "execute_result",
          "data": {
            "text/plain": [
              "tensor([[[ 0,  1,  2,  3]],\n",
              "\n",
              "        [[ 4,  5,  6,  7]],\n",
              "\n",
              "        [[ 8,  9, 10, 11]]])"
            ]
          },
          "metadata": {},
          "execution_count": 100
        }
      ]
    },
    {
      "cell_type": "code",
      "source": [
        "x1.shape"
      ],
      "metadata": {
        "colab": {
          "base_uri": "https://localhost:8080/"
        },
        "id": "ANNi_K-I4cYR",
        "outputId": "ca7b1c1e-d2db-4a55-ba77-da75cea3297f"
      },
      "execution_count": 101,
      "outputs": [
        {
          "output_type": "execute_result",
          "data": {
            "text/plain": [
              "torch.Size([3, 1, 4])"
            ]
          },
          "metadata": {},
          "execution_count": 101
        }
      ]
    },
    {
      "cell_type": "code",
      "source": [
        "x.unsqueeze(1).unsqueeze(2).squeeze().shape # из двумерного тензора делаем 4 мерный, а затем с помощью squeeze удаляем все добавленные измерения)"
      ],
      "metadata": {
        "colab": {
          "base_uri": "https://localhost:8080/"
        },
        "id": "YRhS2cbi5Xvo",
        "outputId": "19a841a8-6e39-4017-bdfb-45e278437fd1"
      },
      "execution_count": 102,
      "outputs": [
        {
          "output_type": "execute_result",
          "data": {
            "text/plain": [
              "torch.Size([3, 4])"
            ]
          },
          "metadata": {},
          "execution_count": 102
        }
      ]
    },
    {
      "cell_type": "markdown",
      "source": [
        "## Транспонирование"
      ],
      "metadata": {
        "id": "2QXpeiEK53yx"
      }
    },
    {
      "cell_type": "code",
      "source": [
        "x"
      ],
      "metadata": {
        "colab": {
          "base_uri": "https://localhost:8080/"
        },
        "id": "d32fC2AA57zd",
        "outputId": "d8a87e5d-bc26-41a2-d7d5-15683f7bc752"
      },
      "execution_count": 103,
      "outputs": [
        {
          "output_type": "execute_result",
          "data": {
            "text/plain": [
              "tensor([[ 0,  1,  2,  3],\n",
              "        [ 4,  5,  6,  7],\n",
              "        [ 8,  9, 10, 11]])"
            ]
          },
          "metadata": {},
          "execution_count": 103
        }
      ]
    },
    {
      "cell_type": "code",
      "source": [
        "x.T"
      ],
      "metadata": {
        "colab": {
          "base_uri": "https://localhost:8080/"
        },
        "id": "2h8pllK-5-In",
        "outputId": "5a881ca2-dbed-47e1-ac70-fc4126c31f85"
      },
      "execution_count": 104,
      "outputs": [
        {
          "output_type": "execute_result",
          "data": {
            "text/plain": [
              "tensor([[ 0,  4,  8],\n",
              "        [ 1,  5,  9],\n",
              "        [ 2,  6, 10],\n",
              "        [ 3,  7, 11]])"
            ]
          },
          "metadata": {},
          "execution_count": 104
        }
      ]
    },
    {
      "cell_type": "code",
      "source": [
        "x.permute(1,0) # аналог транспонирования - строки и столбцы поменяются местами"
      ],
      "metadata": {
        "colab": {
          "base_uri": "https://localhost:8080/"
        },
        "id": "CK3t7wcv6Anm",
        "outputId": "b807560d-da9e-4c09-ea9d-968997a293bd"
      },
      "execution_count": 105,
      "outputs": [
        {
          "output_type": "execute_result",
          "data": {
            "text/plain": [
              "tensor([[ 0,  4,  8],\n",
              "        [ 1,  5,  9],\n",
              "        [ 2,  6, 10],\n",
              "        [ 3,  7, 11]])"
            ]
          },
          "metadata": {},
          "execution_count": 105
        }
      ]
    },
    {
      "cell_type": "code",
      "source": [
        "x.permute(0,1) # Это исходный тензор - на нулевой позиции остается нулевая. на первой - первая"
      ],
      "metadata": {
        "colab": {
          "base_uri": "https://localhost:8080/"
        },
        "id": "DiBOSTBP6l0W",
        "outputId": "4ce25361-6595-4250-e9bb-fdad84390b75"
      },
      "execution_count": 106,
      "outputs": [
        {
          "output_type": "execute_result",
          "data": {
            "text/plain": [
              "tensor([[ 0,  1,  2,  3],\n",
              "        [ 4,  5,  6,  7],\n",
              "        [ 8,  9, 10, 11]])"
            ]
          },
          "metadata": {},
          "execution_count": 106
        }
      ]
    },
    {
      "cell_type": "code",
      "source": [
        "xx = torch.rand((2,3,4))\n",
        "xx"
      ],
      "metadata": {
        "colab": {
          "base_uri": "https://localhost:8080/"
        },
        "id": "tUp3JlrD69DD",
        "outputId": "bd58130b-8023-43c0-99ce-09d144dcc0c7"
      },
      "execution_count": 107,
      "outputs": [
        {
          "output_type": "execute_result",
          "data": {
            "text/plain": [
              "tensor([[[0.5959, 0.3697, 0.6918, 0.3951],\n",
              "         [0.1432, 0.8295, 0.7295, 0.3693],\n",
              "         [0.0314, 0.7918, 0.5879, 0.6237]],\n",
              "\n",
              "        [[0.4779, 0.7800, 0.1805, 0.3325],\n",
              "         [0.9448, 0.7844, 0.5727, 0.9648],\n",
              "         [0.1521, 0.2048, 0.0773, 0.7122]]])"
            ]
          },
          "metadata": {},
          "execution_count": 107
        }
      ]
    },
    {
      "cell_type": "code",
      "source": [
        "xx.permute(1,2,0)"
      ],
      "metadata": {
        "colab": {
          "base_uri": "https://localhost:8080/"
        },
        "id": "XibuwywN7FvJ",
        "outputId": "7a484580-9804-4a07-aa9e-21493357b3fa"
      },
      "execution_count": 56,
      "outputs": [
        {
          "output_type": "execute_result",
          "data": {
            "text/plain": [
              "tensor([[[0.7506, 0.7457],\n",
              "         [0.1544, 0.0595],\n",
              "         [0.5758, 0.2261],\n",
              "         [0.7949, 0.1897]],\n",
              "\n",
              "        [[0.0694, 0.1942],\n",
              "         [0.3563, 0.0419],\n",
              "         [0.8296, 0.5691],\n",
              "         [0.6039, 0.0355]],\n",
              "\n",
              "        [[0.9891, 0.3900],\n",
              "         [0.6140, 0.4784],\n",
              "         [0.5688, 0.3844],\n",
              "         [0.6025, 0.1902]]])"
            ]
          },
          "metadata": {},
          "execution_count": 56
        }
      ]
    },
    {
      "cell_type": "code",
      "source": [],
      "metadata": {
        "id": "C3vIl79M7iDz"
      },
      "execution_count": null,
      "outputs": []
    },
    {
      "cell_type": "markdown",
      "metadata": {
        "id": "ObCzgLdQvipI"
      },
      "source": [
        "## Broadcast\n",
        "\n",
        "Выполнять операции можно не только с тензорами одинакового размера, но и разного. Когда их формы различаются, запускается механизм broadcast. Сначала элементы копируются соответствующим образом, чтобы два тензора имели одинаковую форму, а затем операции выполняются поэлементно."
      ]
    },
    {
      "cell_type": "code",
      "metadata": {
        "ExecuteTime": {
          "end_time": "2019-11-05T17:03:16.975564Z",
          "start_time": "2019-11-05T17:03:16.968668Z"
        },
        "scrolled": true,
        "id": "I7_SxXpgvipJ",
        "colab": {
          "base_uri": "https://localhost:8080/"
        },
        "outputId": "63e4fd81-1678-450a-d200-4d7aded409a9"
      },
      "source": [
        "a = torch.arange(3).reshape((3, 1))\n",
        "b = torch.arange(2).reshape((1, 2))\n",
        "a, b # Получили вектор-строку и вектор-столбец"
      ],
      "execution_count": 114,
      "outputs": [
        {
          "output_type": "execute_result",
          "data": {
            "text/plain": [
              "(tensor([[0],\n",
              "         [1],\n",
              "         [2]]),\n",
              " tensor([[0, 1]]))"
            ]
          },
          "metadata": {},
          "execution_count": 114
        }
      ]
    },
    {
      "cell_type": "markdown",
      "metadata": {
        "id": "fat5mmvUvipL"
      },
      "source": [
        "Поскольку a и b являются матрицами (3x1) и (1x2) соответственно, их формы не совпадают. Torch решает эту проблему путем broadcast'а значений обеих матриц в большую (3x2) матрицу следующим образом: для матрицы a он реплицирует столбцы, для матрицы b он реплицирует строки. После чего запускается операция сложения"
      ]
    },
    {
      "cell_type": "code",
      "source": [
        "# При broadcast происходит как будто эти операции с a И затем сложениеиравных по размеру тензоров\n",
        "# a= torch.Tensor([[0,0], [1,1],[2,2]])\n",
        "# b= torch.Tensor([[0,1], [0,1],[0,1]])\n",
        "# (a+b).int()"
      ],
      "metadata": {
        "colab": {
          "base_uri": "https://localhost:8080/"
        },
        "id": "NOCaqvNjMKvO",
        "outputId": "059e1e8b-88b5-4feb-9bcd-0db87f2e402b"
      },
      "execution_count": 113,
      "outputs": [
        {
          "output_type": "execute_result",
          "data": {
            "text/plain": [
              "tensor([[0, 1],\n",
              "        [1, 2],\n",
              "        [2, 3]], dtype=torch.int32)"
            ]
          },
          "metadata": {},
          "execution_count": 113
        }
      ]
    },
    {
      "cell_type": "code",
      "metadata": {
        "ExecuteTime": {
          "end_time": "2019-11-05T17:04:03.206001Z",
          "start_time": "2019-11-05T17:04:03.200693Z"
        },
        "id": "rlfXM_MdvipL",
        "colab": {
          "base_uri": "https://localhost:8080/"
        },
        "outputId": "06c9764b-b6ee-4277-98f2-95cf605b8900"
      },
      "source": [
        "a + b"
      ],
      "execution_count": 115,
      "outputs": [
        {
          "output_type": "execute_result",
          "data": {
            "text/plain": [
              "tensor([[0, 1],\n",
              "        [1, 2],\n",
              "        [2, 3]])"
            ]
          },
          "metadata": {},
          "execution_count": 115
        }
      ]
    },
    {
      "cell_type": "code",
      "metadata": {
        "id": "KYPgjAIT23HC"
      },
      "source": [],
      "execution_count": null,
      "outputs": []
    },
    {
      "cell_type": "markdown",
      "metadata": {
        "id": "ZHjmm6ppvipN"
      },
      "source": [
        "## Индексирование\n",
        "\n",
        "Как и в любом другом массиве Python, элементы в тензоре могут быть доступны по их индексу. По традиции первый элемент имеет индекс 0, а диапазоны указываются для включения первого, но не последнего элемента. По этой логике `1: 3` выбирает второй и третий элемент из тензора"
      ]
    },
    {
      "cell_type": "code",
      "metadata": {
        "ExecuteTime": {
          "end_time": "2019-11-05T17:04:40.301254Z",
          "start_time": "2019-11-05T17:04:40.295033Z"
        },
        "id": "qfYyLDJ-vipN",
        "outputId": "cd02292a-6594-425b-9756-151fe8fe242b",
        "colab": {
          "base_uri": "https://localhost:8080/"
        }
      },
      "source": [
        "x"
      ],
      "execution_count": 116,
      "outputs": [
        {
          "output_type": "execute_result",
          "data": {
            "text/plain": [
              "tensor([[ 0,  1,  2,  3],\n",
              "        [ 4,  5,  6,  7],\n",
              "        [ 8,  9, 10, 11]])"
            ]
          },
          "metadata": {},
          "execution_count": 116
        }
      ]
    },
    {
      "cell_type": "code",
      "metadata": {
        "ExecuteTime": {
          "end_time": "2019-11-05T17:04:43.986487Z",
          "start_time": "2019-11-05T17:04:43.981855Z"
        },
        "id": "uHGV7KbQvipO",
        "outputId": "a8924ff5-02c5-4296-acb2-879638899f07",
        "colab": {
          "base_uri": "https://localhost:8080/"
        }
      },
      "source": [
        "x[1:3]"
      ],
      "execution_count": 117,
      "outputs": [
        {
          "output_type": "execute_result",
          "data": {
            "text/plain": [
              "tensor([[ 4,  5,  6,  7],\n",
              "        [ 8,  9, 10, 11]])"
            ]
          },
          "metadata": {},
          "execution_count": 117
        }
      ]
    },
    {
      "cell_type": "markdown",
      "metadata": {
        "id": "mw3avNR4vipQ"
      },
      "source": [
        "Мы так же можем изменять значения в тензоре"
      ]
    },
    {
      "cell_type": "code",
      "metadata": {
        "ExecuteTime": {
          "end_time": "2019-11-05T17:04:52.657225Z",
          "start_time": "2019-11-05T17:04:52.651720Z"
        },
        "id": "e33CVbULvipQ",
        "outputId": "a94b384f-cb84-4cf1-ca81-e64dabb184e5",
        "colab": {
          "base_uri": "https://localhost:8080/"
        }
      },
      "source": [
        "x[1, 2] = 9\n",
        "x"
      ],
      "execution_count": 118,
      "outputs": [
        {
          "output_type": "execute_result",
          "data": {
            "text/plain": [
              "tensor([[ 0,  1,  2,  3],\n",
              "        [ 4,  5,  9,  7],\n",
              "        [ 8,  9, 10, 11]])"
            ]
          },
          "metadata": {},
          "execution_count": 118
        }
      ]
    },
    {
      "cell_type": "markdown",
      "metadata": {
        "id": "hk-dfuxrvipS"
      },
      "source": [
        "Если мы хотим присвоить нескольким элементам одно и то же значение, мы просто индексируем все из них (при помощи оператора `:`), а затем присваиваем им значение. Например, `[0:2,:]` обращается к первой и второй строчкам."
      ]
    },
    {
      "cell_type": "code",
      "metadata": {
        "ExecuteTime": {
          "end_time": "2019-11-05T17:05:16.291436Z",
          "start_time": "2019-11-05T17:05:16.284786Z"
        },
        "id": "kv6nniDVvipS",
        "outputId": "61039e77-9b1b-4d06-9fb5-50525775913d",
        "colab": {
          "base_uri": "https://localhost:8080/"
        }
      },
      "source": [
        "x[0:2, :] = 12\n",
        "x"
      ],
      "execution_count": 119,
      "outputs": [
        {
          "output_type": "execute_result",
          "data": {
            "text/plain": [
              "tensor([[12, 12, 12, 12],\n",
              "        [12, 12, 12, 12],\n",
              "        [ 8,  9, 10, 11]])"
            ]
          },
          "metadata": {},
          "execution_count": 119
        }
      ]
    },
    {
      "cell_type": "markdown",
      "metadata": {
        "id": "uWFRKs3svipT"
      },
      "source": [
        "## В numpy и назад"
      ]
    },
    {
      "cell_type": "code",
      "metadata": {
        "ExecuteTime": {
          "end_time": "2019-11-05T17:05:23.206438Z",
          "start_time": "2019-11-05T17:05:23.200284Z"
        },
        "id": "2fV7lng0vipU",
        "outputId": "002e5b43-bc1d-4468-a07e-d2813446e150",
        "colab": {
          "base_uri": "https://localhost:8080/"
        }
      },
      "source": [
        "x.numpy()"
      ],
      "execution_count": 134,
      "outputs": [
        {
          "output_type": "execute_result",
          "data": {
            "text/plain": [
              "array([[12, 12, 12, 12],\n",
              "       [12, 12, 12, 12],\n",
              "       [ 8,  9, 10, 11]])"
            ]
          },
          "metadata": {},
          "execution_count": 134
        }
      ]
    },
    {
      "cell_type": "code",
      "metadata": {
        "ExecuteTime": {
          "end_time": "2019-11-05T17:05:28.155761Z",
          "start_time": "2019-11-05T17:05:28.150289Z"
        },
        "id": "6g4PUA3bvipV",
        "outputId": "10c78aae-6ce4-4a50-96c0-0f86bef419b1",
        "colab": {
          "base_uri": "https://localhost:8080/"
        }
      },
      "source": [
        "y = torch.tensor(x.numpy())\n",
        "y"
      ],
      "execution_count": 135,
      "outputs": [
        {
          "output_type": "execute_result",
          "data": {
            "text/plain": [
              "tensor([[12, 12, 12, 12],\n",
              "        [12, 12, 12, 12],\n",
              "        [ 8,  9, 10, 11]])"
            ]
          },
          "metadata": {},
          "execution_count": 135
        }
      ]
    },
    {
      "cell_type": "markdown",
      "metadata": {
        "id": "mzTqXeaSvipX"
      },
      "source": [
        "## Немного практики"
      ]
    },
    {
      "cell_type": "markdown",
      "metadata": {
        "id": "R-_mIEi1vipX"
      },
      "source": [
        "1. Матрица B называется обратной к матрице A, если A*B = I (где I - единичная матрица). Найдите (перебором) обратную к матрице A = ((1,1), (1,2))\n"
      ]
    },
    {
      "cell_type": "code",
      "metadata": {
        "id": "uWNFdbOU4hye",
        "colab": {
          "base_uri": "https://localhost:8080/"
        },
        "outputId": "a508d276-2718-487a-fb04-c2b86bb6f187"
      },
      "source": [
        "A = torch.tensor(((1.,1.), (1.,2.)))\n",
        "B = torch.tensor(((2,-1.), (-1,1.)))\n",
        "torch.mm(A, B)"
      ],
      "execution_count": 120,
      "outputs": [
        {
          "output_type": "execute_result",
          "data": {
            "text/plain": [
              "tensor([[1., 0.],\n",
              "        [0., 1.]])"
            ]
          },
          "metadata": {},
          "execution_count": 120
        }
      ]
    },
    {
      "cell_type": "markdown",
      "source": [
        "2. Примените оператор преобразования A = ((1,2), (3,4)) к квадрату с вершинами в точках (1,1), (1,-1), (-1, -1), (-1, 1) и найдите расстояния между получившимися вершинами"
      ],
      "metadata": {
        "id": "HuL9m_KKSTFJ"
      }
    },
    {
      "cell_type": "code",
      "metadata": {
        "id": "Y35nlIz65IIG",
        "colab": {
          "base_uri": "https://localhost:8080/"
        },
        "outputId": "446ef015-ac81-4c5a-bb26-64db5be8ddc5"
      },
      "source": [
        "l = [(1,1), (1,-1), (-1, -1), (-1, 1)]\n",
        "A  = torch.tensor( ((1,2), (3,4)))\n",
        "for i  in l:\n",
        "  t = torch.tensor(i)\n",
        "  print(torch.mv(A, t))\n"
      ],
      "execution_count": 137,
      "outputs": [
        {
          "output_type": "stream",
          "name": "stdout",
          "text": [
            "tensor([3, 7])\n",
            "tensor([-1, -1])\n",
            "tensor([-3, -7])\n",
            "tensor([1, 1])\n"
          ]
        }
      ]
    },
    {
      "cell_type": "markdown",
      "source": [
        "!Расстояние между вершинами не нашли!"
      ],
      "metadata": {
        "id": "1DIrw1yRTylL"
      }
    },
    {
      "cell_type": "markdown",
      "source": [
        "Вероятности"
      ],
      "metadata": {
        "id": "QQpH7ujxUOtT"
      }
    },
    {
      "cell_type": "code",
      "source": [
        "torch.rand(10) # Равномерное распределение"
      ],
      "metadata": {
        "colab": {
          "base_uri": "https://localhost:8080/"
        },
        "id": "zx9YpPPXS1cj",
        "outputId": "1c492b9d-4635-4a67-9c4d-fff27f735304"
      },
      "execution_count": 138,
      "outputs": [
        {
          "output_type": "execute_result",
          "data": {
            "text/plain": [
              "tensor([0.5944, 0.3132, 0.5505, 0.5339, 0.3939, 0.7689, 0.6407, 0.1493, 0.8968,\n",
              "        0.7833])"
            ]
          },
          "metadata": {},
          "execution_count": 138
        }
      ]
    },
    {
      "cell_type": "code",
      "source": [
        "torch.randn(10) # Нормальное распределение"
      ],
      "metadata": {
        "colab": {
          "base_uri": "https://localhost:8080/"
        },
        "id": "oPl_MGjOUoif",
        "outputId": "a88110b9-15d6-4507-dab2-d9f1bef9c280"
      },
      "execution_count": 139,
      "outputs": [
        {
          "output_type": "execute_result",
          "data": {
            "text/plain": [
              "tensor([ 0.1815, -0.0990, -0.7541, -1.3529,  1.2187,  2.1837, -0.5929, -0.1742,\n",
              "         0.8228,  2.4270])"
            ]
          },
          "metadata": {},
          "execution_count": 139
        }
      ]
    },
    {
      "cell_type": "code",
      "source": [
        "torch.randint(0,10,(10,)) # Равнмерное распределение на целых числах - указываем начальную и конечную границы и размерность тензора, который хотим получить"
      ],
      "metadata": {
        "colab": {
          "base_uri": "https://localhost:8080/"
        },
        "id": "_8ieyyZtUxhG",
        "outputId": "44593c75-a0ea-49d3-fd42-76b4ece31afb"
      },
      "execution_count": 142,
      "outputs": [
        {
          "output_type": "execute_result",
          "data": {
            "text/plain": [
              "tensor([0, 1, 2, 0, 3, 1, 2, 6, 6, 7])"
            ]
          },
          "metadata": {},
          "execution_count": 142
        }
      ]
    },
    {
      "cell_type": "code",
      "source": [
        "from matplotlib import pyplot as plt\n",
        "_ = plt.hist(torch.randn(1000000), bins=1000)"
      ],
      "metadata": {
        "colab": {
          "base_uri": "https://localhost:8080/",
          "height": 430
        },
        "id": "Ht_i8h9tVSaG",
        "outputId": "1302d795-bc64-45c2-f986-9ce9e0088fe3"
      },
      "execution_count": 143,
      "outputs": [
        {
          "output_type": "display_data",
          "data": {
            "text/plain": [
              "<Figure size 640x480 with 1 Axes>"
            ],
            "image/png": "[encoded data removed]"
          },
          "metadata": {}
        }
      ]
    },
    {
      "cell_type": "code",
      "metadata": {
        "id": "bwLtfURt51gk"
      },
      "source": [
        "for i1 in (0., 0.5, 1.):\n",
        "    for i2 in (0., 0.5, 1.):\n",
        "        for i3 in (0., 0.5, 1.):\n",
        "            for i4 in (0., 0.5, 1.):\n",
        "                yy = torch.tensor([[i1,i2], [i3,i4]])\n",
        "                xx_tmp = xx * yy\n",
        "                if torch.all(torch.eq(xx_tmp, xx_)):\n",
        "                  print(yy)"
      ],
      "execution_count": null,
      "outputs": []
    },
    {
      "cell_type": "markdown",
      "metadata": {
        "id": "Jyzp1sakvipX"
      },
      "source": [
        "## Детектор спама"
      ]
    },
    {
      "cell_type": "code",
      "metadata": {
        "ExecuteTime": {
          "end_time": "2020-02-14T20:43:56.885663Z",
          "start_time": "2020-02-14T20:43:55.305376Z"
        },
        "id": "UYlYcMb7vipX",
        "outputId": "9d66b87d-7921-4bcf-8ed9-437be98d7bb3"
      },
      "source": [
        "!wget https://archive.ics.uci.edu/ml/machine-learning-databases/00228/smsspamcollection.zip"
      ],
      "execution_count": null,
      "outputs": [
        {
          "output_type": "stream",
          "text": [
            "--2020-02-14 23:43:55--  https://archive.ics.uci.edu/ml/machine-learning-databases/00228/smsspamcollection.zip\n",
            "Resolving archive.ics.uci.edu (archive.ics.uci.edu)... 128.195.10.252\n",
            "Connecting to archive.ics.uci.edu (archive.ics.uci.edu)|128.195.10.252|:443... connected.\n",
            "HTTP request sent, awaiting response... 200 OK\n",
            "Length: 203415 (199K) [application/x-httpd-php]\n",
            "Saving to: ‘smsspamcollection.zip’\n",
            "\n",
            "smsspamcollection.z 100%[===================>] 198.65K   299KB/s    in 0.7s    \n",
            "\n",
            "2020-02-14 23:43:56 (299 KB/s) - ‘smsspamcollection.zip’ saved [203415/203415]\n",
            "\n"
          ],
          "name": "stdout"
        }
      ]
    },
    {
      "cell_type": "code",
      "metadata": {
        "ExecuteTime": {
          "end_time": "2020-02-14T20:44:06.652230Z",
          "start_time": "2020-02-14T20:44:06.517272Z"
        },
        "id": "PTwjKiSQvipZ",
        "outputId": "13605072-71f3-4725-e5f5-754dbefd13ce"
      },
      "source": [
        "!unzip smsspamcollection.zip"
      ],
      "execution_count": null,
      "outputs": [
        {
          "output_type": "stream",
          "text": [
            "Archive:  smsspamcollection.zip\r\n",
            "  inflating: SMSSpamCollection       \r\n",
            "  inflating: readme                  \r\n"
          ],
          "name": "stdout"
        }
      ]
    },
    {
      "cell_type": "code",
      "metadata": {
        "ExecuteTime": {
          "end_time": "2020-02-14T20:44:24.176395Z",
          "start_time": "2020-02-14T20:44:23.540272Z"
        },
        "id": "33EiXUQ2vipa"
      },
      "source": [
        "import pandas as pd"
      ],
      "execution_count": null,
      "outputs": []
    },
    {
      "cell_type": "code",
      "metadata": {
        "ExecuteTime": {
          "end_time": "2020-02-14T20:45:07.904543Z",
          "start_time": "2020-02-14T20:45:07.864293Z"
        },
        "id": "4b5-vLu0vipb",
        "outputId": "5b59ed46-572d-409b-801d-e91c8a057884"
      },
      "source": [
        "df = pd.read_table('SMSSpamCollection', sep='\\t', header=None,names=['label', 'sms_message'])\n",
        "\n",
        "df.head()"
      ],
      "execution_count": null,
      "outputs": [
        {
          "output_type": "execute_result",
          "data": {
            "text/html": [
              "<div>\n",
              "<style scoped>\n",
              "    .dataframe tbody tr th:only-of-type {\n",
              "        vertical-align: middle;\n",
              "    }\n",
              "\n",
              "    .dataframe tbody tr th {\n",
              "        vertical-align: top;\n",
              "    }\n",
              "\n",
              "    .dataframe thead th {\n",
              "        text-align: right;\n",
              "    }\n",
              "</style>\n",
              "<table border=\"1\" class=\"dataframe\">\n",
              "  <thead>\n",
              "    <tr style=\"text-align: right;\">\n",
              "      <th></th>\n",
              "      <th>label</th>\n",
              "      <th>sms_message</th>\n",
              "    </tr>\n",
              "  </thead>\n",
              "  <tbody>\n",
              "    <tr>\n",
              "      <th>0</th>\n",
              "      <td>ham</td>\n",
              "      <td>Go until jurong point, crazy.. Available only ...</td>\n",
              "    </tr>\n",
              "    <tr>\n",
              "      <th>1</th>\n",
              "      <td>ham</td>\n",
              "      <td>Ok lar... Joking wif u oni...</td>\n",
              "    </tr>\n",
              "    <tr>\n",
              "      <th>2</th>\n",
              "      <td>spam</td>\n",
              "      <td>Free entry in 2 a wkly comp to win FA Cup fina...</td>\n",
              "    </tr>\n",
              "    <tr>\n",
              "      <th>3</th>\n",
              "      <td>ham</td>\n",
              "      <td>U dun say so early hor... U c already then say...</td>\n",
              "    </tr>\n",
              "    <tr>\n",
              "      <th>4</th>\n",
              "      <td>ham</td>\n",
              "      <td>Nah I don't think he goes to usf, he lives aro...</td>\n",
              "    </tr>\n",
              "  </tbody>\n",
              "</table>\n",
              "</div>"
            ],
            "text/plain": [
              "  label                                        sms_message\n",
              "0   ham  Go until jurong point, crazy.. Available only ...\n",
              "1   ham                      Ok lar... Joking wif u oni...\n",
              "2  spam  Free entry in 2 a wkly comp to win FA Cup fina...\n",
              "3   ham  U dun say so early hor... U c already then say...\n",
              "4   ham  Nah I don't think he goes to usf, he lives aro..."
            ]
          },
          "metadata": {
            "tags": []
          },
          "execution_count": 7
        }
      ]
    },
    {
      "cell_type": "code",
      "metadata": {
        "ExecuteTime": {
          "end_time": "2020-02-14T20:45:33.361586Z",
          "start_time": "2020-02-14T20:45:33.348066Z"
        },
        "id": "jveHuw1Nvipc",
        "outputId": "78e46e0c-2114-478e-bb6b-cbe2940adade"
      },
      "source": [
        "df['label'] = df.label.map({'ham':0,'spam':1})\n",
        "\n",
        "df.shape"
      ],
      "execution_count": null,
      "outputs": [
        {
          "output_type": "execute_result",
          "data": {
            "text/plain": [
              "(5572, 2)"
            ]
          },
          "metadata": {
            "tags": []
          },
          "execution_count": 8
        }
      ]
    },
    {
      "cell_type": "code",
      "metadata": {
        "ExecuteTime": {
          "end_time": "2020-02-14T20:46:04.683312Z",
          "start_time": "2020-02-14T20:46:04.257304Z"
        },
        "id": "wchlpXRdvipe",
        "outputId": "ca71bf4b-8857-4620-dc1a-ff0438ee89f3"
      },
      "source": [
        "from sklearn.model_selection import train_test_split\n",
        "\n",
        "X_train, X_test, y_train, y_test = train_test_split(df['sms_message'],\n",
        "                                                    df['label'],\n",
        "                                                    random_state=1)\n",
        "\n",
        "print('Number of rows in the total set: {}'.format(df.shape[0]))\n",
        "print('Number of rows in the training set: {}'.format(X_train.shape[0]))\n",
        "print('Number of rows in the test set: {}'.format(X_test.shape[0]))"
      ],
      "execution_count": null,
      "outputs": [
        {
          "output_type": "stream",
          "text": [
            "Number of rows in the total set: 5572\n",
            "Number of rows in the training set: 4179\n",
            "Number of rows in the test set: 1393\n"
          ],
          "name": "stdout"
        }
      ]
    },
    {
      "cell_type": "code",
      "metadata": {
        "ExecuteTime": {
          "end_time": "2020-02-14T20:48:22.903904Z",
          "start_time": "2020-02-14T20:48:22.901228Z"
        },
        "id": "3mxSCM2lvipg"
      },
      "source": [
        "from sklearn.feature_extraction.text import CountVectorizer"
      ],
      "execution_count": null,
      "outputs": []
    },
    {
      "cell_type": "code",
      "metadata": {
        "ExecuteTime": {
          "end_time": "2020-02-14T20:49:10.086348Z",
          "start_time": "2020-02-14T20:49:09.920414Z"
        },
        "id": "9fkaZ7_mviph"
      },
      "source": [
        "count_vector = CountVectorizer()\n",
        "training_data = count_vector.fit_transform(X_train).toarray()\n",
        "testing_data = count_vector.transform(X_test).toarray()"
      ],
      "execution_count": null,
      "outputs": []
    },
    {
      "cell_type": "code",
      "metadata": {
        "ExecuteTime": {
          "end_time": "2020-02-14T20:50:10.826260Z",
          "start_time": "2020-02-14T20:50:10.706562Z"
        },
        "id": "9GOJAGw1vipi"
      },
      "source": [
        "training_tensor = torch.Tensor(training_data)\n",
        "testing_tensor = torch.Tensor(testing_data)"
      ],
      "execution_count": null,
      "outputs": []
    },
    {
      "cell_type": "code",
      "metadata": {
        "ExecuteTime": {
          "end_time": "2020-02-14T20:55:09.064105Z",
          "start_time": "2020-02-14T20:55:09.059192Z"
        },
        "id": "D9dtwCs-vipk",
        "outputId": "f11a379a-3d31-4839-875c-665f3f79b902"
      },
      "source": [
        "training_tensor.shape"
      ],
      "execution_count": null,
      "outputs": [
        {
          "output_type": "execute_result",
          "data": {
            "text/plain": [
              "torch.Size([4179, 7456])"
            ]
          },
          "metadata": {
            "tags": []
          },
          "execution_count": 29
        }
      ]
    },
    {
      "cell_type": "markdown",
      "metadata": {
        "id": "H77-erMyvipm"
      },
      "source": [
        "$P(w) = \\frac{Количество\\ вхождений\\ слова\\ w\\ в\\ датасет}{Количество\\ слов\\ в\\ датасете\"}$"
      ]
    },
    {
      "cell_type": "code",
      "metadata": {
        "ExecuteTime": {
          "end_time": "2020-02-14T20:54:30.799699Z",
          "start_time": "2020-02-14T20:54:30.789243Z"
        },
        "id": "mQAn3hUuvipm",
        "outputId": "d2ad1b68-0b47-461a-aa29-0fd1326b9b78"
      },
      "source": [
        "training_tensor.sum()"
      ],
      "execution_count": null,
      "outputs": [
        {
          "output_type": "execute_result",
          "data": {
            "text/plain": [
              "tensor(59839.)"
            ]
          },
          "metadata": {
            "tags": []
          },
          "execution_count": 26
        }
      ]
    },
    {
      "cell_type": "code",
      "metadata": {
        "ExecuteTime": {
          "end_time": "2020-02-14T20:55:01.075706Z",
          "start_time": "2020-02-14T20:55:01.053266Z"
        },
        "id": "uQ1o3igRvipn",
        "outputId": "369c0de8-61bd-4cbe-a82f-08bd5a5b588a"
      },
      "source": [
        "p_w = training_tensor.sum(axis=0) / training_tensor.sum()\n",
        "p_w.shape"
      ],
      "execution_count": null,
      "outputs": [
        {
          "output_type": "execute_result",
          "data": {
            "text/plain": [
              "torch.Size([7456])"
            ]
          },
          "metadata": {
            "tags": []
          },
          "execution_count": 28
        }
      ]
    },
    {
      "cell_type": "markdown",
      "metadata": {
        "ExecuteTime": {
          "end_time": "2020-02-14T20:55:50.058954Z",
          "start_time": "2020-02-14T20:55:50.054544Z"
        },
        "id": "1r0T9qwnvipp"
      },
      "source": [
        "$P(w|spam) = \\frac{Количество\\ вхождений\\ слова\\ w\\ в\\ спамные сообщения}{Количество\\ слов\\ в\\ спаме\"}$"
      ]
    },
    {
      "cell_type": "code",
      "metadata": {
        "ExecuteTime": {
          "end_time": "2020-02-14T20:58:16.538799Z",
          "start_time": "2020-02-14T20:58:16.533397Z"
        },
        "id": "t9rsXlfuvipq"
      },
      "source": [
        "spam_training_tensor = training_tensor[(y_train == 1).values]"
      ],
      "execution_count": null,
      "outputs": []
    },
    {
      "cell_type": "code",
      "metadata": {
        "ExecuteTime": {
          "end_time": "2020-02-14T20:58:16.806387Z",
          "start_time": "2020-02-14T20:58:16.802217Z"
        },
        "id": "jw7dnR8Svipr",
        "outputId": "ef675162-612e-4cb0-e4f5-5f797f54f62d"
      },
      "source": [
        "spam_training_tensor.shape"
      ],
      "execution_count": null,
      "outputs": [
        {
          "output_type": "execute_result",
          "data": {
            "text/plain": [
              "torch.Size([562, 7456])"
            ]
          },
          "metadata": {
            "tags": []
          },
          "execution_count": 42
        }
      ]
    },
    {
      "cell_type": "code",
      "metadata": {
        "ExecuteTime": {
          "end_time": "2020-02-14T20:58:16.979417Z",
          "start_time": "2020-02-14T20:58:16.972533Z"
        },
        "id": "E4vCJLaIvips",
        "outputId": "dd2db742-c115-4aa3-eccf-ae9afc86e286"
      },
      "source": [
        "p_w_spam = spam_training_tensor.sum(axis=0) / spam_training_tensor.sum()\n",
        "p_w_spam.shape"
      ],
      "execution_count": null,
      "outputs": [
        {
          "output_type": "execute_result",
          "data": {
            "text/plain": [
              "torch.Size([7456])"
            ]
          },
          "metadata": {
            "tags": []
          },
          "execution_count": 43
        }
      ]
    },
    {
      "cell_type": "markdown",
      "metadata": {
        "ExecuteTime": {
          "end_time": "2020-02-14T20:58:30.965640Z",
          "start_time": "2020-02-14T20:58:30.961026Z"
        },
        "id": "Yx4gwrlavipt"
      },
      "source": [
        "$P(spam) = \\frac{Количество\\ спама}{Количество\\ сообщений\"}$"
      ]
    },
    {
      "cell_type": "code",
      "metadata": {
        "ExecuteTime": {
          "end_time": "2020-02-14T20:59:29.904591Z",
          "start_time": "2020-02-14T20:59:29.893648Z"
        },
        "id": "ITGYwEGuvipu"
      },
      "source": [
        "p_spam = (y_train == 1).values.sum() / len(y_train)\n",
        "p_not_spam = (y_train == 0).values.sum() / len(y_train)"
      ],
      "execution_count": null,
      "outputs": []
    },
    {
      "cell_type": "code",
      "metadata": {
        "ExecuteTime": {
          "end_time": "2020-02-14T20:59:33.280463Z",
          "start_time": "2020-02-14T20:59:33.275702Z"
        },
        "id": "6oRhsziMvipv",
        "outputId": "3a516267-dca4-4b56-e273-f7962afe756f"
      },
      "source": [
        "p_spam"
      ],
      "execution_count": null,
      "outputs": [
        {
          "output_type": "execute_result",
          "data": {
            "text/plain": [
              "0.13448193347690834"
            ]
          },
          "metadata": {
            "tags": []
          },
          "execution_count": 46
        }
      ]
    },
    {
      "cell_type": "code",
      "metadata": {
        "ExecuteTime": {
          "end_time": "2020-02-14T20:59:36.887786Z",
          "start_time": "2020-02-14T20:59:36.883357Z"
        },
        "id": "RY4RWOGKvipw",
        "outputId": "5c12284e-e8ac-4a1e-b8a4-e1a2c09d11e8"
      },
      "source": [
        "p_not_spam"
      ],
      "execution_count": null,
      "outputs": [
        {
          "output_type": "execute_result",
          "data": {
            "text/plain": [
              "0.8655180665230916"
            ]
          },
          "metadata": {
            "tags": []
          },
          "execution_count": 47
        }
      ]
    },
    {
      "cell_type": "markdown",
      "metadata": {
        "id": "XbO7QyDzvipx"
      },
      "source": [
        "$P(spam|w)=\\frac{P(w|spam)P(spam)}{P(w)}$\n",
        "\n",
        "$P(spam|w)=\\frac{P(w_1|spam)P(w_2|spam)...P(w_n|spam)P(spam)}{P(w_1)P(w_2)...P(w_n)}$"
      ]
    },
    {
      "cell_type": "code",
      "metadata": {
        "ExecuteTime": {
          "end_time": "2020-02-14T21:05:30.592296Z",
          "start_time": "2020-02-14T21:05:30.589345Z"
        },
        "id": "TgZCCC4Fvipx"
      },
      "source": [
        "test_sample = testing_tensor[0]"
      ],
      "execution_count": null,
      "outputs": []
    },
    {
      "cell_type": "code",
      "metadata": {
        "ExecuteTime": {
          "end_time": "2020-02-14T21:06:07.090307Z",
          "start_time": "2020-02-14T21:06:07.085545Z"
        },
        "id": "nJyOhNTKvipy",
        "outputId": "123bfaad-4381-4fda-cab3-571690ef6264"
      },
      "source": [
        "y_test.head()"
      ],
      "execution_count": null,
      "outputs": [
        {
          "output_type": "execute_result",
          "data": {
            "text/plain": [
              "1078    0\n",
              "4028    0\n",
              "958     0\n",
              "4642    0\n",
              "4674    0\n",
              "Name: label, dtype: int64"
            ]
          },
          "metadata": {
            "tags": []
          },
          "execution_count": 60
        }
      ]
    },
    {
      "cell_type": "code",
      "metadata": {
        "ExecuteTime": {
          "end_time": "2020-02-14T21:06:19.308103Z",
          "start_time": "2020-02-14T21:06:19.302281Z"
        },
        "scrolled": false,
        "id": "kQRyO90xvip0",
        "outputId": "c33bb048-0d4b-410a-9f62-d64b09af3615"
      },
      "source": [
        "df.iloc[1078]"
      ],
      "execution_count": null,
      "outputs": [
        {
          "output_type": "execute_result",
          "data": {
            "text/plain": [
              "label                                     0\n",
              "sms_message    Yep, by the pretty sculpture\n",
              "Name: 1078, dtype: object"
            ]
          },
          "metadata": {
            "tags": []
          },
          "execution_count": 61
        }
      ]
    },
    {
      "cell_type": "code",
      "metadata": {
        "ExecuteTime": {
          "end_time": "2020-02-14T21:11:45.289399Z",
          "start_time": "2020-02-14T21:11:45.284472Z"
        },
        "id": "gx9MbRrUvip1",
        "outputId": "57bb4369-1dd0-49f2-abc6-607cbafe946b"
      },
      "source": [
        "[test_sample != 0]"
      ],
      "execution_count": null,
      "outputs": [
        {
          "output_type": "execute_result",
          "data": {
            "text/plain": [
              "[tensor([False, False, False,  ..., False, False, False])]"
            ]
          },
          "metadata": {
            "tags": []
          },
          "execution_count": 71
        }
      ]
    },
    {
      "cell_type": "code",
      "metadata": {
        "ExecuteTime": {
          "end_time": "2020-02-14T21:11:49.724629Z",
          "start_time": "2020-02-14T21:11:49.719642Z"
        },
        "id": "Ih873o5dvip2",
        "outputId": "eae42712-86b5-45de-965e-f349da7d9b44"
      },
      "source": [
        "(test_sample * p_w_spam)[test_sample != 0]"
      ],
      "execution_count": null,
      "outputs": [
        {
          "output_type": "execute_result",
          "data": {
            "text/plain": [
              "tensor([0.0021, 0.0000, 0.0119, 0.0000])"
            ]
          },
          "metadata": {
            "tags": []
          },
          "execution_count": 72
        }
      ]
    },
    {
      "cell_type": "code",
      "metadata": {
        "ExecuteTime": {
          "end_time": "2020-02-14T21:11:54.782255Z",
          "start_time": "2020-02-14T21:11:54.776740Z"
        },
        "id": "Gd6JrO36vip4",
        "outputId": "08e3b9dd-e56e-4eda-e8f2-59d96c756dec"
      },
      "source": [
        "(test_sample * p_w_spam)[test_sample != 0].prod()"
      ],
      "execution_count": null,
      "outputs": [
        {
          "output_type": "execute_result",
          "data": {
            "text/plain": [
              "tensor(0.)"
            ]
          },
          "metadata": {
            "tags": []
          },
          "execution_count": 73
        }
      ]
    },
    {
      "cell_type": "code",
      "metadata": {
        "ExecuteTime": {
          "end_time": "2020-02-14T21:12:12.389141Z",
          "start_time": "2020-02-14T21:12:12.378240Z"
        },
        "id": "aPpWw_k4vip4",
        "outputId": "a2690340-1997-4423-e0c0-7053d307c0ed"
      },
      "source": [
        "(test_sample * p_w_spam)[test_sample != 0].prod() * p_spam"
      ],
      "execution_count": null,
      "outputs": [
        {
          "output_type": "execute_result",
          "data": {
            "text/plain": [
              "tensor(0.)"
            ]
          },
          "metadata": {
            "tags": []
          },
          "execution_count": 74
        }
      ]
    },
    {
      "cell_type": "code",
      "metadata": {
        "ExecuteTime": {
          "end_time": "2020-02-14T21:13:04.460643Z",
          "start_time": "2020-02-14T21:13:04.455207Z"
        },
        "id": "mCbveoijvip6",
        "outputId": "cc56415f-9c45-4c4d-d0ab-020909a0f921"
      },
      "source": [
        "((test_sample * p_w)[test_sample != 0].prod())"
      ],
      "execution_count": null,
      "outputs": [
        {
          "output_type": "execute_result",
          "data": {
            "text/plain": [
              "tensor(1.1332e-12)"
            ]
          },
          "metadata": {
            "tags": []
          },
          "execution_count": 77
        }
      ]
    },
    {
      "cell_type": "code",
      "metadata": {
        "ExecuteTime": {
          "end_time": "2020-02-14T21:12:59.046212Z",
          "start_time": "2020-02-14T21:12:59.040674Z"
        },
        "scrolled": true,
        "id": "XxsfTxJgvip7",
        "outputId": "a1bed16e-8524-42ad-d939-6c9def739fee"
      },
      "source": [
        "(test_sample * p_w_spam)[test_sample != 0].prod() * p_spam / ((test_sample * p_w)[test_sample != 0].prod())"
      ],
      "execution_count": null,
      "outputs": [
        {
          "output_type": "execute_result",
          "data": {
            "text/plain": [
              "tensor(0.)"
            ]
          },
          "metadata": {
            "tags": []
          },
          "execution_count": 76
        }
      ]
    },
    {
      "cell_type": "markdown",
      "metadata": {
        "id": "0q4_5CjGvip8"
      },
      "source": [
        "## Вероятности"
      ]
    },
    {
      "cell_type": "code",
      "metadata": {
        "ExecuteTime": {
          "end_time": "2019-11-04T10:35:40.072759Z",
          "start_time": "2019-11-04T10:35:40.067263Z"
        },
        "id": "2quIQlbpvip8"
      },
      "source": [
        "# Равномерное распределение вероятности"
      ],
      "execution_count": null,
      "outputs": []
    },
    {
      "cell_type": "code",
      "metadata": {
        "ExecuteTime": {
          "end_time": "2019-11-05T17:49:01.948916Z",
          "start_time": "2019-11-05T17:49:01.942635Z"
        },
        "id": "ngDCREhzvip9",
        "outputId": "da2a6a9d-a3ac-4ea4-8c16-09144a874c80"
      },
      "source": [
        "torch.rand(10)"
      ],
      "execution_count": null,
      "outputs": [
        {
          "output_type": "execute_result",
          "data": {
            "text/plain": [
              "tensor([0.6737, 0.2510, 0.0436, 0.8806, 0.8414, 0.2155, 0.7819, 0.9293, 0.9413,\n",
              "        0.4566])"
            ]
          },
          "metadata": {
            "tags": []
          },
          "execution_count": 145
        }
      ]
    },
    {
      "cell_type": "code",
      "metadata": {
        "ExecuteTime": {
          "end_time": "2019-11-04T10:36:02.270795Z",
          "start_time": "2019-11-04T10:36:02.268400Z"
        },
        "id": "tZsA2S-Qvip-"
      },
      "source": [
        "## Нормальное распределение"
      ],
      "execution_count": null,
      "outputs": []
    },
    {
      "cell_type": "code",
      "metadata": {
        "ExecuteTime": {
          "end_time": "2019-11-05T17:49:06.976771Z",
          "start_time": "2019-11-05T17:49:06.970939Z"
        },
        "id": "pTAu0Ig2vip_",
        "outputId": "a4f617ef-c7fa-4052-bbcc-d37ddca5de8c"
      },
      "source": [
        "torch.randn(10)"
      ],
      "execution_count": null,
      "outputs": [
        {
          "output_type": "execute_result",
          "data": {
            "text/plain": [
              "tensor([-0.9420, -0.1692, -0.6964,  0.2431, -0.1955, -1.5139, -0.6033, -0.9355,\n",
              "        -0.0650,  0.6315])"
            ]
          },
          "metadata": {
            "tags": []
          },
          "execution_count": 146
        }
      ]
    },
    {
      "cell_type": "code",
      "metadata": {
        "ExecuteTime": {
          "end_time": "2019-11-04T10:36:29.458108Z",
          "start_time": "2019-11-04T10:36:29.455040Z"
        },
        "id": "kwXVbj79viqA"
      },
      "source": [
        "## Равномерное на целых числах"
      ],
      "execution_count": null,
      "outputs": []
    },
    {
      "cell_type": "code",
      "metadata": {
        "ExecuteTime": {
          "end_time": "2019-11-05T17:49:13.391009Z",
          "start_time": "2019-11-05T17:49:13.384594Z"
        },
        "id": "se4Pcr6jviqB",
        "outputId": "74eefda2-b8a5-4628-c0f1-51edcbb38b0b"
      },
      "source": [
        "torch.randint(0, 10, (10,))"
      ],
      "execution_count": null,
      "outputs": [
        {
          "output_type": "execute_result",
          "data": {
            "text/plain": [
              "tensor([1, 6, 7, 8, 6, 2, 7, 6, 1, 6])"
            ]
          },
          "metadata": {
            "tags": []
          },
          "execution_count": 147
        }
      ]
    },
    {
      "cell_type": "markdown",
      "metadata": {
        "id": "2BNIv8LsviqD"
      },
      "source": [
        "## Постройте график плотности для нормального распределения"
      ]
    },
    {
      "cell_type": "code",
      "metadata": {
        "id": "m7tawue6viqD"
      },
      "source": [
        "%matplotlib inline\n",
        "import matplotlib.pyplot as plt"
      ],
      "execution_count": null,
      "outputs": []
    },
    {
      "cell_type": "code",
      "metadata": {
        "id": "Ya-USflhviqD"
      },
      "source": [
        "tensor = torch.randn(1000)"
      ],
      "execution_count": null,
      "outputs": []
    },
    {
      "cell_type": "code",
      "metadata": {
        "id": "0CF243FW6z_h",
        "colab": {
          "base_uri": "https://localhost:8080/",
          "height": 373
        },
        "outputId": "c2e801b9-a32c-450c-eaf4-213e7f64a89c"
      },
      "source": [
        "plt.hist(tensor)"
      ],
      "execution_count": null,
      "outputs": [
        {
          "output_type": "execute_result",
          "data": {
            "text/plain": [
              "(array([  6.,  51., 120., 214., 254., 188., 104.,  54.,   7.,   2.]),\n",
              " array([-2.9656153 , -2.3141658 , -1.6627164 , -1.011267  , -0.3598175 ,\n",
              "         0.29163194,  0.9430814 ,  1.5945308 ,  2.2459803 ,  2.8974297 ,\n",
              "         3.5488791 ], dtype=float32),\n",
              " <a list of 10 Patch objects>)"
            ]
          },
          "metadata": {
            "tags": []
          },
          "execution_count": 31
        },
        {
          "output_type": "display_data",
          "data": {
            "image/png": "[encoded data removed]",
            "text/plain": [
              "<Figure size 432x288 with 1 Axes>"
            ]
          },
          "metadata": {
            "tags": [],
            "needs_background": "light"
          }
        }
      ]
    },
    {
      "cell_type": "code",
      "metadata": {
        "id": "v-x64RRT64Ci"
      },
      "source": [],
      "execution_count": null,
      "outputs": []
    }
  ]
}