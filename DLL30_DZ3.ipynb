{
  "nbformat": 4,
  "nbformat_minor": 0,
  "metadata": {
    "colab": {
      "provenance": [],
      "gpuType": "T4",
      "authorship_tag": "ABX9TyOtxR7m71v9bYjNLriWwrgc",
      "include_colab_link": true
    },
    "kernelspec": {
      "name": "python3",
      "display_name": "Python 3"
    },
    "language_info": {
      "name": "python"
    },
    "accelerator": "GPU"
  },
  "cells": [
    {
      "cell_type": "markdown",
      "metadata": {
        "id": "view-in-github",
        "colab_type": "text"
      },
      "source": [
        "<a href=\"https://colab.research.google.com/github/solobala/DLL30/blob/main/DLL30_DZ3.ipynb\" target=\"_parent\"><img src=\"https://colab.research.google.com/assets/colab-badge.svg\" alt=\"Open In Colab\"/></a>"
      ]
    },
    {
      "cell_type": "markdown",
      "source": [
        "# Домашнее задание по теме «Свёрточные сети»\n",
        "Перед вами домашнее задание по теме «Свёрточные сети».\n",
        "\n",
        "Цель задания: научиться базово подбирать архитектуру, строить и обучать свёрточные нейронные сети для решения задачи классификации.\n",
        "\n",
        "Контекст\n",
        "Это домашнее задание по сути является продолжением предыдущего. В нём вы меняете архитектуру сети с полносвязной на свёрточную.\n",
        "\n",
        "Задание\n",
        "Постройте модель, используя архитектуру со свёрточными слоями, для классификации Fashion MNIST. Итоговое качество (accuracy) должно быть не ниже 89,5.\n",
        "\n",
        "Инструкция к выполнению задания\n",
        "\n",
        "1. Скачайте тренировочную и тестовою часть датасета Fashion MNIST\n",
        "2. Постройте архитектуру модели, используя свёрточные слои, слои регуляризации и один финальный полносвязный слой\n",
        "3. Обучите модель до необходимого качества. Если сеть не обучается до необходимого качества, попробуйте поменять архитектуру сети, варьируя параметры свёрток, количество каналов, количество свёрточных слоёв, слои регуляризации, тип оптимайзера и т. д.\n",
        "\n"
      ],
      "metadata": {
        "id": "OmGxYYN6E5_N"
      }
    },
    {
      "cell_type": "markdown",
      "source": [
        "# 0. Импорт библиотек и пользовательские функции"
      ],
      "metadata": {
        "id": "IIKuEr2vbcZS"
      }
    },
    {
      "cell_type": "code",
      "execution_count": null,
      "metadata": {
        "id": "u_eGDVSKE1X9"
      },
      "outputs": [],
      "source": [
        "import matplotlib.pyplot as plt\n",
        "%matplotlib inline\n",
        "import numpy as np\n",
        "import pandas as pd\n",
        "import time"
      ]
    },
    {
      "cell_type": "code",
      "source": [
        "import torch\n",
        "import torchvision as tv\n",
        "from torchsummary import summary\n",
        "import torch.nn as nn\n",
        "import torch.nn.functional as F\n",
        "from torch.autograd import Variable\n",
        "import torchvision.transforms as transforms\n",
        "from torch.utils.data import Dataset, DataLoader\n",
        "from sklearn.metrics import confusion_matrix"
      ],
      "metadata": {
        "id": "jS3gXTG1XR-Y"
      },
      "execution_count": null,
      "outputs": []
    },
    {
      "cell_type": "code",
      "source": [
        "device ='cuda' if torch.cuda.is_available else 'cpu'\n",
        "print(f'Using {device} device')"
      ],
      "metadata": {
        "colab": {
          "base_uri": "https://localhost:8080/"
        },
        "id": "ovONlkqCda5W",
        "outputId": "5a76eebf-8f6b-4160-b5e3-82b0f97cd138"
      },
      "execution_count": null,
      "outputs": [
        {
          "output_type": "stream",
          "name": "stdout",
          "text": [
            "Using cuda device\n"
          ]
        }
      ]
    },
    {
      "cell_type": "markdown",
      "source": [
        "# 1. Загрузка данных"
      ],
      "metadata": {
        "id": "OxhmO0C8bhng"
      }
    },
    {
      "cell_type": "code",
      "source": [
        "transform = transforms.Compose([transforms.Resize((64,64)),transforms.ToTensor(),transforms.Normalize(mean=[0.5,],std=[0.5,])])\n",
        "train_set = tv.datasets.FashionMNIST(\"./data\", download=True, transform=\n",
        "                                                transforms.Compose([transforms.ToTensor()]))\n",
        "test_set = tv.datasets.FashionMNIST(\"./data\", download=True, train=False, transform=\n",
        "                                               transforms.Compose([transforms.ToTensor()]))"
      ],
      "metadata": {
        "colab": {
          "base_uri": "https://localhost:8080/"
        },
        "id": "9uESWkH9a-iE",
        "outputId": "f119c371-aebb-4fff-ae62-9094b9fbd29c"
      },
      "execution_count": null,
      "outputs": [
        {
          "output_type": "stream",
          "name": "stdout",
          "text": [
            "Downloading http://fashion-mnist.s3-website.eu-central-1.amazonaws.com/train-images-idx3-ubyte.gz\n",
            "Downloading http://fashion-mnist.s3-website.eu-central-1.amazonaws.com/train-images-idx3-ubyte.gz to ./data/FashionMNIST/raw/train-images-idx3-ubyte.gz\n"
          ]
        },
        {
          "output_type": "stream",
          "name": "stderr",
          "text": [
            "100%|██████████| 26421880/26421880 [00:01<00:00, 17110419.33it/s]\n"
          ]
        },
        {
          "output_type": "stream",
          "name": "stdout",
          "text": [
            "Extracting ./data/FashionMNIST/raw/train-images-idx3-ubyte.gz to ./data/FashionMNIST/raw\n",
            "\n",
            "Downloading http://fashion-mnist.s3-website.eu-central-1.amazonaws.com/train-labels-idx1-ubyte.gz\n",
            "Downloading http://fashion-mnist.s3-website.eu-central-1.amazonaws.com/train-labels-idx1-ubyte.gz to ./data/FashionMNIST/raw/train-labels-idx1-ubyte.gz\n"
          ]
        },
        {
          "output_type": "stream",
          "name": "stderr",
          "text": [
            "100%|██████████| 29515/29515 [00:00<00:00, 272340.63it/s]\n"
          ]
        },
        {
          "output_type": "stream",
          "name": "stdout",
          "text": [
            "Extracting ./data/FashionMNIST/raw/train-labels-idx1-ubyte.gz to ./data/FashionMNIST/raw\n",
            "\n",
            "Downloading http://fashion-mnist.s3-website.eu-central-1.amazonaws.com/t10k-images-idx3-ubyte.gz\n",
            "Downloading http://fashion-mnist.s3-website.eu-central-1.amazonaws.com/t10k-images-idx3-ubyte.gz to ./data/FashionMNIST/raw/t10k-images-idx3-ubyte.gz\n"
          ]
        },
        {
          "output_type": "stream",
          "name": "stderr",
          "text": [
            "100%|██████████| 4422102/4422102 [00:00<00:00, 4991259.50it/s]\n"
          ]
        },
        {
          "output_type": "stream",
          "name": "stdout",
          "text": [
            "Extracting ./data/FashionMNIST/raw/t10k-images-idx3-ubyte.gz to ./data/FashionMNIST/raw\n",
            "\n",
            "Downloading http://fashion-mnist.s3-website.eu-central-1.amazonaws.com/t10k-labels-idx1-ubyte.gz\n",
            "Downloading http://fashion-mnist.s3-website.eu-central-1.amazonaws.com/t10k-labels-idx1-ubyte.gz to ./data/FashionMNIST/raw/t10k-labels-idx1-ubyte.gz\n"
          ]
        },
        {
          "output_type": "stream",
          "name": "stderr",
          "text": [
            "100%|██████████| 5148/5148 [00:00<00:00, 6898491.05it/s]"
          ]
        },
        {
          "output_type": "stream",
          "name": "stdout",
          "text": [
            "Extracting ./data/FashionMNIST/raw/t10k-labels-idx1-ubyte.gz to ./data/FashionMNIST/raw\n",
            "\n"
          ]
        },
        {
          "output_type": "stream",
          "name": "stderr",
          "text": [
            "\n"
          ]
        }
      ]
    },
    {
      "cell_type": "code",
      "source": [
        "train_set[0][0].shape"
      ],
      "metadata": {
        "colab": {
          "base_uri": "https://localhost:8080/"
        },
        "id": "NkCNyTGCh-gK",
        "outputId": "d3974757-ddba-49f3-8a26-d9d4b9e335ee"
      },
      "execution_count": null,
      "outputs": [
        {
          "output_type": "execute_result",
          "data": {
            "text/plain": [
              "torch.Size([1, 28, 28])"
            ]
          },
          "metadata": {},
          "execution_count": 5
        }
      ]
    },
    {
      "cell_type": "code",
      "source": [
        "BATCH_SIZE=32\n"
      ],
      "metadata": {
        "id": "5YNozh_SbauI"
      },
      "execution_count": null,
      "outputs": []
    },
    {
      "cell_type": "markdown",
      "source": [
        "## 1.1. Визуализация"
      ],
      "metadata": {
        "id": "jg3MlA0Ocvb_"
      }
    },
    {
      "cell_type": "code",
      "source": [
        "labels_map={\n",
        "    0: 'T-shirt',\n",
        "    1: 'Trouser',\n",
        "    2: 'Pullover',\n",
        "    3: 'Dress',\n",
        "    4: 'Coat',\n",
        "    5: 'Sandal',\n",
        "    6: 'Shirt',\n",
        "    7: 'Sneaker',\n",
        "    8: 'Bag',\n",
        "    9: 'Ankle Boot',\n",
        "}\n",
        "\n",
        "figure = plt.figure(figsize = (10,10))\n",
        "cols, rows = 3, 3\n",
        "\n",
        "for i in range (1, cols*rows + 1):\n",
        "    sample_idx = torch.randint(len(train_set), size = (1,)).item()\n",
        "    image, label = train_set[sample_idx]\n",
        "    figure.add_subplot(rows, cols, i)\n",
        "    plt.title(labels_map[label])\n",
        "    plt.axis('off')\n",
        "    plt.imshow(image.squeeze(), cmap='gray')\n",
        "plt.show()"
      ],
      "metadata": {
        "colab": {
          "base_uri": "https://localhost:8080/",
          "height": 829
        },
        "id": "kRW7ZUwmcKbT",
        "outputId": "934868e8-9a4d-4f70-d114-7c68e7940c6a"
      },
      "execution_count": null,
      "outputs": [
        {
          "output_type": "display_data",
          "data": {
            "text/plain": [
              "<Figure size 1000x1000 with 9 Axes>"
            ],
            "image/png": "[encoded data removed]"
          },
          "metadata": {}
        }
      ]
    },
    {
      "cell_type": "markdown",
      "source": [
        "## 1.2. Загрузчики данных pytorch для train и test при использовании gPU"
      ],
      "metadata": {
        "id": "SjNa_hNXc2TZ"
      }
    },
    {
      "cell_type": "code",
      "source": [
        "def get_data(train_ds, valid_ds, bs):\n",
        "    return (\n",
        "        torch.utils.data.DataLoader(train_ds, batch_size=bs, shuffle=True),\n",
        "        torch.utils.data.DataLoader(valid_ds, batch_size=bs * 2),\n",
        "    )"
      ],
      "metadata": {
        "id": "x-qomsuHbE3n"
      },
      "execution_count": null,
      "outputs": []
    },
    {
      "cell_type": "code",
      "source": [
        "# def preprocess(x, y):\n",
        "#     return x.view(-1, 1, 28, 28).to(device), y.to(device)"
      ],
      "metadata": {
        "id": "fdJHVdcCbVPg"
      },
      "execution_count": null,
      "outputs": []
    },
    {
      "cell_type": "code",
      "source": [
        "# class WrappedDataLoader:\n",
        "#     def __init__(self, dl, func):\n",
        "#         self.dl = dl\n",
        "#         self.func = func\n",
        "\n",
        "#     def __len__(self):\n",
        "#         return len(self.dl)\n",
        "\n",
        "#     def __iter__(self):\n",
        "#         for b in self.dl:\n",
        "#             yield (self.func(*b))"
      ],
      "metadata": {
        "id": "Sfky5Bpubtav"
      },
      "execution_count": null,
      "outputs": []
    },
    {
      "cell_type": "code",
      "source": [
        "train_loader, test_loader = get_data(train_set, test_set, BATCH_SIZE)\n",
        "# train_loader = WrappedDataLoader(train_loader, preprocess)\n",
        "# test_loader = WrappedDataLoader(test_loader, preprocess)"
      ],
      "metadata": {
        "id": "jRWXkXFUbcUg"
      },
      "execution_count": null,
      "outputs": []
    },
    {
      "cell_type": "code",
      "source": [
        "for X,y in train_loader:\n",
        "    train_features, train_labels = next(iter(train_loader))\n",
        "    print(f'Shape of X [N, C, H, W]: {X.shape}')\n",
        "    print(f'Shape of y: {y.shape} {y.type}')\n",
        "    image = train_features[0].squeeze()\n",
        "    label = train_labels[0]\n",
        "    sample_idx= torch.randint((label), size = (1,)).item()\n",
        "    plt.title(f\"Label: {label} - {labels_map[sample_idx]}\")\n",
        "    plt.imshow(image, cmap=\"gray\")\n",
        "    plt.show()\n",
        "    print(f\"Labels batch shape: {train_labels.size()}\")\n",
        "    break"
      ],
      "metadata": {
        "colab": {
          "base_uri": "https://localhost:8080/",
          "height": 504
        },
        "id": "WEGB5lpBcodM",
        "outputId": "7d319d1e-682b-4d2c-f031-b6e79406824a"
      },
      "execution_count": null,
      "outputs": [
        {
          "output_type": "stream",
          "name": "stdout",
          "text": [
            "Shape of X [N, C, H, W]: torch.Size([32, 1, 28, 28])\n",
            "Shape of y: torch.Size([32]) <built-in method type of Tensor object at 0x7aefb663d8a0>\n"
          ]
        },
        {
          "output_type": "display_data",
          "data": {
            "text/plain": [
              "<Figure size 640x480 with 1 Axes>"
            ],
            "image/png": "[encoded data removed]"
          },
          "metadata": {}
        },
        {
          "output_type": "stream",
          "name": "stdout",
          "text": [
            "Labels batch shape: torch.Size([32])\n"
          ]
        }
      ]
    },
    {
      "cell_type": "markdown",
      "source": [
        "# 2. Выбор базовой архитектуры"
      ],
      "metadata": {
        "id": "lE5QV2yUboDQ"
      }
    },
    {
      "cell_type": "markdown",
      "source": [
        "Подсчет размерности. (-1) - означает, что размер батча определяется тем, что ввели ( м.б. и batch_size, и 1)\n",
        "На вход: к-во каналов, ширина изображения, высота изображения или размер батча, к-во каналов, ширина изображения, высота изображения\n",
        "Для conv2d: к-во каналов, к-во фильтров, (ширина - ширина ядра + ширина паддинга + 1) * (высота - высота ядра + высота паддинга + 1)\n",
        "для пулинга: к-во каналов, к-во фильтров, (ширина/ширина ядра) * (высота/ высота ядра)\n"
      ],
      "metadata": {
        "id": "1NPeaHXeRVUq"
      }
    },
    {
      "cell_type": "code",
      "source": [
        "class cnn_base(nn.Module):\n",
        "    def __init__(self, num_classes):\n",
        "        super(cnn_base, self).__init__()\n",
        "        self.feature = nn.Sequential(\n",
        "            nn.Conv2d(1,24,kernel_size=3,padding=1), # (на входе -1, 1, 28, 28), на выходе -1, 24, (28-3+1+1), (28-3+1+1)\n",
        "            nn.ReLU(inplace=True),nn.MaxPool2d(kernel_size=3), # на входе (-1,24, 27,27), на выходе (-1,24,27/3, 27/3)\n",
        "            nn.Conv2d(24,128,kernel_size=2,padding=1), # на входе -1,24,9,9, на выходе -1, 128, (9+1+1-2), (9+1+1-2)\n",
        "            nn.ReLU(inplace=True),nn.MaxPool2d(kernel_size=3) # на входе -1,128, 9,9 , на выходе -1, 128, (9/3), (9/3)\n",
        "        )\n",
        "        self.classifier = nn.Sequential(\n",
        "            nn.Linear(128*3*3,48),\n",
        "            nn.ReLU(inplace=True),\n",
        "            nn.Linear(48, num_classes)\n",
        "        )\n",
        "    def forward(self,x):\n",
        "        x = self.feature(x) # на выходе -1,128,3,3\n",
        "        x = x.view(x.size(0),-1) # на выходe -1,128,9\n",
        "        x = self.classifier(x) # на входе -1, 128,9, на выходе сначала -1, 48, затем -1, 10\n",
        "        return x"
      ],
      "metadata": {
        "id": "59Iiu3fXb-ez"
      },
      "execution_count": null,
      "outputs": []
    },
    {
      "cell_type": "code",
      "source": [
        "device = torch.device(\"cuda\" if torch.cuda.is_available() else \"cpu\") #training using GPU\n",
        "model= cnn_base(10).to(device)"
      ],
      "metadata": {
        "id": "RuvULYb3RKfC"
      },
      "execution_count": null,
      "outputs": []
    },
    {
      "cell_type": "code",
      "source": [
        "device"
      ],
      "metadata": {
        "colab": {
          "base_uri": "https://localhost:8080/"
        },
        "id": "MoWPS71dBSf7",
        "outputId": "010bfcd9-2945-496b-9713-470883493384"
      },
      "execution_count": null,
      "outputs": [
        {
          "output_type": "execute_result",
          "data": {
            "text/plain": [
              "device(type='cuda')"
            ]
          },
          "metadata": {},
          "execution_count": 14
        }
      ]
    },
    {
      "cell_type": "code",
      "source": [
        "from torchsummary import summary\n",
        "summary(model, input_size=(1, 28, 28), device='cuda')"
      ],
      "metadata": {
        "colab": {
          "base_uri": "https://localhost:8080/"
        },
        "id": "BBXsphJVFxJI",
        "outputId": "b70c2abb-ec34-4b32-eb32-0dfcc4c64f5a"
      },
      "execution_count": null,
      "outputs": [
        {
          "output_type": "stream",
          "name": "stdout",
          "text": [
            "----------------------------------------------------------------\n",
            "        Layer (type)               Output Shape         Param #\n",
            "================================================================\n",
            "            Conv2d-1           [-1, 24, 28, 28]             240\n",
            "              ReLU-2           [-1, 24, 28, 28]               0\n",
            "         MaxPool2d-3             [-1, 24, 9, 9]               0\n",
            "            Conv2d-4          [-1, 128, 10, 10]          12,416\n",
            "              ReLU-5          [-1, 128, 10, 10]               0\n",
            "         MaxPool2d-6            [-1, 128, 3, 3]               0\n",
            "            Linear-7                   [-1, 48]          55,344\n",
            "              ReLU-8                   [-1, 48]               0\n",
            "            Linear-9                   [-1, 10]             490\n",
            "================================================================\n",
            "Total params: 68,490\n",
            "Trainable params: 68,490\n",
            "Non-trainable params: 0\n",
            "----------------------------------------------------------------\n",
            "Input size (MB): 0.00\n",
            "Forward/backward pass size (MB): 0.51\n",
            "Params size (MB): 0.26\n",
            "Estimated Total Size (MB): 0.77\n",
            "----------------------------------------------------------------\n"
          ]
        }
      ]
    },
    {
      "cell_type": "code",
      "source": [
        "optimizer = torch.optim.Adam(model.parameters(),lr=learning_rate, weight_decay=0.001)"
      ],
      "metadata": {
        "id": "oxdtPoYcO5yU"
      },
      "execution_count": null,
      "outputs": []
    },
    {
      "cell_type": "code",
      "source": [
        "# Гиперпараметры  базовой модели\n",
        "\n",
        "learning_rate = 0.001\n",
        "\n",
        "epochs = 10\n",
        "loss_fn = nn.CrossEntropyLoss()"
      ],
      "metadata": {
        "id": "CY26T_91eRhK"
      },
      "execution_count": null,
      "outputs": []
    },
    {
      "cell_type": "code",
      "source": [
        "def evaluate_accuracy(data_iter, net, device):\n",
        "    acc_sum, n = torch.Tensor([0]).to(device), 0\n",
        "    for X, y in data_iter:\n",
        "        # Если использовать WrappedDataLoader и preprocess, то следующую строку не надо\n",
        "        X, y = X.to(device), y.to(device)\n",
        "        acc_sum += (net(X).argmax(axis=1) == y).sum()\n",
        "        n += y.shape[0]\n",
        "    return acc_sum.item() / n"
      ],
      "metadata": {
        "id": "d2bg19Suv3kx"
      },
      "execution_count": null,
      "outputs": []
    },
    {
      "cell_type": "code",
      "source": [
        "def train(net, train_iter, test_iter, loss_fn, optimizer, num_epochs):\n",
        "\n",
        "    accuracy_max = 0.8\n",
        "    epoch_opt = 1\n",
        "    test_loss_opt = 0.\n",
        "    for epoch in range(num_epochs):\n",
        "        train_l_sum, train_acc_sum, n, start = 0.0, 0.0, 0, time.time()\n",
        "\n",
        "        for X, y in train_iter:\n",
        "            # Если использовать WrappedDataLoader и preprocess, то следующую строку не надо\n",
        "            X, y = X.to(device),y.to(device)\n",
        "            optimizer.zero_grad()\n",
        "            y_hat = net(X)\n",
        "            l = loss_fn(y_hat, y)\n",
        "            l.backward()\n",
        "            optimizer.step()\n",
        "            train_l_sum += l.item()\n",
        "            train_acc_sum += (y_hat.argmax(axis=1) == y).sum().item()\n",
        "            n += y.shape[0]\n",
        "        # test_acc, test_loss = evaluate(test_iter, net, loss_fn)\n",
        "        test_acc= evaluate_accuracy(test_iter, net, device)\n",
        "        if test_acc > accuracy_max:\n",
        "          accuracy_max = test_acc\n",
        "          epoch_opt = epoch\n",
        "        print(f'epoch {epoch + 1}, loss {train_l_sum / n:.4f}, train acc {train_acc_sum / n:.3f}' \\\n",
        "              f', test acc {test_acc:.3f}, time {time.time() - start:.1f} sec')\n",
        "    return accuracy_max, epoch_opt"
      ],
      "metadata": {
        "id": "k0GBn5d8rm6X"
      },
      "execution_count": null,
      "outputs": []
    },
    {
      "cell_type": "markdown",
      "source": [
        "# 3. Обучение и оценка базовой модели"
      ],
      "metadata": {
        "id": "rtj-GQMP0Fhi"
      }
    },
    {
      "cell_type": "code",
      "source": [
        "accuracy_max, epoch_opt = train(model, train_loader, test_loader, loss_fn, optimizer, epochs)"
      ],
      "metadata": {
        "colab": {
          "base_uri": "https://localhost:8080/"
        },
        "id": "qwNhauGNdpxF",
        "outputId": "1dddceb0-d0d8-40a0-b5b7-577089c37a39"
      },
      "execution_count": null,
      "outputs": [
        {
          "output_type": "stream",
          "name": "stdout",
          "text": [
            "epoch 1, loss 0.0179, train acc 0.790, test acc 0.843, time 12.7 sec\n",
            "epoch 2, loss 0.0120, train acc 0.862, test acc 0.864, time 11.9 sec\n",
            "epoch 3, loss 0.0108, train acc 0.874, test acc 0.875, time 12.0 sec\n",
            "epoch 4, loss 0.0100, train acc 0.883, test acc 0.884, time 12.0 sec\n",
            "epoch 5, loss 0.0095, train acc 0.890, test acc 0.871, time 11.7 sec\n",
            "epoch 6, loss 0.0091, train acc 0.894, test acc 0.889, time 11.5 sec\n",
            "epoch 7, loss 0.0087, train acc 0.899, test acc 0.890, time 11.7 sec\n",
            "epoch 8, loss 0.0085, train acc 0.902, test acc 0.881, time 11.9 sec\n",
            "epoch 9, loss 0.0082, train acc 0.904, test acc 0.883, time 12.0 sec\n",
            "epoch 10, loss 0.0081, train acc 0.906, test acc 0.898, time 12.0 sec\n"
          ]
        }
      ]
    },
    {
      "cell_type": "markdown",
      "source": [
        "Очевидно, после 7 эпохи началось переобучение модели, и accuracy 90% на тесте не достигнута, хотя получен близкий к желаемому результат ( 0.89). По-видимому, кардинальные изменения в архитектуре модели не требуются.  На первом этапе попробую уменьшить шаг обучения после 7 эпохи и увеличу к-во эпох до 15. Далее планирую поэкспериментировать с kernel_size фильтров в сверточных слоях и слоях пулинга, а также с используемыми оптимизаторами"
      ],
      "metadata": {
        "id": "kaya9-9yWTdj"
      }
    },
    {
      "cell_type": "code",
      "source": [
        "df_results= pd.DataFrame(columns = ['architecture','optimizer', 'lr', 'accuracy',  'epoch'])\n",
        "df_results.loc[len(df_results.index)] = ['cnn_base', 'Adam', learning_rate, accuracy_max, epoch_opt]\n",
        "df_results"
      ],
      "metadata": {
        "id": "if6Sge6WlmIJ",
        "colab": {
          "base_uri": "https://localhost:8080/",
          "height": 81
        },
        "outputId": "dc41e035-bdab-476d-ef8d-ab392e7ff22c"
      },
      "execution_count": null,
      "outputs": [
        {
          "output_type": "execute_result",
          "data": {
            "text/plain": [
              "  architecture optimizer     lr  accuracy  epoch\n",
              "0     cnn_base      Adam  0.001    0.8984      9"
            ],
            "text/html": [
              "\n",
              "  <div id=\"df-b7af22ae-60e3-4182-9e86-b1033f511d3d\" class=\"colab-df-container\">\n",
              "    <div>\n",
              "<style scoped>\n",
              "    .dataframe tbody tr th:only-of-type {\n",
              "        vertical-align: middle;\n",
              "    }\n",
              "\n",
              "    .dataframe tbody tr th {\n",
              "        vertical-align: top;\n",
              "    }\n",
              "\n",
              "    .dataframe thead th {\n",
              "        text-align: right;\n",
              "    }\n",
              "</style>\n",
              "<table border=\"1\" class=\"dataframe\">\n",
              "  <thead>\n",
              "    <tr style=\"text-align: right;\">\n",
              "      <th></th>\n",
              "      <th>architecture</th>\n",
              "      <th>optimizer</th>\n",
              "      <th>lr</th>\n",
              "      <th>accuracy</th>\n",
              "      <th>epoch</th>\n",
              "    </tr>\n",
              "  </thead>\n",
              "  <tbody>\n",
              "    <tr>\n",
              "      <th>0</th>\n",
              "      <td>cnn_base</td>\n",
              "      <td>Adam</td>\n",
              "      <td>0.001</td>\n",
              "      <td>0.8984</td>\n",
              "      <td>9</td>\n",
              "    </tr>\n",
              "  </tbody>\n",
              "</table>\n",
              "</div>\n",
              "    <div class=\"colab-df-buttons\">\n",
              "\n",
              "  <div class=\"colab-df-container\">\n",
              "    <button class=\"colab-df-convert\" onclick=\"convertToInteractive('df-b7af22ae-60e3-4182-9e86-b1033f511d3d')\"\n",
              "            title=\"Convert this dataframe to an interactive table.\"\n",
              "            style=\"display:none;\">\n",
              "\n",
              "  <svg xmlns=\"http://www.w3.org/2000/svg\" height=\"24px\" viewBox=\"0 -960 960 960\">\n",
              "    <path d=\"M120-120v-720h720v720H120Zm60-500h600v-160H180v160Zm220 220h160v-160H400v160Zm0 220h160v-160H400v160ZM180-400h160v-160H180v160Zm440 0h160v-160H620v160ZM180-180h160v-160H180v160Zm440 0h160v-160H620v160Z\"/>\n",
              "  </svg>\n",
              "    </button>\n",
              "\n",
              "  <style>\n",
              "    .colab-df-container {\n",
              "      display:flex;\n",
              "      gap: 12px;\n",
              "    }\n",
              "\n",
              "    .colab-df-convert {\n",
              "      background-color: #E8F0FE;\n",
              "      border: none;\n",
              "      border-radius: 50%;\n",
              "      cursor: pointer;\n",
              "      display: none;\n",
              "      fill: #1967D2;\n",
              "      height: 32px;\n",
              "      padding: 0 0 0 0;\n",
              "      width: 32px;\n",
              "    }\n",
              "\n",
              "    .colab-df-convert:hover {\n",
              "      background-color: #E2EBFA;\n",
              "      box-shadow: 0px 1px 2px rgba(60, 64, 67, 0.3), 0px 1px 3px 1px rgba(60, 64, 67, 0.15);\n",
              "      fill: #174EA6;\n",
              "    }\n",
              "\n",
              "    .colab-df-buttons div {\n",
              "      margin-bottom: 4px;\n",
              "    }\n",
              "\n",
              "    [theme=dark] .colab-df-convert {\n",
              "      background-color: #3B4455;\n",
              "      fill: #D2E3FC;\n",
              "    }\n",
              "\n",
              "    [theme=dark] .colab-df-convert:hover {\n",
              "      background-color: #434B5C;\n",
              "      box-shadow: 0px 1px 3px 1px rgba(0, 0, 0, 0.15);\n",
              "      filter: drop-shadow(0px 1px 2px rgba(0, 0, 0, 0.3));\n",
              "      fill: #FFFFFF;\n",
              "    }\n",
              "  </style>\n",
              "\n",
              "    <script>\n",
              "      const buttonEl =\n",
              "        document.querySelector('#df-b7af22ae-60e3-4182-9e86-b1033f511d3d button.colab-df-convert');\n",
              "      buttonEl.style.display =\n",
              "        google.colab.kernel.accessAllowed ? 'block' : 'none';\n",
              "\n",
              "      async function convertToInteractive(key) {\n",
              "        const element = document.querySelector('#df-b7af22ae-60e3-4182-9e86-b1033f511d3d');\n",
              "        const dataTable =\n",
              "          await google.colab.kernel.invokeFunction('convertToInteractive',\n",
              "                                                    [key], {});\n",
              "        if (!dataTable) return;\n",
              "\n",
              "        const docLinkHtml = 'Like what you see? Visit the ' +\n",
              "          '<a target=\"_blank\" href=https://colab.research.google.com/notebooks/data_table.ipynb>data table notebook</a>'\n",
              "          + ' to learn more about interactive tables.';\n",
              "        element.innerHTML = '';\n",
              "        dataTable['output_type'] = 'display_data';\n",
              "        await google.colab.output.renderOutput(dataTable, element);\n",
              "        const docLink = document.createElement('div');\n",
              "        docLink.innerHTML = docLinkHtml;\n",
              "        element.appendChild(docLink);\n",
              "      }\n",
              "    </script>\n",
              "  </div>\n",
              "\n",
              "    </div>\n",
              "  </div>\n"
            ]
          },
          "metadata": {},
          "execution_count": 18
        }
      ]
    },
    {
      "cell_type": "markdown",
      "source": [
        "# 4.  Оптимизация базовой модели"
      ],
      "metadata": {
        "id": "CPgQjjinzxbZ"
      }
    },
    {
      "cell_type": "markdown",
      "source": [
        "## 4.1. Изменение скорости обучения после начала переобучения модели и увеличение кол-ва эпох"
      ],
      "metadata": {
        "id": "rBP5nSzwEt9a"
      }
    },
    {
      "cell_type": "code",
      "source": [
        "def train_(net, train_iter, test_iter, loss_fn, optimizer, num_epochs):\n",
        "\n",
        "    accuracy_max = 0.8\n",
        "    epoch_opt = 1\n",
        "    for epoch in range(num_epochs):\n",
        "        train_l_sum, train_acc_sum, n, start = 0.0, 0.0, 0, time.time()\n",
        "\n",
        "        for X, y in train_iter:\n",
        "            X, y = X.to(device),y.to(device)\n",
        "            if epoch > 6:\n",
        "              optimizer = torch.optim.Adam(model.parameters(),lr=0.0005, weight_decay=0.001)\n",
        "            optimizer.zero_grad()\n",
        "            y_hat = net(X)\n",
        "            l = loss_fn(y_hat, y)\n",
        "            l.backward()\n",
        "            optimizer.step()\n",
        "            train_l_sum += l.item()\n",
        "            train_acc_sum += (y_hat.argmax(axis=1) == y).sum().item()\n",
        "            n += y.shape[0]\n",
        "        test_acc= evaluate_accuracy(test_iter, net, device)\n",
        "\n",
        "        if test_acc > accuracy_max:\n",
        "          accuracy_max = test_acc\n",
        "          epoch_opt = epoch\n",
        "\n",
        "        print(f'epoch {epoch + 1}, loss {train_l_sum / n:.4f}, train acc {train_acc_sum / n:.3f}' \\\n",
        "              f' test acc {test_acc:.3f}, time {time.time() - start:.1f} sec')\n",
        "    return accuracy_max, epoch_opt"
      ],
      "metadata": {
        "id": "SnDMA79-E1k0"
      },
      "execution_count": null,
      "outputs": []
    },
    {
      "cell_type": "code",
      "source": [
        "accuracy_max, epoch_opt = train_(model, train_loader, test_loader, loss_fn, optimizer, num_epochs=15)"
      ],
      "metadata": {
        "colab": {
          "base_uri": "https://localhost:8080/"
        },
        "id": "7qLS-YBAFo77",
        "outputId": "c70ff403-fa54-4dc1-e74e-afa0bf0bbf5a"
      },
      "execution_count": null,
      "outputs": [
        {
          "output_type": "stream",
          "name": "stdout",
          "text": [
            "epoch 1, loss 0.0080, train acc 0.908 test acc 0.897, time 11.9 sec\n",
            "epoch 2, loss 0.0078, train acc 0.909 test acc 0.898, time 12.1 sec\n",
            "epoch 3, loss 0.0077, train acc 0.911 test acc 0.902, time 12.0 sec\n",
            "epoch 4, loss 0.0076, train acc 0.911 test acc 0.901, time 12.0 sec\n",
            "epoch 5, loss 0.0075, train acc 0.913 test acc 0.896, time 12.1 sec\n",
            "epoch 6, loss 0.0075, train acc 0.913 test acc 0.905, time 13.0 sec\n",
            "epoch 7, loss 0.0074, train acc 0.915 test acc 0.904, time 18.4 sec\n",
            "epoch 8, loss 0.0072, train acc 0.917 test acc 0.895, time 18.3 sec\n",
            "epoch 9, loss 0.0076, train acc 0.914 test acc 0.896, time 18.9 sec\n",
            "epoch 10, loss 0.0078, train acc 0.913 test acc 0.898, time 14.5 sec\n",
            "epoch 11, loss 0.0081, train acc 0.910 test acc 0.897, time 14.6 sec\n",
            "epoch 12, loss 0.0082, train acc 0.909 test acc 0.901, time 12.5 sec\n",
            "epoch 13, loss 0.0083, train acc 0.908 test acc 0.891, time 13.1 sec\n",
            "epoch 14, loss 0.0084, train acc 0.907 test acc 0.897, time 12.4 sec\n",
            "epoch 15, loss 0.0085, train acc 0.906 test acc 0.893, time 12.4 sec\n"
          ]
        }
      ]
    },
    {
      "cell_type": "code",
      "source": [
        "df_results.loc[len(df_results.index)] = ['cnn_base_15', 'Adam', 0.0005, accuracy_max, epoch_opt]"
      ],
      "metadata": {
        "id": "XRQH_gO0FwWv"
      },
      "execution_count": null,
      "outputs": []
    },
    {
      "cell_type": "code",
      "source": [
        "df_results"
      ],
      "metadata": {
        "colab": {
          "base_uri": "https://localhost:8080/",
          "height": 112
        },
        "id": "tL_62JxTS4VQ",
        "outputId": "517760fa-3022-4353-c1aa-d4f8d9464366"
      },
      "execution_count": null,
      "outputs": [
        {
          "output_type": "execute_result",
          "data": {
            "text/plain": [
              "  architecture optimizer      lr  accuracy  epoch\n",
              "0     cnn_base      Adam  0.0010    0.8984      9\n",
              "1  cnn_base_15      Adam  0.0005    0.9049      5"
            ],
            "text/html": [
              "\n",
              "  <div id=\"df-0fbb3a83-7334-44a7-975f-c1234b553a52\" class=\"colab-df-container\">\n",
              "    <div>\n",
              "<style scoped>\n",
              "    .dataframe tbody tr th:only-of-type {\n",
              "        vertical-align: middle;\n",
              "    }\n",
              "\n",
              "    .dataframe tbody tr th {\n",
              "        vertical-align: top;\n",
              "    }\n",
              "\n",
              "    .dataframe thead th {\n",
              "        text-align: right;\n",
              "    }\n",
              "</style>\n",
              "<table border=\"1\" class=\"dataframe\">\n",
              "  <thead>\n",
              "    <tr style=\"text-align: right;\">\n",
              "      <th></th>\n",
              "      <th>architecture</th>\n",
              "      <th>optimizer</th>\n",
              "      <th>lr</th>\n",
              "      <th>accuracy</th>\n",
              "      <th>epoch</th>\n",
              "    </tr>\n",
              "  </thead>\n",
              "  <tbody>\n",
              "    <tr>\n",
              "      <th>0</th>\n",
              "      <td>cnn_base</td>\n",
              "      <td>Adam</td>\n",
              "      <td>0.0010</td>\n",
              "      <td>0.8984</td>\n",
              "      <td>9</td>\n",
              "    </tr>\n",
              "    <tr>\n",
              "      <th>1</th>\n",
              "      <td>cnn_base_15</td>\n",
              "      <td>Adam</td>\n",
              "      <td>0.0005</td>\n",
              "      <td>0.9049</td>\n",
              "      <td>5</td>\n",
              "    </tr>\n",
              "  </tbody>\n",
              "</table>\n",
              "</div>\n",
              "    <div class=\"colab-df-buttons\">\n",
              "\n",
              "  <div class=\"colab-df-container\">\n",
              "    <button class=\"colab-df-convert\" onclick=\"convertToInteractive('df-0fbb3a83-7334-44a7-975f-c1234b553a52')\"\n",
              "            title=\"Convert this dataframe to an interactive table.\"\n",
              "            style=\"display:none;\">\n",
              "\n",
              "  <svg xmlns=\"http://www.w3.org/2000/svg\" height=\"24px\" viewBox=\"0 -960 960 960\">\n",
              "    <path d=\"M120-120v-720h720v720H120Zm60-500h600v-160H180v160Zm220 220h160v-160H400v160Zm0 220h160v-160H400v160ZM180-400h160v-160H180v160Zm440 0h160v-160H620v160ZM180-180h160v-160H180v160Zm440 0h160v-160H620v160Z\"/>\n",
              "  </svg>\n",
              "    </button>\n",
              "\n",
              "  <style>\n",
              "    .colab-df-container {\n",
              "      display:flex;\n",
              "      gap: 12px;\n",
              "    }\n",
              "\n",
              "    .colab-df-convert {\n",
              "      background-color: #E8F0FE;\n",
              "      border: none;\n",
              "      border-radius: 50%;\n",
              "      cursor: pointer;\n",
              "      display: none;\n",
              "      fill: #1967D2;\n",
              "      height: 32px;\n",
              "      padding: 0 0 0 0;\n",
              "      width: 32px;\n",
              "    }\n",
              "\n",
              "    .colab-df-convert:hover {\n",
              "      background-color: #E2EBFA;\n",
              "      box-shadow: 0px 1px 2px rgba(60, 64, 67, 0.3), 0px 1px 3px 1px rgba(60, 64, 67, 0.15);\n",
              "      fill: #174EA6;\n",
              "    }\n",
              "\n",
              "    .colab-df-buttons div {\n",
              "      margin-bottom: 4px;\n",
              "    }\n",
              "\n",
              "    [theme=dark] .colab-df-convert {\n",
              "      background-color: #3B4455;\n",
              "      fill: #D2E3FC;\n",
              "    }\n",
              "\n",
              "    [theme=dark] .colab-df-convert:hover {\n",
              "      background-color: #434B5C;\n",
              "      box-shadow: 0px 1px 3px 1px rgba(0, 0, 0, 0.15);\n",
              "      filter: drop-shadow(0px 1px 2px rgba(0, 0, 0, 0.3));\n",
              "      fill: #FFFFFF;\n",
              "    }\n",
              "  </style>\n",
              "\n",
              "    <script>\n",
              "      const buttonEl =\n",
              "        document.querySelector('#df-0fbb3a83-7334-44a7-975f-c1234b553a52 button.colab-df-convert');\n",
              "      buttonEl.style.display =\n",
              "        google.colab.kernel.accessAllowed ? 'block' : 'none';\n",
              "\n",
              "      async function convertToInteractive(key) {\n",
              "        const element = document.querySelector('#df-0fbb3a83-7334-44a7-975f-c1234b553a52');\n",
              "        const dataTable =\n",
              "          await google.colab.kernel.invokeFunction('convertToInteractive',\n",
              "                                                    [key], {});\n",
              "        if (!dataTable) return;\n",
              "\n",
              "        const docLinkHtml = 'Like what you see? Visit the ' +\n",
              "          '<a target=\"_blank\" href=https://colab.research.google.com/notebooks/data_table.ipynb>data table notebook</a>'\n",
              "          + ' to learn more about interactive tables.';\n",
              "        element.innerHTML = '';\n",
              "        dataTable['output_type'] = 'display_data';\n",
              "        await google.colab.output.renderOutput(dataTable, element);\n",
              "        const docLink = document.createElement('div');\n",
              "        docLink.innerHTML = docLinkHtml;\n",
              "        element.appendChild(docLink);\n",
              "      }\n",
              "    </script>\n",
              "  </div>\n",
              "\n",
              "\n",
              "<div id=\"df-1b1e0328-ceeb-4971-9b31-5ada5471efd1\">\n",
              "  <button class=\"colab-df-quickchart\" onclick=\"quickchart('df-1b1e0328-ceeb-4971-9b31-5ada5471efd1')\"\n",
              "            title=\"Suggest charts\"\n",
              "            style=\"display:none;\">\n",
              "\n",
              "<svg xmlns=\"http://www.w3.org/2000/svg\" height=\"24px\"viewBox=\"0 0 24 24\"\n",
              "     width=\"24px\">\n",
              "    <g>\n",
              "        <path d=\"M19 3H5c-1.1 0-2 .9-2 2v14c0 1.1.9 2 2 2h14c1.1 0 2-.9 2-2V5c0-1.1-.9-2-2-2zM9 17H7v-7h2v7zm4 0h-2V7h2v10zm4 0h-2v-4h2v4z\"/>\n",
              "    </g>\n",
              "</svg>\n",
              "  </button>\n",
              "\n",
              "<style>\n",
              "  .colab-df-quickchart {\n",
              "      --bg-color: #E8F0FE;\n",
              "      --fill-color: #1967D2;\n",
              "      --hover-bg-color: #E2EBFA;\n",
              "      --hover-fill-color: #174EA6;\n",
              "      --disabled-fill-color: #AAA;\n",
              "      --disabled-bg-color: #DDD;\n",
              "  }\n",
              "\n",
              "  [theme=dark] .colab-df-quickchart {\n",
              "      --bg-color: #3B4455;\n",
              "      --fill-color: #D2E3FC;\n",
              "      --hover-bg-color: #434B5C;\n",
              "      --hover-fill-color: #FFFFFF;\n",
              "      --disabled-bg-color: #3B4455;\n",
              "      --disabled-fill-color: #666;\n",
              "  }\n",
              "\n",
              "  .colab-df-quickchart {\n",
              "    background-color: var(--bg-color);\n",
              "    border: none;\n",
              "    border-radius: 50%;\n",
              "    cursor: pointer;\n",
              "    display: none;\n",
              "    fill: var(--fill-color);\n",
              "    height: 32px;\n",
              "    padding: 0;\n",
              "    width: 32px;\n",
              "  }\n",
              "\n",
              "  .colab-df-quickchart:hover {\n",
              "    background-color: var(--hover-bg-color);\n",
              "    box-shadow: 0 1px 2px rgba(60, 64, 67, 0.3), 0 1px 3px 1px rgba(60, 64, 67, 0.15);\n",
              "    fill: var(--button-hover-fill-color);\n",
              "  }\n",
              "\n",
              "  .colab-df-quickchart-complete:disabled,\n",
              "  .colab-df-quickchart-complete:disabled:hover {\n",
              "    background-color: var(--disabled-bg-color);\n",
              "    fill: var(--disabled-fill-color);\n",
              "    box-shadow: none;\n",
              "  }\n",
              "\n",
              "  .colab-df-spinner {\n",
              "    border: 2px solid var(--fill-color);\n",
              "    border-color: transparent;\n",
              "    border-bottom-color: var(--fill-color);\n",
              "    animation:\n",
              "      spin 1s steps(1) infinite;\n",
              "  }\n",
              "\n",
              "  @keyframes spin {\n",
              "    0% {\n",
              "      border-color: transparent;\n",
              "      border-bottom-color: var(--fill-color);\n",
              "      border-left-color: var(--fill-color);\n",
              "    }\n",
              "    20% {\n",
              "      border-color: transparent;\n",
              "      border-left-color: var(--fill-color);\n",
              "      border-top-color: var(--fill-color);\n",
              "    }\n",
              "    30% {\n",
              "      border-color: transparent;\n",
              "      border-left-color: var(--fill-color);\n",
              "      border-top-color: var(--fill-color);\n",
              "      border-right-color: var(--fill-color);\n",
              "    }\n",
              "    40% {\n",
              "      border-color: transparent;\n",
              "      border-right-color: var(--fill-color);\n",
              "      border-top-color: var(--fill-color);\n",
              "    }\n",
              "    60% {\n",
              "      border-color: transparent;\n",
              "      border-right-color: var(--fill-color);\n",
              "    }\n",
              "    80% {\n",
              "      border-color: transparent;\n",
              "      border-right-color: var(--fill-color);\n",
              "      border-bottom-color: var(--fill-color);\n",
              "    }\n",
              "    90% {\n",
              "      border-color: transparent;\n",
              "      border-bottom-color: var(--fill-color);\n",
              "    }\n",
              "  }\n",
              "</style>\n",
              "\n",
              "  <script>\n",
              "    async function quickchart(key) {\n",
              "      const quickchartButtonEl =\n",
              "        document.querySelector('#' + key + ' button');\n",
              "      quickchartButtonEl.disabled = true;  // To prevent multiple clicks.\n",
              "      quickchartButtonEl.classList.add('colab-df-spinner');\n",
              "      try {\n",
              "        const charts = await google.colab.kernel.invokeFunction(\n",
              "            'suggestCharts', [key], {});\n",
              "      } catch (error) {\n",
              "        console.error('Error during call to suggestCharts:', error);\n",
              "      }\n",
              "      quickchartButtonEl.classList.remove('colab-df-spinner');\n",
              "      quickchartButtonEl.classList.add('colab-df-quickchart-complete');\n",
              "    }\n",
              "    (() => {\n",
              "      let quickchartButtonEl =\n",
              "        document.querySelector('#df-1b1e0328-ceeb-4971-9b31-5ada5471efd1 button');\n",
              "      quickchartButtonEl.style.display =\n",
              "        google.colab.kernel.accessAllowed ? 'block' : 'none';\n",
              "    })();\n",
              "  </script>\n",
              "</div>\n",
              "    </div>\n",
              "  </div>\n"
            ]
          },
          "metadata": {},
          "execution_count": 22
        }
      ]
    },
    {
      "cell_type": "markdown",
      "source": [
        "Результат достигнут! Но интересно проверить и другие варианты"
      ],
      "metadata": {
        "id": "wYpjTUMcS7XD"
      }
    },
    {
      "cell_type": "code",
      "source": [
        "del model"
      ],
      "metadata": {
        "id": "vAcYldhj52BK"
      },
      "execution_count": null,
      "outputs": []
    },
    {
      "cell_type": "code",
      "source": [
        "import gc         # garbage collect library\n",
        "gc.collect()\n",
        "torch.cuda.empty_cache()"
      ],
      "metadata": {
        "id": "5JrJSt2n5bHA"
      },
      "execution_count": null,
      "outputs": []
    },
    {
      "cell_type": "code",
      "source": [
        "class cnn(nn.Module):\n",
        "    def __init__(self,num_classes):\n",
        "        super(cnn, self).__init__()\n",
        "        self.feature = nn.Sequential(\n",
        "            nn.Conv2d(1,24,kernel_size=3,padding=1), # (на входе -1, 1, 28, 28), на выходе -1, 24, (28-3+1+1), (28-3+1+1)\n",
        "            nn.ReLU(inplace=True),nn.MaxPool2d(kernel_size=2), # на входе (-1,24, 27,27), на выходе (-1,24,27/2, 27/2), при делении округляем в большую сторону\n",
        "            nn.Conv2d(24,128,kernel_size=3,padding=1), # на входе -1,24,14,14, на выходе -1, 128, (14+1+1-3), (14+1+1-3)\n",
        "            nn.ReLU(inplace=True),nn.MaxPool2d(kernel_size=2) # на входе -1,128, 13,13 , на выходе -1, 128, (13/2), (13/2)\n",
        "        )\n",
        "        self.classifier = nn.Sequential(\n",
        "            nn.Linear(128*7*7,48),\n",
        "            nn.ReLU(inplace=True),\n",
        "            nn.Linear(48,num_classes)\n",
        "        )\n",
        "    def forward(self,x):\n",
        "        x = self.feature(x)\n",
        "        x = x.view(x.size(0),-1)\n",
        "        x = self.classifier(x)\n",
        "        return x"
      ],
      "metadata": {
        "id": "L7KFXxmhX89z"
      },
      "execution_count": null,
      "outputs": []
    },
    {
      "cell_type": "code",
      "source": [
        "device = 'cuda'"
      ],
      "metadata": {
        "id": "E-RDU0T5-9Vq"
      },
      "execution_count": null,
      "outputs": []
    },
    {
      "cell_type": "code",
      "source": [
        "model = cnn(10).to(device)"
      ],
      "metadata": {
        "id": "xvHh3wGNf4Dt"
      },
      "execution_count": null,
      "outputs": []
    },
    {
      "cell_type": "code",
      "source": [
        "from torchsummary import summary\n",
        "summary(model, input_size=(1, 28, 28), device=device)"
      ],
      "metadata": {
        "colab": {
          "base_uri": "https://localhost:8080/"
        },
        "outputId": "203e2374-a9aa-430e-a0b5-d0bbb850f354",
        "id": "w05KBNIef4Du"
      },
      "execution_count": null,
      "outputs": [
        {
          "output_type": "stream",
          "name": "stdout",
          "text": [
            "----------------------------------------------------------------\n",
            "        Layer (type)               Output Shape         Param #\n",
            "================================================================\n",
            "            Conv2d-1           [-1, 24, 28, 28]             240\n",
            "              ReLU-2           [-1, 24, 28, 28]               0\n",
            "         MaxPool2d-3           [-1, 24, 14, 14]               0\n",
            "            Conv2d-4          [-1, 128, 14, 14]          27,776\n",
            "              ReLU-5          [-1, 128, 14, 14]               0\n",
            "         MaxPool2d-6            [-1, 128, 7, 7]               0\n",
            "            Linear-7                   [-1, 48]         301,104\n",
            "              ReLU-8                   [-1, 48]               0\n",
            "            Linear-9                   [-1, 10]             490\n",
            "================================================================\n",
            "Total params: 329,610\n",
            "Trainable params: 329,610\n",
            "Non-trainable params: 0\n",
            "----------------------------------------------------------------\n",
            "Input size (MB): 0.00\n",
            "Forward/backward pass size (MB): 0.75\n",
            "Params size (MB): 1.26\n",
            "Estimated Total Size (MB): 2.01\n",
            "----------------------------------------------------------------\n"
          ]
        }
      ]
    },
    {
      "cell_type": "markdown",
      "source": [
        "## 4.3. Изменение оптимизаторов"
      ],
      "metadata": {
        "id": "6Lt9uS1YTuDn"
      }
    },
    {
      "cell_type": "code",
      "source": [
        "optimizers = []\n",
        "optimizers.append((\"RMSProp\", torch.optim.RMSprop(model.parameters(), lr=learning_rate)))\n",
        "optimizers.append((\"AdamW\", torch.optim.AdamW(model.parameters(), lr=learning_rate)))\n",
        "optimizers.append((\"Adagrad\", torch.optim.Adagrad(model.parameters(), lr=learning_rate)))\n",
        "optimizers.append((\"NADam\", torch.optim.NAdam(model.parameters(), lr=learning_rate)))"
      ],
      "metadata": {
        "id": "BtUhwMSbfV4J"
      },
      "execution_count": null,
      "outputs": []
    },
    {
      "cell_type": "code",
      "source": [
        "df_results_= pd.DataFrame(columns = ['architecture','optimizer', 'lr', 'accuracy',  'epoch'])\n",
        "for name, optimizer in optimizers:\n",
        "    print(name)\n",
        "    accuracy = 0\n",
        "    epoch_opt = 1\n",
        "    accuracy,  epoch_opt = train(model, train_loader, test_loader, loss_fn, optimizer, num_epochs=10)\n",
        "    df_results_.loc[len(df_results_.index)] = ['cnn', name, learning_rate, accuracy, epoch_opt]\n"
      ],
      "metadata": {
        "colab": {
          "base_uri": "https://localhost:8080/"
        },
        "id": "UrhWxWMhrQhq",
        "outputId": "521bcc7e-6a97-4850-d077-b8b841f9c1d8"
      },
      "execution_count": null,
      "outputs": [
        {
          "output_type": "stream",
          "name": "stdout",
          "text": [
            "RMSProp\n",
            "epoch 1, loss 0.0014, train acc 0.984, test acc 0.913, time 13.0 sec\n",
            "epoch 2, loss 0.0013, train acc 0.985, test acc 0.910, time 12.9 sec\n",
            "epoch 3, loss 0.0012, train acc 0.986, test acc 0.914, time 12.8 sec\n",
            "epoch 4, loss 0.0012, train acc 0.986, test acc 0.908, time 12.7 sec\n",
            "epoch 5, loss 0.0011, train acc 0.987, test acc 0.907, time 12.8 sec\n",
            "epoch 6, loss 0.0011, train acc 0.988, test acc 0.906, time 12.7 sec\n",
            "epoch 7, loss 0.0010, train acc 0.988, test acc 0.907, time 12.9 sec\n",
            "epoch 8, loss 0.0010, train acc 0.988, test acc 0.911, time 12.8 sec\n",
            "epoch 9, loss 0.0009, train acc 0.989, test acc 0.906, time 12.9 sec\n",
            "epoch 10, loss 0.0010, train acc 0.989, test acc 0.911, time 12.8 sec\n",
            "AdamW\n",
            "epoch 1, loss 0.0010, train acc 0.989, test acc 0.912, time 13.0 sec\n",
            "epoch 2, loss 0.0009, train acc 0.989, test acc 0.907, time 13.0 sec\n",
            "epoch 3, loss 0.0009, train acc 0.990, test acc 0.912, time 13.1 sec\n",
            "epoch 4, loss 0.0009, train acc 0.989, test acc 0.908, time 13.0 sec\n",
            "epoch 5, loss 0.0008, train acc 0.991, test acc 0.913, time 13.0 sec\n",
            "epoch 6, loss 0.0009, train acc 0.990, test acc 0.911, time 13.1 sec\n",
            "epoch 7, loss 0.0009, train acc 0.990, test acc 0.910, time 13.1 sec\n",
            "epoch 8, loss 0.0008, train acc 0.991, test acc 0.911, time 13.1 sec\n",
            "epoch 9, loss 0.0009, train acc 0.990, test acc 0.911, time 13.1 sec\n",
            "epoch 10, loss 0.0009, train acc 0.990, test acc 0.903, time 13.1 sec\n",
            "Adagrad\n",
            "epoch 1, loss 0.0003, train acc 0.998, test acc 0.915, time 12.8 sec\n",
            "epoch 2, loss 0.0002, train acc 0.999, test acc 0.915, time 13.0 sec\n",
            "epoch 3, loss 0.0002, train acc 1.000, test acc 0.915, time 12.7 sec\n",
            "epoch 4, loss 0.0001, train acc 1.000, test acc 0.915, time 12.7 sec\n",
            "epoch 5, loss 0.0001, train acc 1.000, test acc 0.915, time 12.8 sec\n",
            "epoch 6, loss 0.0001, train acc 1.000, test acc 0.915, time 12.8 sec\n",
            "epoch 7, loss 0.0001, train acc 1.000, test acc 0.916, time 12.6 sec\n",
            "epoch 8, loss 0.0001, train acc 1.000, test acc 0.916, time 12.8 sec\n",
            "epoch 9, loss 0.0001, train acc 1.000, test acc 0.916, time 12.7 sec\n",
            "epoch 10, loss 0.0001, train acc 1.000, test acc 0.915, time 12.8 sec\n",
            "NADam\n",
            "epoch 1, loss 0.0008, train acc 0.991, test acc 0.912, time 13.4 sec\n",
            "epoch 2, loss 0.0007, train acc 0.992, test acc 0.913, time 14.1 sec\n",
            "epoch 3, loss 0.0007, train acc 0.991, test acc 0.910, time 13.1 sec\n",
            "epoch 4, loss 0.0008, train acc 0.991, test acc 0.909, time 13.2 sec\n",
            "epoch 5, loss 0.0007, train acc 0.993, test acc 0.908, time 13.2 sec\n",
            "epoch 6, loss 0.0007, train acc 0.992, test acc 0.907, time 13.4 sec\n",
            "epoch 7, loss 0.0007, train acc 0.992, test acc 0.907, time 13.2 sec\n",
            "epoch 8, loss 0.0007, train acc 0.993, test acc 0.908, time 13.2 sec\n",
            "epoch 9, loss 0.0006, train acc 0.993, test acc 0.907, time 13.2 sec\n",
            "epoch 10, loss 0.0006, train acc 0.993, test acc 0.908, time 13.2 sec\n"
          ]
        }
      ]
    },
    {
      "cell_type": "code",
      "source": [
        "df_results_.sort_values(by='accuracy', ascending=False)"
      ],
      "metadata": {
        "colab": {
          "base_uri": "https://localhost:8080/",
          "height": 175
        },
        "id": "OPeg5fZmseY7",
        "outputId": "436f959b-50e1-4201-ebc1-828e5c656f37"
      },
      "execution_count": null,
      "outputs": [
        {
          "output_type": "execute_result",
          "data": {
            "text/plain": [
              "  architecture optimizer     lr  accuracy  epoch\n",
              "2          cnn   Adagrad  0.001    0.9160      8\n",
              "0          cnn   RMSProp  0.001    0.9144      2\n",
              "3          cnn     NADam  0.001    0.9131      1\n",
              "1          cnn     AdamW  0.001    0.9127      4"
            ],
            "text/html": [
              "\n",
              "  <div id=\"df-97954d5b-e191-4571-8357-aed7ab6e648f\" class=\"colab-df-container\">\n",
              "    <div>\n",
              "<style scoped>\n",
              "    .dataframe tbody tr th:only-of-type {\n",
              "        vertical-align: middle;\n",
              "    }\n",
              "\n",
              "    .dataframe tbody tr th {\n",
              "        vertical-align: top;\n",
              "    }\n",
              "\n",
              "    .dataframe thead th {\n",
              "        text-align: right;\n",
              "    }\n",
              "</style>\n",
              "<table border=\"1\" class=\"dataframe\">\n",
              "  <thead>\n",
              "    <tr style=\"text-align: right;\">\n",
              "      <th></th>\n",
              "      <th>architecture</th>\n",
              "      <th>optimizer</th>\n",
              "      <th>lr</th>\n",
              "      <th>accuracy</th>\n",
              "      <th>epoch</th>\n",
              "    </tr>\n",
              "  </thead>\n",
              "  <tbody>\n",
              "    <tr>\n",
              "      <th>2</th>\n",
              "      <td>cnn</td>\n",
              "      <td>Adagrad</td>\n",
              "      <td>0.001</td>\n",
              "      <td>0.9160</td>\n",
              "      <td>8</td>\n",
              "    </tr>\n",
              "    <tr>\n",
              "      <th>0</th>\n",
              "      <td>cnn</td>\n",
              "      <td>RMSProp</td>\n",
              "      <td>0.001</td>\n",
              "      <td>0.9144</td>\n",
              "      <td>2</td>\n",
              "    </tr>\n",
              "    <tr>\n",
              "      <th>3</th>\n",
              "      <td>cnn</td>\n",
              "      <td>NADam</td>\n",
              "      <td>0.001</td>\n",
              "      <td>0.9131</td>\n",
              "      <td>1</td>\n",
              "    </tr>\n",
              "    <tr>\n",
              "      <th>1</th>\n",
              "      <td>cnn</td>\n",
              "      <td>AdamW</td>\n",
              "      <td>0.001</td>\n",
              "      <td>0.9127</td>\n",
              "      <td>4</td>\n",
              "    </tr>\n",
              "  </tbody>\n",
              "</table>\n",
              "</div>\n",
              "    <div class=\"colab-df-buttons\">\n",
              "\n",
              "  <div class=\"colab-df-container\">\n",
              "    <button class=\"colab-df-convert\" onclick=\"convertToInteractive('df-97954d5b-e191-4571-8357-aed7ab6e648f')\"\n",
              "            title=\"Convert this dataframe to an interactive table.\"\n",
              "            style=\"display:none;\">\n",
              "\n",
              "  <svg xmlns=\"http://www.w3.org/2000/svg\" height=\"24px\" viewBox=\"0 -960 960 960\">\n",
              "    <path d=\"M120-120v-720h720v720H120Zm60-500h600v-160H180v160Zm220 220h160v-160H400v160Zm0 220h160v-160H400v160ZM180-400h160v-160H180v160Zm440 0h160v-160H620v160ZM180-180h160v-160H180v160Zm440 0h160v-160H620v160Z\"/>\n",
              "  </svg>\n",
              "    </button>\n",
              "\n",
              "  <style>\n",
              "    .colab-df-container {\n",
              "      display:flex;\n",
              "      gap: 12px;\n",
              "    }\n",
              "\n",
              "    .colab-df-convert {\n",
              "      background-color: #E8F0FE;\n",
              "      border: none;\n",
              "      border-radius: 50%;\n",
              "      cursor: pointer;\n",
              "      display: none;\n",
              "      fill: #1967D2;\n",
              "      height: 32px;\n",
              "      padding: 0 0 0 0;\n",
              "      width: 32px;\n",
              "    }\n",
              "\n",
              "    .colab-df-convert:hover {\n",
              "      background-color: #E2EBFA;\n",
              "      box-shadow: 0px 1px 2px rgba(60, 64, 67, 0.3), 0px 1px 3px 1px rgba(60, 64, 67, 0.15);\n",
              "      fill: #174EA6;\n",
              "    }\n",
              "\n",
              "    .colab-df-buttons div {\n",
              "      margin-bottom: 4px;\n",
              "    }\n",
              "\n",
              "    [theme=dark] .colab-df-convert {\n",
              "      background-color: #3B4455;\n",
              "      fill: #D2E3FC;\n",
              "    }\n",
              "\n",
              "    [theme=dark] .colab-df-convert:hover {\n",
              "      background-color: #434B5C;\n",
              "      box-shadow: 0px 1px 3px 1px rgba(0, 0, 0, 0.15);\n",
              "      filter: drop-shadow(0px 1px 2px rgba(0, 0, 0, 0.3));\n",
              "      fill: #FFFFFF;\n",
              "    }\n",
              "  </style>\n",
              "\n",
              "    <script>\n",
              "      const buttonEl =\n",
              "        document.querySelector('#df-97954d5b-e191-4571-8357-aed7ab6e648f button.colab-df-convert');\n",
              "      buttonEl.style.display =\n",
              "        google.colab.kernel.accessAllowed ? 'block' : 'none';\n",
              "\n",
              "      async function convertToInteractive(key) {\n",
              "        const element = document.querySelector('#df-97954d5b-e191-4571-8357-aed7ab6e648f');\n",
              "        const dataTable =\n",
              "          await google.colab.kernel.invokeFunction('convertToInteractive',\n",
              "                                                    [key], {});\n",
              "        if (!dataTable) return;\n",
              "\n",
              "        const docLinkHtml = 'Like what you see? Visit the ' +\n",
              "          '<a target=\"_blank\" href=https://colab.research.google.com/notebooks/data_table.ipynb>data table notebook</a>'\n",
              "          + ' to learn more about interactive tables.';\n",
              "        element.innerHTML = '';\n",
              "        dataTable['output_type'] = 'display_data';\n",
              "        await google.colab.output.renderOutput(dataTable, element);\n",
              "        const docLink = document.createElement('div');\n",
              "        docLink.innerHTML = docLinkHtml;\n",
              "        element.appendChild(docLink);\n",
              "      }\n",
              "    </script>\n",
              "  </div>\n",
              "\n",
              "\n",
              "<div id=\"df-1de5f726-dae8-44fd-848e-8878fae13928\">\n",
              "  <button class=\"colab-df-quickchart\" onclick=\"quickchart('df-1de5f726-dae8-44fd-848e-8878fae13928')\"\n",
              "            title=\"Suggest charts\"\n",
              "            style=\"display:none;\">\n",
              "\n",
              "<svg xmlns=\"http://www.w3.org/2000/svg\" height=\"24px\"viewBox=\"0 0 24 24\"\n",
              "     width=\"24px\">\n",
              "    <g>\n",
              "        <path d=\"M19 3H5c-1.1 0-2 .9-2 2v14c0 1.1.9 2 2 2h14c1.1 0 2-.9 2-2V5c0-1.1-.9-2-2-2zM9 17H7v-7h2v7zm4 0h-2V7h2v10zm4 0h-2v-4h2v4z\"/>\n",
              "    </g>\n",
              "</svg>\n",
              "  </button>\n",
              "\n",
              "<style>\n",
              "  .colab-df-quickchart {\n",
              "      --bg-color: #E8F0FE;\n",
              "      --fill-color: #1967D2;\n",
              "      --hover-bg-color: #E2EBFA;\n",
              "      --hover-fill-color: #174EA6;\n",
              "      --disabled-fill-color: #AAA;\n",
              "      --disabled-bg-color: #DDD;\n",
              "  }\n",
              "\n",
              "  [theme=dark] .colab-df-quickchart {\n",
              "      --bg-color: #3B4455;\n",
              "      --fill-color: #D2E3FC;\n",
              "      --hover-bg-color: #434B5C;\n",
              "      --hover-fill-color: #FFFFFF;\n",
              "      --disabled-bg-color: #3B4455;\n",
              "      --disabled-fill-color: #666;\n",
              "  }\n",
              "\n",
              "  .colab-df-quickchart {\n",
              "    background-color: var(--bg-color);\n",
              "    border: none;\n",
              "    border-radius: 50%;\n",
              "    cursor: pointer;\n",
              "    display: none;\n",
              "    fill: var(--fill-color);\n",
              "    height: 32px;\n",
              "    padding: 0;\n",
              "    width: 32px;\n",
              "  }\n",
              "\n",
              "  .colab-df-quickchart:hover {\n",
              "    background-color: var(--hover-bg-color);\n",
              "    box-shadow: 0 1px 2px rgba(60, 64, 67, 0.3), 0 1px 3px 1px rgba(60, 64, 67, 0.15);\n",
              "    fill: var(--button-hover-fill-color);\n",
              "  }\n",
              "\n",
              "  .colab-df-quickchart-complete:disabled,\n",
              "  .colab-df-quickchart-complete:disabled:hover {\n",
              "    background-color: var(--disabled-bg-color);\n",
              "    fill: var(--disabled-fill-color);\n",
              "    box-shadow: none;\n",
              "  }\n",
              "\n",
              "  .colab-df-spinner {\n",
              "    border: 2px solid var(--fill-color);\n",
              "    border-color: transparent;\n",
              "    border-bottom-color: var(--fill-color);\n",
              "    animation:\n",
              "      spin 1s steps(1) infinite;\n",
              "  }\n",
              "\n",
              "  @keyframes spin {\n",
              "    0% {\n",
              "      border-color: transparent;\n",
              "      border-bottom-color: var(--fill-color);\n",
              "      border-left-color: var(--fill-color);\n",
              "    }\n",
              "    20% {\n",
              "      border-color: transparent;\n",
              "      border-left-color: var(--fill-color);\n",
              "      border-top-color: var(--fill-color);\n",
              "    }\n",
              "    30% {\n",
              "      border-color: transparent;\n",
              "      border-left-color: var(--fill-color);\n",
              "      border-top-color: var(--fill-color);\n",
              "      border-right-color: var(--fill-color);\n",
              "    }\n",
              "    40% {\n",
              "      border-color: transparent;\n",
              "      border-right-color: var(--fill-color);\n",
              "      border-top-color: var(--fill-color);\n",
              "    }\n",
              "    60% {\n",
              "      border-color: transparent;\n",
              "      border-right-color: var(--fill-color);\n",
              "    }\n",
              "    80% {\n",
              "      border-color: transparent;\n",
              "      border-right-color: var(--fill-color);\n",
              "      border-bottom-color: var(--fill-color);\n",
              "    }\n",
              "    90% {\n",
              "      border-color: transparent;\n",
              "      border-bottom-color: var(--fill-color);\n",
              "    }\n",
              "  }\n",
              "</style>\n",
              "\n",
              "  <script>\n",
              "    async function quickchart(key) {\n",
              "      const quickchartButtonEl =\n",
              "        document.querySelector('#' + key + ' button');\n",
              "      quickchartButtonEl.disabled = true;  // To prevent multiple clicks.\n",
              "      quickchartButtonEl.classList.add('colab-df-spinner');\n",
              "      try {\n",
              "        const charts = await google.colab.kernel.invokeFunction(\n",
              "            'suggestCharts', [key], {});\n",
              "      } catch (error) {\n",
              "        console.error('Error during call to suggestCharts:', error);\n",
              "      }\n",
              "      quickchartButtonEl.classList.remove('colab-df-spinner');\n",
              "      quickchartButtonEl.classList.add('colab-df-quickchart-complete');\n",
              "    }\n",
              "    (() => {\n",
              "      let quickchartButtonEl =\n",
              "        document.querySelector('#df-1de5f726-dae8-44fd-848e-8878fae13928 button');\n",
              "      quickchartButtonEl.style.display =\n",
              "        google.colab.kernel.accessAllowed ? 'block' : 'none';\n",
              "    })();\n",
              "  </script>\n",
              "</div>\n",
              "    </div>\n",
              "  </div>\n"
            ]
          },
          "metadata": {},
          "execution_count": 29
        }
      ]
    },
    {
      "cell_type": "code",
      "source": [
        "optimizer = torch.optim.Adagrad(model.parameters(), lr=learning_rate)\n",
        "accuracy,  epoch_opt = train(model, train_loader, test_loader, loss_fn, optimizer, num_epochs=10)"
      ],
      "metadata": {
        "colab": {
          "base_uri": "https://localhost:8080/"
        },
        "id": "7P9vfJ6YYjSO",
        "outputId": "34519e96-9da5-40b7-92b0-3e49f9b4047c"
      },
      "execution_count": 30,
      "outputs": [
        {
          "output_type": "stream",
          "name": "stdout",
          "text": [
            "epoch 1, loss 0.0001, train acc 0.999, test acc 0.913, time 12.9 sec\n",
            "epoch 2, loss 0.0001, train acc 1.000, test acc 0.912, time 12.9 sec\n",
            "epoch 3, loss 0.0001, train acc 1.000, test acc 0.913, time 14.9 sec\n",
            "epoch 4, loss 0.0001, train acc 1.000, test acc 0.913, time 12.8 sec\n",
            "epoch 5, loss 0.0001, train acc 1.000, test acc 0.914, time 12.8 sec\n",
            "epoch 6, loss 0.0000, train acc 1.000, test acc 0.914, time 12.9 sec\n",
            "epoch 7, loss 0.0000, train acc 1.000, test acc 0.914, time 12.6 sec\n",
            "epoch 8, loss 0.0000, train acc 1.000, test acc 0.915, time 12.8 sec\n",
            "epoch 9, loss 0.0000, train acc 1.000, test acc 0.914, time 12.8 sec\n",
            "epoch 10, loss 0.0000, train acc 1.000, test acc 0.914, time 12.7 sec\n"
          ]
        }
      ]
    },
    {
      "cell_type": "code",
      "source": [
        "y_pred = []\n",
        "y_true = []\n",
        "for X, y in test_loader:\n",
        "    X, y = X.to(device), y.to(device)\n",
        "    y_pred_iter = model(X)\n",
        "    y_pred.extend(y_pred_iter.detach())\n",
        "    y_true.extend(y.detach())\n",
        "\n",
        "y_pred = torch.Tensor([torch.argmax(x) for x in y_pred])\n",
        "y_true = torch.Tensor(y_true)"
      ],
      "metadata": {
        "id": "-c4KhG3-YVwA"
      },
      "execution_count": 32,
      "outputs": []
    },
    {
      "cell_type": "code",
      "source": [
        "from sklearn.metrics import accuracy_score\n",
        "print('Точность на тестовой выборке:', accuracy_score(y_true, y_pred))"
      ],
      "metadata": {
        "colab": {
          "base_uri": "https://localhost:8080/"
        },
        "id": "7wi55PdtZ4tI",
        "outputId": "b3ba855f-4e5a-43f4-ff69-65a4d2ba1afe"
      },
      "execution_count": 33,
      "outputs": [
        {
          "output_type": "stream",
          "name": "stdout",
          "text": [
            "Точность на тестовой выборке: 0.9141\n"
          ]
        }
      ]
    },
    {
      "cell_type": "markdown",
      "source": [
        "Вывод:\n",
        "\n",
        "Преодолеть порог изначально удалось с помощью уменьшенного шага обучения при выбранной архитектуре. Далее, изменяя размеры фильтров в слоях свертки и пулинга и варьируя оптимизаторы, удалось  поднять accuracy на тесте до 0.916 ghb bcgjkmpjdfybb Фвфпкфв"
      ],
      "metadata": {
        "id": "VqdxCg1rxorq"
      }
    }
  ]
}