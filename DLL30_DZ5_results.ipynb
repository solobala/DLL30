{
  "nbformat": 4,
  "nbformat_minor": 0,
  "metadata": {
    "colab": {
      "provenance": [],
      "authorship_tag": "ABX9TyNiMDyGW++M8STdDuLnMl/q",
      "include_colab_link": true
    },
    "kernelspec": {
      "name": "python3",
      "display_name": "Python 3"
    },
    "language_info": {
      "name": "python"
    }
  },
  "cells": [
    {
      "cell_type": "markdown",
      "metadata": {
        "id": "view-in-github",
        "colab_type": "text"
      },
      "source": [
        "<a href=\"https://colab.research.google.com/github/solobala/DLL30/blob/main/DLL30_DZ5_results.ipynb\" target=\"_parent\"><img src=\"https://colab.research.google.com/assets/colab-badge.svg\" alt=\"Open In Colab\"/></a>"
      ]
    },
    {
      "cell_type": "markdown",
      "source": [
        "# 0. Импорт библиотек и пользовательские функции"
      ],
      "metadata": {
        "id": "UyHqQDIjkNvk"
      }
    },
    {
      "cell_type": "code",
      "source": [
        "import pandas as pd\n",
        "import matplotlib.pyplot as plt\n",
        "from glob import glob"
      ],
      "metadata": {
        "id": "SOC_8ButkY8B"
      },
      "execution_count": 12,
      "outputs": []
    },
    {
      "cell_type": "markdown",
      "source": [
        "# 1. Загрузка промежуточных результатов обучения моделей"
      ],
      "metadata": {
        "id": "ErKRmwMljoFg"
      }
    },
    {
      "cell_type": "code",
      "execution_count": 31,
      "metadata": {
        "colab": {
          "base_uri": "https://localhost:8080/"
        },
        "id": "8Aa57x0Ujhdv",
        "outputId": "8d471466-c72b-41bd-d88a-ce836981481d"
      },
      "outputs": [
        {
          "output_type": "stream",
          "name": "stdout",
          "text": [
            "--2023-12-23 12:27:55--  https://raw.githubusercontent.com/solobala/DLL30/main/all_results.csv\n",
            "Resolving raw.githubusercontent.com (raw.githubusercontent.com)... 185.199.108.133, 185.199.109.133, 185.199.110.133, ...\n",
            "Connecting to raw.githubusercontent.com (raw.githubusercontent.com)|185.199.108.133|:443... connected.\n",
            "HTTP request sent, awaiting response... 200 OK\n",
            "Length: 2594 (2.5K) [text/plain]\n",
            "Saving to: ‘all_results.csv’\n",
            "\n",
            "\rall_results.csv       0%[                    ]       0  --.-KB/s               \rall_results.csv     100%[===================>]   2.53K  --.-KB/s    in 0s      \n",
            "\n",
            "2023-12-23 12:27:55 (36.4 MB/s) - ‘all_results.csv’ saved [2594/2594]\n",
            "\n"
          ]
        }
      ],
      "source": [
        "! wget \"https://raw.githubusercontent.com/solobala/DLL30/main/all_results.csv\"\n"
      ]
    },
    {
      "cell_type": "code",
      "source": [
        "! wget \"https://raw.githubusercontent.com/solobala/DLL30/main/combo1.csv\""
      ],
      "metadata": {
        "colab": {
          "base_uri": "https://localhost:8080/"
        },
        "id": "-QlFqWtYjuDz",
        "outputId": "2eacf153-3a89-4649-c303-6cfc38d358c4"
      },
      "execution_count": 29,
      "outputs": [
        {
          "output_type": "stream",
          "name": "stdout",
          "text": [
            "--2023-12-23 12:27:06--  https://raw.githubusercontent.com/solobala/DLL30/main/combo1.csv\n",
            "Resolving raw.githubusercontent.com (raw.githubusercontent.com)... 185.199.111.133, 185.199.108.133, 185.199.109.133, ...\n",
            "Connecting to raw.githubusercontent.com (raw.githubusercontent.com)|185.199.111.133|:443... connected.\n",
            "HTTP request sent, awaiting response... 200 OK\n",
            "Length: 7808 (7.6K) [text/plain]\n",
            "Saving to: ‘combo1.csv’\n",
            "\n",
            "\rcombo1.csv            0%[                    ]       0  --.-KB/s               \rcombo1.csv          100%[===================>]   7.62K  --.-KB/s    in 0s      \n",
            "\n",
            "2023-12-23 12:27:06 (115 MB/s) - ‘combo1.csv’ saved [7808/7808]\n",
            "\n"
          ]
        }
      ]
    },
    {
      "cell_type": "code",
      "source": [
        "! wget \"https://raw.githubusercontent.com/solobala/DLL30/main/combo2.csv\""
      ],
      "metadata": {
        "colab": {
          "base_uri": "https://localhost:8080/"
        },
        "id": "CRMSWnsoj3N-",
        "outputId": "2c16dab9-c235-41b5-f316-3399a58bc3f9"
      },
      "execution_count": 32,
      "outputs": [
        {
          "output_type": "stream",
          "name": "stdout",
          "text": [
            "--2023-12-23 12:28:40--  https://raw.githubusercontent.com/solobala/DLL30/main/combo2.csv\n",
            "Resolving raw.githubusercontent.com (raw.githubusercontent.com)... 185.199.108.133, 185.199.109.133, 185.199.110.133, ...\n",
            "Connecting to raw.githubusercontent.com (raw.githubusercontent.com)|185.199.108.133|:443... connected.\n",
            "HTTP request sent, awaiting response... 200 OK\n",
            "Length: 5487 (5.4K) [text/plain]\n",
            "Saving to: ‘combo2.csv’\n",
            "\n",
            "\rcombo2.csv            0%[                    ]       0  --.-KB/s               \rcombo2.csv          100%[===================>]   5.36K  --.-KB/s    in 0s      \n",
            "\n",
            "2023-12-23 12:28:40 (70.9 MB/s) - ‘combo2.csv’ saved [5487/5487]\n",
            "\n"
          ]
        }
      ]
    },
    {
      "cell_type": "code",
      "source": [
        "! wget \"https://raw.githubusercontent.com/solobala/DLL30/main/feature_extraction.csv\""
      ],
      "metadata": {
        "colab": {
          "base_uri": "https://localhost:8080/"
        },
        "id": "cRAm1tJLj8W-",
        "outputId": "996da89d-f499-4e70-af3f-083ee670fb87"
      },
      "execution_count": 34,
      "outputs": [
        {
          "output_type": "stream",
          "name": "stdout",
          "text": [
            "--2023-12-23 12:29:04--  https://raw.githubusercontent.com/solobala/DLL30/main/feature_extraction.csv\n",
            "Resolving raw.githubusercontent.com (raw.githubusercontent.com)... 185.199.108.133, 185.199.109.133, 185.199.110.133, ...\n",
            "Connecting to raw.githubusercontent.com (raw.githubusercontent.com)|185.199.108.133|:443... connected.\n",
            "HTTP request sent, awaiting response... 200 OK\n",
            "Length: 9078 (8.9K) [text/plain]\n",
            "Saving to: ‘feature_extraction.csv’\n",
            "\n",
            "\rfeature_extraction.   0%[                    ]       0  --.-KB/s               \rfeature_extraction. 100%[===================>]   8.87K  --.-KB/s    in 0s      \n",
            "\n",
            "2023-12-23 12:29:05 (89.5 MB/s) - ‘feature_extraction.csv’ saved [9078/9078]\n",
            "\n"
          ]
        }
      ]
    },
    {
      "cell_type": "code",
      "source": [
        "! wget \"https://raw.githubusercontent.com/solobala/DLL30/main/feature_extraction_all.csv\""
      ],
      "metadata": {
        "colab": {
          "base_uri": "https://localhost:8080/"
        },
        "id": "tXpYIJuAkDlo",
        "outputId": "43eab112-e29e-4220-a880-567766688ad3"
      },
      "execution_count": 35,
      "outputs": [
        {
          "output_type": "stream",
          "name": "stdout",
          "text": [
            "--2023-12-23 12:29:17--  https://raw.githubusercontent.com/solobala/DLL30/main/feature_extraction_all.csv\n",
            "Resolving raw.githubusercontent.com (raw.githubusercontent.com)... 185.199.111.133, 185.199.108.133, 185.199.109.133, ...\n",
            "Connecting to raw.githubusercontent.com (raw.githubusercontent.com)|185.199.111.133|:443... connected.\n",
            "HTTP request sent, awaiting response... 200 OK\n",
            "Length: 16445 (16K) [text/plain]\n",
            "Saving to: ‘feature_extraction_all.csv’\n",
            "\n",
            "\r          feature_e   0%[                    ]       0  --.-KB/s               \rfeature_extraction_ 100%[===================>]  16.06K  --.-KB/s    in 0.001s  \n",
            "\n",
            "2023-12-23 12:29:17 (22.6 MB/s) - ‘feature_extraction_all.csv’ saved [16445/16445]\n",
            "\n"
          ]
        }
      ]
    },
    {
      "cell_type": "code",
      "source": [
        "! wget \"https://raw.githubusercontent.com/solobala/DLL30/main/feature_extraction_all_.csv\""
      ],
      "metadata": {
        "colab": {
          "base_uri": "https://localhost:8080/"
        },
        "id": "Pjh3V3Fmktjc",
        "outputId": "6fe5412a-15d2-4cc0-d9c0-0e7810733419"
      },
      "execution_count": 36,
      "outputs": [
        {
          "output_type": "stream",
          "name": "stdout",
          "text": [
            "--2023-12-23 12:29:27--  https://raw.githubusercontent.com/solobala/DLL30/main/feature_extraction_all_.csv\n",
            "Resolving raw.githubusercontent.com (raw.githubusercontent.com)... 185.199.108.133, 185.199.109.133, 185.199.110.133, ...\n",
            "Connecting to raw.githubusercontent.com (raw.githubusercontent.com)|185.199.108.133|:443... connected.\n",
            "HTTP request sent, awaiting response... 200 OK\n",
            "Length: 17682 (17K) [text/plain]\n",
            "Saving to: ‘feature_extraction_all_.csv’\n",
            "\n",
            "\r          feature_e   0%[                    ]       0  --.-KB/s               \rfeature_extraction_ 100%[===================>]  17.27K  --.-KB/s    in 0s      \n",
            "\n",
            "2023-12-23 12:29:27 (49.0 MB/s) - ‘feature_extraction_all_.csv’ saved [17682/17682]\n",
            "\n"
          ]
        }
      ]
    },
    {
      "cell_type": "code",
      "source": [
        "! wget \"https://raw.githubusercontent.com/solobala/DLL30/main/feature_extraction_multistep.csv\""
      ],
      "metadata": {
        "colab": {
          "base_uri": "https://localhost:8080/"
        },
        "id": "Emh69_7sk0RT",
        "outputId": "747eb67f-54d0-433c-cbd1-f83f2e57a891"
      },
      "execution_count": 37,
      "outputs": [
        {
          "output_type": "stream",
          "name": "stdout",
          "text": [
            "--2023-12-23 12:29:34--  https://raw.githubusercontent.com/solobala/DLL30/main/feature_extraction_multistep.csv\n",
            "Resolving raw.githubusercontent.com (raw.githubusercontent.com)... 185.199.108.133, 185.199.109.133, 185.199.110.133, ...\n",
            "Connecting to raw.githubusercontent.com (raw.githubusercontent.com)|185.199.108.133|:443... connected.\n",
            "HTTP request sent, awaiting response... 200 OK\n",
            "Length: 12144 (12K) [text/plain]\n",
            "Saving to: ‘feature_extraction_multistep.csv’\n",
            "\n",
            "\r          feature_e   0%[                    ]       0  --.-KB/s               \rfeature_extraction_ 100%[===================>]  11.86K  --.-KB/s    in 0s      \n",
            "\n",
            "2023-12-23 12:29:34 (111 MB/s) - ‘feature_extraction_multistep.csv’ saved [12144/12144]\n",
            "\n"
          ]
        }
      ]
    },
    {
      "cell_type": "code",
      "source": [
        "! wget \"https://raw.githubusercontent.com/solobala/DLL30/main/fine_tuning.csv\""
      ],
      "metadata": {
        "colab": {
          "base_uri": "https://localhost:8080/"
        },
        "id": "jWwBpMxrk59q",
        "outputId": "807e96e9-fcbd-4dbd-a33d-37665fdcd9cb"
      },
      "execution_count": 38,
      "outputs": [
        {
          "output_type": "stream",
          "name": "stdout",
          "text": [
            "--2023-12-23 12:29:40--  https://raw.githubusercontent.com/solobala/DLL30/main/fine_tuning.csv\n",
            "Resolving raw.githubusercontent.com (raw.githubusercontent.com)... 185.199.108.133, 185.199.109.133, 185.199.110.133, ...\n",
            "Connecting to raw.githubusercontent.com (raw.githubusercontent.com)|185.199.108.133|:443... connected.\n",
            "HTTP request sent, awaiting response... 200 OK\n",
            "Length: 20310 (20K) [text/plain]\n",
            "Saving to: ‘fine_tuning.csv’\n",
            "\n",
            "\rfine_tuning.csv       0%[                    ]       0  --.-KB/s               \rfine_tuning.csv     100%[===================>]  19.83K  --.-KB/s    in 0.001s  \n",
            "\n",
            "2023-12-23 12:29:40 (24.5 MB/s) - ‘fine_tuning.csv’ saved [20310/20310]\n",
            "\n"
          ]
        }
      ]
    },
    {
      "cell_type": "code",
      "source": [
        "! wget \"https://raw.githubusercontent.com/solobala/DLL30/main/multistep.csv\""
      ],
      "metadata": {
        "colab": {
          "base_uri": "https://localhost:8080/"
        },
        "id": "dvNRyiVklHha",
        "outputId": "02ac05e8-817e-4e03-9f8a-15842e0e8032"
      },
      "execution_count": 39,
      "outputs": [
        {
          "output_type": "stream",
          "name": "stdout",
          "text": [
            "--2023-12-23 12:29:48--  https://raw.githubusercontent.com/solobala/DLL30/main/multistep.csv\n",
            "Resolving raw.githubusercontent.com (raw.githubusercontent.com)... 185.199.108.133, 185.199.109.133, 185.199.110.133, ...\n",
            "Connecting to raw.githubusercontent.com (raw.githubusercontent.com)|185.199.108.133|:443... connected.\n",
            "HTTP request sent, awaiting response... 200 OK\n",
            "Length: 4051 (4.0K) [text/plain]\n",
            "Saving to: ‘multistep.csv’\n",
            "\n",
            "\rmultistep.csv         0%[                    ]       0  --.-KB/s               \rmultistep.csv       100%[===================>]   3.96K  --.-KB/s    in 0s      \n",
            "\n",
            "2023-12-23 12:29:48 (64.7 MB/s) - ‘multistep.csv’ saved [4051/4051]\n",
            "\n"
          ]
        }
      ]
    },
    {
      "cell_type": "code",
      "source": [
        "! wget \"https://raw.githubusercontent.com/solobala/DLL30/main/none.csv\""
      ],
      "metadata": {
        "colab": {
          "base_uri": "https://localhost:8080/"
        },
        "id": "0jhmvubalMzX",
        "outputId": "a194e4df-cae7-4f35-8db1-7d547c901fa5"
      },
      "execution_count": 40,
      "outputs": [
        {
          "output_type": "stream",
          "name": "stdout",
          "text": [
            "--2023-12-23 12:29:56--  https://raw.githubusercontent.com/solobala/DLL30/main/none.csv\n",
            "Resolving raw.githubusercontent.com (raw.githubusercontent.com)... 185.199.110.133, 185.199.108.133, 185.199.109.133, ...\n",
            "Connecting to raw.githubusercontent.com (raw.githubusercontent.com)|185.199.110.133|:443... connected.\n",
            "HTTP request sent, awaiting response... 200 OK\n",
            "Length: 2586 (2.5K) [text/plain]\n",
            "Saving to: ‘none.csv’\n",
            "\n",
            "\rnone.csv              0%[                    ]       0  --.-KB/s               \rnone.csv            100%[===================>]   2.53K  --.-KB/s    in 0s      \n",
            "\n",
            "2023-12-23 12:29:56 (24.7 MB/s) - ‘none.csv’ saved [2586/2586]\n",
            "\n"
          ]
        }
      ]
    },
    {
      "cell_type": "markdown",
      "source": [
        "# 2. Объединение результатов по этапам в общий файл"
      ],
      "metadata": {
        "id": "R2qXBLbYlUHq"
      }
    },
    {
      "cell_type": "code",
      "source": [
        "data_paths = glob(\"*.csv\")\n",
        "whole_results = pd.DataFrame(columns=['model','augmentation', 'sheduler','time', 'lr', 'epoch', 'train_loss', 'train_accuracy', 'val_loss', 'val_accuracy'])\n",
        "for item in data_paths:\n",
        "  file = pd.read_csv(item)\n",
        "  whole_results = pd.concat([whole_results,file])"
      ],
      "metadata": {
        "id": "LoOeWgr3la-5"
      },
      "execution_count": 41,
      "outputs": []
    },
    {
      "cell_type": "code",
      "source": [
        "# Общий датафрейм содержит дубликаты, т.к при проведении эеспериментов все сохранялось последовательно в различные файлы, и несколько раз приходилось перезапускать ноутбук\n",
        "whole_results.drop_duplicates(inplace=True)"
      ],
      "metadata": {
        "id": "4-w8x_nyqgPN"
      },
      "execution_count": 44,
      "outputs": []
    },
    {
      "cell_type": "code",
      "source": [
        "whole_results.info()"
      ],
      "metadata": {
        "colab": {
          "base_uri": "https://localhost:8080/"
        },
        "id": "1WYMxP84qonJ",
        "outputId": "c53834ae-98a8-42fa-cd05-8dbb2669a38e"
      },
      "execution_count": 45,
      "outputs": [
        {
          "output_type": "stream",
          "name": "stdout",
          "text": [
            "<class 'pandas.core.frame.DataFrame'>\n",
            "Int64Index: 177 entries, 0 to 146\n",
            "Data columns (total 10 columns):\n",
            " #   Column          Non-Null Count  Dtype  \n",
            "---  ------          --------------  -----  \n",
            " 0   model           177 non-null    object \n",
            " 1   augmentation    177 non-null    object \n",
            " 2   sheduler        177 non-null    object \n",
            " 3   time            177 non-null    float64\n",
            " 4   lr              177 non-null    object \n",
            " 5   epoch           177 non-null    object \n",
            " 6   train_loss      177 non-null    float64\n",
            " 7   train_accuracy  177 non-null    float64\n",
            " 8   val_loss        177 non-null    float64\n",
            " 9   val_accuracy    177 non-null    float64\n",
            "dtypes: float64(5), object(5)\n",
            "memory usage: 15.2+ KB\n"
          ]
        }
      ]
    },
    {
      "cell_type": "code",
      "source": [
        "whole_results.head()"
      ],
      "metadata": {
        "colab": {
          "base_uri": "https://localhost:8080/",
          "height": 206
        },
        "id": "QUiVzp3HnWwY",
        "outputId": "ef72b26e-6199-4efc-b9f8-48e1fa621b49"
      },
      "execution_count": 46,
      "outputs": [
        {
          "output_type": "execute_result",
          "data": {
            "text/plain": [
              "    model augmentation sheduler        time   lr epoch  train_loss  \\\n",
              "0  с нуля         Base     None  275.132039  0.1     0    2.876372   \n",
              "1  с нуля         Base     None  117.456237  0.1     1    2.270191   \n",
              "2  с нуля         Base     None  118.372202  0.1     2    1.806648   \n",
              "3  с нуля         Base     None  116.462921  0.1     3    1.475974   \n",
              "4  с нуля         Base     None  115.066713  0.1     4    1.240439   \n",
              "\n",
              "   train_accuracy  val_loss  val_accuracy  \n",
              "0        0.207412  2.621986      0.289299  \n",
              "1        0.394891  2.199438      0.425032  \n",
              "2        0.529577  1.891972      0.513573  \n",
              "3        0.618165  1.678324      0.551610  \n",
              "4        0.679408  1.420164      0.631155  "
            ],
            "text/html": [
              "\n",
              "  <div id=\"df-f6f3906b-5834-4e23-9e21-a7ed718f150b\" class=\"colab-df-container\">\n",
              "    <div>\n",
              "<style scoped>\n",
              "    .dataframe tbody tr th:only-of-type {\n",
              "        vertical-align: middle;\n",
              "    }\n",
              "\n",
              "    .dataframe tbody tr th {\n",
              "        vertical-align: top;\n",
              "    }\n",
              "\n",
              "    .dataframe thead th {\n",
              "        text-align: right;\n",
              "    }\n",
              "</style>\n",
              "<table border=\"1\" class=\"dataframe\">\n",
              "  <thead>\n",
              "    <tr style=\"text-align: right;\">\n",
              "      <th></th>\n",
              "      <th>model</th>\n",
              "      <th>augmentation</th>\n",
              "      <th>sheduler</th>\n",
              "      <th>time</th>\n",
              "      <th>lr</th>\n",
              "      <th>epoch</th>\n",
              "      <th>train_loss</th>\n",
              "      <th>train_accuracy</th>\n",
              "      <th>val_loss</th>\n",
              "      <th>val_accuracy</th>\n",
              "    </tr>\n",
              "  </thead>\n",
              "  <tbody>\n",
              "    <tr>\n",
              "      <th>0</th>\n",
              "      <td>с нуля</td>\n",
              "      <td>Base</td>\n",
              "      <td>None</td>\n",
              "      <td>275.132039</td>\n",
              "      <td>0.1</td>\n",
              "      <td>0</td>\n",
              "      <td>2.876372</td>\n",
              "      <td>0.207412</td>\n",
              "      <td>2.621986</td>\n",
              "      <td>0.289299</td>\n",
              "    </tr>\n",
              "    <tr>\n",
              "      <th>1</th>\n",
              "      <td>с нуля</td>\n",
              "      <td>Base</td>\n",
              "      <td>None</td>\n",
              "      <td>117.456237</td>\n",
              "      <td>0.1</td>\n",
              "      <td>1</td>\n",
              "      <td>2.270191</td>\n",
              "      <td>0.394891</td>\n",
              "      <td>2.199438</td>\n",
              "      <td>0.425032</td>\n",
              "    </tr>\n",
              "    <tr>\n",
              "      <th>2</th>\n",
              "      <td>с нуля</td>\n",
              "      <td>Base</td>\n",
              "      <td>None</td>\n",
              "      <td>118.372202</td>\n",
              "      <td>0.1</td>\n",
              "      <td>2</td>\n",
              "      <td>1.806648</td>\n",
              "      <td>0.529577</td>\n",
              "      <td>1.891972</td>\n",
              "      <td>0.513573</td>\n",
              "    </tr>\n",
              "    <tr>\n",
              "      <th>3</th>\n",
              "      <td>с нуля</td>\n",
              "      <td>Base</td>\n",
              "      <td>None</td>\n",
              "      <td>116.462921</td>\n",
              "      <td>0.1</td>\n",
              "      <td>3</td>\n",
              "      <td>1.475974</td>\n",
              "      <td>0.618165</td>\n",
              "      <td>1.678324</td>\n",
              "      <td>0.551610</td>\n",
              "    </tr>\n",
              "    <tr>\n",
              "      <th>4</th>\n",
              "      <td>с нуля</td>\n",
              "      <td>Base</td>\n",
              "      <td>None</td>\n",
              "      <td>115.066713</td>\n",
              "      <td>0.1</td>\n",
              "      <td>4</td>\n",
              "      <td>1.240439</td>\n",
              "      <td>0.679408</td>\n",
              "      <td>1.420164</td>\n",
              "      <td>0.631155</td>\n",
              "    </tr>\n",
              "  </tbody>\n",
              "</table>\n",
              "</div>\n",
              "    <div class=\"colab-df-buttons\">\n",
              "\n",
              "  <div class=\"colab-df-container\">\n",
              "    <button class=\"colab-df-convert\" onclick=\"convertToInteractive('df-f6f3906b-5834-4e23-9e21-a7ed718f150b')\"\n",
              "            title=\"Convert this dataframe to an interactive table.\"\n",
              "            style=\"display:none;\">\n",
              "\n",
              "  <svg xmlns=\"http://www.w3.org/2000/svg\" height=\"24px\" viewBox=\"0 -960 960 960\">\n",
              "    <path d=\"M120-120v-720h720v720H120Zm60-500h600v-160H180v160Zm220 220h160v-160H400v160Zm0 220h160v-160H400v160ZM180-400h160v-160H180v160Zm440 0h160v-160H620v160ZM180-180h160v-160H180v160Zm440 0h160v-160H620v160Z\"/>\n",
              "  </svg>\n",
              "    </button>\n",
              "\n",
              "  <style>\n",
              "    .colab-df-container {\n",
              "      display:flex;\n",
              "      gap: 12px;\n",
              "    }\n",
              "\n",
              "    .colab-df-convert {\n",
              "      background-color: #E8F0FE;\n",
              "      border: none;\n",
              "      border-radius: 50%;\n",
              "      cursor: pointer;\n",
              "      display: none;\n",
              "      fill: #1967D2;\n",
              "      height: 32px;\n",
              "      padding: 0 0 0 0;\n",
              "      width: 32px;\n",
              "    }\n",
              "\n",
              "    .colab-df-convert:hover {\n",
              "      background-color: #E2EBFA;\n",
              "      box-shadow: 0px 1px 2px rgba(60, 64, 67, 0.3), 0px 1px 3px 1px rgba(60, 64, 67, 0.15);\n",
              "      fill: #174EA6;\n",
              "    }\n",
              "\n",
              "    .colab-df-buttons div {\n",
              "      margin-bottom: 4px;\n",
              "    }\n",
              "\n",
              "    [theme=dark] .colab-df-convert {\n",
              "      background-color: #3B4455;\n",
              "      fill: #D2E3FC;\n",
              "    }\n",
              "\n",
              "    [theme=dark] .colab-df-convert:hover {\n",
              "      background-color: #434B5C;\n",
              "      box-shadow: 0px 1px 3px 1px rgba(0, 0, 0, 0.15);\n",
              "      filter: drop-shadow(0px 1px 2px rgba(0, 0, 0, 0.3));\n",
              "      fill: #FFFFFF;\n",
              "    }\n",
              "  </style>\n",
              "\n",
              "    <script>\n",
              "      const buttonEl =\n",
              "        document.querySelector('#df-f6f3906b-5834-4e23-9e21-a7ed718f150b button.colab-df-convert');\n",
              "      buttonEl.style.display =\n",
              "        google.colab.kernel.accessAllowed ? 'block' : 'none';\n",
              "\n",
              "      async function convertToInteractive(key) {\n",
              "        const element = document.querySelector('#df-f6f3906b-5834-4e23-9e21-a7ed718f150b');\n",
              "        const dataTable =\n",
              "          await google.colab.kernel.invokeFunction('convertToInteractive',\n",
              "                                                    [key], {});\n",
              "        if (!dataTable) return;\n",
              "\n",
              "        const docLinkHtml = 'Like what you see? Visit the ' +\n",
              "          '<a target=\"_blank\" href=https://colab.research.google.com/notebooks/data_table.ipynb>data table notebook</a>'\n",
              "          + ' to learn more about interactive tables.';\n",
              "        element.innerHTML = '';\n",
              "        dataTable['output_type'] = 'display_data';\n",
              "        await google.colab.output.renderOutput(dataTable, element);\n",
              "        const docLink = document.createElement('div');\n",
              "        docLink.innerHTML = docLinkHtml;\n",
              "        element.appendChild(docLink);\n",
              "      }\n",
              "    </script>\n",
              "  </div>\n",
              "\n",
              "\n",
              "<div id=\"df-a0144205-a003-47b1-a8b3-8ce75bbf1272\">\n",
              "  <button class=\"colab-df-quickchart\" onclick=\"quickchart('df-a0144205-a003-47b1-a8b3-8ce75bbf1272')\"\n",
              "            title=\"Suggest charts\"\n",
              "            style=\"display:none;\">\n",
              "\n",
              "<svg xmlns=\"http://www.w3.org/2000/svg\" height=\"24px\"viewBox=\"0 0 24 24\"\n",
              "     width=\"24px\">\n",
              "    <g>\n",
              "        <path d=\"M19 3H5c-1.1 0-2 .9-2 2v14c0 1.1.9 2 2 2h14c1.1 0 2-.9 2-2V5c0-1.1-.9-2-2-2zM9 17H7v-7h2v7zm4 0h-2V7h2v10zm4 0h-2v-4h2v4z\"/>\n",
              "    </g>\n",
              "</svg>\n",
              "  </button>\n",
              "\n",
              "<style>\n",
              "  .colab-df-quickchart {\n",
              "      --bg-color: #E8F0FE;\n",
              "      --fill-color: #1967D2;\n",
              "      --hover-bg-color: #E2EBFA;\n",
              "      --hover-fill-color: #174EA6;\n",
              "      --disabled-fill-color: #AAA;\n",
              "      --disabled-bg-color: #DDD;\n",
              "  }\n",
              "\n",
              "  [theme=dark] .colab-df-quickchart {\n",
              "      --bg-color: #3B4455;\n",
              "      --fill-color: #D2E3FC;\n",
              "      --hover-bg-color: #434B5C;\n",
              "      --hover-fill-color: #FFFFFF;\n",
              "      --disabled-bg-color: #3B4455;\n",
              "      --disabled-fill-color: #666;\n",
              "  }\n",
              "\n",
              "  .colab-df-quickchart {\n",
              "    background-color: var(--bg-color);\n",
              "    border: none;\n",
              "    border-radius: 50%;\n",
              "    cursor: pointer;\n",
              "    display: none;\n",
              "    fill: var(--fill-color);\n",
              "    height: 32px;\n",
              "    padding: 0;\n",
              "    width: 32px;\n",
              "  }\n",
              "\n",
              "  .colab-df-quickchart:hover {\n",
              "    background-color: var(--hover-bg-color);\n",
              "    box-shadow: 0 1px 2px rgba(60, 64, 67, 0.3), 0 1px 3px 1px rgba(60, 64, 67, 0.15);\n",
              "    fill: var(--button-hover-fill-color);\n",
              "  }\n",
              "\n",
              "  .colab-df-quickchart-complete:disabled,\n",
              "  .colab-df-quickchart-complete:disabled:hover {\n",
              "    background-color: var(--disabled-bg-color);\n",
              "    fill: var(--disabled-fill-color);\n",
              "    box-shadow: none;\n",
              "  }\n",
              "\n",
              "  .colab-df-spinner {\n",
              "    border: 2px solid var(--fill-color);\n",
              "    border-color: transparent;\n",
              "    border-bottom-color: var(--fill-color);\n",
              "    animation:\n",
              "      spin 1s steps(1) infinite;\n",
              "  }\n",
              "\n",
              "  @keyframes spin {\n",
              "    0% {\n",
              "      border-color: transparent;\n",
              "      border-bottom-color: var(--fill-color);\n",
              "      border-left-color: var(--fill-color);\n",
              "    }\n",
              "    20% {\n",
              "      border-color: transparent;\n",
              "      border-left-color: var(--fill-color);\n",
              "      border-top-color: var(--fill-color);\n",
              "    }\n",
              "    30% {\n",
              "      border-color: transparent;\n",
              "      border-left-color: var(--fill-color);\n",
              "      border-top-color: var(--fill-color);\n",
              "      border-right-color: var(--fill-color);\n",
              "    }\n",
              "    40% {\n",
              "      border-color: transparent;\n",
              "      border-right-color: var(--fill-color);\n",
              "      border-top-color: var(--fill-color);\n",
              "    }\n",
              "    60% {\n",
              "      border-color: transparent;\n",
              "      border-right-color: var(--fill-color);\n",
              "    }\n",
              "    80% {\n",
              "      border-color: transparent;\n",
              "      border-right-color: var(--fill-color);\n",
              "      border-bottom-color: var(--fill-color);\n",
              "    }\n",
              "    90% {\n",
              "      border-color: transparent;\n",
              "      border-bottom-color: var(--fill-color);\n",
              "    }\n",
              "  }\n",
              "</style>\n",
              "\n",
              "  <script>\n",
              "    async function quickchart(key) {\n",
              "      const quickchartButtonEl =\n",
              "        document.querySelector('#' + key + ' button');\n",
              "      quickchartButtonEl.disabled = true;  // To prevent multiple clicks.\n",
              "      quickchartButtonEl.classList.add('colab-df-spinner');\n",
              "      try {\n",
              "        const charts = await google.colab.kernel.invokeFunction(\n",
              "            'suggestCharts', [key], {});\n",
              "      } catch (error) {\n",
              "        console.error('Error during call to suggestCharts:', error);\n",
              "      }\n",
              "      quickchartButtonEl.classList.remove('colab-df-spinner');\n",
              "      quickchartButtonEl.classList.add('colab-df-quickchart-complete');\n",
              "    }\n",
              "    (() => {\n",
              "      let quickchartButtonEl =\n",
              "        document.querySelector('#df-a0144205-a003-47b1-a8b3-8ce75bbf1272 button');\n",
              "      quickchartButtonEl.style.display =\n",
              "        google.colab.kernel.accessAllowed ? 'block' : 'none';\n",
              "    })();\n",
              "  </script>\n",
              "</div>\n",
              "    </div>\n",
              "  </div>\n"
            ]
          },
          "metadata": {},
          "execution_count": 46
        }
      ]
    },
    {
      "cell_type": "markdown",
      "source": [
        "# 3. Анализ результатов"
      ],
      "metadata": {
        "id": "ECWlJmOnqDCy"
      }
    }
  ]
}