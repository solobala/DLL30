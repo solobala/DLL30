{
  "nbformat": 4,
  "nbformat_minor": 0,
  "metadata": {
    "colab": {
      "provenance": [],
      "authorship_tag": "ABX9TyMsqqLDMbJ/cOQet2BW4wt5",
      "include_colab_link": true
    },
    "kernelspec": {
      "name": "python3",
      "display_name": "Python 3"
    },
    "language_info": {
      "name": "python"
    }
  },
  "cells": [
    {
      "cell_type": "markdown",
      "metadata": {
        "id": "view-in-github",
        "colab_type": "text"
      },
      "source": [
        "<a href=\"https://colab.research.google.com/github/solobala/DLL30/blob/main/DLL30_DZ2_ipynb.ipynb\" target=\"_parent\"><img src=\"https://colab.research.google.com/assets/colab-badge.svg\" alt=\"Open In Colab\"/></a>"
      ]
    },
    {
      "cell_type": "markdown",
      "source": [
        "# Домашнее задание по теме «Многослойная нейронная сеть»\n",
        "\n",
        "Преподаватель: Даниил Корбут, Алексей Миронов, Юлия Пономарева, Татьяна Булгакова, Светлана Медведева, Артём Качалкин\n",
        "\n",
        "Цель задания: научиться на простейшем уровне подбирать архитектуру полносвязной нейронной сети для получения качества решения задачи не ниже заданного.\n",
        "\n",
        "Задание\n",
        "Постройте модель на основе полносвязных слоёв для классификации Fashion MNIST из библиотеки torchvision (datasets).\n",
        "Получите качество на тестовой выборке не ниже 88%\n",
        "\n",
        "*Инструкция по выполнению задания*\n",
        "\n",
        "1. Скачайте тренировочную и тестовою часть датасета Fashion MNIST\n",
        "\n",
        "2. Постройте модель, выбрав стартовую архитектуру\n",
        "\n",
        "3. Обучите модель и сверьте качество на тестовой части с заданным порогом\n",
        "\n",
        "Изменяйте архитектуру модели, пока качество на тестовой части не будет выше порога. Вариации архитектуры можно реализовать через изменение количества слоёв, количества нейронов в слоях и использование регуляризации.\n",
        "Можно использовать различные оптимизаторы\n"
      ],
      "metadata": {
        "id": "OmGxYYN6E5_N"
      }
    },
    {
      "cell_type": "markdown",
      "source": [
        "# 0. Импорт библиотек и пользовательские функции"
      ],
      "metadata": {
        "id": "IIKuEr2vbcZS"
      }
    },
    {
      "cell_type": "code",
      "execution_count": 1,
      "metadata": {
        "id": "u_eGDVSKE1X9"
      },
      "outputs": [],
      "source": [
        "import matplotlib.pyplot as plt\n",
        "%matplotlib inline\n",
        "import numpy as np\n",
        "import pandas as pd\n",
        "import time"
      ]
    },
    {
      "cell_type": "code",
      "source": [
        "import torch\n",
        "import torchvision as tv\n",
        "import torch.nn as nn\n",
        "from torch.autograd import Variable\n",
        "import torchvision.transforms as transforms\n",
        "from torch.utils.data import Dataset, DataLoader\n",
        "from sklearn.metrics import confusion_matrix"
      ],
      "metadata": {
        "id": "jS3gXTG1XR-Y"
      },
      "execution_count": 2,
      "outputs": []
    },
    {
      "cell_type": "code",
      "source": [
        "device ='cuda' if torch.cuda.is_available else 'cpu'\n",
        "print(f'Using {device} device')"
      ],
      "metadata": {
        "colab": {
          "base_uri": "https://localhost:8080/"
        },
        "id": "ovONlkqCda5W",
        "outputId": "5fe27ee7-1575-4d7d-a966-dbfd653115cd"
      },
      "execution_count": 9,
      "outputs": [
        {
          "output_type": "stream",
          "name": "stdout",
          "text": [
            "Using cuda device\n"
          ]
        }
      ]
    },
    {
      "cell_type": "markdown",
      "source": [
        "# 1. Загрузка данных"
      ],
      "metadata": {
        "id": "OxhmO0C8bhng"
      }
    },
    {
      "cell_type": "code",
      "source": [
        "train_set = tv.datasets.FashionMNIST(\"./data\", download=True, transform=\n",
        "                                                transforms.Compose([transforms.ToTensor()]))\n",
        "test_set = tv.datasets.FashionMNIST(\"./data\", download=True, train=False, transform=\n",
        "                                               transforms.Compose([transforms.ToTensor()]))"
      ],
      "metadata": {
        "colab": {
          "base_uri": "https://localhost:8080/"
        },
        "id": "9uESWkH9a-iE",
        "outputId": "219055b0-9f1c-4df0-daf7-09e6ee5ede8a"
      },
      "execution_count": 3,
      "outputs": [
        {
          "output_type": "stream",
          "name": "stdout",
          "text": [
            "Downloading http://fashion-mnist.s3-website.eu-central-1.amazonaws.com/train-images-idx3-ubyte.gz\n",
            "Downloading http://fashion-mnist.s3-website.eu-central-1.amazonaws.com/train-images-idx3-ubyte.gz to ./data/FashionMNIST/raw/train-images-idx3-ubyte.gz\n"
          ]
        },
        {
          "output_type": "stream",
          "name": "stderr",
          "text": [
            "100%|██████████| 26421880/26421880 [00:01<00:00, 18915687.82it/s]\n"
          ]
        },
        {
          "output_type": "stream",
          "name": "stdout",
          "text": [
            "Extracting ./data/FashionMNIST/raw/train-images-idx3-ubyte.gz to ./data/FashionMNIST/raw\n",
            "\n",
            "Downloading http://fashion-mnist.s3-website.eu-central-1.amazonaws.com/train-labels-idx1-ubyte.gz\n",
            "Downloading http://fashion-mnist.s3-website.eu-central-1.amazonaws.com/train-labels-idx1-ubyte.gz to ./data/FashionMNIST/raw/train-labels-idx1-ubyte.gz\n"
          ]
        },
        {
          "output_type": "stream",
          "name": "stderr",
          "text": [
            "100%|██████████| 29515/29515 [00:00<00:00, 301240.01it/s]\n"
          ]
        },
        {
          "output_type": "stream",
          "name": "stdout",
          "text": [
            "Extracting ./data/FashionMNIST/raw/train-labels-idx1-ubyte.gz to ./data/FashionMNIST/raw\n",
            "\n",
            "Downloading http://fashion-mnist.s3-website.eu-central-1.amazonaws.com/t10k-images-idx3-ubyte.gz\n",
            "Downloading http://fashion-mnist.s3-website.eu-central-1.amazonaws.com/t10k-images-idx3-ubyte.gz to ./data/FashionMNIST/raw/t10k-images-idx3-ubyte.gz\n"
          ]
        },
        {
          "output_type": "stream",
          "name": "stderr",
          "text": [
            "100%|██████████| 4422102/4422102 [00:00<00:00, 5613597.38it/s]\n"
          ]
        },
        {
          "output_type": "stream",
          "name": "stdout",
          "text": [
            "Extracting ./data/FashionMNIST/raw/t10k-images-idx3-ubyte.gz to ./data/FashionMNIST/raw\n",
            "\n",
            "Downloading http://fashion-mnist.s3-website.eu-central-1.amazonaws.com/t10k-labels-idx1-ubyte.gz\n",
            "Downloading http://fashion-mnist.s3-website.eu-central-1.amazonaws.com/t10k-labels-idx1-ubyte.gz to ./data/FashionMNIST/raw/t10k-labels-idx1-ubyte.gz\n"
          ]
        },
        {
          "output_type": "stream",
          "name": "stderr",
          "text": [
            "100%|██████████| 5148/5148 [00:00<00:00, 9164803.48it/s]\n"
          ]
        },
        {
          "output_type": "stream",
          "name": "stdout",
          "text": [
            "Extracting ./data/FashionMNIST/raw/t10k-labels-idx1-ubyte.gz to ./data/FashionMNIST/raw\n",
            "\n"
          ]
        }
      ]
    },
    {
      "cell_type": "code",
      "source": [
        "train_set[0][0].shape"
      ],
      "metadata": {
        "colab": {
          "base_uri": "https://localhost:8080/"
        },
        "id": "NkCNyTGCh-gK",
        "outputId": "dddfd9fb-ff65-4160-d04f-afa078d3031d"
      },
      "execution_count": 27,
      "outputs": [
        {
          "output_type": "execute_result",
          "data": {
            "text/plain": [
              "torch.Size([1, 28, 28])"
            ]
          },
          "metadata": {},
          "execution_count": 27
        }
      ]
    },
    {
      "cell_type": "code",
      "source": [
        "THRESHOLD = 0.88\n",
        "BATCH_SIZE=32"
      ],
      "metadata": {
        "id": "5YNozh_SbauI"
      },
      "execution_count": 19,
      "outputs": []
    },
    {
      "cell_type": "markdown",
      "source": [
        "## 1.1. Визуализация"
      ],
      "metadata": {
        "id": "jg3MlA0Ocvb_"
      }
    },
    {
      "cell_type": "code",
      "source": [
        "labels_map={\n",
        "    0: 'T-shirt',\n",
        "    1: 'Trouser',\n",
        "    2: 'Pullover',\n",
        "    3: 'Dress',\n",
        "    4: 'Coat',\n",
        "    5: 'Sandal',\n",
        "    6: 'Shirt',\n",
        "    7: 'Sneaker',\n",
        "    8: 'Bag',\n",
        "    9: 'Ankle Boot',\n",
        "}\n",
        "\n",
        "figure = plt.figure(figsize = (10,10))\n",
        "cols, rows = 3, 3\n",
        "\n",
        "for i in range (1, cols*rows + 1):\n",
        "    sample_idx = torch.randint(len(train_set), size = (1,)).item()\n",
        "    image, label = train_set[sample_idx]\n",
        "    figure.add_subplot(rows, cols, i)\n",
        "    plt.title(labels_map[label])\n",
        "    plt.axis('off')\n",
        "    plt.imshow(image.squeeze(), cmap='gray')\n",
        "plt.show()"
      ],
      "metadata": {
        "colab": {
          "base_uri": "https://localhost:8080/",
          "height": 829
        },
        "id": "kRW7ZUwmcKbT",
        "outputId": "c0ce951a-300c-4dc8-d714-913a04e6916b"
      },
      "execution_count": 7,
      "outputs": [
        {
          "output_type": "display_data",
          "data": {
            "text/plain": [
              "<Figure size 1000x1000 with 9 Axes>"
            ],
            "image/png": "[encoded data removed]"
          },
          "metadata": {}
        }
      ]
    },
    {
      "cell_type": "markdown",
      "source": [
        "## 1.2. Загрузчика данных pytorch для train и test"
      ],
      "metadata": {
        "id": "SjNa_hNXc2TZ"
      }
    },
    {
      "cell_type": "code",
      "source": [
        "train_loader = torch.utils.data.DataLoader(train_set,\n",
        "                                           batch_size=BATCH_SIZE)\n",
        "test_loader = torch.utils.data.DataLoader(test_set,\n",
        "                                          batch_size=BATCH_SIZE)"
      ],
      "metadata": {
        "id": "-jwcvfzwbAAl"
      },
      "execution_count": 20,
      "outputs": []
    },
    {
      "cell_type": "code",
      "source": [
        "for X,y in train_loader:\n",
        "    train_features, train_labels = next(iter(train_loader))\n",
        "    print(f'Shape of X [N, C, H, W]: {X.shape}')\n",
        "    print(f'Shape of y: {y.shape} {y.type}')\n",
        "    image = train_features[0].squeeze()\n",
        "    label = train_labels[0]\n",
        "    sample_idx= torch.randint((label), size = (1,)).item()\n",
        "    plt.title(f\"Label: {label} - {labels_map[sample_idx]}\")\n",
        "    plt.imshow(image, cmap=\"gray\")\n",
        "    plt.show()\n",
        "    print(f\"Labels batch shape: {train_labels.size()}\")\n",
        "    break"
      ],
      "metadata": {
        "colab": {
          "base_uri": "https://localhost:8080/",
          "height": 504
        },
        "id": "WEGB5lpBcodM",
        "outputId": "44a8aa51-40de-40e3-933b-bf3589d2b699"
      },
      "execution_count": 21,
      "outputs": [
        {
          "output_type": "stream",
          "name": "stdout",
          "text": [
            "Shape of X [N, C, H, W]: torch.Size([32, 1, 28, 28])\n",
            "Shape of y: torch.Size([32]) <built-in method type of Tensor object at 0x780c8a1b1170>\n"
          ]
        },
        {
          "output_type": "display_data",
          "data": {
            "text/plain": [
              "<Figure size 640x480 with 1 Axes>"
            ],
            "image/png": "[encoded data removed]"
          },
          "metadata": {}
        },
        {
          "output_type": "stream",
          "name": "stdout",
          "text": [
            "Labels batch shape: torch.Size([32])\n"
          ]
        }
      ]
    },
    {
      "cell_type": "markdown",
      "source": [
        "# Выбор базовой архитектуры"
      ],
      "metadata": {
        "id": "lE5QV2yUboDQ"
      }
    },
    {
      "cell_type": "code",
      "source": [
        "class NeuralNetwork(nn.Module):\n",
        "    def __init__(self):\n",
        "        super(NeuralNetwork, self).__init__()\n",
        "        self.flatten = nn.Flatten()\n",
        "        self.linear_relu_stack = nn.Sequential(\n",
        "            nn.Linear(28*28, 512),\n",
        "            nn.ReLU(),\n",
        "            nn.Linear(512, 512),\n",
        "            nn.ReLU(),\n",
        "            nn.Linear(512, 10)\n",
        "        )\n",
        "\n",
        "    def forward(self, x):\n",
        "        x = self.flatten(x)\n",
        "        logits = self.linear_relu_stack(x)\n",
        "        return logits"
      ],
      "metadata": {
        "id": "59Iiu3fXb-ez"
      },
      "execution_count": 10,
      "outputs": []
    },
    {
      "cell_type": "code",
      "source": [
        "# У меня нет GPU, поэтому буду использовать CPU\n",
        "device = 'cpu'\n",
        "model = NeuralNetwork().to(device)"
      ],
      "metadata": {
        "id": "ZOGd8bn-dok3"
      },
      "execution_count": 22,
      "outputs": []
    },
    {
      "cell_type": "code",
      "source": [
        "# Гиперпараметры  базовой модели\n",
        "learning_rate = 1e-3\n",
        "epochs = 10\n",
        "\n",
        "# Ф-я потерь\n",
        "loss_fn = nn.CrossEntropyLoss()\n",
        "\n",
        "#Оптимизатор\n",
        "optimizer = torch.optim.SGD(model.parameters(), lr=learning_rate)"
      ],
      "metadata": {
        "id": "CY26T_91eRhK"
      },
      "execution_count": 28,
      "outputs": []
    },
    {
      "cell_type": "code",
      "source": [
        "def trainloop (dataloader, model, loss_fn, optimizer):\n",
        "    size = len(dataloader.dataset)\n",
        "    model.train()\n",
        "    for batch, (X,y) in enumerate(dataloader):\n",
        "        X,y=X.to(device),y.to(device)\n",
        "\n",
        "        # Compute the error rate\n",
        "        prediction = model(X)\n",
        "        loss = loss_fn(prediction, y)\n",
        "\n",
        "        # Backpropagation\n",
        "        optimizer.zero_grad()\n",
        "        loss.backward()\n",
        "        optimizer.step()\n",
        "\n",
        "        if batch % 100 == 0:\n",
        "            loss, current = loss.item(), batch*len(X)\n",
        "            print(f'loss:{loss:>7f} [{current:>5d}/{size:>5d}]')"
      ],
      "metadata": {
        "id": "VT29tu-SetQ4"
      },
      "execution_count": 24,
      "outputs": []
    },
    {
      "cell_type": "code",
      "source": [
        "def evaluate (dataloader, model, loss_fn):\n",
        "    size = len(dataloader.dataset)\n",
        "    num_batches = len(dataloader)\n",
        "    model.eval()\n",
        "    test_loss, correct = 0, 0\n",
        "    with torch.no_grad():\n",
        "        for X,y in dataloader:\n",
        "            X,y = X.to(device),y.to(device)\n",
        "            pred = model(X)\n",
        "            test_loss += loss_fn(pred, y).item()\n",
        "            correct += (pred.argmax(1) == y).type(torch.float).sum().item()\n",
        "    test_loss /= num_batches\n",
        "    correct /= size\n",
        "    print(f'Test Error: \\n Accuracy: {(100*correct):>0.1f}%, Avg loss: {test_loss:>8f} \\n')\n",
        "    return 100 * correct, test_loss"
      ],
      "metadata": {
        "id": "5vkbqxZcezsi"
      },
      "execution_count": 31,
      "outputs": []
    },
    {
      "cell_type": "code",
      "source": [
        "accuracy_max = 0\n",
        "test_loss_opt = 0\n",
        "epoch_opt = 1\n",
        "for i in range(epochs):\n",
        "    print(f\"Epoch {i+1}\\n-------------------------------\")\n",
        "    trainloop(train_loader, model, loss_fn, optimizer)\n",
        "    accuracy, test_loss = evaluate(test_loader, model, loss_fn)\n",
        "    if accuracy > accuracy_max:\n",
        "      accuracy_max = accuracy\n",
        "      test_loss_opt = test_loss\n",
        "      epoch_opt = i\n",
        "print(\"Done!\")"
      ],
      "metadata": {
        "colab": {
          "base_uri": "https://localhost:8080/"
        },
        "id": "rJxaeL8ie9uS",
        "outputId": "90208407-b89a-42ee-d30a-0fd2de57fc68"
      },
      "execution_count": 32,
      "outputs": [
        {
          "output_type": "stream",
          "name": "stdout",
          "text": [
            "Epoch 1\n",
            "-------------------------------\n",
            "loss:0.433298 [    0/60000]\n",
            "loss:0.677163 [ 3200/60000]\n",
            "loss:0.415865 [ 6400/60000]\n",
            "loss:0.553794 [ 9600/60000]\n",
            "loss:0.427793 [12800/60000]\n",
            "loss:0.767316 [16000/60000]\n",
            "loss:0.415906 [19200/60000]\n",
            "loss:0.252316 [22400/60000]\n",
            "loss:0.485107 [25600/60000]\n",
            "loss:0.657219 [28800/60000]\n",
            "loss:0.567474 [32000/60000]\n",
            "loss:0.441448 [35200/60000]\n",
            "loss:0.654961 [38400/60000]\n",
            "loss:0.755548 [41600/60000]\n",
            "loss:0.724303 [44800/60000]\n",
            "loss:0.454101 [48000/60000]\n",
            "loss:0.561170 [51200/60000]\n",
            "loss:0.617880 [54400/60000]\n",
            "loss:0.547465 [57600/60000]\n",
            "Test Error: \n",
            " Accuracy: 81.4%, Avg loss: 0.536722 \n",
            "\n",
            "Epoch 2\n",
            "-------------------------------\n",
            "loss:0.424585 [    0/60000]\n",
            "loss:0.670215 [ 3200/60000]\n",
            "loss:0.403433 [ 6400/60000]\n",
            "loss:0.542670 [ 9600/60000]\n",
            "loss:0.418540 [12800/60000]\n",
            "loss:0.763126 [16000/60000]\n",
            "loss:0.409429 [19200/60000]\n",
            "loss:0.241918 [22400/60000]\n",
            "loss:0.475081 [25600/60000]\n",
            "loss:0.638877 [28800/60000]\n",
            "loss:0.558563 [32000/60000]\n",
            "loss:0.437006 [35200/60000]\n",
            "loss:0.637190 [38400/60000]\n",
            "loss:0.750250 [41600/60000]\n",
            "loss:0.727083 [44800/60000]\n",
            "loss:0.450854 [48000/60000]\n",
            "loss:0.556911 [51200/60000]\n",
            "loss:0.605727 [54400/60000]\n",
            "loss:0.538007 [57600/60000]\n",
            "Test Error: \n",
            " Accuracy: 81.5%, Avg loss: 0.528819 \n",
            "\n",
            "Epoch 3\n",
            "-------------------------------\n",
            "loss:0.416358 [    0/60000]\n",
            "loss:0.663554 [ 3200/60000]\n",
            "loss:0.392999 [ 6400/60000]\n",
            "loss:0.532987 [ 9600/60000]\n",
            "loss:0.410503 [12800/60000]\n",
            "loss:0.759976 [16000/60000]\n",
            "loss:0.403387 [19200/60000]\n",
            "loss:0.233011 [22400/60000]\n",
            "loss:0.466109 [25600/60000]\n",
            "loss:0.622587 [28800/60000]\n",
            "loss:0.550101 [32000/60000]\n",
            "loss:0.433146 [35200/60000]\n",
            "loss:0.621529 [38400/60000]\n",
            "loss:0.745252 [41600/60000]\n",
            "loss:0.729671 [44800/60000]\n",
            "loss:0.448165 [48000/60000]\n",
            "loss:0.552603 [51200/60000]\n",
            "loss:0.594957 [54400/60000]\n",
            "loss:0.529192 [57600/60000]\n",
            "Test Error: \n",
            " Accuracy: 81.6%, Avg loss: 0.521841 \n",
            "\n",
            "Epoch 4\n",
            "-------------------------------\n",
            "loss:0.408403 [    0/60000]\n",
            "loss:0.656960 [ 3200/60000]\n",
            "loss:0.384179 [ 6400/60000]\n",
            "loss:0.524710 [ 9600/60000]\n",
            "loss:0.403347 [12800/60000]\n",
            "loss:0.757759 [16000/60000]\n",
            "loss:0.397559 [19200/60000]\n",
            "loss:0.225206 [22400/60000]\n",
            "loss:0.457976 [25600/60000]\n",
            "loss:0.607913 [28800/60000]\n",
            "loss:0.542099 [32000/60000]\n",
            "loss:0.429687 [35200/60000]\n",
            "loss:0.607588 [38400/60000]\n",
            "loss:0.740447 [41600/60000]\n",
            "loss:0.731869 [44800/60000]\n",
            "loss:0.445690 [48000/60000]\n",
            "loss:0.548344 [51200/60000]\n",
            "loss:0.585470 [54400/60000]\n",
            "loss:0.521030 [57600/60000]\n",
            "Test Error: \n",
            " Accuracy: 81.8%, Avg loss: 0.515638 \n",
            "\n",
            "Epoch 5\n",
            "-------------------------------\n",
            "loss:0.400726 [    0/60000]\n",
            "loss:0.650449 [ 3200/60000]\n",
            "loss:0.376709 [ 6400/60000]\n",
            "loss:0.517606 [ 9600/60000]\n",
            "loss:0.396846 [12800/60000]\n",
            "loss:0.756283 [16000/60000]\n",
            "loss:0.391976 [19200/60000]\n",
            "loss:0.218403 [22400/60000]\n",
            "loss:0.450983 [25600/60000]\n",
            "loss:0.594779 [28800/60000]\n",
            "loss:0.534617 [32000/60000]\n",
            "loss:0.426212 [35200/60000]\n",
            "loss:0.594730 [38400/60000]\n",
            "loss:0.736093 [41600/60000]\n",
            "loss:0.733668 [44800/60000]\n",
            "loss:0.443490 [48000/60000]\n",
            "loss:0.544124 [51200/60000]\n",
            "loss:0.577057 [54400/60000]\n",
            "loss:0.513458 [57600/60000]\n",
            "Test Error: \n",
            " Accuracy: 81.9%, Avg loss: 0.510066 \n",
            "\n",
            "Epoch 6\n",
            "-------------------------------\n",
            "loss:0.393448 [    0/60000]\n",
            "loss:0.643657 [ 3200/60000]\n",
            "loss:0.370478 [ 6400/60000]\n",
            "loss:0.511355 [ 9600/60000]\n",
            "loss:0.391094 [12800/60000]\n",
            "loss:0.755377 [16000/60000]\n",
            "loss:0.386692 [19200/60000]\n",
            "loss:0.212618 [22400/60000]\n",
            "loss:0.444935 [25600/60000]\n",
            "loss:0.582847 [28800/60000]\n",
            "loss:0.527677 [32000/60000]\n",
            "loss:0.423187 [35200/60000]\n",
            "loss:0.582981 [38400/60000]\n",
            "loss:0.732150 [41600/60000]\n",
            "loss:0.735012 [44800/60000]\n",
            "loss:0.441298 [48000/60000]\n",
            "loss:0.539665 [51200/60000]\n",
            "loss:0.569324 [54400/60000]\n",
            "loss:0.506499 [57600/60000]\n",
            "Test Error: \n",
            " Accuracy: 82.0%, Avg loss: 0.505058 \n",
            "\n",
            "Epoch 7\n",
            "-------------------------------\n",
            "loss:0.386265 [    0/60000]\n",
            "loss:0.636611 [ 3200/60000]\n",
            "loss:0.365278 [ 6400/60000]\n",
            "loss:0.505998 [ 9600/60000]\n",
            "loss:0.385670 [12800/60000]\n",
            "loss:0.754689 [16000/60000]\n",
            "loss:0.381641 [19200/60000]\n",
            "loss:0.207327 [22400/60000]\n",
            "loss:0.439529 [25600/60000]\n",
            "loss:0.572161 [28800/60000]\n",
            "loss:0.521768 [32000/60000]\n",
            "loss:0.420495 [35200/60000]\n",
            "loss:0.572383 [38400/60000]\n",
            "loss:0.728379 [41600/60000]\n",
            "loss:0.735533 [44800/60000]\n",
            "loss:0.439045 [48000/60000]\n",
            "loss:0.534930 [51200/60000]\n",
            "loss:0.562146 [54400/60000]\n",
            "loss:0.500314 [57600/60000]\n",
            "Test Error: \n",
            " Accuracy: 82.1%, Avg loss: 0.500501 \n",
            "\n",
            "Epoch 8\n",
            "-------------------------------\n",
            "loss:0.379283 [    0/60000]\n",
            "loss:0.629360 [ 3200/60000]\n",
            "loss:0.360600 [ 6400/60000]\n",
            "loss:0.501114 [ 9600/60000]\n",
            "loss:0.380631 [12800/60000]\n",
            "loss:0.754382 [16000/60000]\n",
            "loss:0.376907 [19200/60000]\n",
            "loss:0.202614 [22400/60000]\n",
            "loss:0.434989 [25600/60000]\n",
            "loss:0.562100 [28800/60000]\n",
            "loss:0.516516 [32000/60000]\n",
            "loss:0.418108 [35200/60000]\n",
            "loss:0.562760 [38400/60000]\n",
            "loss:0.724852 [41600/60000]\n",
            "loss:0.734934 [44800/60000]\n",
            "loss:0.436976 [48000/60000]\n",
            "loss:0.530374 [51200/60000]\n",
            "loss:0.555495 [54400/60000]\n",
            "loss:0.494795 [57600/60000]\n",
            "Test Error: \n",
            " Accuracy: 82.2%, Avg loss: 0.496333 \n",
            "\n",
            "Epoch 9\n",
            "-------------------------------\n",
            "loss:0.372692 [    0/60000]\n",
            "loss:0.621944 [ 3200/60000]\n",
            "loss:0.356432 [ 6400/60000]\n",
            "loss:0.496916 [ 9600/60000]\n",
            "loss:0.376028 [12800/60000]\n",
            "loss:0.754288 [16000/60000]\n",
            "loss:0.372395 [19200/60000]\n",
            "loss:0.198474 [22400/60000]\n",
            "loss:0.431017 [25600/60000]\n",
            "loss:0.552905 [28800/60000]\n",
            "loss:0.511811 [32000/60000]\n",
            "loss:0.415924 [35200/60000]\n",
            "loss:0.553809 [38400/60000]\n",
            "loss:0.721529 [41600/60000]\n",
            "loss:0.733761 [44800/60000]\n",
            "loss:0.434920 [48000/60000]\n",
            "loss:0.525868 [51200/60000]\n",
            "loss:0.549380 [54400/60000]\n",
            "loss:0.489890 [57600/60000]\n",
            "Test Error: \n",
            " Accuracy: 82.4%, Avg loss: 0.492498 \n",
            "\n",
            "Epoch 10\n",
            "-------------------------------\n",
            "loss:0.366402 [    0/60000]\n",
            "loss:0.614371 [ 3200/60000]\n",
            "loss:0.352750 [ 6400/60000]\n",
            "loss:0.493270 [ 9600/60000]\n",
            "loss:0.371833 [12800/60000]\n",
            "loss:0.754422 [16000/60000]\n",
            "loss:0.368174 [19200/60000]\n",
            "loss:0.194807 [22400/60000]\n",
            "loss:0.427787 [25600/60000]\n",
            "loss:0.544236 [28800/60000]\n",
            "loss:0.507594 [32000/60000]\n",
            "loss:0.413876 [35200/60000]\n",
            "loss:0.545513 [38400/60000]\n",
            "loss:0.718428 [41600/60000]\n",
            "loss:0.732146 [44800/60000]\n",
            "loss:0.432978 [48000/60000]\n",
            "loss:0.521417 [51200/60000]\n",
            "loss:0.543841 [54400/60000]\n",
            "loss:0.485685 [57600/60000]\n",
            "Test Error: \n",
            " Accuracy: 82.5%, Avg loss: 0.488941 \n",
            "\n",
            "Done!\n"
          ]
        }
      ]
    },
    {
      "cell_type": "code",
      "source": [
        "print(accuracy_max, test_loss_opt, epoch_opt)"
      ],
      "metadata": {
        "colab": {
          "base_uri": "https://localhost:8080/"
        },
        "id": "6ckpMf1EoqeK",
        "outputId": "979137b1-7734-48e9-bd4e-d2fb10936a7b"
      },
      "execution_count": 33,
      "outputs": [
        {
          "output_type": "stream",
          "name": "stdout",
          "text": [
            "82.53 0.4889414771296346 9\n"
          ]
        }
      ]
    },
    {
      "cell_type": "code",
      "source": [
        "df_results= pd.DataFrame(columns = ['optimizer', 'accuracy', 'avg_loss', 'epoch'])\n",
        "df_results.loc[len(df_results.index)] = ['SGD',  accuracy_max, test_loss_opt, epoch_opt]"
      ],
      "metadata": {
        "id": "if6Sge6WlmIJ"
      },
      "execution_count": null,
      "outputs": []
    },
    {
      "cell_type": "markdown",
      "source": [
        "Вывод:\n",
        "Качество базовой модели не достигло заданного порога за 10 эпох. При этом с увеличением числа эпох обучения качество растет, но чем дальше, тем медленнее, и скорее всего, при базовых настройках для преодоления порога в 88%  либо потребуется не менее 60 эпох, либо он вовсе не будет преодолен.\n",
        "\n",
        "Планирую следующую стратегию:\n",
        "\n",
        "1. Вначале проверю, как изменится качество модели при использовании других оптимизаторов с сохранением прочих гиперпараметров (числа эпох, шага обучения, размера батча, к-ва слоев, ширины промежуточного слоя). Если порог не будет преодолен, то\n",
        "2. Использую лучший оптимизатор из п. 1 и буду увеличивать ширину промежуточного слоя. Если порог все еще не будет преодолен, При достижении переобучения добавлю Dropout"
      ],
      "metadata": {
        "id": "MW7-whv7jOWf"
      }
    },
    {
      "cell_type": "code",
      "source": [
        "optimizers = []\n",
        "# optimizers.append({\"SGD\": torch.optim.SGD(model.parameters(), lr=learning_rate)})\n",
        "optimizers.append({\"RMSProp\": torch.optim.RMSprop(model.parameters(), lr=learning_rate)})\n",
        "optimizers.append({\"AdamW\": torch.optim.AdamW(model.parameters(), lr=learning_rate)})\n",
        "optimizers.append({\"Adagrad\": torch.optim.Adagrad(model.parameters(), lr=learning_rate)})\n",
        "optimizers.append({\"NADam\": torch.optim.NAdam(model.parameters(), lr=learning_rate)})"
      ],
      "metadata": {
        "id": "BtUhwMSbfV4J"
      },
      "execution_count": 40,
      "outputs": []
    },
    {
      "cell_type": "code",
      "source": [
        "for optimizer in optimizers:\n",
        "  for key, value in optimizer.items():\n",
        "    accuracy_max = 0\n",
        "    test_loss_opt = 0\n",
        "    epoch_opt = 1\n",
        "    for i in range(epochs):\n",
        "        print(f\"Epoch {i+1}\\n-------------------------------\")\n",
        "        trainloop(train_loader, model, loss_fn, value)\n",
        "        accuracy, test_loss = evaluate(test_loader, model, loss_fn)\n",
        "        if accuracy > accuracy_max:\n",
        "          accuracy_max = accuracy\n",
        "          test_loss_opt = test_loss\n",
        "          epoch_opt = i\n",
        "    print(\"Done!\")\n",
        "    df_results.loc[len(df_results.index)] = [key,  accuracy_max, test_loss_opt, epoch_opt]"
      ],
      "metadata": {
        "colab": {
          "base_uri": "https://localhost:8080/"
        },
        "id": "UrhWxWMhrQhq",
        "outputId": "f189f9ce-be00-458e-c85f-6b3feee01e6b"
      },
      "execution_count": null,
      "outputs": [
        {
          "output_type": "stream",
          "name": "stdout",
          "text": [
            "Epoch 1\n",
            "-------------------------------\n",
            "loss:0.360566 [    0/60000]\n",
            "loss:0.808664 [ 3200/60000]\n",
            "loss:0.389809 [ 6400/60000]\n",
            "loss:0.711804 [ 9600/60000]\n",
            "loss:0.476984 [12800/60000]\n",
            "loss:1.000365 [16000/60000]\n",
            "loss:0.402195 [19200/60000]\n",
            "loss:0.377809 [22400/60000]\n",
            "loss:0.503165 [25600/60000]\n",
            "loss:0.402672 [28800/60000]\n",
            "loss:0.494394 [32000/60000]\n",
            "loss:0.500184 [35200/60000]\n",
            "loss:0.372076 [38400/60000]\n",
            "loss:0.513528 [41600/60000]\n",
            "loss:0.781536 [44800/60000]\n",
            "loss:0.419188 [48000/60000]\n",
            "loss:0.480266 [51200/60000]\n",
            "loss:0.383138 [54400/60000]\n",
            "loss:0.596506 [57600/60000]\n",
            "Test Error: \n",
            " Accuracy: 84.7%, Avg loss: 0.420151 \n",
            "\n",
            "Epoch 2\n",
            "-------------------------------\n",
            "loss:0.305377 [    0/60000]\n",
            "loss:0.428643 [ 3200/60000]\n",
            "loss:0.198034 [ 6400/60000]\n",
            "loss:0.436206 [ 9600/60000]\n",
            "loss:0.319884 [12800/60000]\n",
            "loss:0.782833 [16000/60000]\n",
            "loss:0.321736 [19200/60000]\n",
            "loss:0.206609 [22400/60000]\n",
            "loss:0.371317 [25600/60000]\n",
            "loss:0.242128 [28800/60000]\n",
            "loss:0.466811 [32000/60000]\n",
            "loss:0.405396 [35200/60000]\n",
            "loss:0.359775 [38400/60000]\n",
            "loss:0.434255 [41600/60000]\n",
            "loss:0.876409 [44800/60000]\n",
            "loss:0.411070 [48000/60000]\n",
            "loss:0.382445 [51200/60000]\n",
            "loss:0.359972 [54400/60000]\n",
            "loss:0.511203 [57600/60000]\n",
            "Test Error: \n",
            " Accuracy: 85.9%, Avg loss: 0.390504 \n",
            "\n",
            "Epoch 3\n",
            "-------------------------------\n",
            "loss:0.250609 [    0/60000]\n",
            "loss:0.296541 [ 3200/60000]\n",
            "loss:0.208810 [ 6400/60000]\n",
            "loss:0.376220 [ 9600/60000]\n",
            "loss:0.262817 [12800/60000]\n",
            "loss:0.640212 [16000/60000]\n",
            "loss:0.272630 [19200/60000]\n",
            "loss:0.181883 [22400/60000]\n",
            "loss:0.334777 [25600/60000]\n",
            "loss:0.255786 [28800/60000]\n",
            "loss:0.489297 [32000/60000]\n"
          ]
        }
      ]
    },
    {
      "cell_type": "code",
      "source": [
        "df_results.sort_values(by='r2score', ascending=False)"
      ],
      "metadata": {
        "id": "OPeg5fZmseY7"
      },
      "execution_count": null,
      "outputs": []
    }
  ]
}