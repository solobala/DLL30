{
  "nbformat": 4,
  "nbformat_minor": 0,
  "metadata": {
    "colab": {
      "provenance": [],
      "include_colab_link": true
    },
    "kernelspec": {
      "display_name": "Python 3",
      "language": "python",
      "name": "python3"
    },
    "language_info": {
      "codemirror_mode": {
        "name": "ipython",
        "version": 3
      },
      "file_extension": ".py",
      "mimetype": "text/x-python",
      "name": "python",
      "nbconvert_exporter": "python",
      "pygments_lexer": "ipython3",
      "version": "3.7.1"
    }
  },
  "cells": [
    {
      "cell_type": "markdown",
      "metadata": {
        "id": "view-in-github",
        "colab_type": "text"
      },
      "source": [
        "<a href=\"https://colab.research.google.com/github/solobala/DLL30/blob/main/%D0%97%D0%B0%D0%BD%D1%8F%D1%82%D0%B8%D0%B5_2_%D0%9C%D0%BD%D0%BE%D0%B3%D0%BE%D1%81%D0%BB%D0%BE%D0%B9%D0%BD%D0%B0%D1%8F_%D0%BD%D0%B5%D0%B9%D1%80%D0%BE%D0%BD%D0%BD%D0%B0%D1%8F_%D1%81%D0%B5%D1%82%D1%8C.ipynb\" target=\"_parent\"><img src=\"https://colab.research.google.com/assets/colab-badge.svg\" alt=\"Open In Colab\"/></a>"
      ]
    },
    {
      "cell_type": "code",
      "metadata": {
        "id": "WGoorsK6mPZP"
      },
      "source": [
        "import matplotlib.pyplot as plt\n",
        "%matplotlib inline"
      ],
      "execution_count": 1,
      "outputs": []
    },
    {
      "cell_type": "code",
      "metadata": {
        "id": "WIcNCt4ZmPZZ"
      },
      "source": [
        "import torch"
      ],
      "execution_count": 2,
      "outputs": []
    },
    {
      "cell_type": "code",
      "metadata": {
        "id": "yiHPlx2wmPZe"
      },
      "source": [
        "import numpy as np"
      ],
      "execution_count": 3,
      "outputs": []
    },
    {
      "cell_type": "markdown",
      "metadata": {
        "id": "uTrwDt0OmPZj"
      },
      "source": [
        "## MLP"
      ]
    },
    {
      "cell_type": "markdown",
      "metadata": {
        "id": "BQEb43_PmPZk"
      },
      "source": [
        "## Данные"
      ]
    },
    {
      "cell_type": "code",
      "metadata": {
        "id": "RAge7EI-mPZl"
      },
      "source": [
        "import torchvision as tv"
      ],
      "execution_count": 4,
      "outputs": []
    },
    {
      "cell_type": "code",
      "source": [
        "import pandas as pd\n",
        "import numpy as np"
      ],
      "metadata": {
        "id": "-UsgWaRFczpO"
      },
      "execution_count": 5,
      "outputs": []
    },
    {
      "cell_type": "code",
      "metadata": {
        "id": "Nd6TznshmPZp"
      },
      "source": [
        "import time"
      ],
      "execution_count": 6,
      "outputs": []
    },
    {
      "cell_type": "code",
      "metadata": {
        "id": "qb_NW7cVmPZs"
      },
      "source": [
        "BATCH_SIZE=256"
      ],
      "execution_count": 7,
      "outputs": []
    },
    {
      "cell_type": "code",
      "metadata": {
        "colab": {
          "base_uri": "https://localhost:8080/"
        },
        "id": "Kw5Kv2i6mPZu",
        "outputId": "465347ca-6445-4460-a2be-48ad2f24d7b1"
      },
      "source": [
        "train_dataset = tv.datasets.MNIST('.', train=True, transform=tv.transforms.ToTensor(), download=True)\n",
        "test_dataset = tv.datasets.MNIST('.', train=False, transform=tv.transforms.ToTensor(), download=True)\n",
        "train = torch.utils.data.DataLoader(train_dataset, batch_size=BATCH_SIZE)\n",
        "test = torch.utils.data.DataLoader(test_dataset, batch_size=BATCH_SIZE)"
      ],
      "execution_count": 8,
      "outputs": [
        {
          "output_type": "stream",
          "name": "stdout",
          "text": [
            "Downloading http://yann.lecun.com/exdb/mnist/train-images-idx3-ubyte.gz\n",
            "Downloading http://yann.lecun.com/exdb/mnist/train-images-idx3-ubyte.gz to ./MNIST/raw/train-images-idx3-ubyte.gz\n"
          ]
        },
        {
          "output_type": "stream",
          "name": "stderr",
          "text": [
            "100%|██████████| 9912422/9912422 [00:00<00:00, 73529239.19it/s]\n"
          ]
        },
        {
          "output_type": "stream",
          "name": "stdout",
          "text": [
            "Extracting ./MNIST/raw/train-images-idx3-ubyte.gz to ./MNIST/raw\n",
            "\n",
            "Downloading http://yann.lecun.com/exdb/mnist/train-labels-idx1-ubyte.gz\n",
            "Downloading http://yann.lecun.com/exdb/mnist/train-labels-idx1-ubyte.gz to ./MNIST/raw/train-labels-idx1-ubyte.gz\n"
          ]
        },
        {
          "output_type": "stream",
          "name": "stderr",
          "text": [
            "100%|██████████| 28881/28881 [00:00<00:00, 95382436.08it/s]"
          ]
        },
        {
          "output_type": "stream",
          "name": "stdout",
          "text": [
            "Extracting ./MNIST/raw/train-labels-idx1-ubyte.gz to ./MNIST/raw\n",
            "\n",
            "Downloading http://yann.lecun.com/exdb/mnist/t10k-images-idx3-ubyte.gz\n",
            "Downloading http://yann.lecun.com/exdb/mnist/t10k-images-idx3-ubyte.gz to ./MNIST/raw/t10k-images-idx3-ubyte.gz\n"
          ]
        },
        {
          "output_type": "stream",
          "name": "stderr",
          "text": [
            "\n",
            "100%|██████████| 1648877/1648877 [00:00<00:00, 17807297.60it/s]\n"
          ]
        },
        {
          "output_type": "stream",
          "name": "stdout",
          "text": [
            "Extracting ./MNIST/raw/t10k-images-idx3-ubyte.gz to ./MNIST/raw\n",
            "\n",
            "Downloading http://yann.lecun.com/exdb/mnist/t10k-labels-idx1-ubyte.gz\n",
            "Downloading http://yann.lecun.com/exdb/mnist/t10k-labels-idx1-ubyte.gz to ./MNIST/raw/t10k-labels-idx1-ubyte.gz\n"
          ]
        },
        {
          "output_type": "stream",
          "name": "stderr",
          "text": [
            "100%|██████████| 4542/4542 [00:00<00:00, 6034377.18it/s]\n"
          ]
        },
        {
          "output_type": "stream",
          "name": "stdout",
          "text": [
            "Extracting ./MNIST/raw/t10k-labels-idx1-ubyte.gz to ./MNIST/raw\n",
            "\n"
          ]
        }
      ]
    },
    {
      "cell_type": "code",
      "metadata": {
        "colab": {
          "base_uri": "https://localhost:8080/"
        },
        "id": "SKhbDXt_mPZ0",
        "outputId": "b6e2680d-e951-4f51-b94b-c48245a0e1d7"
      },
      "source": [
        "train_dataset[0][0].shape"
      ],
      "execution_count": 9,
      "outputs": [
        {
          "output_type": "execute_result",
          "data": {
            "text/plain": [
              "torch.Size([1, 28, 28])"
            ]
          },
          "metadata": {},
          "execution_count": 9
        }
      ]
    },
    {
      "cell_type": "markdown",
      "metadata": {
        "id": "-LcgNXwOmPZ5"
      },
      "source": [
        "## Модель"
      ]
    },
    {
      "cell_type": "code",
      "metadata": {
        "id": "V7qWC2EbmPZ5"
      },
      "source": [
        "model = torch.nn.Sequential(\n",
        "    torch.nn.Flatten(),\n",
        "    torch.nn.Linear(784, 256),\n",
        "    torch.nn.ReLU(),\n",
        "    torch.nn.Linear(256, 10)\n",
        ")"
      ],
      "execution_count": 10,
      "outputs": []
    },
    {
      "cell_type": "code",
      "metadata": {
        "colab": {
          "base_uri": "https://localhost:8080/"
        },
        "id": "p36P60xZALtj",
        "outputId": "26bd2035-ba3c-4254-c09a-2444d11b2c73"
      },
      "source": [
        "model"
      ],
      "execution_count": 11,
      "outputs": [
        {
          "output_type": "execute_result",
          "data": {
            "text/plain": [
              "Sequential(\n",
              "  (0): Flatten(start_dim=1, end_dim=-1)\n",
              "  (1): Linear(in_features=784, out_features=256, bias=True)\n",
              "  (2): ReLU()\n",
              "  (3): Linear(in_features=256, out_features=10, bias=True)\n",
              ")"
            ]
          },
          "metadata": {},
          "execution_count": 11
        }
      ]
    },
    {
      "cell_type": "code",
      "metadata": {
        "id": "fDqkL214mPZ7"
      },
      "source": [
        "loss = torch.nn.CrossEntropyLoss()\n",
        "trainer = torch.optim.SGD(model.parameters(), lr=.01)\n",
        "num_epochs = 10"
      ],
      "execution_count": 12,
      "outputs": []
    },
    {
      "cell_type": "code",
      "metadata": {
        "id": "5ZF9RBZomPZ-"
      },
      "source": [
        "import time"
      ],
      "execution_count": 13,
      "outputs": []
    },
    {
      "cell_type": "code",
      "metadata": {
        "id": "vVqz1hvTmPaA"
      },
      "source": [
        "def train_model():  # здеаь без батчей, похоже\n",
        "    for ep in range(num_epochs):\n",
        "        train_iters, train_passed  = 0, 0\n",
        "        train_loss, train_acc = 0., 0.\n",
        "        start=time.time()\n",
        "        # Обучение\n",
        "        model.train()\n",
        "        for X, y in train:\n",
        "            trainer.zero_grad() # обнуляем гнрадиенты\n",
        "            y_pred = model(X) # делаем прогноз\n",
        "            l = loss(y_pred, y) # Считаем ф-ю потер, y_pred Содержит 10 значений\n",
        "            l.backward() # считаем градиенты\n",
        "            trainer.step()\n",
        "            train_loss += l.item() # Накапливаем потерм\n",
        "            train_acc += (y_pred.argmax(dim=1) == y).sum().item() # считаем accuracy\n",
        "            train_iters += 1 # сколько значений прошли\n",
        "            train_passed += len(X) # Сколько осталось\n",
        "        # Оценка на тесте\n",
        "        test_iters, test_passed  = 0, 0\n",
        "        test_loss, test_acc = 0., 0.\n",
        "        model.eval()\n",
        "        for X, y in test:\n",
        "            y_pred = model(X)\n",
        "            l = loss(y_pred, y)\n",
        "            test_loss += l.item()\n",
        "            test_acc += (y_pred.argmax(dim=1) == y).sum().item()\n",
        "            test_iters += 1\n",
        "            test_passed += len(X)\n",
        "        # Печатаем среднюю accuracy  И loss за эпоху для train и test\n",
        "        print(\"ep: {}, taked: {:.3f}, train_loss: {}, train_acc: {}, test_loss: {}, test_acc: {}\".format(\n",
        "            ep, time.time() - start, train_loss / train_iters, train_acc / train_passed,\n",
        "            test_loss / test_iters, test_acc / test_passed)\n",
        "        )"
      ],
      "execution_count": 14,
      "outputs": []
    },
    {
      "cell_type": "code",
      "metadata": {
        "colab": {
          "base_uri": "https://localhost:8080/"
        },
        "id": "XbXgnTAKPyi2",
        "outputId": "42569bcc-2ebf-45e1-c62b-a86530a7bfee"
      },
      "source": [
        "train_model()"
      ],
      "execution_count": 15,
      "outputs": [
        {
          "output_type": "stream",
          "name": "stdout",
          "text": [
            "ep: 0, taked: 8.802, train_loss: 2.047048894902493, train_acc: 0.5540666666666667, test_loss: 1.698171153664589, test_acc: 0.7148\n",
            "ep: 1, taked: 9.984, train_loss: 1.3437845554757626, train_acc: 0.7627666666666667, test_loss: 1.0160796761512756, test_acc: 0.8103\n",
            "ep: 2, taked: 9.974, train_loss: 0.8693519701348974, train_acc: 0.8238333333333333, test_loss: 0.716173668205738, test_acc: 0.8467\n",
            "ep: 3, taked: 9.361, train_loss: 0.6655285027432949, train_acc: 0.8495166666666667, test_loss: 0.5795899279415607, test_acc: 0.8653\n",
            "ep: 4, taked: 9.518, train_loss: 0.5628785508110168, train_acc: 0.8645666666666667, test_loss: 0.5032656487077475, test_acc: 0.8764\n",
            "ep: 5, taked: 9.989, train_loss: 0.5015312483970155, train_acc: 0.8743833333333333, test_loss: 0.45475257001817226, test_acc: 0.8837\n",
            "ep: 6, taked: 9.547, train_loss: 0.4607993708646044, train_acc: 0.88115, test_loss: 0.42134969830513, test_acc: 0.8886\n",
            "ep: 7, taked: 9.218, train_loss: 0.43178728990098264, train_acc: 0.88615, test_loss: 0.39699148796498773, test_acc: 0.8925\n",
            "ep: 8, taked: 9.963, train_loss: 0.4100118155809159, train_acc: 0.8902166666666667, test_loss: 0.37841125559061767, test_acc: 0.8968\n",
            "ep: 9, taked: 9.865, train_loss: 0.39297452347075684, train_acc: 0.8932833333333333, test_loss: 0.36371098197996615, test_acc: 0.8997\n"
          ]
        }
      ]
    },
    {
      "cell_type": "markdown",
      "metadata": {
        "id": "q6BCfLUEmPaD"
      },
      "source": [
        "## Практика. Попробуйте заменить SGD на Adam и RMSProp. Увеличится ли скорость сходимости?"
      ]
    },
    {
      "cell_type": "code",
      "metadata": {
        "id": "OYSzzVD2Q6m4"
      },
      "source": [
        "model = torch.nn.Sequential(\n",
        "    torch.nn.Flatten(),\n",
        "    torch.nn.Linear(784, 256),\n",
        "    torch.nn.ReLU(),\n",
        "    torch.nn.Linear(256, 10)\n",
        ")"
      ],
      "execution_count": 16,
      "outputs": []
    },
    {
      "cell_type": "code",
      "metadata": {
        "colab": {
          "base_uri": "https://localhost:8080/"
        },
        "id": "MMX0U9rNmPaD",
        "outputId": "097a8f3b-77d6-4b0e-9e20-5ac92d249e2f"
      },
      "source": [
        "trainer = torch.optim.Adam(model.parameters(), lr=.01)  # Переобучение начиная с 3 эпохи, но accuracy существенно выше\n",
        "train_model()"
      ],
      "execution_count": 17,
      "outputs": [
        {
          "output_type": "stream",
          "name": "stdout",
          "text": [
            "ep: 0, taked: 10.225, train_loss: 0.24826281508232684, train_acc: 0.9248, test_loss: 0.20014091844204812, test_acc: 0.935\n",
            "ep: 1, taked: 10.318, train_loss: 0.10771608574395167, train_acc: 0.9668, test_loss: 0.11128803972969763, test_acc: 0.9662\n",
            "ep: 2, taked: 9.985, train_loss: 0.07204192415414815, train_acc: 0.97705, test_loss: 0.11917600364977261, test_acc: 0.963\n",
            "ep: 3, taked: 9.495, train_loss: 0.05897880765668889, train_acc: 0.9806666666666667, test_loss: 0.1359688817843562, test_acc: 0.9655\n",
            "ep: 4, taked: 10.503, train_loss: 0.051842852607567574, train_acc: 0.9834, test_loss: 0.12848851835551614, test_acc: 0.9657\n",
            "ep: 5, taked: 10.430, train_loss: 0.04894958788459684, train_acc: 0.9841833333333333, test_loss: 0.14251997497631236, test_acc: 0.9686\n",
            "ep: 6, taked: 9.846, train_loss: 0.04483805794808816, train_acc: 0.9863, test_loss: 0.1364627841973743, test_acc: 0.97\n",
            "ep: 7, taked: 9.998, train_loss: 0.042376151451088015, train_acc: 0.9869166666666667, test_loss: 0.1314064044439874, test_acc: 0.9692\n",
            "ep: 8, taked: 10.492, train_loss: 0.04325798298034104, train_acc: 0.9867833333333333, test_loss: 0.12963590279341589, test_acc: 0.9728\n",
            "ep: 9, taked: 10.528, train_loss: 0.03271881303987763, train_acc: 0.9902, test_loss: 0.15268714361063757, test_acc: 0.9694\n"
          ]
        }
      ]
    },
    {
      "cell_type": "markdown",
      "metadata": {
        "id": "urhJrVvSmPaF"
      },
      "source": [
        "## Практика. Попробуйте сделать больше слоёв в сети. Увеличится ли качество?"
      ]
    },
    {
      "cell_type": "code",
      "metadata": {
        "id": "lqYmS2z6mPaG"
      },
      "source": [
        "model = torch.nn.Sequential(\n",
        "    torch.nn.Flatten(),\n",
        "    torch.nn.Linear(784, 512),\n",
        "    torch.nn.ReLU(),\n",
        "    torch.nn.Linear(512, 256),\n",
        "    torch.nn.ReLU(),\n",
        "    torch.nn.Linear(256, 128),\n",
        "    torch.nn.ReLU(),\n",
        "    torch.nn.Linear(128, 10)\n",
        ")"
      ],
      "execution_count": 18,
      "outputs": []
    },
    {
      "cell_type": "code",
      "metadata": {
        "colab": {
          "base_uri": "https://localhost:8080/"
        },
        "id": "jwaEKd9FRU8e",
        "outputId": "50b9ca3d-ae3f-4c9c-e8c2-d37e17c8c6ee"
      },
      "source": [
        "trainer = torch.optim.Adam(model.parameters(), lr=.01) # Переобучение с 3 эпохи, accuracy выросла - модель слишком сложная\n",
        "train_model()"
      ],
      "execution_count": 20,
      "outputs": [
        {
          "output_type": "stream",
          "name": "stdout",
          "text": [
            "ep: 0, taked: 13.687, train_loss: 0.067689781765295, train_acc: 0.98395, test_loss: 0.1663854336620716, test_acc: 0.9668\n",
            "ep: 1, taked: 13.533, train_loss: 0.06178531164967237, train_acc: 0.9844333333333334, test_loss: 0.16196658518271861, test_acc: 0.9715\n",
            "ep: 2, taked: 13.303, train_loss: 0.05868520388389601, train_acc: 0.9849166666666667, test_loss: 0.15623091034649406, test_acc: 0.9688\n",
            "ep: 3, taked: 13.602, train_loss: 0.04957530174523275, train_acc: 0.9871833333333333, test_loss: 0.14269433827430475, test_acc: 0.9747\n",
            "ep: 4, taked: 13.461, train_loss: 0.045946947804236034, train_acc: 0.9882666666666666, test_loss: 0.15207495358299639, test_acc: 0.9756\n",
            "ep: 5, taked: 13.540, train_loss: 0.04109842350007966, train_acc: 0.9893333333333333, test_loss: 0.18504840555250368, test_acc: 0.9753\n",
            "ep: 6, taked: 13.680, train_loss: 0.04155927098971083, train_acc: 0.98955, test_loss: 0.18152296735642537, test_acc: 0.9724\n",
            "ep: 7, taked: 13.572, train_loss: 0.04103428056300122, train_acc: 0.9897666666666667, test_loss: 0.1747916360560339, test_acc: 0.9749\n",
            "ep: 8, taked: 13.762, train_loss: 0.05132881692769204, train_acc: 0.9887, test_loss: 0.1788386345731851, test_acc: 0.9752\n",
            "ep: 9, taked: 13.740, train_loss: 0.03849119358483028, train_acc: 0.99025, test_loss: 0.1811290254598134, test_acc: 0.9745\n"
          ]
        }
      ]
    },
    {
      "cell_type": "markdown",
      "metadata": {
        "id": "MMELAZ3dmPaI"
      },
      "source": [
        "## Практика. Попробуйте добавить регуляризацию, dropout и/или batchnorm-слои. Увеличится ли качество?"
      ]
    },
    {
      "cell_type": "code",
      "metadata": {
        "id": "bW8thRZnmPaI"
      },
      "source": [
        "model = torch.nn.Sequential(\n",
        "    torch.nn.Flatten(),\n",
        "    torch.nn.Linear(784, 512),\n",
        "    torch.nn.ReLU(),\n",
        "    torch.nn.BatchNorm1d(512),\n",
        "    torch.nn.Linear(512, 256),\n",
        "    torch.nn.ReLU(),\n",
        "    torch.nn.BatchNorm1d(256),\n",
        "    torch.nn.Linear(256, 128),\n",
        "    torch.nn.ReLU(),\n",
        "    torch.nn.BatchNorm1d(128),\n",
        "    torch.nn.Linear(128, 10)\n",
        ")"
      ],
      "execution_count": 21,
      "outputs": []
    },
    {
      "cell_type": "code",
      "metadata": {
        "colab": {
          "base_uri": "https://localhost:8080/"
        },
        "id": "w6a0Y0WqVxt0",
        "outputId": "909e45e5-3865-4270-8e0b-c92454cead48"
      },
      "source": [
        "trainer = torch.optim.Adam(model.parameters(), lr=.01)\n",
        "train_model()"
      ],
      "execution_count": 22,
      "outputs": [
        {
          "output_type": "stream",
          "name": "stdout",
          "text": [
            "ep: 0, taked: 15.285, train_loss: 0.19569876264146668, train_acc: 0.9395, test_loss: 0.15486095857340842, test_acc: 0.953\n",
            "ep: 1, taked: 12.630, train_loss: 0.09874235736800635, train_acc: 0.9695, test_loss: 0.11410284111334476, test_acc: 0.9652\n",
            "ep: 2, taked: 12.950, train_loss: 0.07235159838294729, train_acc: 0.9767666666666667, test_loss: 0.1321139476960525, test_acc: 0.9618\n",
            "ep: 3, taked: 13.119, train_loss: 0.05449661841130558, train_acc: 0.98265, test_loss: 0.10157693566652597, test_acc: 0.9702\n",
            "ep: 4, taked: 13.162, train_loss: 0.04094244216846183, train_acc: 0.9869166666666667, test_loss: 0.11625943237304455, test_acc: 0.9681\n",
            "ep: 5, taked: 13.262, train_loss: 0.03654788486074973, train_acc: 0.9884333333333334, test_loss: 0.12723873125360113, test_acc: 0.9647\n",
            "ep: 6, taked: 13.276, train_loss: 0.03306745445117989, train_acc: 0.9891, test_loss: 0.11397605922684306, test_acc: 0.9706\n",
            "ep: 7, taked: 12.747, train_loss: 0.02679457537572276, train_acc: 0.9911833333333333, test_loss: 0.10119593578274362, test_acc: 0.9749\n",
            "ep: 8, taked: 12.721, train_loss: 0.024225476331899854, train_acc: 0.9918333333333333, test_loss: 0.10955129672256589, test_acc: 0.9738\n",
            "ep: 9, taked: 12.730, train_loss: 0.01877104593391352, train_acc: 0.99395, test_loss: 0.11022192957316293, test_acc: 0.9735\n"
          ]
        }
      ]
    },
    {
      "cell_type": "code",
      "metadata": {
        "id": "wGQ2LsSmmPZ3"
      },
      "source": [
        "model = torch.nn.Sequential(\n",
        "    torch.nn.Flatten(),\n",
        "    torch.nn.Linear(784, 2560),\n",
        "    torch.nn.ReLU(),\n",
        "    torch.nn.Dropout(0.5),\n",
        "    torch.nn.Linear(2560, 1280),\n",
        "    torch.nn.ReLU(),\n",
        "    torch.nn.Dropout(0.5),\n",
        "    torch.nn.Linear(1280, 640),\n",
        "    torch.nn.ReLU(),\n",
        "    torch.nn.Dropout(0.5),\n",
        "    torch.nn.Linear(640, 10)\n",
        ")"
      ],
      "execution_count": null,
      "outputs": []
    },
    {
      "cell_type": "code",
      "metadata": {
        "colab": {
          "background_save": true,
          "base_uri": "https://localhost:8080/"
        },
        "id": "am_lO7jSV0Fl",
        "outputId": "94b6ae91-2beb-41fc-a12f-bde7b9288333"
      },
      "source": [
        "trainer = torch.optim.Adam(model.parameters(), lr=.01)\n",
        "train_model()"
      ],
      "execution_count": null,
      "outputs": [
        {
          "name": "stdout",
          "output_type": "stream",
          "text": [
            "ep: 0, taked: 53.651, train_loss: 0.9062292760991035, train_acc: 0.745, test_loss: 0.5461626082658768, test_acc: 0.8892\n",
            "ep: 1, taked: 53.853, train_loss: 0.690170981782548, train_acc: 0.81215, test_loss: 0.3796499317511916, test_acc: 0.9073\n",
            "ep: 2, taked: 58.531, train_loss: 0.708586008117554, train_acc: 0.8084, test_loss: 0.3357968518510461, test_acc: 0.9188\n",
            "ep: 3, taked: 81.395, train_loss: 0.7057550713102868, train_acc: 0.8098666666666666, test_loss: 0.3372530031017959, test_acc: 0.9165\n",
            "ep: 4, taked: 74.981, train_loss: 0.7496358336286342, train_acc: 0.7984, test_loss: 0.3336694069206715, test_acc: 0.9192\n",
            "ep: 5, taked: 75.582, train_loss: 0.7321985492046843, train_acc: 0.8017, test_loss: 0.326321928948164, test_acc: 0.9173\n",
            "ep: 6, taked: 75.639, train_loss: 0.7420422671957219, train_acc: 0.7959, test_loss: 0.3461838087067008, test_acc: 0.921\n",
            "ep: 7, taked: 76.033, train_loss: 0.7599228668720164, train_acc: 0.7928166666666666, test_loss: 0.3387015956453979, test_acc: 0.9167\n",
            "ep: 8, taked: 76.326, train_loss: 0.7574384217566632, train_acc: 0.79565, test_loss: 0.416818989161402, test_acc: 0.9141\n",
            "ep: 9, taked: 75.999, train_loss: 0.7556057205859651, train_acc: 0.7917166666666666, test_loss: 0.36499187592417004, test_acc: 0.9067\n"
          ]
        }
      ]
    },
    {
      "cell_type": "code",
      "metadata": {
        "id": "q7brMkd1aIVN"
      },
      "source": [],
      "execution_count": null,
      "outputs": []
    }
  ]
}